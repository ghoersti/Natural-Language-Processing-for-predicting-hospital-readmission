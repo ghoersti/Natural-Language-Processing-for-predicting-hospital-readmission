{
 "cells": [
  {
   "cell_type": "markdown",
   "metadata": {},
   "source": [
    "\n",
    "# Software/data \n",
    "* This guide is intended for **Linux system only**\n"
   ]
  },
  {
   "cell_type": "markdown",
   "metadata": {
    "ExecuteTime": {
     "end_time": "2018-12-05T14:22:47.182385Z",
     "start_time": "2018-12-05T14:22:47.095025Z"
    }
   },
   "source": [
    "---\n",
    "## Required software/ Applications\n",
    "Below are links/guides  to download/install the necessary software\n",
    "* [Anaconda Python 3.6+ ](https://www.anaconda.com/download/#linux)\n",
    "* [Docker on Linux installation Guide](https://runnable.com/docker/install-docker-on-linux)\n",
    "* [Create HDINSIGHTS Spark cluster with pyspark](https://docs.microsoft.com/en-us/azure/hdinsight/spark/apache-spark-jupyter-notebook-kernels)\n",
    "* [Jupyter on HDINSIGHTs ](https://docs.microsoft.com/en-us/azure/hdinsight/spark/apache-spark-jupyter-notebook-kernels)\n",
    "\n",
    "\n",
    "**Pull Docker Image** \n",
    "\n",
    "`sudo docker pull ucsddse230/cse255-dse230`\n",
    "\n",
    "**Run Docker Image** \n",
    "\n",
    "```docker run -it -m 6900 -p 8889:8888 -v /local/path/project:/home/ucsddse230/work ucsddse230/cse255-dse230 /bin/bas```\n",
    "\n",
    "** clone git repository **\n",
    "\n",
    "From within the docker container \n",
    "\n",
    "`cd /home/ucsddse230/work`\n",
    "\n",
    "run : \n",
    "\n",
    "```mkdir final_project```\n",
    "\n",
    "\n",
    "\n",
    "Clone this git [repository](https://github.com/ghoersti/Natural-Language-Processing-for-predicting-hospital-readmission) to the mounted volume of the docker image aka `/local/path/project/final_project`\n",
    "\n",
    "---"
   ]
  },
  {
   "cell_type": "markdown",
   "metadata": {},
   "source": [
    "## Data Access\n",
    "[Instructions for MIMIC-III access](https://mimic.physionet.org/gettingstarted/access/)\n",
    "\n",
    "---"
   ]
  },
  {
   "cell_type": "markdown",
   "metadata": {},
   "source": [
    "\n",
    "## Data \n",
    "Using the MIMIC-III database\n",
    "https://physionet.org/works/MIMICIIIClinicalDatabase/files/\n",
    "\n",
    "After recieving access download these files\n",
    "\n",
    "**ADMISSIONS**: \n",
    "Contains unique hospitalizations for each patient in the database. It has 58,976 unique\n",
    "admissions of 46,520 patients. 5,854 admissions have a date of death specified.\n",
    "\n",
    "**NOTEEVENTS**: \n",
    "Contains deidentified notes, such as ECG, radiology reports, nursing and physician notes,\n",
    "discharge summaries for each hospitalization. It has 2,083,180 unique notes.\n",
    "\n",
    "---"
   ]
  },
  {
   "cell_type": "markdown",
   "metadata": {
    "ExecuteTime": {
     "end_time": "2018-12-05T14:53:17.734891Z",
     "start_time": "2018-12-05T14:53:17.722429Z"
    }
   },
   "source": [
    "## Usage"
   ]
  },
  {
   "cell_type": "markdown",
   "metadata": {
    "ExecuteTime": {
     "end_time": "2018-12-05T14:55:47.937256Z",
     "start_time": "2018-12-05T14:55:47.927097Z"
    }
   },
   "source": [
    "The usage for this project  is divided into **three phases:**\n",
    "\n",
    "1. **Pre-azure**\n",
    "2. **Azure**\n",
    "3. **Post_azure**\n"
   ]
  },
  {
   "cell_type": "markdown",
   "metadata": {
    "ExecuteTime": {
     "end_time": "2018-12-05T15:21:48.820794Z",
     "start_time": "2018-12-05T15:21:48.813948Z"
    }
   },
   "source": [
    "### Pre_Azure\n",
    "> This must be run first follow instructions in the notebook `cse6250_NLP_Pre_process.ipynb`\n",
    "\n",
    "**inputs:**\n",
    "```python\n",
    "'idc9_short.txt', 'NOTEEVENTS.csv'\n",
    "```\n",
    "\n",
    "**outputs:**\n",
    "```python\n",
    "'notes_discharge_pd.csv' , 'ADMISSIONS.CSV'  and 'IDC9_filter.csv'\n",
    "```\n",
    "\n"
   ]
  },
  {
   "cell_type": "markdown",
   "metadata": {},
   "source": [
    "**contents:**\n",
    "* ICD-9-CM-v32-master-descriptions\n",
    "> This folder contains all of the ICD9 diagnosis and procedure codes and words downloaded from [here](https://www.cms.gov/Medicare/Coding/ICD9ProviderDiagnosticCodes/codes.html)\n",
    ">this is the file used `idc9_short.txt`\n",
    "* cse6250_NLP_Pre_process.ipynb\n",
    "> 1. Preprocessing done to allow readability by spark\n",
    "> 2. creation of ICD9 Filter\n"
   ]
  },
  {
   "cell_type": "markdown",
   "metadata": {
    "ExecuteTime": {
     "end_time": "2018-12-05T15:42:28.511055Z",
     "start_time": "2018-12-05T15:42:28.504831Z"
    }
   },
   "source": [
    "### Azure"
   ]
  },
  {
   "cell_type": "markdown",
   "metadata": {},
   "source": [
    "**create labels , prepare date , create tokens**\n",
    "\n",
    "**Inputs:**\n",
    "> Upload these files to your azure blob storage for the HDINSIGHTS cluster\n",
    "```python\n",
    "'notes_discharge_pd.csv' , 'ADMISSIONS.CSV'  and 'IDC9_filter.csv'\n",
    "```\n",
    "\n",
    "**Outputs:**\n",
    "> Download these files from your azure blob storage for the HDINSIGHTS cluster\n",
    "to `/home/ucsddse230/work/azureoutputs`\n",
    "```python\n",
    "'final_tokens_with_text.parquet'\n",
    "```\n",
    "\n",
    "**Contents:**\n",
    "\n",
    "* CSE6250_azure.ipynb\n",
    "\n",
    "\n",
    "\n",
    "\n"
   ]
  },
  {
   "cell_type": "markdown",
   "metadata": {
    "ExecuteTime": {
     "end_time": "2018-12-05T16:18:39.414954Z",
     "start_time": "2018-12-05T16:18:39.406267Z"
    }
   },
   "source": [
    "### Post_Azure"
   ]
  },
  {
   "cell_type": "markdown",
   "metadata": {},
   "source": [
    "**Contents:**\n",
    "* Reconstruct from orginal text.ipynb\n",
    "\n",
    ">Inputs: `'final_tokens_with_text.parquet'`\n",
    "\n",
    ">Outputs: `\"testing_features.parquet\",\"training_features.parquet\"`\n",
    "\n",
    "* local_modeling_with_azure_features.ipynb\n",
    "\n",
    ">Inputs:`\"testing_features.parquet\",\"training_features.parquet\"`\n",
    "\n",
    ">Outputs: `'final_model.pth'`\n",
    "\n",
    "* utils.py"
   ]
  },
  {
   "cell_type": "markdown",
   "metadata": {
    "ExecuteTime": {
     "end_time": "2018-12-05T16:37:58.936471Z",
     "start_time": "2018-12-05T16:37:58.929511Z"
    }
   },
   "source": [
    "## Final Directory Structure"
   ]
  },
  {
   "cell_type": "code",
   "execution_count": null,
   "metadata": {},
   "outputs": [],
   "source": [
    "final_project\n",
    "├── azure\n",
    "│   └── CSE6250_azure.ipynb\n",
    "├── azureoutputs\n",
    "│   └── final_tokens_with_text.parquet\n",
    "│       ├── part-00000-dad216ad-f371-44f0-8aaa-1dbcd7c5242b-c000.snappy.parquet\n",
    "│       └── _SUCCESS\n",
    "├── model\n",
    "│   └── final_model.pth\n",
    "├── post_azure\n",
    "│   ├── local_modeling_with_azure_features.ipynb\n",
    "│   ├── Reconstruct from orginal text.ipynb\n",
    "│   ├── testing_features.parquet\n",
    "│   │   ├── part-00000-0a590164-62ce-4aff-aaaf-3baa3f3c18b5-c000.snappy.parquet\n",
    "│   │   ├── part-00001-0a590164-62ce-4aff-aaaf-3baa3f3c18b5-c000.snappy.parquet\n",
    "│   │   ├── part-00002-0a590164-62ce-4aff-aaaf-3baa3f3c18b5-c000.snappy.parquet\n",
    "│   │   ├── part-00003-0a590164-62ce-4aff-aaaf-3baa3f3c18b5-c000.snappy.parquet\n",
    "│   │   ├── part-00004-0a590164-62ce-4aff-aaaf-3baa3f3c18b5-c000.snappy.parquet\n",
    "│   │   ├── part-00005-0a590164-62ce-4aff-aaaf-3baa3f3c18b5-c000.snappy.parquet\n",
    "│   │   └── _SUCCESS\n",
    "│   ├── training_features.parquet\n",
    "│   │   ├── part-00000-d19cbfcd-5fb9-4715-a708-739e81e14410-c000.snappy.parquet\n",
    "│   │   ├── part-00001-d19cbfcd-5fb9-4715-a708-739e81e14410-c000.snappy.parquet\n",
    "│   │   ├── part-00002-d19cbfcd-5fb9-4715-a708-739e81e14410-c000.snappy.parquet\n",
    "│   │   ├── part-00003-d19cbfcd-5fb9-4715-a708-739e81e14410-c000.snappy.parquet\n",
    "│   │   ├── part-00004-d19cbfcd-5fb9-4715-a708-739e81e14410-c000.snappy.parquet\n",
    "│   │   ├── part-00005-d19cbfcd-5fb9-4715-a708-739e81e14410-c000.snappy.parquet\n",
    "│   │   └── _SUCCESS\n",
    "│   └── utils.py\n",
    "├── pre_azure\n",
    "│   ├── cse6250_NLP_Pre_process.ipynb\n",
    "│   ├── ICD-9-CM-v32-master-descriptions\n",
    "│   │   ├── CMS32_DESC_LONG_DX (copy).txt\n",
    "│   │   ├── CMS32_DESC_LONG_DX.txt\n",
    "│   │   ├── CMS32_DESC_LONG_SG.txt\n",
    "│   │   ├── CMS32_DESC_LONG_SHORT_DX.xlsx\n",
    "│   │   ├── CMS32_DESC_LONG_SHORT_SG.xlsx\n",
    "│   │   ├── CMS32_DESC_SHORT_DX.txt\n",
    "│   │   ├── CMS32_DESC_SHORT_SG.txt\n",
    "│   │   └── idc9_short.txt\n",
    "│   ├── IDC9_filter.csv\n",
    "│   └── idc9_short.txt\n",
    "└── Usage_instructions.ipynb\n"
   ]
  }
 ],
 "metadata": {
  "kernelspec": {
   "display_name": "Python 3",
   "language": "python",
   "name": "python3"
  },
  "language_info": {
   "codemirror_mode": {
    "name": "ipython",
    "version": 3
   },
   "file_extension": ".py",
   "mimetype": "text/x-python",
   "name": "python",
   "nbconvert_exporter": "python",
   "pygments_lexer": "ipython3",
   "version": "3.6.5"
  },
  "toc": {
   "base_numbering": 1,
   "nav_menu": {},
   "number_sections": true,
   "sideBar": true,
   "skip_h1_title": false,
   "title_cell": "Table of Contents",
   "title_sidebar": "Contents",
   "toc_cell": false,
   "toc_position": {},
   "toc_section_display": true,
   "toc_window_display": false
  },
  "varInspector": {
   "cols": {
    "lenName": 16,
    "lenType": 16,
    "lenVar": 40
   },
   "kernels_config": {
    "python": {
     "delete_cmd_postfix": "",
     "delete_cmd_prefix": "del ",
     "library": "var_list.py",
     "varRefreshCmd": "print(var_dic_list())"
    },
    "r": {
     "delete_cmd_postfix": ") ",
     "delete_cmd_prefix": "rm(",
     "library": "var_list.r",
     "varRefreshCmd": "cat(var_dic_list()) "
    }
   },
   "types_to_exclude": [
    "module",
    "function",
    "builtin_function_or_method",
    "instance",
    "_Feature"
   ],
   "window_display": false
  }
 },
 "nbformat": 4,
 "nbformat_minor": 2
}
