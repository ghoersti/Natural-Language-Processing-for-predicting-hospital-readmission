{
 "cells": [
  {
   "cell_type": "code",
   "execution_count": null,
   "metadata": {
    "collapsed": true
   },
   "outputs": [],
   "source": [
    "# container name\n",
    "#cse6250-2018-11-10t02-36-55-285z\n",
    "#storage_name\n",
    "#flufylobster_69"
   ]
  },
  {
   "cell_type": "code",
   "execution_count": null,
   "metadata": {
    "collapsed": true
   },
   "outputs": [],
   "source": []
  },
  {
   "cell_type": "code",
   "execution_count": 1,
   "metadata": {},
   "outputs": [
    {
     "data": {
      "text/html": [
       "Current session configs: <tt>{u'kind': 'pyspark3', u'name': u'remotesparkmagics'}</tt><br>"
      ],
      "text/plain": [
       "<IPython.core.display.HTML object>"
      ]
     },
     "metadata": {},
     "output_type": "display_data"
    },
    {
     "data": {
      "text/html": [
       "No active sessions."
      ],
      "text/plain": [
       "<IPython.core.display.HTML object>"
      ]
     },
     "metadata": {},
     "output_type": "display_data"
    }
   ],
   "source": [
    "%%info"
   ]
  },
  {
   "cell_type": "code",
   "execution_count": 1,
   "metadata": {},
   "outputs": [
    {
     "data": {
      "text/html": [
       "Current session configs: <tt>{u'kind': 'pyspark3', u'name': u'remotesparkmagics-sample', u'heartbeatTimeoutInSecond': 6000, u'driverMemory': u'28g', u'executorCores': 6, u'executorMemory': u'28G'}</tt><br>"
      ],
      "text/plain": [
       "<IPython.core.display.HTML object>"
      ]
     },
     "metadata": {},
     "output_type": "display_data"
    },
    {
     "data": {
      "text/html": [
       "No active sessions."
      ],
      "text/plain": [
       "<IPython.core.display.HTML object>"
      ]
     },
     "metadata": {},
     "output_type": "display_data"
    }
   ],
   "source": [
    "%%configure -f \n",
    "{\"name\":\"remotesparkmagics-sample\", \"executorMemory\": \"28G\", \"executorCores\":6,\"driverMemory\":\"28g\", \"heartbeatTimeoutInSecond\":6000}"
   ]
  },
  {
   "cell_type": "code",
   "execution_count": 2,
   "metadata": {},
   "outputs": [
    {
     "name": "stdout",
     "output_type": "stream",
     "text": [
      "Starting Spark application\n"
     ]
    },
    {
     "data": {
      "text/html": [
       "<table>\n",
       "<tr><th>ID</th><th>YARN Application ID</th><th>Kind</th><th>State</th><th>Spark UI</th><th>Driver log</th><th>Current session?</th></tr><tr><td>31</td><td>application_1541818620294_0035</td><td>pyspark3</td><td>idle</td><td><a target=\"_blank\" href=\"http://hn0-cse625.zigv3mzdk4kurp5tm2yczuwtcf.cx.internal.cloudapp.net:8088/proxy/application_1541818620294_0035/\">Link</a></td><td><a target=\"_blank\" href=\"http://wn4-cse625.zigv3mzdk4kurp5tm2yczuwtcf.cx.internal.cloudapp.net:30060/node/containerlogs/container_e01_1541818620294_0035_01_000001/livy\">Link</a></td><td>✔</td></tr></table>"
      ],
      "text/plain": [
       "<IPython.core.display.HTML object>"
      ]
     },
     "metadata": {},
     "output_type": "display_data"
    },
    {
     "name": "stdout",
     "output_type": "stream",
     "text": [
      "SparkSession available as 'spark'.\n",
      "<SparkContext master=yarn appName=remotesparkmagics-sample>"
     ]
    }
   ],
   "source": [
    "sc"
   ]
  },
  {
   "cell_type": "code",
   "execution_count": 3,
   "metadata": {},
   "outputs": [
    {
     "data": {
      "text/html": [
       "Current session configs: <tt>{u'executorCores': 6, u'kind': 'pyspark3', u'executorMemory': u'28G', u'name': u'remotesparkmagics-sample', u'driverMemory': u'28g'}</tt><br>"
      ],
      "text/plain": [
       "<IPython.core.display.HTML object>"
      ]
     },
     "metadata": {},
     "output_type": "display_data"
    },
    {
     "data": {
      "text/html": [
       "<table>\n",
       "<tr><th>ID</th><th>YARN Application ID</th><th>Kind</th><th>State</th><th>Spark UI</th><th>Driver log</th><th>Current session?</th></tr><tr><td>7</td><td>application_1541818620294_0011</td><td>pyspark</td><td>idle</td><td><a target=\"_blank\" href=\"http://hn0-cse625.zigv3mzdk4kurp5tm2yczuwtcf.cx.internal.cloudapp.net:8088/proxy/application_1541818620294_0011/\">Link</a></td><td><a target=\"_blank\" href=\"http://wn2-cse625.zigv3mzdk4kurp5tm2yczuwtcf.cx.internal.cloudapp.net:30060/node/containerlogs/container_e01_1541818620294_0011_01_000001/livy\">Link</a></td><td>✔</td></tr></table>"
      ],
      "text/plain": [
       "<IPython.core.display.HTML object>"
      ]
     },
     "metadata": {},
     "output_type": "display_data"
    }
   ],
   "source": [
    "%info"
   ]
  },
  {
   "cell_type": "code",
   "execution_count": 8,
   "metadata": {},
   "outputs": [
    {
     "data": {
      "text/plain": [
       "'/var/lib/jupyter'"
      ]
     },
     "execution_count": 8,
     "metadata": {},
     "output_type": "execute_result"
    }
   ],
   "source": [
    "%%local\n",
    "import os\n",
    "os.getcwd()"
   ]
  },
  {
   "cell_type": "code",
   "execution_count": 3,
   "metadata": {},
   "outputs": [],
   "source": [
    "import pandas as pd\n"
   ]
  },
  {
   "cell_type": "code",
   "execution_count": 2,
   "metadata": {
    "collapsed": true
   },
   "outputs": [],
   "source": [
    "# textLines = spark.sparkContext.textFile('wasb:///example/data/gutenberg/ulysses.txt')\n",
    "\n",
    "# textLines = spark.sparkContext.textFile('wasb:///ADMISSIONS.csv')"
   ]
  },
  {
   "cell_type": "code",
   "execution_count": 4,
   "metadata": {
    "collapsed": true
   },
   "outputs": [],
   "source": [
    "import pyspark.ml.feature \n",
    "from pyspark.ml.feature import CountVectorizer\n",
    "import pyspark.sql.functions  as psf\n",
    "from pyspark.sql import Window \n",
    "from pyspark.sql.types  import DateType\n",
    "#import pandas as pd\n",
    "#pd.set_option('display.max_colwidth', -1)\n",
    "from pyspark.sql.types import Row, StructField, StructType, StringType, IntegerType , DateType, ArrayType"
   ]
  },
  {
   "cell_type": "code",
   "execution_count": 5,
   "metadata": {
    "collapsed": true
   },
   "outputs": [],
   "source": [
    "from pyspark.sql import SQLContext\n",
    "from pyspark.sql.types import Row, StructField, StructType, StringType, IntegerType , DateType, ArrayType\n",
    "from pyspark.sql import SparkSession\n",
    "from pyspark import SparkContext ,SparkConf"
   ]
  },
  {
   "cell_type": "code",
   "execution_count": 5,
   "metadata": {
    "collapsed": true
   },
   "outputs": [],
   "source": [
    "# wasb[s]://cse6250-2018-11-10t02-36-55-285z@flufy_lobster69.blob.core.windows.net/<path>"
   ]
  },
  {
   "cell_type": "markdown",
   "metadata": {},
   "source": [
    "## Import data"
   ]
  },
  {
   "cell_type": "code",
   "execution_count": 5,
   "metadata": {
    "collapsed": true
   },
   "outputs": [],
   "source": [
    "admissions_sdf=(spark.read\n",
    "    .option(\"inferschema\", \"true\")\n",
    "    .option(\"header\", \"true\")\n",
    "    .option(\"mode\", \"DROPMALFORMED\")\n",
    "    .csv(\"wasb:///ADMISSIONS.csv\"))"
   ]
  },
  {
   "cell_type": "code",
   "execution_count": 46,
   "metadata": {},
   "outputs": [],
   "source": [
    "# note_struct = StructType([StructField(\"ROW_ID\", IntegerType(), True),\n",
    "#                       StructField(\"SUBJECT_ID\", IntegerType(), True),\n",
    "#                       StructField(\"HADM_ID\", StringType(), True),\n",
    "#                       StructField(\"CHARTDATE\", StringType(), True),\n",
    "#                       StructField(\"CHARTTIME\", StringType(), True),\n",
    "#                       StructField(\"STORETIME\", StringType(), True),\n",
    "#                       StructField(\"CATEGORY\", StringType(), True),\n",
    "#                       StructField(\"DESCRIPTION\", StringType(), True),\n",
    "#                       StructField(\"CGID\", StringType(), True),\n",
    "#                       StructField(\"ISERROR\", StringType(), True),\n",
    "#                       StructField(\"TEXT\", StringType(), True)])\n",
    "notes_sdf=(spark.read\n",
    "    .option(\"inferschema\", \"true\")\n",
    "    .option(\"header\", \"true\")\n",
    "    .option(\"delimiter\", \"|\")\n",
    "    .csv(\"wasb:///notes_discharge_pd.csv\"))  "
   ]
  },
  {
   "cell_type": "code",
   "execution_count": 47,
   "metadata": {},
   "outputs": [
    {
     "name": "stdout",
     "output_type": "stream",
     "text": [
      "[Row(ROW_ID=21, SUBJECT_ID=22, HADM_ID=165315, ADMITTIME=datetime.datetime(2196, 4, 9, 12, 26), DISCHTIME=datetime.datetime(2196, 4, 10, 15, 54), DEATHTIME=None, ADMISSION_TYPE='EMERGENCY', ADMISSION_LOCATION='EMERGENCY ROOM ADMIT', DISCHARGE_LOCATION='DISC-TRAN CANCER/CHLDRN H', INSURANCE='Private', LANGUAGE=None, RELIGION='UNOBTAINABLE', MARITAL_STATUS='MARRIED', ETHNICITY='WHITE', EDREGTIME=datetime.datetime(2196, 4, 9, 10, 6), EDOUTTIME=datetime.datetime(2196, 4, 9, 13, 24), DIAGNOSIS='BENZODIAZEPINE OVERDOSE', HOSPITAL_EXPIRE_FLAG=0, HAS_CHARTEVENTS_DATA=1)]"
     ]
    }
   ],
   "source": [
    "admissions_sdf.cache().take(1)"
   ]
  },
  {
   "cell_type": "code",
   "execution_count": 9,
   "metadata": {},
   "outputs": [],
   "source": [
    "\n",
    "#import notes \n",
    "# notes_df = spark.read.csv(\"wasb:///NOTEEVENTS.csv\", header=True,schema=note_struct)\n",
    "#csvFile = spark.read.csv('wasb:///HdiSamples/HdiSamples/SensorSampleData/hvac/HVAC.csv', header=True, inferSchema=True)"
   ]
  },
  {
   "cell_type": "code",
   "execution_count": 48,
   "metadata": {},
   "outputs": [
    {
     "name": "stdout",
     "output_type": "stream",
     "text": [
      "[Row(SUBJECT_ID=22532, HADM_ID=167853.0, CATEGORY='Discharge summary', TEXT='Admission Date:  [**2151-7-16**]       Discharge Date:  [**2151-8-4**]   Service: ADDENDUM:  RADIOLOGIC STUDIES:  Radiologic studies also included a chest CT, which confirmed cavitary lesions in the left lung apex consistent with infectious process/tuberculosis.  This also moderate-sized left pleural effusion.  HEAD CT:  Head CT showed no intracranial hemorrhage or mass effect, but old infarction consistent with past medical history.  ABDOMINAL CT:  Abdominal CT showed lesions of T10 and sacrum most likely secondary to osteoporosis. These can be followed by repeat imaging as an outpatient.                                [**First Name8 (NamePattern2) **] [**First Name4 (NamePattern1) 1775**] [**Last Name (NamePattern1) **], M.D.  [**MD Number(1) 1776**]  Dictated By:[**Hospital 1807**] MEDQUIST36  D:  [**2151-8-5**]  12:11 T:  [**2151-8-5**]  12:21 JOB#:  [**Job Number 1808**] ')]"
     ]
    }
   ],
   "source": [
    "notes_sdf.cache().take(1)"
   ]
  },
  {
   "cell_type": "code",
   "execution_count": 11,
   "metadata": {},
   "outputs": [
    {
     "name": "stdout",
     "output_type": "stream",
     "text": [
      "([('SUBJECT_ID', 'int'), ('HADM_ID', 'double'), ('CATEGORY', 'string'), ('TEXT', 'string')], [('ROW_ID', 'int'), ('SUBJECT_ID', 'int'), ('HADM_ID', 'int'), ('ADMITTIME', 'timestamp'), ('DISCHTIME', 'timestamp'), ('DEATHTIME', 'timestamp'), ('ADMISSION_TYPE', 'string'), ('ADMISSION_LOCATION', 'string'), ('DISCHARGE_LOCATION', 'string'), ('INSURANCE', 'string'), ('LANGUAGE', 'string'), ('RELIGION', 'string'), ('MARITAL_STATUS', 'string'), ('ETHNICITY', 'string'), ('EDREGTIME', 'timestamp'), ('EDOUTTIME', 'timestamp'), ('DIAGNOSIS', 'string'), ('HOSPITAL_EXPIRE_FLAG', 'int'), ('HAS_CHARTEVENTS_DATA', 'int')])"
     ]
    }
   ],
   "source": [
    "notes_sdf.dtypes, admissions_sdf.dtypes"
   ]
  },
  {
   "cell_type": "markdown",
   "metadata": {},
   "source": [
    "## subset to used data"
   ]
  },
  {
   "cell_type": "code",
   "execution_count": 49,
   "metadata": {},
   "outputs": [
    {
     "name": "stdout",
     "output_type": "stream",
     "text": [
      "root\n",
      " |-- SUBJECT_ID: integer (nullable = true)\n",
      " |-- HADM_ID: integer (nullable = true)\n",
      " |-- ADMITTIME: timestamp (nullable = true)\n",
      " |-- DISCHTIME: timestamp (nullable = true)\n",
      " |-- DEATHTIME: timestamp (nullable = true)\n",
      " |-- ADMISSION_TYPE: string (nullable = true)\n",
      "\n",
      "root\n",
      " |-- SUBJECT_ID: integer (nullable = true)\n",
      " |-- HADM_ID: integer (nullable = true)\n",
      " |-- CATEGORY: string (nullable = true)\n",
      " |-- TEXT: string (nullable = true)"
     ]
    }
   ],
   "source": [
    "#create list of used columns \n",
    "adm_cols=['SUBJECT_ID', 'HADM_ID', 'ADMITTIME', 'DISCHTIME', 'DEATHTIME',  'ADMISSION_TYPE']\n",
    "notes_cols=['SUBJECT_ID', 'HADM_ID', 'CATEGORY','TEXT' ]\n",
    "## subset notes and admissions to relavant data\n",
    "adm_used= admissions_sdf[adm_cols]\n",
    "\n",
    "\n",
    "\n",
    "notes_used = notes_sdf[notes_cols]\n",
    "# change key type \n",
    "notes_used = notes_used.select('SUBJECT_ID', psf.col('HADM_ID').cast('int').alias('HADM_ID'), 'CATEGORY','TEXT' ).cache()\n",
    "adm_used.printSchema()\n",
    "notes_used.printSchema()"
   ]
  },
  {
   "cell_type": "markdown",
   "metadata": {},
   "source": [
    "## Prepare admissions"
   ]
  },
  {
   "cell_type": "code",
   "execution_count": 50,
   "metadata": {},
   "outputs": [],
   "source": [
    "sort_adm=adm_used.orderBy( psf.col(\"SUBJECT_ID\"), psf.col('ADMITTIME'))\n",
    "w = Window.partitionBy(\"SUBJECT_ID\").orderBy(psf.desc('ADMITTIME'))\n",
    "#next_adm= sort_adm.withColumn('next_admit', psf.lag(col('ADMITTIME')).over(w))\n",
    "next_adm=sort_adm.select('*', psf.lag(psf.col('ADMITTIME')).over(w).alias('NEXT_ADMISSION')\n",
    "                , psf.lag(psf.col('ADMISSION_TYPE')).over(w).alias('NEXT_ADMISSION_TYPE')).cache()"
   ]
  },
  {
   "cell_type": "code",
   "execution_count": 51,
   "metadata": {},
   "outputs": [
    {
     "name": "stdout",
     "output_type": "stream",
     "text": [
      "+----------+-------+-------------------+-------------------+--------------+-------------------+\n",
      "|SUBJECT_ID|HADM_ID|          ADMITTIME|NEXT_ADMISSION_TYPE|ADMISSION_TYPE|     NEXT_ADMISSION|\n",
      "+----------+-------+-------------------+-------------------+--------------+-------------------+\n",
      "|      4101| 161951|2103-01-22 18:01:00|           ELECTIVE|     EMERGENCY|2106-09-17 11:45:00|\n",
      "|      4900| 117413|2203-06-29 08:00:00|           ELECTIVE|      ELECTIVE|2203-10-26 13:15:00|\n",
      "+----------+-------+-------------------+-------------------+--------------+-------------------+\n",
      "only showing top 2 rows"
     ]
    }
   ],
   "source": [
    "#example\n",
    "next_adm\\\n",
    ".select('SUBJECT_ID','HADM_ID' ,'ADMITTIME' ,'NEXT_ADMISSION_TYPE','ADMISSION_TYPE','NEXT_ADMISSION')\\\n",
    ".where(psf.col(\"NEXT_ADMISSION\").isNotNull())\\\n",
    ".show(2)"
   ]
  },
  {
   "cell_type": "markdown",
   "metadata": {},
   "source": [
    "### Add days to readmission"
   ]
  },
  {
   "cell_type": "code",
   "execution_count": 52,
   "metadata": {
    "collapsed": true
   },
   "outputs": [],
   "source": [
    "adm_datediff= next_adm.withColumn(\"days_next_admit\", psf.datediff(\"NEXT_ADMISSION\", \"DISCHTIME\")).cache()"
   ]
  },
  {
   "cell_type": "code",
   "execution_count": 53,
   "metadata": {},
   "outputs": [
    {
     "name": "stdout",
     "output_type": "stream",
     "text": [
      "148"
     ]
    }
   ],
   "source": [
    "##example :) \n",
    "\n",
    "adm_datediff.take(1)[0]['SUBJECT_ID']"
   ]
  },
  {
   "cell_type": "markdown",
   "metadata": {},
   "source": [
    "## Prepare notes "
   ]
  },
  {
   "cell_type": "code",
   "execution_count": 54,
   "metadata": {},
   "outputs": [
    {
     "name": "stdout",
     "output_type": "stream",
     "text": [
      "+-----------------+\n",
      "|         CATEGORY|\n",
      "+-----------------+\n",
      "|Discharge summary|\n",
      "+-----------------+"
     ]
    }
   ],
   "source": [
    "notes_used.select(\"CATEGORY\").distinct().show()"
   ]
  },
  {
   "cell_type": "code",
   "execution_count": 55,
   "metadata": {},
   "outputs": [],
   "source": [
    "## filter to discharge\n",
    "#notes_dis_sum = notes_used.filter( notes_used.CATEGORY == 'Discharge summary')\n",
    "## create index to dedup\n",
    "w =  Window.partitionBy(\"SUBJECT_ID\",'HADM_ID').orderBy(psf.desc('HADM_ID'))\n",
    "notes_dis_sum  = notes_used.withColumn(\"row_number\", psf.row_number().over(w)).cache()"
   ]
  },
  {
   "cell_type": "code",
   "execution_count": 56,
   "metadata": {
    "collapsed": true
   },
   "outputs": [],
   "source": [
    "## dedup\n",
    "notes_dis_dedup=notes_dis_sum.filter(notes_dis_sum.row_number==1).cache()"
   ]
  },
  {
   "cell_type": "code",
   "execution_count": 57,
   "metadata": {},
   "outputs": [
    {
     "name": "stdout",
     "output_type": "stream",
     "text": [
      "+----------+-------+-----+\n",
      "|SUBJECT_ID|HADM_ID|count|\n",
      "+----------+-------+-----+\n",
      "|      1453| 122894|    2|\n",
      "|      1616| 176986|    2|\n",
      "|      2265| 100548|    2|\n",
      "+----------+-------+-----+\n",
      "only showing top 3 rows\n",
      "\n",
      "+----------+-------+-----+\n",
      "|SUBJECT_ID|HADM_ID|count|\n",
      "+----------+-------+-----+\n",
      "+----------+-------+-----+"
     ]
    }
   ],
   "source": [
    "notes_dis_sum.groupBy(\"SUBJECT_ID\",'HADM_ID').count().filter(psf.col('count')>1).show(3)\n",
    "notes_dis_dedup.groupBy(\"SUBJECT_ID\",'HADM_ID').count().filter(psf.col('count')>1).show(3)\n"
   ]
  },
  {
   "cell_type": "code",
   "execution_count": 58,
   "metadata": {
    "collapsed": true
   },
   "outputs": [],
   "source": [
    "# join notes and admisions remove newborns \n",
    "note_admit_join=adm_datediff\\\n",
    ".filter(psf.col('ADMISSION_TYPE')!='NEWBORN').join(notes_dis_dedup, ['HADM_ID','SUBJECT_ID'],'left').cache()"
   ]
  },
  {
   "cell_type": "code",
   "execution_count": 59,
   "metadata": {},
   "outputs": [
    {
     "name": "stdout",
     "output_type": "stream",
     "text": [
      "85.44102685838307"
     ]
    }
   ],
   "source": [
    "### check to see if cutoff of 30 is reasonable\n",
    "sum_between= adm_datediff.select('days_next_admit').groupBy().sum().take(1)[0]['sum(days_next_admit)']\n",
    "count_between= adm_datediff.select('days_next_admit').count()\n",
    "sum_between/count_between"
   ]
  },
  {
   "cell_type": "markdown",
   "metadata": {},
   "source": [
    "## create label "
   ]
  },
  {
   "cell_type": "code",
   "execution_count": 60,
   "metadata": {
    "collapsed": true
   },
   "outputs": [],
   "source": [
    "#create label\n",
    "note_admit_label=note_admit_join.select('*', psf.when(psf.col('days_next_admit')<30,1).otherwise(0).alias('label')).cache()"
   ]
  },
  {
   "cell_type": "code",
   "execution_count": 6,
   "metadata": {},
   "outputs": [],
   "source": [
    "\n",
    "from pyspark.ml.feature import HashingTF, IDF, Tokenizer"
   ]
  },
  {
   "cell_type": "code",
   "execution_count": 23,
   "metadata": {
    "collapsed": true
   },
   "outputs": [],
   "source": [
    "# import string\n",
    "# def tokenizer_better(text):\n",
    "#     # tokenize the text by replacing punctuation and numbers with spaces and lowercase all words\n",
    "#     if text != None:\n",
    "#         punc_list = string.punctuation+'0123456789'\n",
    "#         t = str.maketrans(dict.fromkeys(punc_list, \" \"))\n",
    "#         text = text.lower().translate(t)\n",
    "#         tokens = word_tokenize(text)\n",
    "#     else:\n",
    "#         tokens = []\n",
    "#     return tokens\n",
    "#spark_tokenizer = psf.udf(lambda text: tokenizer_better(text), ArrayType(StringType()))"
   ]
  },
  {
   "cell_type": "code",
   "execution_count": 37,
   "metadata": {},
   "outputs": [],
   "source": []
  },
  {
   "cell_type": "code",
   "execution_count": null,
   "metadata": {
    "collapsed": true
   },
   "outputs": [],
   "source": []
  },
  {
   "cell_type": "markdown",
   "metadata": {},
   "source": [
    "## clean text"
   ]
  },
  {
   "cell_type": "code",
   "execution_count": 62,
   "metadata": {
    "collapsed": true
   },
   "outputs": [],
   "source": [
    "## to clean\n",
    "import string\n",
    "def text_cleaner(text):\n",
    "    # tokenize the text by replacing punctuation and numbers with spaces and lowercase all words\n",
    "    if text != None:\n",
    "        punc_list = string.punctuation+'0123456789'\n",
    "        t = str.maketrans(dict.fromkeys(punc_list, \" \"))\n",
    "        text = text.lower().translate(t)\n",
    "        #tokens = word_tokenize(text)\n",
    "    else:\n",
    "        text = ''\n",
    "    return text\n",
    "#register UDF\n",
    "\n",
    "spark_cleaner= psf.udf(lambda text: text_cleaner(text),StringType())"
   ]
  },
  {
   "cell_type": "markdown",
   "metadata": {},
   "source": [
    "# stopwords "
   ]
  },
  {
   "cell_type": "code",
   "execution_count": 63,
   "metadata": {
    "collapsed": true
   },
   "outputs": [],
   "source": [
    "alphabet_low = []\n",
    "for letter in range(97,123):\n",
    "    alphabet_low.append(chr(letter))\n",
    "stopwords=['','it', 'did', 'he', 'mustn', 'whom', \"that'll\", 'why', 'ain', \"it's\", 'isn', 'off', 'only', 'ourselves', 'which', 'to', 'she', 'during', \"wouldn't\", 'have', 'if', 'against', 'some', 'for', 'i', \"don't\", \"didn't\", 'ours', 'itself', 'should', 'very', 'those', 'him', 'just', 'll', \"mustn't\", 'out', 'theirs', 'each', 'needn', 'd', 'herself', 'few', 'himself', 'these', 'couldn', 'or', 'not', 'when', 'with', 'does', \"needn't\", \"weren't\", 'into', 'm', 'y', 'we', \"wasn't\", 'both', \"doesn't\", 'you', 'by', 'didn', 'our', 'was', 'wouldn', \"haven't\", 'more', 'who', 'same', 't', 'a', 'hadn', 'what', 'won', \"couldn't\", 'nor', 'they', 'shouldn', 'this', 'there', 'an', 'where', 'while', 'shan', 'has', 'yourself', 'so', 'had', 'myself', 'do', 'been', 'all', 'his', 'haven', 'between', \"you've\", 'doesn', 'at', 'me', 'then', 'until', 'above', 'ma', 'further', 'and', 'of', 're', 'o', 'on', 'up', 'its', 'her', 've', 'because', \"isn't\", 'than', \"shan't\", 'are', 'now', 'is', 'yours', 'will', 'be', 'mightn', 'their', 'being', 'about', 'your', \"won't\", 'don', \"should've\", 'wasn', 'how', 'am', 'weren', 'were', \"hasn't\", 'under', 'as', 'can', \"you'd\", 'from', 'once', \"you'll\", 'doing', 'too', 'down', \"mightn't\", 'before', 'themselves', \"aren't\", 'having', 'aren', 'no', 'over', 'them', 'through', 'but', \"shouldn't\", 'after', 's', 'hers', 'below', 'in', 'again', 'most', 'own', 'hasn', 'my', 'the', 'that', 'other', 'yourselves', 'such', 'any', \"she's\", 'here', \"you're\", \"hadn't\"]"
   ]
  },
  {
   "cell_type": "code",
   "execution_count": 71,
   "metadata": {
    "collapsed": true
   },
   "outputs": [],
   "source": [
    "idc9_word_list=['metallosis', 'attic', 'air', 'diarrhea', 'intrin', 'fumes', 'urticaria', 'tools', 'staphylococcal', 'valga', 'inborn', 'occ', 'delay', 'land', 'meckel', 'ricketts', 'myelopath', 'resid', 'upper', 'descemetocele', 'dizziness', 'legal', 'leu', 'mountain', 'caught', 'hypnotic', 'tic', 'full', 'nonmag', 'scrub', 'tobacco', 'uvula', 'integument', 'init', 'marine', 'serv', 'degree', 'chondritis', 'tooth', 'ophthalmoplegia', 'chylocele', 'esophagostomy', 'cardio', 'lymphprolif', 'cardc', 'my', 'psychogen', 'capillariasis', 'navicular', 'build', 'colostomy', 'amebiasis', 'weakness', 'skiing', 'incus', 'pinguecula', 'rickets', 'gonadal', 'nor', 'anurysm', 'disaccharidase', 'maxil', 'chromo', 'hyperplas', 'variabl', 'dancing', 'mother', 'dialy', 'exudative', 'valgus', 'deficit', 'obstruction', 'admin', 'image', 'paving', 'adenoids', 'inhib', 'attack', 'klinefelter', 'polio', 'dysrhythmia', 'kidny', 'miliary', 'luxation', 'aryepiglott', 'alcoh', 'tendinitis', 'constriction', 'irritability', 'ampulla', 'ill', 'circmpap', 'intermitt', 'compensatory', 'dmnt', 'monoarthrit', 'vomit', 'susp', 'neuroend', 'fing', 'recreation', 'loc', 'rct', 'vegtv', 'somatization', 'cheerleading', 'dfcile', 'agt', 'rflx', 'gestational', 'chg', 'aphthae', 'meno', 'expulsive', 'microglossia', 'exhaustion', 'mov', 'amntc', 'coronoid', 'ep', 'living', 'escalator', 'mosquit', 'thrombocytopathy', 'alcoholic', 'lateral', 'sputum', 'streptoc', 'phlycten', 'parst', 'atrophicae', 'wks', 'cellulocutaneous', 'contamination', 'fetal', 'mushrooms', 'danlos', 'applic', 'sight', 'sml', 'transver', 'interferon', 'extradur', 'prurigo', 'electrolyt', 'amphetamine', 'overact', 'ectopic', 'leishmaniasis', 'damage', 'elephantiasis', 'complet', 'ves', 'atresia', 'psychic', 'thoracot', 'subdural', 'adv', 'ulcer', 'igm', 'meningoenceph', 'cavrnosm', 'fem', 'priv', 'periton', 'obstetric', 'produce', 'superficial', 'argentous', 'gliding', 'synovitis', 'prsnl', 'overflow', 'chorioamnionitis', 'fm', 'lumbsacral', 'analeptics', 'promontor', 'subseq', 'transplant', 'imun', 'tympanosclerosis', 'fever', 'tissu', 'thlasema', 'growth', 'pyogen', 'monochr', 'cause', 'distres', 'diastl', 'antianemics', 'tympnoscler', 'tend', 'weightless', 'support', 'early', 'australian', 'wasp', 'antgn', 'vegetations', 'farm', 'mucosal', 'motorcycl', 'stereopsis', 'swelling', 'macrostomia', 'meat', 'sutures', 'endo', 'grft', 'mgmt', 'sacroiliac', 'osteoarth', 'lymp', 'rupture', 'craniofacial', 'jt', 'keloid', 'braziliense', 'facial', 'schizophr', 'subcap', 'electrocut', 'leukocytosis', 'neurosyphilis', 'exposure', 'dockers', 'longit', 'asympt', 'neonat', 'microphth', 'quills', 'immunity', 'suspct', 'resolv', 'paints', 'demyelination', 'extravasation', 'diffuse', 'pustular', 'perf', 'underweight', 'ovarn', 'digestv', 'immundef', 'hyper', 'matter', 'autonomic', 'hst', 'retrobulb', 'semicircul', 'echo', 'knife', 'crisis', 'lte', 'urethral', 'subac', 'class', 'sterilzation', 'bf', 'hypersecretion', 'retin', 'uterovag', 'prblm', 'phalanx', 'prim', 'porokrtsis', 'canaliculitis', 'rape', 'avalanche', 'conc', 'paresis', 'uncn', 'undescend', 'buttock', 'ileostomy', 'ancylostomiasis', 'vertigo', 'soap', 'hydroceph', 'illegitimate', 'elbow', 'th', 'zoonotic', 'housing', 'malposition', 'cd', 'chrn', 'macular', 'scr', 'postvaccination', 'qn', 'intst', 'intellct', 'root', 'brnch', 'lump', 'inflicted', 'neurohypophysis', 'plants', 'chlamydia', 'bevrag', 'clav', 'electr', 'cystourethrocele', 'replaced', 'depression', 'remain', 'eosinophilia', 'tip', 'rhy', 'incontnce', 'leukocyt', 'learning', 'hygiene', 'trichiasis', 'mitral', 'cr', 'symp', 'punc', 'srcoma', 'exudat', 'thoracogenic', 'cervicitis', 'schizoaffectv', 'sig', 'infestation', 'fev', 'necator', 'balantidiasis', 'palate', 'pers', 'plica', 'step', 'relationship', 'ecchymoses', 'swim', 'fungal', 'tourette', 'phacolytic', 'displacement', 'thnderclap', 'vagina', 'posttraum', 'analg', 'xtrndl', 'pstv', 'schizotypal', 'cell', 'texture', 'gend', 'hockey', 'scarring', 'tonsils', 'insipidus', 'frontal', 'facility', 'occp', 'oligohydramnios', 'impg', 'difficulty', 'testis', 'deple', 'typhus', 'amniot', 'elsewhere', 'grvs', 'sclerosing', 'keratin', 'vacuuming', 'hypertro', 'highway', 'thrpy', 'canalic', 'dematiacious', 'val', 'enterostomy', 'acetabuli', 'some', 'monteggia', 'elec', 'crsis', 'other', 'ebstein', 'dia', 'lag', 'smearing', 'expl', 'volvulus', 'tuberculoid', 'prem', 'tree', 'dressng', 'antenatl', 'vaccin', 'girdle', 'device', 'septl', 'conjoin', 'antin', 'breech', 'epiglottitis', 'electrocardiogram', 'synovit', 'incomptnce', 'tuboplasty', 'infundib', 'cavit', 'fibros', 'divergence', 'heterotopic', 'neck', 'neurasthenia', 'pterygium', 'water', 'adenopathy', 'myelodys', 'brawl', 'pulmonry', 'dermatoses', 'coaster', 'lab', 'unspf', 'manganese', 'urnry', 'pancreas', 'borne', 'acids', 'mod', 'corrosive', 'sarcoidosis', 'achlorhydria', 'pouchitis', 'poisoning', 'occlusal', 'juxtapap', 'antiasthmatics', 'meralgia', 'peri', 'corticoadren', 'epiphysiolysis', 'malignan', 'dissociated', 'icterohem', 'camp', 'hemoglobinuria', 'zygomycosis', 'bronchogenic', 'mningts', 'fugx', 'tmj', 'infantile', 'yrsnia', 'pigm', 'delirium', 'coal', 'cholesterin', 'plaque', 'hydroxyqu', 'lubricating', 'guidance', 'vit', 'vascular', 'incompetnt', 'firearms', 'newborn', 'bungee', 'minor', 'anaplastic', 'cutaneous', 'sus', 'intestinovesical', 'incontinence', 'retraction', 'ankle', 'postmastect', 'partial', 'syncyt', 'production', 'lupus', 'traum', 'sweat', 'extravstn', 'mucocele', 'ingest', 'fasc', 'thymus', 'mineral', 'feces', 'caries', 'puerperl', 'diabetes', 'misery', 'anaphyl', 'jakob', 'urethrocele', 'cease', 'tu', 'symptomatc', 'endos', 'nonobstet', 'porphyrin', 'bronchitis', 'follwg', 'whoop', 'craft', 'urinary', 'vessels', 'toxin', 'dacryoadenitis', 'menorrhagia', 'takayasu', 'epiphy', 'cave', 'spcf', 'caruncle', 'orient', 'rider', 'sym', 'curve', 'polyneuritis', 'orthopnea', 'obstruct', 'syndrom', 'gr', 'schmorl', 'regional', 'canal', 'balance', 'chemistry', 'rhabdomyolysis', 'engorge', 'refsum', 'panniculitis', 'atony', 'spherocytosis', 'glues', 'uran', 'symptm', 'factitia', 'thorac', 'rea', 'circulatory', 'benzdiaz', 'chld', 'level', 'prosthetic', 'power', 'intervention', 'sinoatrial', 'stomac', 'train', 'methemoglobinemia', 'myopthy', 'chemothr', 'degenerative', 'endotrach', 'ocular', 'elderly', 'paroxyml', 'partner', 'emesis', 'touch', 'with', 'hypertn', 'diet', 't', 'paral', 'acte', 'sex', 'eructat', 'travel', 'prtoneum', 'alveolitis', 'granulations', 'blg', 'slp', 'infus', 'choriomening', 'mysthna', 'vescouretrl', 'infected', 'cataracta', 'optc', 'gstritis', 'lacrim', 'advrs', 'infertil', 'diast', 'ischiocapsular', 'super', 'rapid', 'disl', 'chills', 'deutan', 'wall', 'vrtb', 'vasc', 'mgr', 'thrt', 'cholinergics', 'herbicides', 'metacarpophalan', 'sublingual', 'aneurysm', 'psychological', 'reduc', 'charge', 'sperm', 'cervicofac', 'hypostasis', 'noncv', 'metabolism', 'pneumon', 'fibrinolysis', 'distrb', 'complete', 'stabbing', 'aura', 'sublux', 'antacids', 'vacnation', 'palpitations', 'play', 'synovial', 'accessory', 'caregiv', 'one', 'enterococcus', 'rgdt', 'cough', 'myopath', 'schizoaffectve', 'entrcltca', 'subst', 'outlet', 'reye', 'glucose', 'gain', 'const', 'hyperpla', 'derang', 'responders', 'squamous', 'gambian', 'height', 'zoophilia', 'somatic', 'leukodystrophy', 'saginata', 'immunodefic', 'osteoarthr', 'flexure', 'acq', 'osteopoikilosis', 'secondary', 'alteration', 'antepar', 'bowling', 'precordial', 'hypotony', 'aftrcr', 'periph', 'gamma', 'salt', 'suffocat', 'ganglion', 'coli', 'inst', 'cestode', 'gen', 'pertussis', 'rough', 'polyostotic', 'neoplas', 'await', 'vapor', 'derv', 'metabolic', 'hyperestrogenism', 'quinoline', 'authority', 'mandb', 'winds', 'trophoblas', 'type', 'otitic', 'aseptic', 'exert', 'bipo', 'choroidal', 'gastrt', 'chnge', 'neopl', 'no', 'prsn', 'robertson', 'penile', 'hpros', 'seizures', 'fibula', 'nervousness', 'restrct', 'amniotc', 'clsr', 'defor', 'ductus', 'margnl', 'galactorrhea', 'east', 'enc', 'adequate', 'chrnc', 'civilian', 'multigrav', 'episclerit', 'hypergammaglobu', 'conjunctivitis', 'arenaviral', 'ileum', 'dysphagia', 'stripprs', 'elliptocytosis', 'lichen', 'psychotropic', 'effus', 'allrgic', 'grnd', 'cth', 'home', 'sg', 'tunic', 'coagultion', 'psychomotor', 'gonococcal', 'prpherl', 'interst', 'nonmed', 'iv', 'autonom', 'thyrotoxic', 'surfactant', 'martial', 'nsrt', 'hallucinogen', 'kyphosis', 'symptomatic', 'keratit', 'frag', 'trauma', 'syndrome', 'succinimides', 'ara', 'rickettsialpox', 'vallecula', 'mastopathy', 'malg', 'zone', 'unspec', 'enzy', 'monoamn', 'horseplay', 'burns', 'tonsillitis', 'marg', 'mand', 'suf', 'multnod', 'conjoined', 'flncy', 'opiates', 'papillae', 'angiitis', 'antineop', 'sudn', 'guided', 'kid', 'min', 'herpeticum', 'tonsillar', 'encopresis', 'innervation', 'rash', 'abdom', 'solvents', 'polyclon', 'nitroglycol', 'sulfur', 'boutonniere', 'nonhosp', 'feigning', 'nonobl', 'antibiot', 'puerprl', 'lyme', 'descending', 'impairment', 'hornet', 'gases', 'muilatn', 'septic', 'gravs', 'corticosteroids', 'venom', 'cholangitis', 'ulcers', 'surfce', 'antepart', 'pyrimid', 'gma', 'unattended', 'mower', 'undetrmine', 'compl', 'area', 'capillary', 'erythematous', 'phosphorus', 'chagas', 'fixation', 'pyrazole', 'ascorbic', 'postphl', 'membranes', 'rubra', 'prod', 'hpt', 'for', 'aircrf', 'celr', 'expos', 'cyanides', 'dfbrltr', 'oxidation', 'smr', 'gummata', 'choanal', 'hydrocele', 'all', 'ctr', 'lumbosacr', 'schwannomatosis', 'prepatellar', 'neurotroph', 'viruses', 'brucellosis', 'define', 'invol', 'dstl', 'deviated', 'meningococcus', 'dvce', 'qt', 'dentl', 'oral', 'coronary', 'muscular', 'epilep', 'dysfnc', 'smallpox', 'vert', 'explos', 'incndiary', 'dig', 'hypertrophic', 'faucial', 'orthopoxvirus', 'instru', 'simple', 'lb', 'surveillance', 'hydronephrosis', 'ulc', 'legs', 'sparganosis', 'addv', 'ataxia', 'destruct', 'pedestrian', 'nvl', 'running', 'respir', 'duodenitis', 'hypertens', 'fld', 'nasolacrml', 'preglaucoma', 'spotting', 'iliac', 'phthirus', 'artery', 'carrier', 'product', 'presentat', 'myelodysplastic', 'serotn', 'amines', 'motor', 'pedophilia', 'multiloc', 'nonflaccid', 'golf', 'well', 'schizoaffective', 'dependen', 'globe', 'glaucomatocyclit', 'radiotherapy', 'preparation', 'glutathione', 'studies', 'multigravida', 'intrapelv', 'immat', 'choroideremia', 'involv', 'bicornuate', 'insomn', 'normal', 'env', 'firearm', 'priapism', 'disturbance', 'myoneural', 'stevens', 'rhinoscleroma', 'wrestling', 'descrep', 'persisting', 'postablativ', 'main', 'unicornuate', 'les', 'ss', 'interarch', 'nonabsorb', 'endocervix', 'stiffness', 'war', 'scanty', 'app', 'cervx', 'longitudinal', 'autoimmune', 'sensonrl', 'retina', 'vitamin', 'keratopathy', 'disr', 'papyraceous', 'reasons', 'pseudocyst', 'pharyngeal', 'parasitic', 'low', 'telangiec', 'gc', 'correspond', 'mlt', 'mansoni', 'alkalosis', 'testic', 'metatarsophal', 'aircr', 'parasit', 'skul', 'landscaping', 'afric', 'atlg', 'othr', 'osteomalacia', 'glandular', 'atrphy', 'puncture', 'chlor', 'edema', 'else', 'vaginal', 'enterit', 'unstable', 'polyps', 'maternal', 'postpartum', 'rake', 'uncnr', 'occup', 'boat', 'fib', 'obturator', 'endocrin', 'rickettsioses', 'infarct', 'birth', 'four', 'glaucoma', 'bloom', 'measles', 'otoscler', 'degr', 'abnormality', 'drop', 'ten', 'iden', 'mass', 'perichondritis', 'hemarthrosis', 'drain', 'convulsions', 'paracoccidioidomycosis', 'fitting', 'stroke', 'intraepithl', 'epiphora', 'ligament', 'asthma', 'sealpox', 'mlg', 'fstr', 'veins', 'sensations', 'hypothyr', 'aqueous', 'dgstv', 'traf', 'spermatic', 'lesser', 'prol', 'merkel', 'tetanic', 'aerobic', 'bypas', 'nral', 'aerobics', 'system', 'confusional', 'superf', 'hyp', 'attemp', 'within', 'hypoplasia', 'ef', 'broke', 'movements', 'repl', 'enteros', 'dependent', 'respiratry', 'bmi', 'nigra', 'err', 'perfor', 'malignancy', 'hypermature', 'heterotrop', 'nr', 'nonconv', 'und', 'onst', 'antinfct', 'testicular', 'thyroidit', 'swimmer', 'extrahepat', 'trigone', 'ant', 'reaction', 'transp', 'bee', 'mycoplasma', 'ach', 'obst', 'jug', 'sclr', 'lymphangitis', 'pulp', 'trm', 'narrow', 'monocytic', 'peripartum', 'maintain', 'urethritis', 'macrolid', 'uncntr', 'postn', 'diving', 'morb', 'vers', 'pseudomemb', 'comb', 'vib', 'sensation', 'androgen', 'depr', 'cardiac', 'posteruptv', 'anoml', 'apnea', 'mild', 'endoc', 'tuberculosis', 'currnt', 'dyskinesia', 'scarlet', 'polyarthrit', 'equinovarus', 'aftcr', 'intraspinal', 'fingers', 'chemical', 'endocarditis', 'curvature', 'hemododialysis', 'variant', 'myelop', 'tympanoscler', 'remiss', 'postpa', 'physical', 'tracheoesophageal', 'procreative', 'glycogen', 'injur', 'dir', 'prox', 'hernia', 'pathogen', 'bil', 'cystocele', 'cathetr', 'lymphoma', 'pathological', 'neurolog', 'coagul', 'neurosis', 'abortion', 'dual', 'hypox', 'above', 'immunodef', 'biologic', 'mesenteric', 'antiviral', 'grade', 'consln', 'chro', 'com', 'crn', 'strangulat', 'melioidosis', 'microgenia', 'pos', 'multisystem', 'elvtd', 'drip', 'inert', 'disuse', 'retracted', 'cosmetics', 'phlbts', 'sequela', 'vs', 'reticular', 'cluster', 'prolpse', 'hairy', 'twin', 'curr', 'ceylanicum', 'ped', 'snorkel', 'empyema', 'req', 'labyrin', 'dysphsia', 'tetrach', 'infantum', 'antiprotoz', 'sympatholytics', 'dplt', 'umbl', 'leprosy', 'infl', 'angl', 'retic', 'hypert', 'kennedy', 'cramps', 'orthodontic', 'subdur', 'rifle', 'poxvirus', 'quartan', 'seeds', 'vscourtl', 'abandonment', 'encephalit', 'transmission', 'adverse', 'body', 'malignant', 'coccidioidal', 'dystrph', 'amino', 'chlamydiae', 'intrauterine', 'angioid', 'psngr', 'blepharitis', 'anest', 'embryonic', 'orb', 'alvelr', 'bruxism', 'peyronie', 'nutr', 'sacrotuberous', 'respiratn', 'episcl', 'syphilit', 'dysarthria', 'condyloma', 'sacrospinatus', 'parachutist', 'polyhydramnios', 'prph', 'plant', 'riding', 'mechanism', 'vasodilator', 'hydrat', 'enzyme', 'sicca', 'tremens', 'hemophil', 'pyrophosph', 'nas', 'pacemaker', 'univrsl', 'hypovent', 'unknw', 'catarac', 'noxious', 'househld', 'intramural', 'louse', 'opposition', 'leukoencep', 'resident', 'arbovirus', 'manifest', 'buccal', 'thrush', 'mycobacterial', 'membran', 'diplacusis', 'antiperson', 'hypoact', 'trapezoid', 'thicknes', 'pres', 'spf', 'ml', 'gastric', 'plasmacytosis', 'restoratn', 'prfnd', 'hep', 'chiari', 'radioact', 'hamartomas', 'cholelithias', 'anticoagul', 'mastocytoma', 'inflamtry', 'condyle', 'cholesteatosis', 'sphinctr', 'stnd', 'glaucma', 'abnorml', 'row', 'flrq', 'emphysematous', 'unstagebl', 'polycystic', 'maternl', 'protein', 'buphthalmos', 'postlaminectomy', 'sclp', 'flamethrower', 'vitamins', 'hyperemesis', 'frisbee', 'papillitis', 'contraindication', 'diffus', 'acidifying', 'nephropathy', 'endomet', 'actinomycosis', 'cris', 'tube', 'episod', 'iud', 'neuromuscle', 'retclsrc', 'instr', 'quarry', 'specf', 'crnry', 'silicone', 'exanthemata', 'lattice', 'hypodermic', 'hi', 'critical', 'sebaceous', 'hidden', 'snse', 'typ', 'apathy', 'soft', 'vaccine', 'enterovirus', 'artificial', 'subaortic', 'launch', 'subcutan', 'raft', 'anatomical', 'mort', 'kayk', 'sharp', 'haematobium', 'coag', 'vertebral', 'cardiovascular', 'encephlalo', 'leukem', 'atopic', 'investigate', 'monoclon', 'diphther', 'floor', 'lymphangioma', 'parals', 'hypnot', 'trampoline', 'appendix', 'pvc', 'ciliary', 'phantom', 'breath', 'opiat', 'myalgia', 'iii', 'current', 'bowman', 'hydrocephal', 'lym', 'pruritic', 'athrsc', 'react', 'inflnz', 'staphylcocc', 'bleeding', 'cysticercosis', 'caisson', 'bariatric', 'malform', 'fiber', 'unsocial', 'antigastric', 'nonplaque', 'seabase', 'physicl', 'coagulants', 'viremia', 'asth', 'postrheum', 'periocular', 'vaccines', 'glanders', 'neurologic', 'atrioven', 'bypass', 'gyn', 'diuretic', 'pelv', 'bronchiectas', 'circadian', 'football', 'mplga', 'anoxia', 'sulfonamides', 'enamel', 'depletion', 'impair', 'excess', 'resis', 'insufficienc', 'treatment', 'stomch', 'lfstyle', 'steroid', 'metatarsus', 'bph', 'reiter', 'uncert', 'retardation', 'monoart', 'pleuris', 'med', 'tetracycline', 'ups', 'broncholitis', 'abuse', 'regular', 'hantavirus', 'watercraft', 'hmrhg', 'pacemake', 'sialoadenitis', 'care', 'aftcare', 'polymyalgia', 'incompl', 'contracture', 'var', 'infect', 'bacteruria', 'medial', 'trichostrongyliasis', 'uncer', 'malleus', 'unaggress', 'embolus', 'absces', 'pilates', 'polydipsia', 'quadruplet', 'osteoporosis', 'anaph', 'anphylct', 'talus', 'expressive', 'embl', 'bursitis', 'fusel', 'fther', 'halluc', 'progressive', 'strabism', 'pseudobulbar', 'extract', 'boxing', 'parnchym', 'perineocele', 'trau', 'varices', 'nonhyperact', 'postinfusion', 'marasmus', 'lymphocytosis', 'weapon', 'encntr', 'septal', 'nspcf', 'equine', 'ears', 'cardiorsp', 'vomiting', 'nonnarc', 'juv', 'infertility', 'lymphosarc', 'ureterocele', 'serratia', 'secr', 'submers', 'perineal', 'antisocial', 'f', 'ulcrtion', 'feared', 'acuminatum', 'chondrocalc', 'pre', 'lysis', 'spondylos', 'imperforate', 'idiopth', 'hmrg', 'sign', 'eczem', 'chorioretinal', 'genu', 'wiskott', 'isoimmunization', 'pack', 'meningit', 'fetopelv', 'inf', 'lymphsrc', 'obsrv', 'cerebel', 'deg', 'floppy', 'circ', 'gingiv', 'acromioclavic', 'shared', 'boiler', 'monplga', 'splen', 'disloc', 'xtrcorp', 'mitochondrial', 'rectocele', 'supv', 'absence', 'carbon', 'eight', 'orthopedic', 'pancreat', 'optic', 'saliv', 'eating', 'eosinophil', 'indcd', 'bif', 'allergens', 'active', 'ladder', 'hemoglobinopathies', 'lftsded', 'prader', 'brief', 'parxysmal', 'oris', 'perip', 'supraglottis', 'nonmotor', 'harada', 'midcervic', 'dentofac', 'hypertonicity', 'parasitism', 'tract', 'lght', 'syphilitic', 'vst', 'stage', 'po', 'pleural', 'reason', 'preop', 'separation', 'intertrochanteric', 'peanuts', 'pilonidal', 'adult', 'aftr', 'gft', 'heavy', 'fam', 'disulfi', 'strangul', 'bronchus', 'spotted', 'nasal', 'periostitis', 'bundle', 'execution', 'trophoblastic', 'nonpyogenic', 'perinatal', 'rod', 'episdic', 'contin', 'region', 'fussy', 'mucopur', 'accid', 'junct', 'osteolysis', 'fngr', 'nonparaly', 'ischium', 'hesitancy', 'external', 'methylphendate', 'prune', 'antemet', 'norepinephrn', 'spr', 'derangement', 'edentulsm', 'placent', 'casts', 'stomach', 'stg', 'acidosis', 'meta', 'brass', 'prelab', 'radiohumeral', 'cleanup', 'sexual', 'artry', 'chair', 'compounds', 'angle', 'hemophilia', 'srvl', 'ganglia', 'capitis', 'insuff', 'strp', 'whipple', 'episcleritis', 'contraction', 'valve', 'cholestma', 'transport', 'overxrt', 'bell', 'intract', 'suppress', 'compr', 'sbdrml', 'trac', 'paintball', 'slow', 'obsessive', 'knee', 'clinical', 'letterer', 'lumbosacral', 'atherosclerosis', 'dich', 'mucositis', 'rem', 'achromatopsia', 'periumbilic', 'opacit', 'adenoviral', 'anomaly', 'devic', 'voice', 'enuresis', 'swallowing', 'color', 'uncontrold', 'willi', 'antitussives', 'fmily', 'fascioliasis', 'sbac', 'osteoarthro', 'amputat', 'tx', 'occipitpost', 'remsion', 'interocclusl', 'hematoma', 'systemic', 'metablsm', 'recurvatum', 'true', 'myasthna', 'brain', 'urine', 'granulation', 'rhinosporidiosis', 'rubber', 'steroids', 'rhythm', 'pancreatic', 'pseudopapilledema', 'correct', 'edentulism', 'xanthelasma', 'mood', 'papillomavirus', 'nonsupp', 'septicem', 'amp', 'drgrst', 'immunosuppres', 'atheroscler', 'metacarpus', 'bb', 'enterocolitis', 'nontox', 'subchronic', 'affect', 'obliterans', 'soccer', 'instrument', 'equip', 'chlm', 'murmurs', 'wheelchair', 'pneumococcal', 'maculopathy', 'adiposity', 'nfct', 'hyphema', 'periodic', 'initiate', 'versicolor', 'gestat', 'schizophrenia', 'veneral', 'dog', 'cma', 'surgcl', 'incomp', 'sem', 'eros', 'progress', 'zonular', 'anxiety', 'ground', 'ureter', 'metaplas', 'cutting', 'temporal', 'lig', 'croup', 'hemicran', 'drmtit', 'prescript', 'identity', 'hyperten', 'fasting', 'woodworking', 'chemicals', 'isotope', 'aggres', 'foot', 'hist', 'recent', 'prelabor', 'islets', 'megacolon', 'deposits', 'db', 'nerve', 'frontotemp', 'basal', 'chromos', 'present', 'vogt', 'exceptionally', 'abdmnal', 'skates', 'live', 'probl', 'parasomnia', 'insct', 'misaln', 'mastodynia', 'prolng', 'behv', 'inguinale', 'act', 'l', 'mutism', 'vestibulitis', 'nonvenom', 'hgb', 'solitary', 'uninod', 'second', 'supp', 'exfol', 'veg', 'extraction', 'des', 'adaptat', 'young', 'puerp', 'vrl', 'beats', 'falciparum', 'psychot', 'cytomegalovirus', 'cath', 'anallrg', 'quad', 'confirmation', 'fox', 'insomnia', 'narclpsy', 'uncntrl', 'dicalc', 'acromioclavicular', 'inferopost', 'staphylococcus', 'vehic', 'uteri', 'lasers', 'cs', 'pathways', 'artic', 'locked', 'legionnaires', 'cadmium', 'discomfort', 'hyperparathyrd', 'dvrtcli', 'punctate', 'explosions', 'piano', 'vibratory', 'rsp', 'lacera', 'hosp', 'delusion', 'indeterminate', 'vaccinia', 'psoriatic', 'premat', 'mutilatn', 'butyrophenone', 'deletions', 'fol', 'accidnt', 'certif', 'hyprtrophc', 'crd', 'eval', 'contract', 'female', 'incipient', 'cereb', 'gingivitis', 'visuospatial', 'withdrawal', 'talipes', 'furniture', 'film', 'degen', 'cryptosporidiosis', 'motcycl', 'repetit', 'boutonneuse', 'block', 'metabol', 'cholelithiasis', 'digging', 'deplete', 'rh', 'malpres', 'phenylketonuria', 'hordeolum', 'lary', 'agent', 'hodgkin', 'hemiblock', 'pneumoconiosis', 'glucrtcod', 'copper', 'anmly', 'df', 'sched', 'childhood', 'building', 'hormon', 'antibody', 'hyperhidrosis', 'psorias', 'parasympathomimetic', 'cheek', 'hyperparathyroid', 'arteriosus', 'eyelids', 'reticulosarcoma', 'freon', 'femur', 'aspiration', 'intraeph', 'ruptur', 'below', 'dx', 'membr', 'five', 'dsct', 'ultraviol', 'delivrd', 'free', 'mammogram', 'ventricle', 'fu', 'sys', 'choledocholithiasis', 'amnion', 'facilities', 'tranq', 'media', 'vein', 'injuries', 'atrophic', 'cardiovas', 'fistu', 'insnsitvty', 'hemoperitoneum', 'rel', 'complicata', 'convert', 'sanguinous', 'choroiditis', 'wound', 'disintegr', 'turbinat', 'obsv', 'plicated', 'hypermetropia', 'schizophreniform', 'lacrm', 'diuretics', 'intermed', 'urin', 'lmb', 'chemo', 'dfct', 'autosom', 'aromat', 'referral', 'pill', 'perph', 'hole', 'mouth', 'ankylosing', 'between', 'gangosa', 'uncontrld', 'circumscri', 'bimalleolar', 'norml', 'pneumn', 'asymptomat', 'extrinsic', 'instrum', 'sborheic', 'hmiplga', 'oil', 'caust', 'encph', 'hypermobility', 'japanese', 'abnormal', 'tarsometatars', 'hypochondriasis', 'pit', 'hemophagocytic', 'torticollis', 'typh', 'drown', 'perinat', 'postauricular', 'innomin', 'cent', 'disorders', 'constit', 'psyc', 'mutation', 'cntrl', 'periradicular', 'ritter', 'entangl', 'nonvenomous', 'kwashiorkor', 'fibromatosis', 'nodosa', 'myelody', 'gangr', 'bran', 'kidney', 'unil', 'nut', 'shortn', 'pyelonephritis', 'total', 'uric', 'nongc', 'traumat', 'conjun', 'postinf', 'xeroderma', 'compnd', 'earthquakes', 'plexus', 'immersion', 'sarcoma', 'infectn', 'endothel', 'profnd', 'malpos', 'gastroschisis', 'degeneration', 'nonsp', 'passage', 'malleolus', 'lobomycosis', 'intrcran', 'natve', 'intrcaps', 'thlassemia', 'monocular', 'deliver', 'carbn', 'metacarpophalang', 'colic', 'basketball', 'hiking', 'cerebell', 'fusion', 'intox', 'monitor', 'gross', 'fatty', 'ossicle', 'unspecf', 'hypersens', 'explosn', 'cerebvasc', 'passive', 'excessive', 'blastomycosis', 'urinostomy', 'stc', 'retrobulbar', 'degenerat', 'mines', 'onset', 'mot', 'bronch', 'monox', 'undescended', 'prevent', 'extravag', 'nodule', 'tech', 'blunt', 'meas', 'rsk', 'hyposmolality', 'grand', 'ans', 'recess', 'fructose', 'hdgk', 'gf', 'malfun', 'lac', 'infantl', 'conv', 'physio', 'hypothermia', 'clubbing', 'symptom', 'floods', 'toxicologic', 'microstomia', 'ozzardi', 'digit', 'custody', 'terrorism', 'recurr', 'closure', 'neurlgcl', 'movmt', 'fertlity', 'sacr', 'cardioresp', 'antitrypsin', 'menstrual', 'wo', 'cannabis', 'detach', 'bbb', 'parasite', 'subapo', 'pole', 'colonic', 'coloboma', 'jumping', 'hered', 'anuria', 'klebsiella', 'desc', 'carbam', 'new', 'bubonic', 'alcoholism', 'movement', 'noise', 'paratyphoid', 'bone', 'simp', 'hemorr', 'cylinder', 'finding', 'kyphoscoliotic', 'coxa', 'cecum', 'pain', 'thrombocyt', 'intraocular', 'diabetic', 'idiopathc', 'alexia', 'cry', 'pericardial', 'rabies', 'rick', 'episdc', 'trimalleolar', 'stat', 'bacter', 'oxygen', 'dermatographic', 'dysrhythmias', 'attacks', 'replace', 'swellng', 'syndr', 'sept', 'fet', 'disch', 'langerhan', 'tricyclc', 'cathartic', 'overweight', 'leptospiros', 'chafeensis', 'secundum', 'percept', 'mediastinum', 'pneumonitis', 'mxd', 'spinocerebellar', 'nonunion', 'proc', 'mastect', 'menin', 'asept', 'varicella', 'orophryn', 'toxoplasm', 'weather', 'onchocerciasis', 'bunion', 'claw', 'chat', 'nonparalyt', 'unilt', 'conception', 'bruch', 'chromosom', 'types', 'disseminated', 'splenomegaly', 'fnd', 'febrile', 'instit', 'glucagon', 'functional', 'congenita', 'ttrcycln', 'fuel', 'depres', 'commissure', 'om', 'gs', 'collapse', 'proteinosis', 'rmson', 'fragments', 'mucopolysaccharidosis', 'chondrosternal', 'mast', 'h', 'subclav', 'skateboard', 'hepatopulmonary', 'grm', 'plaq', 'emotional', 'ureteroves', 'specfd', 'disruption', 'nt', 'antirheumatics', 'candidal', 'cochlear', 'uremic', 'alter', 'overload', 'old', 'streptobacillary', 'sulph', 'antimony', 'ster', 'moderate', 'leukorrhea', 'antibio', 'def', 'lymphoid', 'sore', 'jts', 'sense', 'asthmat', 'crystl', 'oophoritis', 'exten', 'neoplastic', 'abdomen', 'macroglossia', 'postcholecystectomy', 'comm', 'enzymes', 'colon', 'recur', 'change', 'replacement', 'adjust', 'defec', 'sulfnmides', 'end', 'choledocholith', 'hourglass', 'gastritis', 'proctitis', 'disability', 'pigmentation', 'diamniotc', 'develop', 'erysipelas', 'diabet', 'antibiotic', 'cradle', 'parent', 'intellect', 'delivered', 'insemination', 'cryptophthalmos', 'dyschromia', 'false', 'atheroembolism', 'pallor', 'environment', 'radiat', 'subglottis', 'posthemorrhag', 'stridor', 'calcul', 'prion', 'eff', 'keratos', 'longitudin', 'flecks', 'syndactyly', 'cerebrosp', 'cuff', 'pedicul', 'neuralgic', 'sac', 'spondylolisthesis', 'essen', 'hem', 'wear', 'factitious', 'horseback', 'antineopl', 'lymphocyt', 'renal', 'poison', 'transt', 'giant', 'asymp', 'symblepharon', 'extrm', 'hypofunction', 'craniorachischisis', 'encephlomy', 'cord', 'animal', 'anemia', 'car', 'asexual', 'suspect', 'hallucin', 'trigeminal', 'preeclamp', 'meningitis', 'obj', 'rd', 'tubrcloma', 'mno', 'tricuspid', 'eent', 'subserous', 'cleaning', 'stiffnes', 'prctosigmoidtis', 'antimetabol', 'lt', 'esophageal', 'cushion', 'dubois', 'rat', 'margins', 'hazards', 'petrol', 'brderln', 'trigger', 'rubeosis', 'myocarditis', 'cho', 'schistosoma', 'object', 'adolesc', 'consciousnes', 'cirrhosis', 'mucosa', 'bathing', 'macrogenia', 'paraproteinemia', 'oliguria', 'hammer', 'urethra', 'rappell', 'palliative', 'wrist', 'milit', 'adlt', 'animals', 'late', 'centric', 'ice', 'tackle', 'mechan', 'sclerema', 'ft', 'tendinae', 'drugs', 'retnoph', 'victim', 'prolong', 'chalazion', 'fuch', 'thrombocythemia', 'burkitt', 'immatur', 'stillborn', 'postphleb', 'intr', 'vermilion', 'kpsi', 'coccyx', 'antagonist', 'occupant', 'pattrn', 'midgut', 'maj', 'vertical', 'famly', 'diaphragmatic', 'histologic', 'transfusn', 'sde', 'intrusion', 'a', 'endoscopy', 'unspcf', 'heredit', 'tap', 'immunotherapy', 'natv', 'hormones', 'psoriasis', 'radioulna', 'gallbladder', 'astrovirus', 'hypract', 'extrac', 'strptcs', 'cholesteatoma', 'collat', 'murine', 'grass', 'embryoic', 'persn', 'mcsl', 'metl', 'prolapsed', 'disease', 'sedative', 'weiss', 'dna', 'dest', 'vlt', 'trypanosomias', 'intestine', 'grth', 'hydrocarb', 'aldrich', 'primum', 'ichthyosis', 'brawny', 'resprtry', 'stool', 'myringitis', 'six', 'orthodontics', 'ear', 'maltreatment', 'disturb', 'work', 'liveborn', 'sponge', 'stoma', 'fat', 'pursuit', 'bones', 'cerebrovasc', 'hyperthermia', 'hetrochrom', 'farmers', 'keto', 'dracontiasis', 'occlsl', 'nodul', 'familial', 'pulm', 'trspl', 'condition', 'enter', 'aftrcare', 'forarm', 'medicolegal', 'orthostatic', 'extadural', 'altrn', 'evans', 'pharynx', 'echoencephalogram', 'dors', 'tissue', 'larynx', 'peripart', 'rev', 'smoke', 'ptosis', 'dacryops', 'fd', 'hypoxc', 'night', 'paresthetica', 'subcaps', 'exc', 'submucosal', 'vascul', 'endophthal', 'effect', 'dyston', 'psychogenic', 'developmental', 'oxytocic', 'kernicterus', 'incompet', 'temp', 'corticobasal', 'anesthet', 'laryngeal', 'pneumocon', 'speech', 'carditis', 'dgst', 'extrem', 'lipodystrophy', 'gingival', 'fertility', 'embols', 'stimul', 'emphysema', 'rad', 'imnprfl', 'atrph', 'parametritis', 'hypoten', 'varicose', 'angular', 'segmnt', 'symbolic', 'sero', 'problems', 'pleur', 'capsul', 'monoamniotc', 'coll', 'synov', 'gastrostomy', 'underwater', 'shuddering', 'minimal', 'nb', 'torus', 'inhaled', 'blister', 'suppurat', 'milking', 'horseshoe', 'chloral', 'therml', 'dissem', 'fordyce', 'hypercoagulable', 'hypoplsia', 'cardiomyopath', 'nontrauma', 'ovulation', 'equinus', 'iridocyclit', 'osteopetrosis', 'ridden', 'space', 'respirator', 'decubitus', 'hyperpotassemia', 'driv', 'globulin', 'social', 'prx', 'comp', 'biloculare', 'pilaris', 'anserinus', 'elevated', 'inhibitors', 'insuf', 'bradycardia', 'ind', 'airc', 'brest', 'unhappiness', 'staining', 'glucocorticoid', 'allergic', 'secondry', 'methicln', 'metals', 'blk', 'purpura', 'shld', 'enterocol', 'state', 'forgn', 'planus', 'neural', 'closed', 'nodes', 'accident', 'parietal', 'antconvl', 'phthisical', 'organism', 'magnet', 'velo', 'trans', 'microdeletions', 'stimulnt', 'malgnt', 'streptococcal', 'ftng', 'cystoid', 'lup', 'gerstmn', 'double', 'lunate', 'mnplg', 'tab', 'aphakia', 'prinzmetal', 'levine', 'reduction', 'poliomyelit', 'acquire', 'ndr', 'miosis', 'cyst', 'dioxide', 'vrnt', 'pyoderma', 'vertiginous', 'pneumonopathy', 'oculomotor', 'ulceration', 'corrosiv', 'prob', 'exces', 'manic', 'desire', 'spasm', 'rch', 'recruitment', 'detrusr', 'szry', 'nspf', 'hyperosmolality', 'buc', 'childhd', 'spondylolysis', 'hydrate', 'menisc', 'lown', 'submer', 'spstc', 'iatrogenc', 'visceral', 'vulvovaginitis', 'beriberi', 'thigh', 'repetv', 'malnutr', 'noninfl', 'cholinergic', 'dental', 'canth', 'cuboid', 'scapula', 'fleischer', 'y', 'into', 'punctum', 'history', 'vasculariza', 'enteroviral', 'retrograde', 'osteoar', 'spc', 'cyclist', 'sites', 'abo', 'vc', 'emancipation', 'eczema', 'incomplt', 'crater', 'vaginl', 'sialolithiasis', 'hemophthalmos', 'td', 'postvaricella', 'myelodyspls', 'bilat', 'endophthalmia', 'lordosis', 'sternum', 'af', 'sidewalk', 'somatoform', 'triatriatum', 'pervasv', 'kugelberg', 'aftercre', 'black', 'premise', 'arthrit', 'hypocalcem', 'vesicos', 'phimosis', 'myel', 'retained', 'autonmc', 'solium', 'anhydra', 'illeg', 'descend', 'conval', 'pp', 'cyclophoria', 'sideroblastic', 'budd', 'pull', 'redun', 'pneumogastric', 'inhal', 'sympt', 'generalized', 'histo', 'suffocation', 'cosmetic', 'accretions', 'genital', 'tietze', 'saliva', 'hypomanic', 'respsys', 'masochism', 'asian', 'iridodialysis', 'dispro', 'takotsubo', 'mold', 'txn', 'radius', 'lo', 'stm', 'rheumatoid', 'hurricane', 'ventricular', 'redness', 'irreg', 'mntl', 'infrc', 'swimming', 'amnestc', 'surgical', 'ileocolitis', 'nonteratogenic', 'asym', 'adlscnt', 'pigmnt', 'pyromania', 'formation', 'common', 'spond', 'myotonic', 'nucl', 'ven', 'aftrcre', 'perin', 'dialysis', 'butyrphen', 'cervix', 'suprf', 'hypopharynx', 'dissociative', 'bariatrc', 'substance', 'exostosis', 'vesical', 'ectodermal', 'cauliflower', 'detergent', 'cyclothymic', 'donor', 'srg', 'spcfd', 'ventric', 'catheter', 'sliding', 'dust', 'human', 'preterm', 'basilar', 'ah', 'wnd', 'o', 'altitude', 'paragang', 'avoid', 'calisthenics', 'stomatits', 'pemphigoid', 'pas', 'fall', 'nonbac', 'pericardit', 'vulvodynia', 'labor', 'utility', 'derangment', 'dementia', 'conjunctiv', 'crowd', 'algoneurodystrophy', 'incomplete', 'hyperkinet', 'disem', 'gigantism', 'infarction', 'conduct', 'goit', 'dfibrillator', 'postablat', 'alchl', 'refraction', 'rickettsial', 'oropharynx', 'myoglobinuria', 'thyrotoxicosis', 'therap', 'maxilla', 'neuron', 'syph', 'plex', 'admissn', 'mammographic', 'scald', 'antipsychotc', 'deformity', 'radiofreq', 'meniere', 'lacriml', 'rx', 'acute', 'cytomegaloviral', 'myocardit', 'dficncy', 'medicinal', 'ent', 'lead', 'neuralgia', 'adherent', 'astigmatism', 'infrct', 'feb', 'reg', 'term', 'leak', 'liq', 'interphaln', 'nonpsychot', 'pharyngoesoph', 'contu', 'compulsive', 'scaffolding', 'computer', 'overexert', 'bltrl', 'anesth', 'doubling', 'pseudomonas', 'unwanted', 'vestibular', 'spondyl', 'mrsa', 'telogen', 'mallory', 'conjuc', 'mediterranean', 'flat', 'vault', 'summer', 'stenos', 'arthrop', 'docker', 'residence', 'hemophilus', 'hemolyt', 'herpetic', 'relief', 'movmnt', 'grandparent', 'vasodilators', 'medicin', 'sd', 'dialys', 'influ', 'phenothiazine', 'gastrc', 'calcaneus', 'cocaine', 'candidiasis', 'throat', 'ben', 'prstate', 'anphyl', 'endophthalm', 'encountr', 'fusn', 'dysenter', 'bird', 'sympathomimetics', 'language', 'extern', 'fourth', 'peritonsillar', 'nonpsych', 'tenosynovitis', 'submandibular', 'mn', 'cerb', 'coccidiosis', 'divert', 'periprosthetc', 'necess', 'warts', 'humer', 'toes', 'misadventure', 'dentine', 'opiate', 'labyrinthine', 'vertebra', 'flail', 'satiety', 'perfrm', 'panophthalmitis', 'dvt', 'days', 'venous', 'phar', 'infan', 'radiological', 'pharmaceut', 'mach', 'dsrp', 'graf', 'dsrdr', 'incor', 'brncpul', 'per', 'tumor', 'straus', 'bacterial', 'peroxisomal', 'effct', 'rsv', 'resp', 'backache', 'elevation', 'damag', 'crys', 'relapsing', 'overanxious', 'atrial', 'cystitis', 'retinit', 'angiopathy', 'retnd', 'osteodystrophy', 'meningismus', 'follic', 'unsatis', 'natur', 'noncmplnt', 'spine', 'carpal', 'neovasculizat', 'dyskinesa', 'salmonella', 'clonorchiasis', 'finish', 'appendico', 'internl', 'unpow', 'unk', 'adnexa', 'obesity', 'nervosa', 'primary', 'pityriasis', 'vivax', 'fire', 'finger', 'osteitis', 'pylorospasm', 'indeterm', 'paran', 'nondysent', 'ltr', 'cauda', 'psoas', 'echinococ', 'swimmers', 'anesthesia', 'anus', 'exudates', 'dysthymic', 'cerebvas', 'curren', 'hcg', 'infraspinatus', 'bandemia', 'cen', 'ob', 'percussion', 'myelm', 'struck', 'lpd', 'dribbling', 'endometrial', 'perirenal', 'urogenital', 'fasciitis', 'amphetamin', 'incompat', 'bronchiectasis', 'behav', 'amnglcsds', 'homosexual', 'cholecys', 'lactation', 'heterophoria', 'elb', 'retard', 'ventilation', 'interscplr', 'nonprolf', 'sibling', 'pericard', 'fibrosclerosis', 'entangle', 'styloid', 'grt', 'intes', 'localized', 'wandering', 'tox', 'employ', 'odontogenic', 'npht', 'suff', 'mch', 'occupan', 'res', 'nasopharynx', 'neo', 'idiopathic', 'hebephrenia', 'deformans', 'dmi', 'unconven', 'maintenance', 'cancrum', 'hydromyelia', 'hpat', 'arthrodesis', 'thrombocytopenia', 'chromoblastomycosis', 'rotavirus', 'cardiomyopathy', 'pois', 'blood', 'rheum', 'pharyngitis', 'psych', 'relaps', 'margin', 'reading', 'ascariasis', 'suprficial', 'termination', 'sft', 'herpesvr', 'alrgc', 'monoam', 'snd', 'chorea', 'shovel', 'ornithosis', 'orbt', 'opac', 'contusion', 'mushroom', 'port', 'plateau', 'exanthema', 'tear', 'periodontitis', 'mvmt', 'strep', 'tinea', 'bilirubin', 'lens', 'inj', 'gstrt', 'hydrocyan', 'sea', 'inadv', 'arterioven', 'celiac', 'fx', 'hemplg', 'aircraft', 'postpart', 'counsel', 'antithyroid', 'nodular', 'prolif', 'myogenic', 'funct', 'postcricoid', 'stem', 'own', 'antbiot', 'maladjustment', 'rotator', 'blackwater', 'demoralization', 'red', 'spermatocele', 'cervicobrachial', 'isolation', 'pregnt', 'descemet', 'cupping', 'excavatum', 'agrcult', 'musculocutan', 'agitans', 'passeng', 'capsule', 'alight', 'diphyllobothrias', 'objects', 'sing', 'indust', 'trigem', 'pls', 'baking', 'pneum', 'sclerosis', 'hypertrichosis', 'pulpitis', 'contrac', 'bacteremia', 'trochlear', 'mal', 'hpv', 'iridoschisis', 'skull', 'entropion', 'testing', 'antimycobac', 'flag', 'neuroleptic', 'stmp', 'keratomalacia', 'edwards', 'ret', 'erylk', 'phosph', 'nephr', 'lacrosse', 'need', 'lipoid', 'cryptococcosis', 'acid', 'helicobacter', 'art', 'polycyst', 'enterocoltis', 'medicine', 'beach', 'ovarian', 'penetr', 'fnctnl', 'trochanteric', 'musculosk', 'bony', 'medullary', 'xtrrndl', 'semen', 'chromosome', 'tophi', 'amnesia', 'erosion', 'follow', 'congestion', 'dates', 'pedes', 'deterrent', 'stone', 'sewing', 'request', 'erth', 'infective', 'meth', 'cholecystitis', 'analges', 'furnit', 'aplastc', 'constitution', 'lung', 'failed', 'venereum', 'tympanic', 'exacer', 'mvmnts', 'keratoconjunctivit', 'bi', 'parox', 'hyperglyceridemia', 'callosities', 'butyrophen', 'behcet', 'hyprpl', 'deprivation', 'pstntl', 'subcut', 'overdos', 'exp', 'subtot', 'brkt', 'mvmnt', 'mycot', 'purpra', 'hodgkins', 'ptca', 'off', 'spec', 'methyl', 'breast', 'shyness', 'popliteal', 'postmeasles', 'local', 'climb', 'corporis', 'unp', 'chronc', 'langs', 'digital', 'infest', 'rr', 'cardia', 'contents', 'encount', 'gingititis', 'intestinl', 'men', 'adnex', 'calicivirs', 'antiplte', 'noninf', 'seafood', 'tisue', 'persist', 'psycho', 'gait', 'func', 'iliofemoral', 'track', 'perivent', 'residenc', 'organ', 'prostatitis', 'gouty', 'calculus', 'gastrointestinal', 'migrans', 'flood', 'undeterm', 'insertion', 'orgsm', 'secret', 'retropharyngeal', 'person', 'transfsn', 'sphincter', 'digest', 'suffocate', 'mining', 'asbestos', 'transplt', 'lid', 'mesenteritis', 'discrim', 'alv', 'induction', 'swan', 'epididymis', 'hypogastric', 'daily', 'auditory', 'delliv', 'ctrct', 'dwarfism', 'sciatic', 'atroph', 'st', 'spcrft', 'malfunction', 'eyelid', 'wndw', 'lower', 'penetrat', 'oth', 'inner', 'infections', 'insert', 'shape', 'flccd', 'stern', 'puer', 'yellow', 'rdiat', 'dis', 'fallopian', 'ovale', 'scleritis', 'lymphadenitis', 'site', 'diphtheria', 'base', 'bile', 'saccadic', 'intravag', 'any', 'embol', 'occlusion', 'intravn', 'myoclonus', 'convalescence', 'atax', 'intermit', 'gran', 'prfile', 'counslng', 'dysmetabolic', 'siderosis', 'manfest', 'regulat', 'infiltr', 'androgens', 'patau', 'psychostimulant', 'ribs', 'dural', 'radicular', 'cyclosporiasis', 'psychos', 'aromatase', 'prphyl', 'scoliosis', 'majora', 'brill', 'oculogram', 'exhibitionism', 'crush', 'astringent', 'conjunctiva', 'epidrml', 'necros', 'microcheilia', 'mix', 'rmsn', 'sensormotr', 'elder', 'buphthal', 'bact', 'disrupt', 'assoc', 'deploy', 'great', 'undetermin', 'marrow', 'group', 'antiallrg', 'reentrant', 'fetus', 'diseas', 'vulvar', 'horm', 'steal', 'hyperfunc', 'chrm', 'befor', 'interphalan', 'nursemaid', 'anticoagulants', 'interstitl', 'anxiolyt', 'nk', 'psychosexual', 'cartilage', 'anastom', 'adpt', 'piped', 'pyrophos', 'nec', 'modrate', 'findings', 'suprv', 'preserv', 'laboratory', 'plastc', 'exac', 'ht', 'prepuce', 'mesent', 'abnormalities', 'presbyopia', 'striking', 'fungicides', 'pemphigus', 'income', 'coracoclavicular', 'orifice', 'tracheal', 'separ', 'oblit', 'lability', 'phobia', 'mallet', 'antigen', 'trnk', 'nondm', 'inflict', 'refereeing', 'vibration', 'con', 'conversion', 'to', 'dependence', 'whole', 'hypoplas', 'ironing', 'specif', 'varus', 'economic', 'alkal', 'struct', 'compartment', 'inflamed', 'instrmnt', 'shaped', 'sealant', 'drum', 'echinococc', 'acanthamoeba', 'ehlers', 'herpetiform', 'acetazolamide', 'blindness', 'postv', 'microaneurysm', 'migrne', 'nd', 'longitud', 'disfigurement', 'zygomatic', 'musc', 'transfusion', 'shotgun', 'galactosemia', 'bomb', 'histry', 'glycosuria', 'anomalous', 'auto', 'suppur', 'binocular', 'sten', 'laceration', 'immune', 'cavities', 'gasoline', 'lie', 'back', 'circumstances', 'unilateral', 'iib', 'cochlvestib', 'psng', 'neg', 'side', 'rosacea', 'lesions', 'cortical', 'digestive', 'dermatomyositis', 'aplasia', 'acariasis', 'threaten', 'hyprprthyrd', 'plasmacytoma', 'oligospermia', 'seroma', 'pica', 'pyomyositis', 'thrombocyto', 'adn', 'aur', 'eversion', 'tb', 'fatal', 'cerebral', 'hemoph', 'crises', 'profound', 'spacing', 'shaft', 'fibrillation', 'supernumerary', 'chiasm', 'nondom', 'mercury', 'antiemet', 'agricult', 'situ', 'acanthosis', 'cryst', 'tuberculoma', 'cerv', 'trifascicular', 'cerebr', 'threatened', 'movemnt', 'submucous', 'mesh', 'dwel', 'serms', 'plague', 'perfrin', 'anhidrosis', 'dysfunction', 'hemivertebra', 'luteum', 'cavus', 'blanca', 'psychophysic', 'pyrexia', 'frgmt', 'induct', 'construction', 'dome', 'anticholinerg', 'calf', 'virus', 'papill', 'misplaced', 'wiring', 'cholesteatma', 'intrau', 'hypertropia', 'otit', 'abnrml', 'lbr', 'heartburn', 'domestic', 'mole', 'artficial', 'waldeyer', 'pneu', 'olecranon', 'carinatum', 'absnce', 'nondmnt', 'cog', 'hepatic', 'north', 'rhodesian', 'parapoxvirus', 'femoral', 'manc', 'tr', 'deposit', 'irradiation', 'azoospermia', 'cut', 'mandible', 'powr', 'athscl', 'repr', 'pasteurellosis', 'midline', 'cnv', 'septicemia', 'vermil', 'count', 'heparin', 'streaks', 'hemrrhoid', 'cerebe', 'hypercalcemia', 'chamber', 'isoimmunizat', 'streptococus', 'intra', 'laryngotrach', 'smoking', 'arsenic', 'hdache', 'tubal', 'arthus', 'isolated', 'scleroderma', 'on', 'anesthetic', 'strang', 'monochorion', 'viabil', 'ath', 'varice', 'antianemic', 'hydrops', 'specified', 'ab', 'obsc', 'dyshormonogenic', 'coccidioidomycos', 'contour', 'paragran', 'mil', 'narcolepsy', 'painful', 'nongnccl', 'pyeloureteritis', 'pneumococcus', 'placenta', 'patulous', 'dysfun', 'antmycob', 'chondrocalcin', 'duplication', 'neuropathy', 'myeloid', 'healed', 'psychotic', 'dysfunc', 'neop', 'goniosynechiae', 'v', 'dt', 'uncomplic', 'calcaneal', 'cntrcp', 'staph', 'vitreous', 'tetracyclc', 'gonorrhea', 'religion', 'esophagitis', 'ducts', 'hunger', 'laundry', 'hematpoitc', 'spacecraft', 'behavior', 'radiouln', 'hyperem', 'dwell', 'outer', 'valv', 'mumps', 'cerebellum', 'cardiovsclr', 'noninfect', 'exfoliation', 'encounter', 'pseudomonal', 'psychosis', 'epiglottis', 'appendicitis', 'rom', 'rheumatica', 'caps', 'discharge', 'matern', 'vsc', 'shrt', 'encephmye', 'berries', 'tympanum', 'sympathetic', 'prickly', 'glans', 'crnitne', 'hematospermia', 'pyloric', 'mantle', 'rodenticides', 'mydrtc', 'vrs', 'reuptake', 'basophilia', 'lactam', 'pat', 'parkinson', 'renl', 'recurnt', 'exposur', 'phase', 'exacerb', 'boogie', 'heterotropia', 'pleura', 'econo', 'dystocia', 'postprocedural', 'pylori', 'contracted', 'petrositis', 'combined', 'corneal', 'hyperkeratosis', 'spastic', 'brncio', 'surf', 'rickettsiosis', 'generat', 'abnor', 'trtmt', 'ied', 'flu', 'anat', 'snow', 'salping', 'erythrmia', 'container', 'synovium', 'prostate', 'demen', 'mocycl', 'aromatc', 'cumltv', 'crstacns', 'centipede', 'ulnar', 'regul', 'contagiosum', 'structure', 'hern', 'synd', 'unspecified', 'webbing', 'tenosynov', 'invers', 'bronchiect', 'psychiatric', 'articulation', 'megaloblastic', 'tenonitis', 'fetalis', 'swallowed', 'dec', 'non', 'death', 'stress', 'lipoma', 'circulat', 'paralysis', 'fmly', 'crbl', 'beh', 'deplet', 'clo', 'microtia', 'narc', 'granulom', 'epistaxis', 'enophth', 'dissociatve', 'hematologic', 'atriovent', 'myelitis', 'metastat', 'aggression', 'cri', 'vd', 'concus', 'traff', 'stndng', 'endocard', 'irritable', 'over', 'lft', 'manifestations', 'hhv', 'ventltr', 'cytol', 'listeriosis', 'dfbrl', 'labyrinthitis', 'spch', 'mottled', 'adrenergics', 'hemorrhage', 'tens', 'puberty', 'condensans', 'brn', 'and', 'utro', 'parathyroids', 'devices', 'scleromalacia', 'supracondyl', 'palindrom', 'paranoid', 'ca', 'pancyt', 'keratoconjunc', 'dermatomycosis', 'muscskel', 'dudn', 'intervent', 'defncy', 'depressn', 'limbar', 'eruption', 'dystonic', 'insulin', 'dehydration', 'wat', 'backgrnd', 'gland', 'orthotic', 'serous', 'myocardial', 'reactive', 'subj', 'environ', 'aphonia', 'overhang', 'helminth', 'cruciate', 'microscopic', 'dsrd', 'medic', 'neuronitis', 'corac', 'esophag', 'feeding', 'trnspl', 'papillary', 'genetic', 'meninges', 'perforat', 'muc', 'collision', 'explosives', 'torsion', 'african', 'g', 'nonspeaking', 'mcycl', 'episodc', 'constrictiv', 'postural', 'refuse', 'syndromes', 'lumbr', 'defiant', 'general', 'lagophthalmos', 'koyanagi', 'relx', 'changes', 'bldder', 'prp', 'clos', 'healthy', 'pleurisy', 'vir', 'otorrhea', 'variations', 'crcinoid', 'circul', 'assault', 'move', 'carcinoid', 'cyanosis', 'thrive', 'emotnl', 'circumstance', 'internal', 'academic', 'dysphonia', 'aid', 'major', 'ms', 'blepharochalasis', 'tributary', 'enmy', 'transloc', 'tornado', 'endophthalmitis', 'dacryocystitis', 'anteprtm', 'penicillin', 'mononucleosis', 'dsrders', 'micropenis', 'hallucinations', 'muscle', 'urinry', 'retrolental', 'communication', 'hyperchylomicronemia', 'emetics', 'vitreomacular', 'bacteriuria', 'allrg', 'coagulation', 'adenoiditis', 'drills', 'filariasis', 'thiamine', 'food', 'co', 'essence', 'explosiv', 'continuous', 'acrom', 'endocr', 'adhesive', 'lang', 'crf', 'shga', 'dys', 'parathyroid', 'neovasculariz', 'trichuriasis', 'thrmbtc', 'fstula', 'status', 'antidepresnt', 'communic', 'peripheral', 'streptococcus', 'plane', 'previa', 'therapeutic', 'grde', 'pel', 'sat', 'strom', 'enceph', 'laryngitis', 'encephalomyel', 'foregut', 'infra', 'passge', 'wheezing', 'encephal', 'forceps', 'somat', 'autologs', 'chondromalacia', 'cavovarus', 'postnasal', 'berry', 'illg', 'pigment', 'multiphasic', 'sinus', 'rtctl', 'unintentl', 'demul', 'face', 'sixth', 'impairm', 'presbyacusis', 'nystagmus', 'multi', 'conjugate', 'twins', 'angioneurotic', 'diastematomyelia', 'crimean', 'dyshidrosis', 'schizophrenic', 'underfill', 'methadone', 'falling', 'ovaries', 'anticoag', 'bartonellosis', 'vitiligo', 'iia', 'dysreflexia', 'remn', 'thrombos', 'bodies', 'epitheliopathy', 'extrapyramidal', 'third', 'nonatlg', 'thoracoabd', 'without', 'psgr', 'usa', 'hanging', 'reproduct', 'engorgemnt', 'coordination', 'focal', 'gum', 'cls', 'rheumatism', 'chorioretinitis', 'anon', 'pneumothorax', 'dyslexia', 'livebrn', 'stpmth', 'tests', 'cardiorespirat', 'botulism', 'disrpt', 'coarct', 'node', 'plas', 'mycplsm', 'cytomeg', 'lymphogranuloma', 'communicat', 'pesticide', 'vaginismus', 'erythromyc', 'mortar', 'pulmonale', 'malocc', 'sciatica', 'ntrutr', 'dlt', 'palsy', 'adol', 'prst', 'kissing', 'hyponasality', 'gardening', 'phlebotomus', 'lethal', 'perioculr', 'nausea', 'hemolytc', 'mening', 'bct', 'urtroplv', 'thoracoscop', 'ankyl', 'variola', 'hirschsprung', 'colosty', 'prt', 'posttraumatic', 'chain', 'schizoafftv', 'tubr', 'proln', 'transaminase', 'parasympatholytics', 'anal', 'hydrceph', 'urea', 'handgun', 'vasodil', 'fragm', 'uns', 'ossifican', 'mstoid', 'lymphomas', 'stiff', 'pleurodynia', 'exos', 'scrotal', 'preg', 'acd', 'alveol', 'pneumni', 'keratoconjunctivitis', 'br', 'genitourin', 'xerosis', 'mi', 'antivaricose', 'anhydrotic', 'team', 'dmii', 'dyspl', 'electrolyte', 'opportunistic', 'cor', 'batter', 'grwth', 'shigellosis', 'obstructiv', 'tmp', 'ang', 'septate', 'mathematics', 'sacral', 'leucocoria', 'spouse', 'burning', 'sensorneur', 'hamate', 'glen', 'obstet', 'internum', 'palmar', 'hypothrm', 'congenital', 'dermatitis', 'chancroid', 'ex', 'mutilate', 'explosive', 'roseola', 'reattach', 'pedal', 'beck', 'cntrcep', 'menstl', 'uniltrl', 'retroperitoneum', 'fibroelastosis', 'gas', 'oval', 'jnc', 'hereditary', 'clot', 'assist', 'plsm', 'drmtitis', 'ego', 'involun', 'morbid', 'inapprt', 'leg', 'hypofun', 'adnx', 'unsp', 'tmr', 'station', 'histoplasmosis', 'histrionic', 'calcer', 'inapp', 'mobitz', 'mutilation', 'derange', 'eustach', 'myl', 'cyclitis', 'serotinin', 'emblsm', 'methaqualone', 'thyroid', 'athletics', 'idio', 'clavicle', 'pseudoexfoliat', 'anaphylactic', 'dietetics', 'tachycardia', 'mucopurul', 'dermatos', 'carpometacarp', 'abdomn', 'erythromelalgia', 'fetishism', 'sylvatic', 'granulomatosis', 'stn', 'cardiomegaly', 'gun', 'ulcr', 'myopathies', 'orgasmic', 'bilateral', 'fluid', 'blad', 'spondylopathy', 'sheath', 'hemochromatos', 'fragment', 'window', 'devel', 'hypovolemia', 'achalasia', 'perit', 'erupt', 'clft', 'chemotherapy', 'contact', 'bipolor', 'interpersonal', 'uni', 'nonauto', 'paroxysml', 'orig', 'stapes', 'psychstimulant', 'onychia', 'stenosis', 'collisn', 'abort', 'enteric', 'recp', 'nonexudat', 'fetl', 'antidepress', 'els', 'adjustmnt', 'undiff', 'rectum', 'meniscus', 'pancytopenia', 'meds', 'polyart', 'neoplasm', 'nts', 'disordrs', 'louis', 'strabismus', 'minora', 'rhyth', 'warfare', 'holiday', 'canl', 'menst', 'otosclerosis', 'tachycard', 'hypothyroid', 'multinodul', 'tripl', 'incisional', 'piercing', 'sensory', 'subchr', 'anerobes', 'occupational', 'defect', 'hemoptysis', 'mech', 'phlegmon', 'tuberos', 'prophylact', 'neurit', 'pneumocystosis', 'eaton', 'equina', 'arteritis', 'impl', 'gal', 'asphyxiation', 'thrmb', 'auricle', 'nod', 'crowding', 'hyprtrophy', 'epithelium', 'staphylma', 'panenceph', 'cap', 'infarc', 'pyelonephr', 'antprotazoal', 'lacerat', 'abrasion', 'du', 'retractile', 'affective', 'varioliformis', 'nonpsychotic', 'walking', 'smell', 'schizoph', 'joints', 'detachment', 'felon', 'hypotrichosis', 'tymp', 'lifting', 'gene', 'willebrand', 'not', 'hebephren', 'aircrft', 'hydroureter', 'cert', 'hemrg', 'pneumonit', 'dystonia', 'hot', 'deficient', 'process', 'truncus', 'overfill', 'laser', 'iridocyclitis', 'rugby', 'recurrent', 'arrest', 'subcondylar', 'hypertension', 'conduction', 'chem', 'gastroent', 'weight', 'calc', 'poisn', 'neutropenic', 'anticonv', 'varum', 'stump', 'abnormalt', 'amer', 'delivery', 'impct', 'imperfecta', 'hematological', 'scuba', 'retroperiton', 'enlargement', 'conduc', 'varn', 'juvenile', 'toe', 'kuru', 'inversion', 'following', 'hematocrit', 'cyc', 'strictur', 'cervical', 'imp', 'angio', 'substanc', 'thmb', 'uninodular', 'obstructive', 'brst', 'band', 'diastolic', 'nasopharyx', 'hprosmlr', 'head', 'striae', 'schistosomiasis', 'resonance', 'rflux', 'col', 'solvent', 'brth', 'pncllins', 'hiv', 'tabes', 'optica', 'delusional', 'consl', 'ski', 'prophyl', 'alcohol', 'jugular', 'respiration', 'mycotic', 'necrosis', 'diastasis', 'sedate', 'midcarpal', 'vara', 'intestin', 'colitis', 'accommodation', 'multiple', 'ectpc', 'exercse', 'excipien', 'precip', 'parenchyma', 'monoamine', 'systemc', 'hydcarb', 'perp', 'chf', 'dilation', 'mcyc', 'sub', 'pad', 'mther', 'reduced', 'electro', 'trichomonal', 'urt', 'prolonged', 'cesarean', 'simplex', 'cheyne', 'acc', 'gastroduodenal', 'accidental', 'tight', 'incidental', 'sleep', 'deep', 'epimembranous', 'peritoneal', 'hemodialysis', 'rectovag', 'bancroftian', 'napkin', 'deviation', 'cubitus', 'polydactyly', 'risk', 'rec', 'lightning', 'lymphprof', 'stom', 'histio', 'pneumoniae', 'lack', 'nitidus', 'subendo', 'humerus', 'urination', 'long', 'argyll', 'phenthiaz', 'ankylosis', 'dtp', 'materials', 'pneumothorx', 'hy', 'muscl', 'miotics', 'hypertelorism', 'branchial', 'nodos', 'transvestic', 'bronchog', 'psychostim', 'ect', 'antineoplastic', 'squam', 'prep', 'ovary', 'pesticides', 'suberosis', 'global', 'coronavirus', 'nephrotic', 'conservatn', 'tetanus', 'nigricans', 'enthesopathy', 'parapertussis', 'disablty', 'barotrauma', 'blepharospasm', 'cephal', 'mycobacteria', 'tularemia', 'hungry', 'glottis', 'restrain', 'osteochondrosis', 'pharyngoconjunct', 'membranoprolif', 'excs', 'psymotr', 'arousals', 'intracranial', 'sarcosporidiosis', 'restless', 'ridge', 'noninflam', 'luts', 'health', 'effusion', 'sebrrheic', 'dura', 'lagophthalm', 'k', 'abn', 'hemiplegia', 'bucket', 'fascia', 'vision', 'cranl', 'marginal', 'premises', 'aware', 'vap', 'defcnt', 'adm', 'canoe', 'cortx', 'platfrm', 'chest', 'concussion', 'parvovirus', 'antiphospholipid', 'routine', 'digestants', 'cardiogenic', 'distance', 'brf', 'ganong', 'elsewhr', 'removal', 'scleral', 'aspergillosis', 'subsequent', 'cystica', 'altered', 'occlsn', 'ultrasnd', 'ketoacd', 'hematol', 'needle', 'disordr', 'field', 'electromyogram', 'keratoconjunct', 'wtnos', 'hema', 'antepa', 'pyemia', 'ami', 'dermatomycoses', 'threat', 'd', 'imcompl', 'metabl', 'salicylates', 'lesion', 'grf', 'neuropthy', 'postsurg', 'chondroectoderm', 'mucoid', 'hepatomegaly', 'lymph', 'lacrimal', 'chilblains', 'dep', 'function', 'skl', 'primigravid', 'follicular', 'hyperventilation', 'privat', 'arm', 'dyspareunia', 'aflatox', 'enteritis', 'fossa', 'nitrogen', 'antibiotics', 'radioulnar', 'vulnif', 'andepres', 'vess', 'puckering', 'fb', 'chordae', 'cavity', 'orthoptic', 'peritoneum', 'horn', 'microangiopathy', 'affectiv', 'visible', 'brow', 'deployment', 'q', 'complic', 'otitis', 'protect', 'cardiovasc', 'vulva', 'postconcussion', 'cur', 'tuberous', 'myiasis', 'keratoconus', 'nonwork', 'desensitiza', 'bronchospasm', 'natural', 'suppr', 'marching', 'mcrg', 'creutzfeldt', 'hypotensive', 'traction', 'urn', 'displace', 'deform', 'form', 'effluent', 'musculoskel', 'ventral', 'slowing', 'metacarp', 'hidradenitis', 'granul', 'hypervitaminosis', 'compres', 'unkn', 'erysipelothrix', 'sphenoid', 'erythema', 'fistula', 'sup', 'hypotension', 'hemorrhoid', 'selective', 'ntv', 'relative', 'ur', 'nasopharyngitis', 'infectiosum', 'hyperostosis', 'intravasc', 'fold', 'erlk', 'spirochetal', 'nervous', 'intestines', 'complicting', 'outcome', 'borderline', 'spondylosis', 'abd', 'biliuria', 'hiccough', 'dosag', 'like', 'ariboflavinosis', 'baseball', 'ecmo', 'urethrts', 'prolaps', 'anterolateral', 'organphos', 'artific', 'pectoris', 'hematocele', 'influenzae', 'carbuncle', 'catarct', 'adolescence', 'therapy', 'monoclonal', 'occulta', 'court', 'california', 'von', 'spontan', 'ischem', 'infusion', 'small', 'nonorganic', 'conn', 'saluretics', 'screen', 'hirudiniasis', 'referred', 'mandibular', 'traumatc', 'nerv', 'contusions', 'strab', 'syndactyl', 'algae', 'vulvr', 'subscapularis', 'stromal', 'bullous', 'infer', 'glucse', 'myelo', 'orchitis', 'lips', 'bitot', 'scapul', 'vasodilat', 'combin', 'arthralgia', 'curnt', 'tol', 'scabies', 'after', 'avian', 'malunion', 'ortho', 'goodpasture', 'prosth', 'spina', 'rmvl', 'malt', 'lsn', 'cl', 'externl', 'dagger', 'metatarsophalang', 'patent', 'infilt', 'cabl', 'stream', 'schizoaff', 'w', 'sepsis', 'windsrf', 'stair', 'sediment', 'attrition', 'tibialis', 'bcg', 'suicidal', 'capsulat', 'depend', 'metal', 'perforation', 'treatmnt', 'senile', 'nonsurg', 'rupt', 'brnchlts', 'herpesvir', 'hydatidiform', 'impotence', 'symphy', 'tracheitis', 'asymmetry', 'pedest', 'aftercare', 'hypertroph', 'uter', 'hypr', 'deficiencies', 'quadrplg', 'gastro', 'bowel', 'tidalwave', 'pellets', 'clstrdium', 'manifestation', 'hyprtrophic', 'excip', 'emptying', 'elong', 'left', 'hair', 'postphlbtc', 'machinery', 'neutropenia', 'vep', 'oxazolidin', 'anatom', 'visual', 'sexualism', 'sanguin', 'asp', 'steam', 'keratitis', 'chondrodystrophy', 'epidemic', 'postoperative', 'herpetiformis', 'rst', 'pelvic', 'impetigo', 'median', 'hrt', 'intoleran', 'mooren', 'membranous', 'should', 'infectious', 'alastrim', 'xeros', 'laxity', 'frts', 'adrenogenital', 'nutrit', 'chorioretinit', 'tachypnea', 'panuveitis', 'sin', 'strptococcus', 'granuloma', 'congn', 'missile', 'polyphagia', 'organiz', 'enlargmnt', 'int', 'tpa', 'aggressiv', 'cells', 'pernicious', 'musclr', 'crcnoid', 'chordee', 'hypopigmentation', 'olfactory', 'demulc', 'negatv', 'uncon', 'parasympatholytc', 'pesticid', 'dosage', 'hmophlus', 'orbit', 'disinfectants', 'toxocariasis', 'amputation', 'aftrce', 'del', 'vag', 'atyp', 'trachea', 'agents', 'nutritional', 'neurpthy', 'neonatorum', 'hyprt', 'disproportn', 'decr', 'retromolar', 'perfringens', 'multiplex', 'gall', 'enophthalmos', 'postendoscopy', 'inversus', 'penicillins', 'leukoplakia', 'syncope', 'eye', 'impaired', 'trapezium', 'scrotum', 'unconfirm', 'neuritis', 'dtap', 'zoster', 'strychnine', 'extremity', 'high', 'intrauter', 'microcystoid', 'mover', 'antilipemics', 'grilling', 'pelvis', 'prolifer', 'contracept', 'hyperaldosteronism', 'suppurativ', 'fluoride', 'unspc', 'leakage', 'fragilis', 'herid', 'sclero', 'baby', 'unspecifd', 'suscept', 'maxillary', 'concuss', 'meningococc', 'privation', 'hypercementosis', 'arms', 'prematurity', 'aldsternsm', 'jaund', 'parotid', 'hemicrania', 'sinusitis', 'encephalocele', 'utl', 'versus', 'thromb', 'planitis', 'monoc', 'whooping', 'dysplas', 'protan', 'acromegaly', 'rail', 'separate', 'fanciers', 'exps', 'thrmbs', 'intoxic', 'desig', 'inferior', 'residual', 'autosomal', 'nystagm', 'bathtub', 'anisakiasis', 'carcinoma', 'resorption', 'lepromatous', 'vaginitis', 'ring', 'stpfth', 'noninfec', 'dermatochalasis', 'hematometra', 'raynaud', 'cmp', 'agoraphobia', 'ntc', 'descrp', 'laryngotracheitis', 'famil', 'measle', 'ulceratve', 'tis', 'convergenc', 'schizoid', 'parapharyngeal', 'duodenum', 'supvsn', 'achv', 'fibroplasia', 'mastocytosis', 'htr', 'cross', 'deaf', 'mangmt', 'anisocoria', 'strength', 'av', 'curv', 'olecran', 'labyrinth', 'equatorial', 'accommodative', 'mul', 'infant', 'paraplegia', 'coagulat', 'carnitine', 'hos', 'gangrene', 'cathartics', 'asbestosis', 'kayser', 'orgnsm', 'kyasanur', 'neonate', 'prophylactic', 'vera', 'voyeurism', 'pneumonia', 'isthmus', 'achilles', 'lacrimogenic', 'atten', 'dom', 'loop', 'solv', 'deterg', 'antidiarrhea', 'lymphedema', 'nonrupt', 'isch', 'anmaly', 'tendon', 'than', 'perfus', 'cliff', 'personality', 'evid', 'bn', 'myeloma', 'sensr', 'leukomalacia', 'madura', 'rope', 'desquamatv', 'pta', 'toxoplasmos', 'isopropyl', 'hypothyroidism', 'bark', 'gstrontest', 'alt', 'consanguinity', 'interven', 'iridocyl', 'prime', 'do', 'hospitl', 'anencephalus', 'decision', 'acu', 'uplmb', 'aspirator', 'impairemt', 'cataplexy', 'cv', 'sacroiliitis', 'overlap', 'umbil', 'tracheostomy', 'adj', 'anaerobic', 'exud', 'fl', 'before', 'antidotes', 'vocal', 'isoimmun', 'prg', 'uti', 'hyperphoria', 'cardiotonics', 'bagassosis', 'hypoglycemia', 'board', 'sprain', 'concept', 'sedatives', 'duboisii', 'metrorrhagia', 'convergence', 'trch', 'ix', 'trypanosoma', 'objective', 'septicemic', 'climact', 'boarding', 'run', 'bleb', 'implantation', 'perfusn', 'uveitis', 'leukemoid', 'viii', 'exstrophy', 'indir', 'abdomin', 'osteomyelitis', 'arthropathy', 'varic', 'arom', 'vessel', 'sbstn', 'bps', 'paragonimiasis', 'atticoantral', 'milestones', 'nonspcf', 'ossicl', 'urnr', 'histidine', 'eustachian', 'prosthtc', 'sensor', 'teething', 'brd', 'three', 'src', 'frm', 'retrovirus', 'phos', 'forearm', 'observe', 'posticum', 'pust', 'hypopotassemia', 'dorsal', 'barbiturates', 'toxoplasmosis', 'knitting', 'retinal', 'ascending', 'road', 'ophthalmia', 'iron', 'retinoschisis', 'mgrn', 'spines', 'separat', 'subjective', 'dark', 'colstmy', 'psg', 'phenomenon', 'emb', 'uncomp', 'hypercarotinemia', 'diseases', 'broad', 'malaise', 'complcation', 'inguinal', 'endometritis', 'juven', 'course', 'straining', 'filamentary', 'shellfish', 'colles', 'gstr', 'orth', 'extravasn', 'sector', 'septum', 'psychomot', 'incr', 'hymen', 'orbital', 'deltoid', 'conjunctival', 'mgkrycyt', 'convn', 'subclavian', 'anaerobes', 'mydriasis', 'cnsl', 'mycs', 'endomyocardial', 'sedation', 'dorsalis', 'patellae', 'neovascular', 'length', 'gaze', 'tendn', 'excretion', 'hypersomnia', 'hemat', 'corros', 'hamartoses', 'effusn', 'cerebri', 'dam', 'rib', 'prphylct', 'spirillary', 'shiga', 'antepartum', 'shoulder', 'trct', 'cel', 'mittelschmerz', 'septc', 'gestation', 'fit', 'glutethimide', 'fecal', 'induce', 'puerperal', 'rehabilitation', 'tor', 'dissection', 'induced', 'loose', 'fluency', 'hallux', 'meningococcemia', 'elective', 'leukemia', 'endodontic', 'thrombophlebitis', 'anoth', 'myelofibrosis', 'nck', 'tubrclma', 'quadricep', 'mth', 'nonautlg', 'suprfcl', 'sprfc', 'interphalangeal', 'athletes', 'close', 'intn', 'stud', 'nonsenile', 'postpar', 'mid', 'taeniasis', 'ulcertve', 'mamm', 'johnson', 'panic', 'sbrheic', 'menopausal', 'frostbite', 'thrombocytopen', 'uterus', 'osteoarthrop', 'scolios', 'exophthalmos', 'mercurial', 'cnstrt', 'instrumnt', 'periapical', 'distal', 'equ', 'brachial', 'oxidase', 'intrst', 'aut', 'ligation', 'lip', 'chromium', 'emollient', 'wegener', 'toxoplasma', 'reflex', 'activity', 'malfor', 'sit', 'snowboard', 'hazrd', 'dystrophy', 'lymphatic', 'screening', 'hemolytic', 'hypogammaglobulinem', 'exotrop', 'ddnts', 'powered', 'bctr', 'fasciolopsiasis', 'drusen', 'salts', 'spinal', 'autm', 'serlgc', 'middle', 'disor', 'influenza', 'adenovirus', 'hypoxia', 'cerebrospinal', 'anticonvulsant', 'epicondylitis', 'candida', 'papilledema', 'event', 'caus', 'depersonalization', 'writers', 'hemochromatosis', 'felty', 'ocl', 'erup', 'abortus', 'anterior', 'divorce', 'distortions', 'supraspinatus', 'fracture', 'hyperalimentation', 'workers', 'primus', 'host', 'extr', 'neuromyelitis', 'adhesns', 'osteomyelit', 'goiter', 'polyglandul', 'implant', 'occlus', 'pku', 'episodic', 'sadism', 'infectv', 'nontraum', 'flatul', 'dysplasia', 'fungi', 'acetabulum', 'mandib', 'prolapse', 'inconclusive', 'leptospiral', 'inflamm', 'myositis', 'delayed', 'intrinsc', 'hypotens', 'cognition', 'alopecia', 'omphalitis', 'cong', 'plan', 'osteochondros', 'disprop', 'obliq', 'seminal', 'wasting', 'dv', 'employee', 'arcuate', 'isoim', 'nasopharyn', 'syncytial', 'parametrium', 'articular', 'inlet', 'short', 'clostrid', 'pemph', 'ectropion', 'gravis', 'rhym', 'abdominal', 'seed', 'encysted', 'hoffmann', 'derail', 'damg', 'meningococcal', 'cycl', 'struc', 'pl', 'susc', 'cycle', 'inadequate', 'geniculate', 'magnesium', 'duodenal', 'drowning', 'moyamoya', 'loosening', 'mult', 'hard', 'alvlar', 'ectasia', 'anemias', 'ac', 'dl', 'compress', 'alkali', 'chondrodystrphy', 'explosion', 'serum', 'acoustic', 'refractive', 'aortocoronary', 'xi', 'crdc', 'wrong', 'incon', 'neuropacemaker', 'epiphyseal', 'date', 'hypoparathyroidism', 'biceps', 'retinoshisis', 'ndlr', 'inc', 'fireworks', 'retention', 'benign', 'vestibulr', 'nuck', 'states', 'persistent', 'gu', 'issue', 'leptospirosis', 'ch', 'cholerae', 'grav', 'autmtc', 'polyneuropathy', 'injury', 'sick', 'menopause', 'down', 'letter', 'introd', 'plac', 'pediculosis', 'relocation', 'aged', 'obscur', 'skin', 'digestve', 'metalworking', 'intest', 'sweating', 'hemangioma', 'reverse', 'corpus', 'vrus', 'cochlea', 'malar', 'gngrene', 'lymphangioleiomyomatosis', 'sterilization', 'sigmoid', 'thrm', 'self', 'abnorm', 'evdnc', 'blepharoconjunct', 'pruritus', 'adhesion', 'complaint', 'monochor', 'infil', 'refract', 'petroleum', 'fingr', 'cyanotic', 'factor', 'diaphragm', 'agenesis', 'labyrn', 'agorphobia', 'use', 'lowlmb', 'mammary', 'bengn', 'thirst', 'chlorine', 'heroin', 'frequency', 'undeter', 'derm', 'extreme', 'molluscum', 'earth', 'remote', 'trigonitis', 'inorg', 'cartil', 'opium', 'systolic', 'sirs', 'transv', 'at', 'echinococcosis', 'dysgenesis', 'mitr', 'senso', 'wtrcrft', 'effects', 'aorta', 'bursa', 'lobe', 'aldosternsm', 'evidence', 'yaws', 'trma', 'antisoc', 'emergncy', 'arthropath', 'pyemic', 'inflm', 'welander', 'sensry', 'dissecans', 'leuk', 'unequal', 'resusctate', 'chutist', 'fibrosis', 'pregnancy', 'metacarpophaln', 'watrcrft', 'postproc', 'unc', 'pseudotumor', 'ulceroglandul', 'rappelling', 'handheld', 'bld', 'vasoplasty', 'unsat', 'arter', 'duct', 'histoplasma', 'sonnei', 'dressing', 'clavicl', 'chyluria', 'metab', 'pept', 'clothing', 'microlith', 'polyarthritis', 'labrm', 'surg', 'sympth', 'nonadmin', 'schiz', 'collis', 'diastol', 'graft', 'spectator', 'training', 'diphtheritic', 'ostium', 'liver', 'vesiculitis', 'allrgy', 'hypertrophy', 'premenstrual', 'dist', 'flexneri', 'vaccn', 'schizophren', 'deriv', 'hypercholesterolem', 'delta', 'dermatit', 'inspiss', 'fail', 'anim', 'cysts', 'transverse', 'hit', 'volcanic', 'trichomoniasis', 'grd', 'hypotropia', 'congen', 'kidneys', 'mononeur', 'repro', 'orgn', 'slipping', 'musculoskletl', 'renovasc', 'symptoms', 'ophthalmopleg', 'cndct', 'heterophyiasis', 'necro', 'cage', 'nile', 'excitation', 'ethyl', 'thumb', 'obstacle', 'aneurym', 'malab', 'ig', 'rhomboid', 'crocheting', 'anter', 'subluxation', 'radioac', 'dysuria', 'genet', 'negative', 'west', 'pilar', 'villonod', 'amput', 'narcissistic', 'healing', 'contagious', 'pediculus', 'subch', 'pillars', 'lumbar', 'debility', 'pressure', 'npl', 'teeth', 'apraxia', 'cephalic', 'patella', 'applianc', 'cntct', 'medu', 'interrupt', 'prog', 'excitativ', 'glenoid', 'eat', 'ut', 'dub', 'relax', 'vitelliform', 'polypoid', 'postop', 'sled', 'tamponade', 'unpower', 'radial', 'epigastric', 'atres', 'alternating', 'langerhans', 'osteoart', 'fatigue', 'cat', 'scratch', 'oxide', 'house', 'pituit', 'peptic', 'osse', 'otogenic', 'of', 'intrathoracic', 'plantar', 'retinoph', 'vernal', 'veh', 'grn', 'capitate', 'aggress', 'pneumo', 'typhoid', 'sbdrm', 'actnc', 'conditions', 'cmplc', 'perineum', 'pubis', 'bartter', 'peritonitis', 'sacrum', 'hyperplasia', 'inferolateral', 'spot', 'fistul', 'parts', 'elev', 'el', 'basl', 'fundus', 'transpos', 'arthr', 'triplet', 'cystic', 'russia', 'fugue', 'deter', 'myelophthisis', 'special', 'midtarsal', 'omphalocele', 'hyprplas', 'drg', 'tonsil', 'highly', 'bipol', 'organic', 'exfl', 'hmplg', 'distrs', 'cholelith', 'micro', 'mucocutan', 'blepharoconjunctivit', 'us', 'constipation', 'asslt', 'posture', 'interphalang', 'injry', 'intrahepat', 'cardiomy', 'traffic', 'yaba', 'kaschin', 'cerebellar', 'antep', 'hmiplg', 'myelopat', 'missed', 'bifida', 'cult', 'mater', 'treatd', 'rapidly', 'circuit', 'p', 'htlv', 'stokes', 'keratoconjunctiv', 'strabismic', 'vitreoretinal', 'less', 'depressive', 'cooking', 'sickle', 'rup', 'sympath', 'web', 'intracerebral', 'pineal', 'who', 'postmenopausal', 'response', 'urth', 'hepat', 'exer', 'poliomyelitis', 'dev', 'country', 'deliv', 'pulmon', 'neglect', 'oculoglandular', 'intermittnt', 'lev', 'exter', 'hip', 'upr', 'reattached', 'vertebr', 'tail', 'metagonimiasis', 'around', 'smear', 'bacteroides', 'fng', 'tie', 'personal', 'nox', 'tib', 'burn', 'erythematos', 'thrombocytpenia', 'coccidioid', 'tanapox', 'cuneiform', 'trachoma', 'gi', 'effluvium', 'pt', 'hypoactive', 'bldg', 'pancytopna', 'neuro', 'analgesc', 'lwr', 'position', 'ethmoidal', 'complx', 'coracohumeral', 'toxoid', 'observ', 'vesiculit', 'antineo', 'dye', 'insufficnt', 'leishmanias', 'prs', 'pediatric', 'myopathy', 'hf', 'prfound', 'necrolysis', 'erythma', 'retrovert', 'amniotic', 'sprue', 'nos', 'gout', 'actv', 'exam', 'lipidosis', 'residential', 'solid', 'pasngr', 'calcaneofibular', 'progess', 'osseo', 'radiocarpal', 'stature', 'egg', 'ingrowing', 'sterile', 'derivat', 'epil', 'membrane', 'racquet', 'paraphrenia', 'radiogrphc', 'polishes', 'periodont', 'necrotizing', 'tot', 'analgsc', 'folate', 'counsl', 'hazard', 'balanoposthitis', 'analgesics', 'intrathor', 'rmsion', 'vacuum', 'nodosum', 'choroid', 'uterine', 'card', 'complicated', 'hyperfunction', 'candidias', 'mgrne', 'proliferat', 'diamni', 'rout', 'syphil', 'skate', 'pick', 'aortitis', 'iatrogenic', 'constant', 'compnds', 'typing', 'arrested', 'varicos', 'colstomy', 'coagulatn', 'groom', 'seven', 'inclusion', 'cornea', 'condctv', 'postinjection', 'emoll', 'palm', 'antipyr', 's', 'polyarteritis', 'postabort', 'galactocele', 'hyperkinetic', 'giardiasis', 'subcorneal', 'an', 'iatrogen', 'weights', 'illness', 'hallucinog', 'hymenal', 'schnk', 'hymenolepiasis', 'ascvd', 'dilut', 'abv', 'beryllium', 'opioid', 'part', 'prnt', 'cowpox', 'forcep', 'lumbosac', 'nonpetrol', 'dipetalonemiasis', 'drmatitis', 'fissural', 'oropharyn', 'wake', 'breathing', 'memory', 'aortc', 'access', 'mye', 'lng', 'pylorus', 'jaw', 'fragmnt', 'recurrnt', 'psychostimulants', 'congest', 'plv', 'deficiency', 'diplegia', 'dsord', 'arthropod', 'aspirin', 'cryptogenic', 'aerobacter', 'deafness', 'able', 'natrl', 'mat', 'fibrous', 'interac', 'herpesvirus', 'paraldehyde', 'movemt', 'size', 'cerebrovascular', 'moving', 'malayan', 'eosinophilic', 'family', 'protrusio', 'wmd', 'epi', 'prost', 'crash', 'glnd', 'hemiplga', 'ag', 'bereavement', 'vscl', 'yatapoxvirus', 'malfrm', 'man', 'reptv', 'ureteral', 'excitement', 'panhypopituitarism', 'shock', 'topic', 'tongue', 'circumscribe', 'erythmtsquamous', 'fmr', 'trial', 'communicate', 'ulnohumeral', 'trichinosis', 'chlorl', 'child', 'submersion', 'placentl', 'disloca', 'saddle', 'prostatocystitis', 'counseling', 'gentc', 'axis', 'sb', 'advc', 'sec', 'lipidoses', 'dvrtclo', 'rstn', 'lowr', 'queensland', 'due', 'paralytic', 'inter', 'tropical', 'polymyositis', 'hearng', 'pes', 'calcium', 'nevus', 'stomatitis', 'mucosits', 'postcoital', 'biologicals', 'ischemia', 'difus', 'unaggr', 'flr', 'bdy', 'phenothiaz', 'remis', 'eosinophilc', 'polyneuropath', 'inoc', 'treat', 'pol', 'sedtv', 'crit', 'suspc', 'cil', 'inv', 'thorax', 'acquired', 'mismatch', 'flexor', 'anthrax', 'toxic', 'rotation', 'mapl', 'routin', 'driver', 'endocrine', 'street', 'arboviral', 'microcalcif', 'bipolar', 'caffeine', 'depress', 'pollen', 'capsular', 'effec', 'hyperacusis', 'proteinuria', 'militry', 'inactive', 'cervicalgia', 'heart', 'eclampsia', 'hepatorenal', 'telangiectasia', 'hypertrph', 'vitreoretina', 'extraocul', 'exophoria', 'enterost', 'splitting', 'ii', 'nephrit', 'latent', 'inflam', 'duod', 'confinement', 'obs', 'gest', 'foundling', 'diab', 'passiv', 'nonvenereal', 'appy', 'layer', 'malpresen', 'bnign', 'procedure', 'i', 'polyarthrop', 'weapons', 'libido', 'electric', 'cytolgy', 'ascend', 'adhes', 'fish', 'disrdr', 'shower', 'staphylococc', 'pubocerv', 'gastroenterit', 'clinic', 'sect', 'supervis', 'brucella', 'crystal', 'occupationl', 'recep', 'dentofacial', 'tuberosity', 'kd', 'arch', 'monoarthritis', 'haz', 'cold', 'perforated', 'synostosis', 'islet', 'retain', 'dent', 'photokeratitis', 'crft', 'wait', 'immuno', 'externum', 'defined', 'tympnsclr', 'recession', 'cmpnd', 'eyeball', 'pisiform', 'posttransfusion', 'sol', 'bslr', 'gnathostomiasis', 'herpesvirs', 'misdirection', 'hydrocephalus', 'lgsil', 'iodine', 'dystr', 'disfigurements', 'iniencephaly', 'splenic', 'embolsm', 'tndr', 'coccidioidomycosis', 'expose', 'hypertensive', 'nose', 'encephalopathy', 'contct', 'fetopel', 'conjunct', 'imnprlf', 'vertbrobaslr', 'postinfectious', 'pupil', 'fumigants', 'or', 'mono', 'place', 'cyclotropia', 'madelung', 'malocclusion', 'ganglionitis', 'amyotrophic', 'crushing', 'pnumn', 'volunteer', 'sound', 'sequelae', 'fight', 'alzheimer', 'myelofi', 'testes', 'lipoprotein', 'domestc', 'hirsutism', 'balanitis', 'friedreich', 'subarach', 'intraven', 'antrum', 'impaction', 'erythrm', 'scrn', 'subtrochanteric', 'ext', 'necr', 'endometriosis', 'vesicant', 'machine', 'osteochondropathy', 'dermat', 'passenger', 'liv', 'tympan', 'hypofunc', 'pseudocowpox', 'petit', 'contrctr', 'vestibule', 'disturbances', 'related', 'weapn', 'primigrav', 'liquid', 'melanoma', 'allergy', 'exophthalm', 'epididymit', 'glossopharyng', 'hypotnsion', 'postherpes', 'insensitvty', 'anophthalmos', 'transitory', 'varicosity', 'scleros', 'cva', 'contaminated', 'vocational', 'antimalarials', 'postperfusion', 'triquetral', 'by', 'nuclear', 'vulval', 'dieulafoy', 'malfunc', 'thracabd', 'claudct', 'modified', 'postlaminect', 'meconium', 'stimulant', 'vertebrae', 'norm', 'watercrft', 'ot', 'dislocat', 'hunting', 'junction', 'estrangmemt', 'nonrenal', 'reac', 'malaria', 'fibroadenosis', 'calcificat', 'dysenteriae', 'ideation', 'weeks', 'postgastric', 'syphilis', 'syringomyelia', 'tetany', 'inhibited', 'straig', 'snake', 'electrocution', 'expectorants', 'surveil', 'cholelh', 'pathol', 'transf', 'problem', 'circum', 'intercostal', 'scorpion', 'agnt', 'subcu', 'anom', 'bne', 'wtrcraft', 'avoidant', 'coxsackie', 'cort', 'intrcsp', 'uncntrld', 'material', 'epidem', 'adenoid', 'explantatn', 'keratoderma', 'exm', 'mycetomas', 'helminthiasis', 'heel', 'conjugat', 'medulloadrenal', 'fires', 'cmplcatn', 'two', 'polyp', 'opacities', 'postmastoid', 'postsurgery', 'efct', 'amyotrophy', 'duane', 'smooth', 'hodg', 'pubertal', 'indwell', 'artif', 'mature', 'defecation', 'antidepressnt', 'cholera', 'bronc', 'trench', 'pigmentary', 'uncompl', 'opisthorchiasis', 'loiasis', 'antenatal', 'round', 'intussusception', 'lawn', 'digeorge', 'essntial', 'patient', 'carcnoid', 'osseous', 'lipotropic', 'alc', 'wbc', 'military', 'sting', 'lymphocytopenia', 'pap', 'paratyph', 'lap', 'psychosocial', 'embolism', 'nonsup', 'gang', 'control', 'irritant', 'fum', 'pinta', 'louping', 'resist', 'reduct', 'endemic', 'prostatic', 'skew', 'occiptpost', 'histolog', 'epicranial', 'macroglobulinemia', 'soemmering', 'hemosiderosis', 'chron', 'belly', 'sedat', 'blasting', 'administrtve', 'ossicles', 'thoracic', 'ges', 'beta', 'inflammation', 'asprglosis', 'rheumat', 'otalgia', 'iritis', 'tarsal', 'areata', 'dif', 'arthritis', 'pulmonary', 'orign', 'pass', 'attem', 'herpangina', 'restore', 'superfic', 'monoxide', 'isol', 'patellar', 'suis', 'myasthenia', 'mononeuritis', 'rt', 'decrease', 'tranquilzr', 'shortening', 'plana', 'hemorrhoids', 'reactn', 'erythematosus', 'pulsating', 'expres', 'cystostomy', 'shaken', 'educational', 'ar', 'tibiofibul', 'bite', 'pyogenic', 'arthroscopc', 'propionic', 'opacity', 'hypotensn', 'hemolysis', 'glasses', 'tunnel', 'keratosis', 'more', 'benzodiaz', 'vasectomy', 'erythem', 'absc', 'nonspecif', 'tension', 'dial', 'neurosyph', 'vincent', 'flushing', 'sptc', 'chr', 'medull', 'antidepressants', 'kn', 'athrscl', 'parinfluenza', 'scope', 'urban', 'anti', 'acrocephalosyndactyly', 'restoration', 'during', 'aud', 'phlebitis', 'subacute', 'entering', 'eyes', 'pure', 'defibrination', 'gastrin', 'mem', 'externa', 'dystrphy', 'individ', 'bk', 'sbc', 'placen', 'prenatal', 'lat', 'uncontr', 'intraut', 'uncomplicated', 'menstruation', 'pinna', 'repeat', 'compression', 'gastrojejun', 'acne', 'entrtoxgn', 'opt', 'nystagms', 'exercise', 'americanus', 'neutrophils', 'iga', 'pouch', 'from', 'chlmyd', 'disc', 'sphnctr', 'precocity', 'trach', 'endocardit', 'posterior', 'internucl', 'spont', 'rotatr', 'alone', 'positive', 'retrn', 'giddiness', 'appl', 'foc', 'crcnd', 'sunstroke', 'trnsplnt', 'occupatnal', 'tibial', 'canis', 'myelopathies', 'rubella', 'bicipital', 'prophylac', 'oc', 'delus', 'disorder', 'paraurethral', 'allerg', 'noncompliance', 'urgency', 'rhinorrhea', 'limbs', 'constption', 'psychotrop', 'cervcl', 'eruptions', 'sequestration', 'ante', 'utervaginal', 'postsurgical', 'dm', 'venomous', 'malign', 'complc', 'syn', 'latex', 'pestic', 'ectp', 'distress', 'sports', 'nephritis', 'umbilical', 'klippel', 'glycogenosis', 'neonatal', 'anomalies', 'plnd', 'marker', 'thyrocalciton', 'broken', 'myotonia', 'relapse', 'hnd', 'lymphosarcoma', 'systm', 'headache', 'ophth', 'cicatricial', 'sternoclavicular', 'large', 'distl', 'antirheumatic', 'hormone', 'pul', 'thrombophleb', 'cleft', 'jetlag', 'iridis', 'procd', 'anem', 'supplement', 'fissure', 'melanom', 'bord', 'musculskel', 'sphenoidal', 'intern', 'schilder', 'wood', 'postphlebtc', 'cholesterolosis', 'skier', 'babesiosis', 'premenopause', 'taenia', 'uncomplicat', 'shldr', 'laryngopharyngitis', 'presenile', 'criminal', 'tranquilizer', 'disord', 'lumb', 'granular', 'gangrenosum', 'circumcision', 'mellitus', 'trnsfrm', 'salivary', 'lambert', 'aircraf', 'amebic', 'japonicum', 'up', 'sars', 'cryptococcal', 'par', 'condyl', 'shigella', 'amebae', 'org', 'degneration', 'quadriplegia', 'malnutrition', 'rumination', 'hepatitis', 'papillomata', 'malabsorption', 'tobagn', 'melitensis', 'macrotia', 'insect', 'hb', 'weaning', 'europe', 'find', 'hypomagnes', 'labia', 'prev', 'postmeno', 'intraepth', 'intrathorac', 'personl', 'anthelmintics', 'hemothorax', 'ethiop', 'neuroendo', 'machin', 'allescheriosis', 'right', 'xerotica', 'trunk', 'periodontal', 'varnt', 'jct', 'op', 'viral', 'dermatoglyphic', 'anomal', 'post', 'seborrhea', 'psy', 'complicat', 'pr', 'coma', 'severe', 'subperi', 'cutan', 'postinflam', 'diff', 'made', 'playing', 'nocturnal', 'antidiarrh', 'slv', 'sqam', 'staphyloma', 'enema', 'cervicocranial', 'cav', 'proced', 'adrenal', 'catheteriz', 'aesthetics', 'impulse', 'std', 'benzodiazepine', 'hypopyon', 'lacr', 'branch', 'lichenification', 'traumtc', 'ossification', 'forehead', 'pseudoexfol', 'chloramphenicol', 'mplnt', 'hemianopsia', 'hypersplenism', 'chin', 'multifoc', 'contus', 'metatarsals', 'penetration', 'anoxic', 'chromoso', 'complex', 'hgsil', 'pow', 'vacc', 'amniocent', 'glaucomatous', 'volkmann', 'omsk', 'storm', 'ntr', 'aort', 'mediastinitis', 'aglossia', 'hemor', 'tubotympan', 'convales', 'pellagra', 'atrophy', 'dengue', 'catar', 'convulsns', 'school', 'precipitate', 'chamb', 'glossophar', 'bilious', 'multigravd', 'dmg', 'hang', 'battering', 'light', 'cava', 'cyclic', 'reflux', 'claud', 'parahaem', 'macrolides', 'labr', 'bowing', 'paravaccinia', 'attempted', 'suprcondyl', 'aniseikonia', 'sickness', 'trachomatis', 'astragalus', 'initial', 'diord', 'salpingo', 'drug', 'hprsm', 'heterosexual', 'beard', 'confusion', 'inertia', 'bleed', 'age', 'rigidus', 'anorexia', 'dlta', 'blepharophimosis', 'deprivatn', 'rhinitis', 'nipple', 'malformatn', 'gambling', 'occl', 'aneurysmal', 'synth', 'injection', 'pseudopolyposis', 'push', 'silica', 'sunburn', 'scar', 'vasculitis', 'phalanges', 'empl', 'ramus', 'insuffic', 'alpha', 'premature', 'implnt', 'peroneal', 'coron', 'dietary', 'spur', 'prematr', 'corns', 'pln', 'aphasia', 'multiforme', 'cal', 'arthropods', 'in', 'traumatic', 'urinar', 'vscurt', 'biliary', 'industr', 'pyelonephrit', 'reconst', 'sev', 'eryth', 'perforans', 'groin', 'tia', 'steatorrhea', 'hyprhidros', 'thrd', 'shortness', 'survey', 'primigravida', 'ldh', 'volume', 'thrombosis', 'nonpyogen', 'shlder', 'biolog', 'amyloidosis', 'generalizd', 'dyssnrgia', 'macrocheilia', 'scooter', 'ova', 'dur', 'complication', 'rhinovirus', 'string', 'consult', 'dysfunct', 'pingueculitis', 'pancreatitis', 'asc', 'catatonia', 'calcif', 'hypoglossal', 'asy', 'vac', 'osteogenesis', 'multiparity', 'benzene', 'medical', 'neurofibromatosis', 'tags', 'unilat', 'senility', 'path', 'util', 'spin', 'yoga', 'utero', 'bal', 'esophoria', 'bronchopneumonia', 'miotic', 'hemopericardium', 'bartholin', 'adoles', 'monoplegia', 'instability', 'singl', 'hypothyroidsm', 'skelet', 'products', 'mastitis', 'nuc', 'underimmunizn', 'mastoid', 'palat', 'emol', 'imno', 'trichilemmal', 'lst', 'volleyball', 'sounds', 'epith', 'cruciat', 'memb', 'postabortion', 'prosthesis', 'piedra', 'mental', 'b', 'crew', 'trypanosomiasis', 'cardiospasm', 'shunt', 'heteronymous', 'causalgia', 'sword', 'exocervix', 'apical', 'rectosigmoid', 'cnd', 'derangmnt', 'simpl', 'urge', 'duoden', 'amnestic', 'remove', 'glossitis', 'impr', 'gastroenteritis', 'tritan', 'microcephalus', 'sm', 'exhaust', 'tympanoscl', 'immun', 'autistic', 'hand', 'axillary', 'loss', 'amniocentesis', 'cont', 'nonhemo', 'hypnic', 'indus', 'portal', 'leukocytopenia', 'engorgement', 'hyperparathyroidism', 'amblyopia', 'infec', 'cholecyst', 'attn', 'pop', 'triplets', 'behavr', 'metatarsal', 'diverticulum', 'spleen', 'subarachnoid', 'tbcco', 'angina', 'dacryolith', 'tk', 'peanut', 'encephalitis', 'inhibition', 'ureteric', 'single', 'anatmc', 'cond', 'hearing', 'viscera', 'ureth', 'nonrheum', 'mosquito', 'flutter', 'sampling', 'uri', 'nezelof', 'choledochlith', 'venereal', 'irrit', 'lg', 'situs', 'abducens', 'bedclothes', 'adjustment', 'wrst', 'manif', 'blind', 'hydantoin', 'rock', 'stricture', 'tiss', 'skis', 'pericarditis', 'caregiving', 'vesl', 'impacted', 'rbc', 'life', 'nutrition', 'salpingitis', 'choleperitonitis', 'parkinsonism', 'contraception', 'wll', 'vaccination', 'vena', 'nonfatal', 'arousal', 'dysmenorrhea', 'pyriform', 'dive', 'lingual', 'osteopathy', 'diaper', 'glauc', 'eggs', 'carbamates', 'psorospermiasis', 'bsl', 'inters', 'arts', 'insip', 'ascites', 'metacarpal', 'histoplasm', 'tors', 'sclera', 'cloudy', 'crtd', 'torpedo', 'arterial', 'antipruritics', 'public', 'esotropia', 'spon', 'transient', 'lewy', 'foreign', 'hypersom', 'aft', 'birthwt', 'fibromatoses', 'concentrate', 'vasa', 'bisphosphonates', 'analgesic', 'proteus', 'clitoris', 'insufficiency', 'gastrointest', 'munition', 'boydii', 'siwe', 'irregular', 'pros', 'duodenale', 'respiratory', 'foster', 'awareness', 'dissect', 'incompetence', 'gb', 'barbiturat', 'intrinsic', 'stph', 'defects', 'oddi', 'passengr', 'cramp', 'dermatophyt', 'underachievment', 'cephalosporin', 'obstr', 'sp', 'continua', 'astring', 'topical', 'opn', 'cran', 'asphyxia', 'suture', 'scotoma', 'bacteria', 'detachmnt', 'disabilty', 'alit', 'isoimm', 'spondylitis', 'glossodynia', 'mate', 'thyroiditis', 'hemplga', 'vssl', 'hemorrhagic', 'radiation', 'victm', 'syst', 'mansonella', 'scap', 'spasmodic', 'novel', 'tremor', 'sezary', 'rid', 'hypospadias', 'dmac', 'macrodactylia', 'gymnastics', 'thalassemia', 'strongyloidiasis', 'dyst', 'c', 'paraganglia', 'pneumonic', 'arizona', 'cystourethral', 'myelopathy', 'saphenous', 'cranial', 'strict', 'playgrnd', 'subinvolutn', 'rnd', 'nerves', 'hypersen', 'caused', 'bladder', 'purulent', 'keyboarding', 'antihyperten', 'feil', 'urethr', 'interfrnce', 'clostridium', 'springboard', 'cocidioidomycosis', 'lcl', 'oropharyngeal', 'intrcap', 'shel', 'milk', 'un', 'nephrolithias', 'anxiolytc', 'bse', 'nds', 'tinnitus', 'absnc', 'enterobiasis', 'euthyroid', 'protozoal', 'vsl', 'hypoxemia', 'immunosup', 'thromboangiit', 'hematemesis', 'autoimmun', 'jejunum', 'hyperlipidemia', 'sep', 'electroencephalogram', 'dsrpt', 'both', 'altitud', 'conjunctivit', 'atypical', 'antacid', 'lymphocytic', 'replacmnt', 'compart', 'carpometacarpal', 'flaccid', 'enterocele', 'aerial', 'progr', 'delays', 'scndhnd', 'incl', 'brach', 'near', 'nephrogen', 'phalan', 'shearing', 'cataract', 'displacmnt', 'mycosis', 'hyperpigmentation', 'mastoiditis', 'aniridia', 'origin', 'prosthes', 'hallucinogens', 'intestinal', 'trichomon', 'jaundice', 'gastrtis', 'hypernasality', 'dislocate', 'placental', 'mopping', 'study', 'neuroma', 'grease', 'norwalk', 'pauciart', 'stereotypic', 'interstit', 'disrp', 'postcatheter', 'antipsychotic', 'unarmed', 'unemployment', 'inguin', 'horizontl', 'transplnt', 'dislocation', 'concretions', 'gallstone', 'tibiofibula', 'fragile', 'nephrosonephritis', 'dvc', 'athetoid', 'motn', 'hypocalcemia', 'limited', 'fungoides', 'kaposi', 'cerebrum', 'clavic', 'tran', 'hiatus', 'brdrlne', 'genitalia', 'motion', 'clincal', 'ulna', 'ren', 'ehrlichiosis', 'cracked', 'pneumohemothor', 'mycotox', 'thrombot', 'cervic', 'cephl', 'anticonvul', 'distortion', 'male', 'bursal', 'purp', 'stren', 'chromosomal', 'bordetella', 'depth', 'pg', 'remov', 'plastic', 'entrhmrg', 'commode', 'brown', 'void', 'huntington', 'erythromycin', 'nocturia', 'folwg', 'contr', 'anodontia', 'prescrip', 'hypoglycemic', 'occipital', 'esoph', 'pannus', 'dysfunctions', 'dysp', 'convalescen', 'penis', 'wrng', 'chlamydial', 'thor', 'ancylostoma', 'phal', 'plast', 'pyeloneph', 'hyperemia', 'mesen', 'bulbar', 'retinitis', 'curb', 'procr', 'pathologic', 'carotid', 'aff', 'poor', 'orofacial', 'pyem', 'oxazolidine', 'infusn', 'blizzard', 'expsure', 'shift', 'hear', 'rate', 'sporotrichosis', 'e', 'atelectasis', 'heat', 'vater', 'osteochondrit', 'cerumen', 'impulsiveness', 'exertion', 'diastolc', 'hindgut', 'parapsoriasis', 'capsulit', 'circumst', 'srcma', 'isolat', 'failure', 'thyrotox', 'gram', 'ischemic', 'tetralogy', 'n', 'pupillary', 'axilla', 'neoplasms', 'gastroparesis', 'secretion', 'tool', 'mechanical', 'barrett', 'shouldr', 'ftl', 'malig', 'compliance', 'alveolar', 'epilepsy', 'ghost', 'defic', 'strain', 'connec', 'rheumatic', 'fevers', 'bag', 'uranium', 'disrup', 'embryon', 'trematode', 'ulcerative', 'bike', 'combat', 'prblms', 'caustic', 'bovine', 'retract', 'preauricular', 'introverted', 'instantaneous', 'cns', 'extradural', 'disproportion', 'antidepres', 'osteoarthrosis', 'organs', 'rectal', 'tibia', 'press', 'purine', 'lumbago', 'adhesions', 'pn', 'refusal', 'conjunctivochalasis', 'betting', 'dstrb', 'vis', 'tonic', 'cellulitis', 'hypersensit', 'mycoses', 'inoculat', 'decreased', 'antidiab', 'scalp', 'microphthalmos', 'transposition', 'epispadias', 'glass', 'bl', 'scrot', 'abscess', 'leucoma', 'valgum', 'open', 'handcrafts', 'aspirat', 'cm', 'joint', 'sts', 'analysis', 'histiocytosis', 'acetonuria', 'phys', 'unknwn', 'hyperact', 'arachnd', 'hx', 'schmorls', 'myopia', 'hematom', 'tick', 'examination', 'exotropia', 'mgkrcyt', 'osteoarthros', 'anes', 'lactat', 'esotrop', 'limb', 'fallot', 'drawn', 'anm', 'prsc', 'dermatophytosis', 'incmplet', 'spontaneous', 'campylobacter', 'combinations', 'cortex', 'homicidal', 'monofixation', 'aortic', 'urachus', 'occlu', 'chronic', 'solar', 'spider', 'anisometropia', 'sensoneur', 'esophagus', 'nephrosis', 'thrombophlebit', 'trait', 'skating', 'exercises', 'met', 'past', 'tics', 'influenae', 'mineralcorticoid', 'toler', 'bromine', 'habits', 'amin', 'domnt', 'infection', 'sed', 'development', 'roller', 'cleanser', 'envir', 'vn', 'superior', 'test', 'ntrc', 'rltd', 'conjunc', 'surveill', 'stable', 'ilium', 'nephroptosis', 'ani', 'club', 'chldhd', 'estrogen', 'thyrtox', 'bullet', 'dsdr', 'mixed', 'dispropor', 'genit', 'nail', 'calcaneovalgus', 'expert', 'hypoinsulinemia', 'diplopia', 'narcotic', 'actinic', 'sk', 'throm', 'entrpath', 'sensitization', 'taste', 'specfied', 'monkey', 'multip', 'bed', 'trnsmt', 'avulsion', 'mine', 'sphinc', 'polyuria', 'aftcre', 'cushing', 'pectus', 'ileus', 'aplastic', 'cognitive', 'conditn', 'bulimia', 'tricusp', 'monkeypox', 'managemt', 'alphafetoprotein', 'gastrojejunal', 'capslr', 'mcr', 'vehicle', 'contraceptive', 'hematuria', 'tp', 'rosea', 'pars', 'monocytosis', 'cachexia', 'sudden', 'hyprplsia', 'subcondyl', 'hemoglobinopath', 'tarsometatarsal', 'marfan', 'carbohydr', 'synechiae', 'mv', 'kleptomania', 'gingivostomat', 'coarctation', 'antifung', 'creutzfldt', 'x', 'werdnig', 'heav', 'lk', 'geographic', 'iris', 'airway', 'anovulation', 'dendritic', 'skn', 'undet', 'periodontosis', 'rsult', 'unspcfied', 'wart', 'hysteria', 'surgery', 'emotion', 'humoral', 'scars', 'quads', 'central', 'postcardiac', 'jump', 'schizo', 'idiopath', 'odontoclasia', 'pseudopterygium', 'forest', 'anaphylaxis', 'whitlow', 'antifungal', 'pituitary', 'appar', 'gendr', 'polycythemia', 'lacer', 'peristalsis', 'homonymous', 'pump', 'gastroptosis', 'remission', 'append', 'ossificans', 'remision', 'leiomyoma', 'seg', 'mucous', 'hr', 'hypn', 'obstruc', 'herpes', 'genetc', 'midfoot', 'abor', 'alkalizing', 'neurogenic', 'neur', 'infc', 'pro', 'vent', 'ejaculation', 'entrnvsv', 'necrobacillosis', 'polo', 'indu', 'cntrcptv', 'connect', 'ainhum', 'sqm', 'ray', 'retinopathy', 'biol', 'grnlma', 'venezuelan', 'bilry', 'halothane', 'interstitial', 'cytlogy', 'ds', 'cognf', 'replac', 'jaws', 'ing']\n"
   ]
  },
  {
   "cell_type": "code",
   "execution_count": 72,
   "metadata": {},
   "outputs": [],
   "source": [
    "stop_list=alphabet_low+stopwords"
   ]
  },
  {
   "cell_type": "code",
   "execution_count": 73,
   "metadata": {},
   "outputs": [],
   "source": [
    "### define python -> spark sql function to remove stop words and find description words\n",
    "def stopword_remove(word_list):\n",
    "    cleaned=[w for w in word_list if not w in stop_list if len(w)>2]\n",
    "    code_descriptions=[w for w in cleaned if  w in idc9_word_list ]\n",
    "    return code_descriptions\n",
    "spark_stop_remove = psf.udf(lambda text: stopword_remove(text), ArrayType(StringType()))   \n"
   ]
  },
  {
   "cell_type": "markdown",
   "metadata": {},
   "source": [
    "## clean to just word "
   ]
  },
  {
   "cell_type": "code",
   "execution_count": 74,
   "metadata": {},
   "outputs": [],
   "source": [
    "note_admit_clean=note_admit_label.select('*',spark_cleaner(psf.col(\"TEXT\")).alias(\"TEXT_clean\")).cache()\n",
    "#.limit(1).take(1)[0]['<lambda>(TEXT)']"
   ]
  },
  {
   "cell_type": "code",
   "execution_count": 75,
   "metadata": {},
   "outputs": [],
   "source": [
    "tokenizer = Tokenizer(inputCol=\"TEXT_clean\", outputCol=\"tokens\")\n",
    "note_admit_token = tokenizer.transform(note_admit_clean).cache()"
   ]
  },
  {
   "cell_type": "code",
   "execution_count": 76,
   "metadata": {},
   "outputs": [
    {
     "name": "stdout",
     "output_type": "stream",
     "text": [
      "51113"
     ]
    }
   ],
   "source": [
    "# run to cache\n",
    "note_admit_token.count()"
   ]
  },
  {
   "cell_type": "code",
   "execution_count": 77,
   "metadata": {},
   "outputs": [],
   "source": [
    "# remove stops \n",
    "note_admit_stop = note_admit_token.select('*',spark_stop_remove(psf.col(\"tokens\")).alias(\"tokens_clean\")).cache()"
   ]
  },
  {
   "cell_type": "code",
   "execution_count": 78,
   "metadata": {},
   "outputs": [
    {
     "name": "stdout",
     "output_type": "stream",
     "text": [
      "[Row(tokens_clean=['date', 'discharge', 'date', 'date', 'birth', 'sex', 'medicine', 'patient', 'drugs', 'complaint', 'nausea', 'major', 'surgical', 'procedure', 'central', 'history', 'present', 'illness', 'old', 'ischemic', 'severe', 'type', 'nausea', 'hypotension', 'heart', 'failure', 'clinic', 'kidneys', 'severe', 'renal', 'artery', 'orthopnea', 'vomiting', 'diarrhea', 'recent', 'use', 'decreased', 'initial', 'insulin', 'blood', 'urine', 'central', 'past', 'medical', 'history', 'ischemic', 'severe', 'type', 'blindness', 'complete', 'occlusion', 'cri', 'renal', 'social', 'history', 'alone', 'smoking', 'alcohol', 'use', 'family', 'history', 'non', 'physical', 'exam', 'grade', 'sem', 'diastolic', 'around', 'iliac', 'fossa', 'evidence', 'abscess', 'right', 'lung', 'base', 'pneumonia', 'atelectasis', 'clinical', 'bilateral', 'pleural', 'right', 'left', 'stomach', 'gastroparesis', 'vascular', 'transplant', 'kidney', 'right', 'lower', 'brief', 'course', 'old', 'type', 'history', 'vessel', 'coronary', 'disease', 'cath', 'ischemic', 'cardiomyopathy', 'echo', 'aortic', 'stenosis', 'renal', 'transplant', 'hypotension', 'nausea', 'pta', 'heart', 'failure', 'clinic', 'insulin', 'central', 'blood', 'pressure', 'support', 'per', 'swan', 'catheter', 'hypotension', 'initial', 'swan', 'elevated', 'pap', 'cardiogenic', 'shock', 'ventricular', 'overload', 'echo', 'changes', 'degree', 'stenosis', 'diuretic', 'therapy', 'chf', 'chest', 'pulmonary', 'edema', 'renal', 'elevated', 'status', 'post', 'renal', 'transplant', 'elevated', 'back', 'normal', 'discharge', 'therapy', 'per', 'adequate', 'renal', 'patient', 'stable', 'blood', 'pressure', 'breathing', 'air', 'swan', 'catheter', 'pap', 'floor', 'blood', 'pressure', 'stable', 'blood', 'amp', 'insulin', 'sliding', 'regular', 'hematocrit', 'per', 'renal', 'secondary', 'renal', 'disease', 'patient', 'one', 'blood', 'discharge', 'blood', 'old', 'type', 'diabetic', 'male', 'vessel', 'ischemic', 'cardiomyopathy', 'aortic', 'stenosis', 'hypotension', 'blood', 'pressure', 'hypotension', 'respiratory', 'distress', 'cardiogenic', 'shock', 'support', 'chf', 'blood', 'pressure', 'breathing', 'air', 'sign', 'volume', 'overload', 'physical', 'exam', 'infectious', 'cardiovascular', 'three', 'vessel', 'disease', 'aspirin', 'beta', 'pump', 'aortic', 'stenosis', 'chf', 'class', 'status', 'post', 'cardiogenic', 'shock', 'secondary', 'blood', 'pressure', 'avoid', 'renal', 'disease', 'pressure', 'follow', 'heart', 'failure', 'rhythm', 'low', 'per', 'patient', 'risk', 'aspirin', 'need', 'physical', 'therapy', 'renal', 'disease', 'transplant', 'follow', 'patient', 'primary', 'renal', 'anemia', 'status', 'post', 'transfusion', 'discharge', 'monitor', 'transfusion', 'transfusion', 'prevent', 'volume', 'overload', 'diabetes', 'type', 'renal', 'insufficiency', 'renal', 'transplant', 'need', 'sliding', 'diabetic', 'cardiac', 'healthy', 'fluid', 'hep', 'full', 'physical', 'therapy', 'rehabilitation', 'patient', 'insulin', 'discharge', 'aspirin', 'delayed', 'sig', 'one', 'delayed', 'daily', 'daily', 'sig', 'one', 'daily', 'daily', 'sig', 'one', 'daily', 'daily', 'modified', 'sig', 'sig', 'sig', 'one', 'sig', 'one', 'daily', 'daily', 'sig', 'one', 'sig', 'one', 'rectal', 'modified', 'capsule', 'sig', 'one', 'capsule', 'sig', 'one', 'injection', 'injection', 'sig', 'one', 'appl', 'topical', 'rash', 'sig', 'four', 'insomnia', 'delayed', 'sig', 'one', 'delayed', 'heparin', 'sig', 'one', 'injection', 'injection', 'insulin', 'human', 'insulin', 'insulin', 'use', 'sliding', 'per', 'capsule', 'sig', 'sig', 'one', 'injection', 'sig', 'one', 'injection', 'nausea', 'sig', 'one', 'discharge', 'care', 'facility', 'discharge', 'cardiogenic', 'shock', 'heart', 'failure', 'ischemic', 'cardiomyopathy', 'aortic', 'stenosis', 'coronary', 'artery', 'disease', 'three', 'vessel', 'disease', 'diabetes', 'type', 'peripheral', 'status', 'post', 'kidney', 'transplant', 'discharge', 'condition', 'breathing', 'air', 'blood', 'pressure', 'stable', 'symptoms', 'dizziness', 'nausea', 'chest', 'pain', 'able', 'work', 'physical', 'therapy', 'rehabilitation', 'exercises', 'discharge', 'chest', 'pain', 'shortness', 'breath', 'palpitations', 'light', 'like', 'hypotensive', 'patient', 'rehabilitation', 'facility', 'follow', 'care', 'heart', 'failure'])]"
     ]
    }
   ],
   "source": [
    "note_admit_stop.select('tokens_clean').take(1)"
   ]
  },
  {
   "cell_type": "code",
   "execution_count": 79,
   "metadata": {},
   "outputs": [
    {
     "name": "stdout",
     "output_type": "stream",
     "text": [
      "['HADM_ID', 'SUBJECT_ID', 'ADMITTIME', 'DISCHTIME', 'DEATHTIME', 'ADMISSION_TYPE', 'NEXT_ADMISSION', 'NEXT_ADMISSION_TYPE', 'days_next_admit', 'CATEGORY', 'TEXT', 'row_number', 'label', 'TEXT_clean', 'tokens', 'tokens_clean']"
     ]
    }
   ],
   "source": [
    "note_admit_stop.columns"
   ]
  },
  {
   "cell_type": "code",
   "execution_count": 82,
   "metadata": {},
   "outputs": [],
   "source": [
    "#remove lists and columns not fed to create features\n",
    "note_admit_stop_reduce=note_admit_stop.select(note_admit_stop.columns[:10]+['tokens_clean','label']).cache()"
   ]
  },
  {
   "cell_type": "code",
   "execution_count": null,
   "metadata": {
    "collapsed": true
   },
   "outputs": [],
   "source": [
    "note_admit_stop_reduce.count()"
   ]
  },
  {
   "cell_type": "code",
   "execution_count": null,
   "metadata": {
    "collapsed": true
   },
   "outputs": [],
   "source": [
    "note_admit_stop.write.parquet('wasb:///final_idc9_filt.parquet')"
   ]
  },
  {
   "cell_type": "markdown",
   "metadata": {
    "collapsed": true
   },
   "source": [
    "# if starting from here \n",
    "# use \n",
    ">'final_idc9_filt' \n",
    "\n",
    "# else use \n",
    "\n",
    ">'note_admit_stop'"
   ]
  },
  {
   "cell_type": "code",
   "execution_count": 6,
   "metadata": {
    "collapsed": true
   },
   "outputs": [],
   "source": [
    "final_idc9_filt = spark.read.parquet('wasb:///final_idc9_filt.parquet')\n"
   ]
  },
  {
   "cell_type": "code",
   "execution_count": 7,
   "metadata": {
    "collapsed": true
   },
   "outputs": [],
   "source": [
    "#write parquet this is the base \n",
    "final_idc9_filt.repartition(numPartitions=1).write.parquet('wasb:///final_tokens_with_text.parquet')"
   ]
  },
  {
   "cell_type": "code",
   "execution_count": 7,
   "metadata": {},
   "outputs": [
    {
     "name": "stdout",
     "output_type": "stream",
     "text": [
      "['HADM_ID', 'SUBJECT_ID', 'ADMITTIME', 'DISCHTIME', 'DEATHTIME', 'ADMISSION_TYPE', 'NEXT_ADMISSION', 'NEXT_ADMISSION_TYPE', 'days_next_admit', 'CATEGORY', 'TEXT', 'row_number', 'label', 'TEXT_clean', 'tokens', 'tokens_clean']"
     ]
    }
   ],
   "source": [
    "final_idc9_filt.columns"
   ]
  },
  {
   "cell_type": "code",
   "execution_count": 8,
   "metadata": {},
   "outputs": [],
   "source": [
    "# if from scratch use 'note_admit_stop'\n",
    "final_data=final_idc9_filt.select(final_idc9_filt.columns[:10]+['tokens_clean','label']).cache()"
   ]
  },
  {
   "cell_type": "code",
   "execution_count": 10,
   "metadata": {},
   "outputs": [],
   "source": [
    "#keep\n",
    "# final_data.repartition(numPartitions=1).write.parquet('wasb:///final_data_V2.parquet')"
   ]
  },
  {
   "cell_type": "markdown",
   "metadata": {
    "collapsed": true
   },
   "source": [
    "# vectorize "
   ]
  },
  {
   "cell_type": "code",
   "execution_count": 9,
   "metadata": {
    "collapsed": true
   },
   "outputs": [],
   "source": [
    "import pyspark.ml.feature \n",
    "from pyspark.ml.feature import CountVectorizer"
   ]
  },
  {
   "cell_type": "code",
   "execution_count": null,
   "metadata": {
    "collapsed": true
   },
   "outputs": [],
   "source": [
    "# fill = psf.array().cast(\"array<string>\")\n",
    "# topics_a = psf.coalesce(col(\"tokens\"), fill)\n",
    "# note_admit_stop.withColumn(\"tokens\", topics_a)"
   ]
  },
  {
   "cell_type": "code",
   "execution_count": 10,
   "metadata": {
    "collapsed": true
   },
   "outputs": [],
   "source": [
    "token_vector = CountVectorizer(inputCol=\"tokens_clean\", outputCol=\"features\")"
   ]
  },
  {
   "cell_type": "code",
   "execution_count": 11,
   "metadata": {
    "collapsed": true
   },
   "outputs": [],
   "source": [
    "#create sparse vectors\n",
    "final_data2=token_vector.fit(final_data).transform(final_data).cache()\n"
   ]
  },
  {
   "cell_type": "code",
   "execution_count": 35,
   "metadata": {},
   "outputs": [],
   "source": [
    "# final_data.columns[:9]"
   ]
  },
  {
   "cell_type": "code",
   "execution_count": 15,
   "metadata": {},
   "outputs": [
    {
     "name": "stdout",
     "output_type": "stream",
     "text": [
      "['HADM_ID', 'SUBJECT_ID', 'ADMITTIME', 'DISCHTIME', 'DEATHTIME', 'ADMISSION_TYPE', 'NEXT_ADMISSION', 'NEXT_ADMISSION_TYPE', 'days_next_admit', 'CATEGORY', 'tokens_clean', 'label', 'features']"
     ]
    }
   ],
   "source": [
    "final_data2.columns"
   ]
  },
  {
   "cell_type": "code",
   "execution_count": 16,
   "metadata": {},
   "outputs": [],
   "source": [
    "final_data_for_model=final_data2"
   ]
  },
  {
   "cell_type": "code",
   "execution_count": null,
   "metadata": {
    "collapsed": true
   },
   "outputs": [],
   "source": [
    "#2178 features"
   ]
  },
  {
   "cell_type": "code",
   "execution_count": 19,
   "metadata": {},
   "outputs": [
    {
     "name": "stdout",
     "output_type": "stream",
     "text": [
      "[Row(HADM_ID=198608, SUBJECT_ID=231, ADMITTIME=datetime.datetime(2176, 5, 14, 21, 12), DISCHTIME=datetime.datetime(2176, 6, 5, 15, 0), DEATHTIME=None, ADMISSION_TYPE='EMERGENCY', NEXT_ADMISSION=datetime.datetime(2178, 8, 6, 14, 31), NEXT_ADMISSION_TYPE='EMERGENCY', days_next_admit=792, CATEGORY='Discharge summary', tokens_clean=['date', 'discharge', 'date', 'date', 'birth', 'sex', 'history', 'present', 'illness', 'old', 'male', 'hiv', 'fevers', 'chills', 'five', 'weeks', 'progressive', 'shortness', 'breath', 'cough', 'two', 'three', 'weeks', 'cough', 'sputum', 'patient', 'sore', 'throat', 'nausea', 'vomiting', 'one', 'clinic', 'short', 'course', 'symptoms', 'patient', 'headache', 'neck', 'stiffness', 'chest', 'pain', 'orthopnea', 'edema', 'abdominal', 'pain', 'diarrhea', 'dysuria', 'penile', 'discharge', 'blood', 'urine', 'stool', 'ten', 'weight', 'loss', 'five', 'weeks', 'new', 'rash', 'chest', 'non', 'pruritic', 'past', 'medical', 'history', 'human', 'virus', 'viral', 'patient', 'past', 'treatment', 'complicated', 'skin', 'patient', 'self', 'secondary', 'skin', 'opportunistic', 'infections', 'status', 'post', 'unspecified', 'hiv', 'cause', 'skin', 'rash', 'social', 'history', 'patient', 'smoking', 'history', 'pack', 'per', 'ten', 'smoking', 'five', 'weeks', 'patient', 'social', 'use', 'cocaine', 'use', 'patient', 'homosexual', 'relationship', 'five', 'physical', 'examination', 'blood', 'pressure', 'respiratory', 'rate', 'air', 'general', 'male', 'accessory', 'muscle', 'use', 'complete', 'round', 'reactive', 'light', 'oropharynx', 'tongue', 'neck', 'jugular', 'venous', 'cardiac', 'regular', 'rate', 'rhythm', 'normal', 'murmurs', 'right', 'base', 'abdomen', 'soft', 'bowel', 'sounds', 'edema', 'two', 'distal', 'skin', 'erythematous', 'macular', 'rash', 'chest', 'back', 'lesions', 'laboratory', 'hematocrit', 'glucose', 'chest', 'ray', 'bilateral', 'diffuse', 'pulmonary', 'interstitial', 'opacities', 'finding', 'pneumonia', 'course', 'pulmonary', 'patient', 'due', 'respiratory', 'high', 'steroids', 'initial', 'pre', 'patient', 'well', 'treatment', 'floor', 'sputum', 'positive', 'patient', 'respiratory', 'status', 'care', 'patient', 'treat', 'infection', 'viral', 'respiratory', 'staphylococcus', 'pneumonia', 'patient', 'gram', 'positive', 'sputum', 'respiratory', 'status', 'patient', 'patient', 'tachypnea', 'hypoxia', 'oxygen', 'non', 'following', 'aspiration', 'chest', 'ray', 'bilateral', 'patient', 'care', 'respiratory', 'distress', 'secondary', 'chemical', 'pneumonitis', 'aspiration', 'super', 'infection', 'left', 'subclavian', 'patient', 'right', 'removal', 'left', 'subclavian', 'patient', 'non', 'patient', 'right', 'lower', 'lobe', 'heparin', 'drip', 'weight', 'patient', 'respiratory', 'status', 'patient', 'patient', 'floor', 'following', 'floor', 'patient', 'respiratory', 'status', 'oxygen', 'air', 'moderate', 'exertion', 'discharge', 'patient', 'course', 'steroid', 'discharge', 'patient', 'heparin', 'drip', 'discharge', 'patient', 'six', 'myocardial', 'infarction', 'following', 'pulmonary', 'embolism', 'new', 'iii', 'iii', 'cardiac', 'enzymes', 'patient', 'heparin', 'cardiac', 'treatment', 'cardiac', 'enzymes', 'patient', 'follow', 'normal', 'left', 'atrial', 'septal', 'defect', 'left', 'ventricular', 'right', 'ventricle', 'decrease', 'function', 'mitral', 'pericardial', 'effusion', 'cardiac', 'function', 'patient', 'human', 'virus', 'patient', 'patient', 'ten', 'course', 'herpes', 'infectious', 'disease', 'team', 'wait', 'patient', 'patient', 'follow', 'due', 'low', 'viral', 'infectious', 'disease', 'patient', 'follow', 'patient', 'viral', 'drawn', 'one', 'post', 'discharge', 'patient', 'retinitis', 'retinitis', 'viral', 'discharge', 'discharge', 'patient', 'low', 'renal', 'studies', 'syndrome', 'diuretic', 'hormone', 'secondary', 'pulmonary', 'process', 'patient', 'patient', 'treatment', 'anemia', 'patient', 'anemia', 'current', 'iron', 'studies', 'anemia', 'chronic', 'disease', 'hematocrit', 'discharge', 'pancreatitis', 'patient', 'elevated', 'patient', 'pancreatitis', 'secondary', 'discharge', 'condition', 'discharge', 'stable', 'discharge', 'status', 'acute', 'rehabilitation', 'facility', 'discharge', 'acute', 'respiratory', 'failure', 'pneumonia', 'myocardial', 'infarction', 'pulmonary', 'embolism', 'human', 'virus', 'discharge', 'heparin', 'drip', 'weight', 'six', 'per', 'oral', 'four', 'two', 'six', 'shortness', 'breath', 'wheezing', 'insomnia', 'five', 'days', 'five', 'days', 'five', 'days', 'discharge', 'patient', 'acute', 'rehabilitation', 'facility', 'patient', 'follow', 'primary', 'care'], label=0, features=SparseVector(4588, {0: 43.0, 1: 2.0, 2: 15.0, 5: 2.0, 6: 4.0, 7: 4.0, 8: 4.0, 9: 2.0, 10: 3.0, 11: 2.0, 12: 5.0, 13: 1.0, 15: 6.0, 17: 1.0, 18: 4.0, 19: 4.0, 20: 3.0, 21: 3.0, 22: 3.0, 23: 3.0, 29: 1.0, 31: 2.0, 32: 1.0, 33: 2.0, 34: 2.0, 36: 3.0, 37: 5.0, 39: 1.0, 40: 5.0, 42: 1.0, 45: 1.0, 46: 2.0, 48: 4.0, 52: 2.0, 53: 1.0, 55: 1.0, 56: 1.0, 60: 1.0, 62: 1.0, 63: 1.0, 64: 3.0, 66: 1.0, 71: 1.0, 72: 1.0, 74: 1.0, 75: 1.0, 77: 2.0, 78: 1.0, 80: 2.0, 81: 1.0, 82: 1.0, 83: 1.0, 84: 1.0, 85: 9.0, 88: 4.0, 89: 2.0, 90: 1.0, 91: 3.0, 92: 2.0, 93: 2.0, 94: 2.0, 96: 1.0, 97: 1.0, 98: 3.0, 99: 1.0, 100: 2.0, 106: 2.0, 107: 1.0, 108: 2.0, 111: 3.0, 113: 1.0, 114: 3.0, 117: 1.0, 121: 1.0, 124: 2.0, 127: 1.0, 129: 4.0, 130: 1.0, 131: 1.0, 136: 2.0, 137: 2.0, 142: 1.0, 147: 1.0, 150: 1.0, 153: 1.0, 156: 2.0, 162: 1.0, 165: 4.0, 168: 1.0, 169: 1.0, 176: 3.0, 180: 1.0, 182: 2.0, 183: 1.0, 187: 2.0, 189: 2.0, 190: 1.0, 192: 1.0, 194: 1.0, 196: 3.0, 197: 1.0, 199: 1.0, 200: 1.0, 204: 1.0, 206: 1.0, 209: 2.0, 212: 4.0, 219: 1.0, 220: 3.0, 227: 2.0, 231: 1.0, 235: 1.0, 241: 1.0, 243: 1.0, 245: 1.0, 254: 1.0, 256: 1.0, 260: 2.0, 266: 1.0, 269: 1.0, 273: 2.0, 274: 1.0, 286: 3.0, 294: 1.0, 295: 2.0, 298: 1.0, 303: 1.0, 305: 1.0, 327: 2.0, 328: 2.0, 330: 1.0, 332: 1.0, 339: 1.0, 341: 3.0, 343: 1.0, 346: 2.0, 348: 1.0, 351: 1.0, 360: 1.0, 364: 7.0, 375: 1.0, 386: 1.0, 397: 2.0, 404: 1.0, 410: 3.0, 416: 1.0, 417: 1.0, 419: 2.0, 422: 1.0, 438: 1.0, 440: 2.0, 444: 1.0, 458: 1.0, 464: 1.0, 484: 1.0, 494: 2.0, 515: 1.0, 532: 1.0, 546: 1.0, 547: 1.0, 549: 5.0, 553: 2.0, 554: 1.0, 584: 2.0, 585: 1.0, 617: 2.0, 624: 1.0, 628: 1.0, 675: 1.0, 677: 1.0, 679: 1.0, 700: 1.0, 703: 3.0, 707: 1.0, 731: 3.0, 735: 1.0, 736: 1.0, 759: 1.0, 775: 1.0, 803: 1.0, 844: 1.0, 956: 1.0, 1026: 1.0, 1030: 1.0, 1070: 3.0, 1159: 1.0, 1288: 1.0, 1290: 1.0, 1338: 1.0, 1361: 1.0, 1626: 1.0, 1644: 1.0, 1668: 1.0, 1682: 1.0, 1686: 1.0, 1966: 1.0, 1992: 1.0, 2271: 1.0, 2311: 1.0, 2390: 2.0, 2717: 1.0}))]"
     ]
    }
   ],
   "source": [
    "final_data_for_model.take(1)"
   ]
  },
  {
   "cell_type": "code",
   "execution_count": 94,
   "metadata": {},
   "outputs": [],
   "source": [
    "#write\n",
    "# final_data_for_model.repartition(numPartitions=1).write.parquet('wasb:///Data_for_modeling.parquet')"
   ]
  },
  {
   "cell_type": "code",
   "execution_count": 76,
   "metadata": {
    "collapsed": true
   },
   "outputs": [],
   "source": [
    "# final_data.write.parquet('wasb:///final_data.parquet')"
   ]
  },
  {
   "cell_type": "code",
   "execution_count": 81,
   "metadata": {},
   "outputs": [],
   "source": [
    "# final_data.select(final_data.columns[:10]+['features']).write.parquet('wasb:///final_data_filtered.parquet')"
   ]
  },
  {
   "cell_type": "code",
   "execution_count": 95,
   "metadata": {},
   "outputs": [
    {
     "name": "stdout",
     "output_type": "stream",
     "text": [
      "['HADM_ID', 'SUBJECT_ID', 'ADMITTIME', 'DISCHTIME', 'DEATHTIME', 'ADMISSION_TYPE', 'NEXT_ADMISSION', 'NEXT_ADMISSION_TYPE', 'days_next_admit', 'CATEGORY', 'tokens_clean', 'label', 'features']"
     ]
    }
   ],
   "source": [
    "final_data_for_model.columns"
   ]
  },
  {
   "cell_type": "markdown",
   "metadata": {
    "collapsed": true
   },
   "source": [
    "# models"
   ]
  },
  {
   "cell_type": "code",
   "execution_count": 12,
   "metadata": {
    "collapsed": true
   },
   "outputs": [],
   "source": [
    "from pyspark.ml import Pipeline\n",
    "from pyspark.ml.classification import LogisticRegression, LinearSVC,NaiveBayes\n",
    "from pyspark.ml.evaluation import BinaryClassificationEvaluator\n",
    "from pyspark.ml.feature import HashingTF, Tokenizer\n",
    "from pyspark.ml.tuning import CrossValidator, ParamGridBuilder\n",
    "from pyspark.ml.tuning import CrossValidator, ParamGridBuilder\n"
   ]
  },
  {
   "cell_type": "code",
   "execution_count": 13,
   "metadata": {
    "collapsed": true
   },
   "outputs": [],
   "source": [
    "from pyspark.ml.classification import LogisticRegression\n",
    "from pyspark.ml.evaluation import MulticlassClassificationEvaluator"
   ]
  },
  {
   "cell_type": "code",
   "execution_count": 14,
   "metadata": {},
   "outputs": [],
   "source": [
    "lr = LogisticRegression(maxIter=10, regParam=0.3, elasticNetParam=0.8)\n",
    "lsvc = LinearSVC(maxIter=10, regParam=0.1)\n",
    "nb = NaiveBayes(smoothing=1.0, modelType=\"multinomial\")"
   ]
  },
  {
   "cell_type": "code",
   "execution_count": 17,
   "metadata": {},
   "outputs": [],
   "source": [
    "(trainingData, testData) = final_data_for_model.randomSplit([0.7, 0.3])"
   ]
  },
  {
   "cell_type": "code",
   "execution_count": 18,
   "metadata": {},
   "outputs": [],
   "source": [
    "#fit model \n",
    "model_lr=lr.fit(trainingData)\n"
   ]
  },
  {
   "cell_type": "code",
   "execution_count": 19,
   "metadata": {
    "collapsed": true
   },
   "outputs": [],
   "source": [
    "model_lsvc=lsvc.fit(trainingData)"
   ]
  },
  {
   "cell_type": "code",
   "execution_count": 20,
   "metadata": {
    "collapsed": true
   },
   "outputs": [],
   "source": [
    "model_nb=nb.fit(trainingData)"
   ]
  },
  {
   "cell_type": "code",
   "execution_count": 29,
   "metadata": {
    "collapsed": true
   },
   "outputs": [],
   "source": [
    "#params for CV\n",
    "paramGrid = ParamGridBuilder() \\\n",
    "    .addGrid(lr.regParam, [0.1, 0.01]) \\\n",
    "    .build()"
   ]
  },
  {
   "cell_type": "code",
   "execution_count": 30,
   "metadata": {},
   "outputs": [],
   "source": [
    "##cross val \n",
    "crossval_lr = CrossValidator(estimator=LogisticRegression(),\n",
    "                          estimatorParamMaps=paramGrid,\n",
    "                          evaluator=BinaryClassificationEvaluator(),\n",
    "                          numFolds=5) "
   ]
  },
  {
   "cell_type": "code",
   "execution_count": 31,
   "metadata": {},
   "outputs": [],
   "source": [
    "cvModel_lr = crossval_lr.fit(trainingData)"
   ]
  },
  {
   "cell_type": "code",
   "execution_count": 32,
   "metadata": {
    "collapsed": true
   },
   "outputs": [],
   "source": [
    "predictions_cvlr =cvModel_lr.transform(testData)"
   ]
  },
  {
   "cell_type": "code",
   "execution_count": 21,
   "metadata": {},
   "outputs": [],
   "source": [
    "#transforms back to spark data frame with predicyion data\n",
    "predictions_lr =model_lr.transform(testData)\n",
    "# predictions_cvlr =cvModel_lr.transform(testData)\n",
    "\n",
    "predictions_lsvc =model_lsvc.transform(testData)\n",
    "predictions_nb =model_nb.transform(testData)\n",
    "\n"
   ]
  },
  {
   "cell_type": "code",
   "execution_count": 22,
   "metadata": {
    "collapsed": true
   },
   "outputs": [],
   "source": [
    "columns_to_select=['HADM_ID', 'SUBJECT_ID','label','rawPrediction','probability','prediction']"
   ]
  },
  {
   "cell_type": "code",
   "execution_count": 23,
   "metadata": {},
   "outputs": [
    {
     "name": "stderr",
     "output_type": "stream",
     "text": [
      "An error occurred while calling o408.csv.\n",
      ": java.lang.UnsupportedOperationException: CSV data source does not support struct<type:tinyint,size:int,indices:array<int>,values:array<double>> data type.\n",
      "\tat org.apache.spark.sql.execution.datasources.csv.CSVUtils$.org$apache$spark$sql$execution$datasources$csv$CSVUtils$$verifyType$1(CSVUtils.scala:127)\n",
      "\tat org.apache.spark.sql.execution.datasources.csv.CSVUtils$$anonfun$verifySchema$1.apply(CSVUtils.scala:131)\n",
      "\tat org.apache.spark.sql.execution.datasources.csv.CSVUtils$$anonfun$verifySchema$1.apply(CSVUtils.scala:131)\n",
      "\tat scala.collection.Iterator$class.foreach(Iterator.scala:893)\n",
      "\tat scala.collection.AbstractIterator.foreach(Iterator.scala:1336)\n",
      "\tat scala.collection.IterableLike$class.foreach(IterableLike.scala:72)\n",
      "\tat org.apache.spark.sql.types.StructType.foreach(StructType.scala:99)\n",
      "\tat org.apache.spark.sql.execution.datasources.csv.CSVUtils$.verifySchema(CSVUtils.scala:131)\n",
      "\tat org.apache.spark.sql.execution.datasources.csv.CSVFileFormat.prepareWrite(CSVFileFormat.scala:65)\n",
      "\tat org.apache.spark.sql.execution.datasources.FileFormatWriter$.write(FileFormatWriter.scala:140)\n",
      "\tat org.apache.spark.sql.execution.datasources.InsertIntoHadoopFsRelationCommand.run(InsertIntoHadoopFsRelationCommand.scala:154)\n",
      "\tat org.apache.spark.sql.execution.command.DataWritingCommandExec.sideEffectResult$lzycompute(commands.scala:104)\n",
      "\tat org.apache.spark.sql.execution.command.DataWritingCommandExec.sideEffectResult(commands.scala:102)\n",
      "\tat org.apache.spark.sql.execution.command.DataWritingCommandExec.doExecute(commands.scala:122)\n",
      "\tat org.apache.spark.sql.execution.SparkPlan$$anonfun$execute$1.apply(SparkPlan.scala:131)\n",
      "\tat org.apache.spark.sql.execution.SparkPlan$$anonfun$execute$1.apply(SparkPlan.scala:127)\n",
      "\tat org.apache.spark.sql.execution.SparkPlan$$anonfun$executeQuery$1.apply(SparkPlan.scala:155)\n",
      "\tat org.apache.spark.rdd.RDDOperationScope$.withScope(RDDOperationScope.scala:151)\n",
      "\tat org.apache.spark.sql.execution.SparkPlan.executeQuery(SparkPlan.scala:152)\n",
      "\tat org.apache.spark.sql.execution.SparkPlan.execute(SparkPlan.scala:127)\n",
      "\tat org.apache.spark.sql.execution.QueryExecution.toRdd$lzycompute(QueryExecution.scala:80)\n",
      "\tat org.apache.spark.sql.execution.QueryExecution.toRdd(QueryExecution.scala:80)\n",
      "\tat org.apache.spark.sql.DataFrameWriter$$anonfun$runCommand$1.apply(DataFrameWriter.scala:654)\n",
      "\tat org.apache.spark.sql.DataFrameWriter$$anonfun$runCommand$1.apply(DataFrameWriter.scala:654)\n",
      "\tat org.apache.spark.sql.execution.SQLExecution$.withNewExecutionId(SQLExecution.scala:77)\n",
      "\tat org.apache.spark.sql.DataFrameWriter.runCommand(DataFrameWriter.scala:654)\n",
      "\tat org.apache.spark.sql.DataFrameWriter.saveToV1Source(DataFrameWriter.scala:273)\n",
      "\tat org.apache.spark.sql.DataFrameWriter.save(DataFrameWriter.scala:267)\n",
      "\tat org.apache.spark.sql.DataFrameWriter.save(DataFrameWriter.scala:225)\n",
      "\tat org.apache.spark.sql.DataFrameWriter.csv(DataFrameWriter.scala:642)\n",
      "\tat sun.reflect.NativeMethodAccessorImpl.invoke0(Native Method)\n",
      "\tat sun.reflect.NativeMethodAccessorImpl.invoke(NativeMethodAccessorImpl.java:62)\n",
      "\tat sun.reflect.DelegatingMethodAccessorImpl.invoke(DelegatingMethodAccessorImpl.java:43)\n",
      "\tat java.lang.reflect.Method.invoke(Method.java:498)\n",
      "\tat py4j.reflection.MethodInvoker.invoke(MethodInvoker.java:244)\n",
      "\tat py4j.reflection.ReflectionEngine.invoke(ReflectionEngine.java:357)\n",
      "\tat py4j.Gateway.invoke(Gateway.java:282)\n",
      "\tat py4j.commands.AbstractCommand.invokeMethod(AbstractCommand.java:132)\n",
      "\tat py4j.commands.CallCommand.execute(CallCommand.java:79)\n",
      "\tat py4j.GatewayConnection.run(GatewayConnection.java:214)\n",
      "\tat java.lang.Thread.run(Thread.java:748)\n",
      "\n",
      "Traceback (most recent call last):\n",
      "  File \"/usr/hdp/current/spark2-client/python/pyspark/sql/readwriter.py\", line 885, in csv\n",
      "    self._jwrite.csv(path)\n",
      "  File \"/usr/hdp/current/spark2-client/python/lib/py4j-0.10.6-src.zip/py4j/java_gateway.py\", line 1160, in __call__\n",
      "    answer, self.gateway_client, self.target_id, self.name)\n",
      "  File \"/usr/hdp/current/spark2-client/python/pyspark/sql/utils.py\", line 63, in deco\n",
      "    return f(*a, **kw)\n",
      "  File \"/usr/hdp/current/spark2-client/python/lib/py4j-0.10.6-src.zip/py4j/protocol.py\", line 320, in get_return_value\n",
      "    format(target_id, \".\", name), value)\n",
      "py4j.protocol.Py4JJavaError: An error occurred while calling o408.csv.\n",
      ": java.lang.UnsupportedOperationException: CSV data source does not support struct<type:tinyint,size:int,indices:array<int>,values:array<double>> data type.\n",
      "\tat org.apache.spark.sql.execution.datasources.csv.CSVUtils$.org$apache$spark$sql$execution$datasources$csv$CSVUtils$$verifyType$1(CSVUtils.scala:127)\n",
      "\tat org.apache.spark.sql.execution.datasources.csv.CSVUtils$$anonfun$verifySchema$1.apply(CSVUtils.scala:131)\n",
      "\tat org.apache.spark.sql.execution.datasources.csv.CSVUtils$$anonfun$verifySchema$1.apply(CSVUtils.scala:131)\n",
      "\tat scala.collection.Iterator$class.foreach(Iterator.scala:893)\n",
      "\tat scala.collection.AbstractIterator.foreach(Iterator.scala:1336)\n",
      "\tat scala.collection.IterableLike$class.foreach(IterableLike.scala:72)\n",
      "\tat org.apache.spark.sql.types.StructType.foreach(StructType.scala:99)\n",
      "\tat org.apache.spark.sql.execution.datasources.csv.CSVUtils$.verifySchema(CSVUtils.scala:131)\n",
      "\tat org.apache.spark.sql.execution.datasources.csv.CSVFileFormat.prepareWrite(CSVFileFormat.scala:65)\n",
      "\tat org.apache.spark.sql.execution.datasources.FileFormatWriter$.write(FileFormatWriter.scala:140)\n",
      "\tat org.apache.spark.sql.execution.datasources.InsertIntoHadoopFsRelationCommand.run(InsertIntoHadoopFsRelationCommand.scala:154)\n",
      "\tat org.apache.spark.sql.execution.command.DataWritingCommandExec.sideEffectResult$lzycompute(commands.scala:104)\n",
      "\tat org.apache.spark.sql.execution.command.DataWritingCommandExec.sideEffectResult(commands.scala:102)\n",
      "\tat org.apache.spark.sql.execution.command.DataWritingCommandExec.doExecute(commands.scala:122)\n",
      "\tat org.apache.spark.sql.execution.SparkPlan$$anonfun$execute$1.apply(SparkPlan.scala:131)\n",
      "\tat org.apache.spark.sql.execution.SparkPlan$$anonfun$execute$1.apply(SparkPlan.scala:127)\n",
      "\tat org.apache.spark.sql.execution.SparkPlan$$anonfun$executeQuery$1.apply(SparkPlan.scala:155)\n",
      "\tat org.apache.spark.rdd.RDDOperationScope$.withScope(RDDOperationScope.scala:151)\n",
      "\tat org.apache.spark.sql.execution.SparkPlan.executeQuery(SparkPlan.scala:152)\n",
      "\tat org.apache.spark.sql.execution.SparkPlan.execute(SparkPlan.scala:127)\n",
      "\tat org.apache.spark.sql.execution.QueryExecution.toRdd$lzycompute(QueryExecution.scala:80)\n",
      "\tat org.apache.spark.sql.execution.QueryExecution.toRdd(QueryExecution.scala:80)\n",
      "\tat org.apache.spark.sql.DataFrameWriter$$anonfun$runCommand$1.apply(DataFrameWriter.scala:654)\n",
      "\tat org.apache.spark.sql.DataFrameWriter$$anonfun$runCommand$1.apply(DataFrameWriter.scala:654)\n",
      "\tat org.apache.spark.sql.execution.SQLExecution$.withNewExecutionId(SQLExecution.scala:77)\n",
      "\tat org.apache.spark.sql.DataFrameWriter.runCommand(DataFrameWriter.scala:654)\n",
      "\tat org.apache.spark.sql.DataFrameWriter.saveToV1Source(DataFrameWriter.scala:273)\n",
      "\tat org.apache.spark.sql.DataFrameWriter.save(DataFrameWriter.scala:267)\n",
      "\tat org.apache.spark.sql.DataFrameWriter.save(DataFrameWriter.scala:225)\n",
      "\tat org.apache.spark.sql.DataFrameWriter.csv(DataFrameWriter.scala:642)\n",
      "\tat sun.reflect.NativeMethodAccessorImpl.invoke0(Native Method)\n",
      "\tat sun.reflect.NativeMethodAccessorImpl.invoke(NativeMethodAccessorImpl.java:62)\n",
      "\tat sun.reflect.DelegatingMethodAccessorImpl.invoke(DelegatingMethodAccessorImpl.java:43)\n",
      "\tat java.lang.reflect.Method.invoke(Method.java:498)\n",
      "\tat py4j.reflection.MethodInvoker.invoke(MethodInvoker.java:244)\n",
      "\tat py4j.reflection.ReflectionEngine.invoke(ReflectionEngine.java:357)\n",
      "\tat py4j.Gateway.invoke(Gateway.java:282)\n",
      "\tat py4j.commands.AbstractCommand.invokeMethod(AbstractCommand.java:132)\n",
      "\tat py4j.commands.CallCommand.execute(CallCommand.java:79)\n",
      "\tat py4j.GatewayConnection.run(GatewayConnection.java:214)\n",
      "\tat java.lang.Thread.run(Thread.java:748)\n",
      "\n",
      "\n"
     ]
    }
   ],
   "source": []
  },
  {
   "cell_type": "code",
   "execution_count": 26,
   "metadata": {},
   "outputs": [],
   "source": [
    "columns_to_select=['HADM_ID', 'SUBJECT_ID','label','rawPrediction','prediction']"
   ]
  },
  {
   "cell_type": "code",
   "execution_count": 33,
   "metadata": {
    "collapsed": true
   },
   "outputs": [],
   "source": [
    "predictions_cvlr.select(columns_to_select).repartition(numPartitions=1).write.parquet('wasb:///cross_val_logreg_pred.csv')"
   ]
  },
  {
   "cell_type": "code",
   "execution_count": 27,
   "metadata": {},
   "outputs": [],
   "source": [
    "# columns_to_select=['HADM_ID', 'SUBJECT_ID','label','rawPrediction','prediction']\n",
    "\n",
    "predictions_cvlr.select(columns_to_select).write.csv('wasb:///cross_val_logreg_pred.csv')\n",
    "predictions_lsvc.select(columns_to_select).repartition(numPartitions=1).write.parquet('wasb:///support_v_pred.parquet')\n",
    "predictions_nb.select(columns_to_select).repartition(numPartitions=1).write.parquet('wasb:///naive_bayes_pred.parquet')\n",
    "predictions_lr.select(columns_to_select).repartition(numPartitions=1).write.parquet('wasb:///log_reg_pred.parquet')\n",
    "# (numPartitions=1).write.parquet('wasb:///final_data_V2.parquet')\n"
   ]
  },
  {
   "cell_type": "code",
   "execution_count": 78,
   "metadata": {},
   "outputs": [
    {
     "name": "stdout",
     "output_type": "stream",
     "text": [
      "['HADM_ID', 'SUBJECT_ID', 'ADMITTIME', 'DISCHTIME', 'DEATHTIME', 'ADMISSION_TYPE', 'NEXT_ADMISSION', 'NEXT_ADMISSION_TYPE', 'days_next_admit', 'CATEGORY', 'tokens_clean', 'label', 'features', 'rawPrediction', 'probability', 'prediction']"
     ]
    }
   ],
   "source": [
    "predictions_nb.()"
   ]
  },
  {
   "cell_type": "code",
   "execution_count": 74,
   "metadata": {
    "collapsed": true
   },
   "outputs": [],
   "source": [
    "evaluator = MulticlassClassificationEvaluator(metricName=\"accuracy\")\n",
    "### one for each model or cv\n",
    "accuracy_lr = evaluator.evaluate(predictions_lr.select('label','prediction'))\n",
    "accuracy_lscv = evaluator.evaluate(predictions_lsvc.select('label','prediction'))\n",
    "accuracy_nb = evaluator.evaluate(predictions_nb.select('label','prediction'))\n",
    "\n"
   ]
  },
  {
   "cell_type": "code",
   "execution_count": 75,
   "metadata": {
    "collapsed": true
   },
   "outputs": [],
   "source": [
    "accuracy_cvlr = evaluator.evaluate(predictions_cvlr.select('label','prediction'))"
   ]
  },
  {
   "cell_type": "code",
   "execution_count": 76,
   "metadata": {},
   "outputs": [
    {
     "name": "stdout",
     "output_type": "stream",
     "text": [
      "(0.9381214024071167, 0.9380559916274201, 0.7216117216117216)"
     ]
    }
   ],
   "source": [
    "accuracy_lr , accuracy_lscv, accuracy_nb"
   ]
  },
  {
   "cell_type": "code",
   "execution_count": 77,
   "metadata": {},
   "outputs": [
    {
     "name": "stdout",
     "output_type": "stream",
     "text": [
      "0.9094060701203558"
     ]
    }
   ],
   "source": [
    "accuracy_cvlr"
   ]
  },
  {
   "cell_type": "code",
   "execution_count": null,
   "metadata": {
    "collapsed": true
   },
   "outputs": [],
   "source": []
  }
 ],
 "metadata": {
  "kernelspec": {
   "display_name": "Python 3",
   "language": "python",
   "name": "python3"
  },
  "language_info": {
   "codemirror_mode": {
    "name": "ipython",
    "version": 3
   },
   "file_extension": ".py",
   "mimetype": "text/x-python",
   "name": "python",
   "nbconvert_exporter": "python",
   "pygments_lexer": "ipython3",
   "version": "3.6.5"
  },
  "toc": {
   "base_numbering": 1,
   "nav_menu": {},
   "number_sections": true,
   "sideBar": true,
   "skip_h1_title": false,
   "title_cell": "Table of Contents",
   "title_sidebar": "Contents",
   "toc_cell": false,
   "toc_position": {},
   "toc_section_display": true,
   "toc_window_display": false
  },
  "varInspector": {
   "cols": {
    "lenName": 16,
    "lenType": 16,
    "lenVar": 40
   },
   "kernels_config": {
    "python": {
     "delete_cmd_postfix": "",
     "delete_cmd_prefix": "del ",
     "library": "var_list.py",
     "varRefreshCmd": "print(var_dic_list())"
    },
    "r": {
     "delete_cmd_postfix": ") ",
     "delete_cmd_prefix": "rm(",
     "library": "var_list.r",
     "varRefreshCmd": "cat(var_dic_list()) "
    }
   },
   "types_to_exclude": [
    "module",
    "function",
    "builtin_function_or_method",
    "instance",
    "_Feature"
   ],
   "window_display": false
  }
 },
 "nbformat": 4,
 "nbformat_minor": 2
}
