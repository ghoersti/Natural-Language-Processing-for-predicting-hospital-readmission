{
 "cells": [
  {
   "cell_type": "markdown",
   "metadata": {},
   "source": [
    "### use this to import prediction data and calculate Metrics"
   ]
  },
  {
   "cell_type": "code",
   "execution_count": 1,
   "metadata": {
    "ExecuteTime": {
     "end_time": "2018-11-12T03:21:55.664320Z",
     "start_time": "2018-11-12T03:21:55.647594Z"
    }
   },
   "outputs": [
    {
     "data": {
      "text/plain": [
       "'/home/ucsddse230/work/final_project/post_azure'"
      ]
     },
     "execution_count": 1,
     "metadata": {},
     "output_type": "execute_result"
    }
   ],
   "source": [
    "pwd"
   ]
  },
  {
   "cell_type": "code",
   "execution_count": 3,
   "metadata": {
    "ExecuteTime": {
     "end_time": "2018-11-12T03:23:24.439799Z",
     "start_time": "2018-11-12T03:23:24.029521Z"
    }
   },
   "outputs": [],
   "source": [
    "import pyspark.ml.feature \n",
    "from pyspark.ml.feature import CountVectorizer\n",
    "import pyspark.sql.functions  as psf\n",
    "from pyspark.sql import Window \n",
    "from pyspark.sql.types  import DateType\n",
    "import pandas as pd\n",
    "#pd.set_option('display.max_colwidth', -1)\n",
    "from pyspark.sql.types import Row, StructField, StructType, StringType, IntegerType , DateType, ArrayType"
   ]
  },
  {
   "cell_type": "code",
   "execution_count": 4,
   "metadata": {
    "ExecuteTime": {
     "end_time": "2018-11-12T03:23:29.445215Z",
     "start_time": "2018-11-12T03:23:27.813491Z"
    }
   },
   "outputs": [
    {
     "name": "stdout",
     "output_type": "stream",
     "text": [
      "<SparkContext master=local[4] appName=pyspark-shell>\n"
     ]
    }
   ],
   "source": [
    "#sc.stop()\n",
    "import findspark\n",
    "findspark.init()\n",
    "from pyspark.sql import SQLContext\n",
    "from pyspark.sql.types import Row, StructField, StructType, StringType, IntegerType , DateType, ArrayType\n",
    "from pyspark.sql import SparkSession\n",
    "from pyspark import SparkContext ,SparkConf\n",
    "SparkContext.setSystemProperty('spark.executor.memory', '6g')\n",
    "#SparkContext.setSystemProperty('spark.rdd.compress', True)\n",
    "SparkContext.setSystemProperty('spark.driver.memory', '16g')\n",
    "sc = SparkContext(master=\"local[4]\")\n",
    "print(sc)\n"
   ]
  },
  {
   "cell_type": "code",
   "execution_count": 5,
   "metadata": {
    "ExecuteTime": {
     "end_time": "2018-11-12T03:23:31.682591Z",
     "start_time": "2018-11-12T03:23:31.633539Z"
    }
   },
   "outputs": [],
   "source": [
    "spark = SparkSession.builder.getOrCreate()"
   ]
  },
  {
   "cell_type": "code",
   "execution_count": 6,
   "metadata": {
    "ExecuteTime": {
     "end_time": "2018-11-12T03:23:33.161376Z",
     "start_time": "2018-11-12T03:23:33.150424Z"
    }
   },
   "outputs": [
    {
     "data": {
      "text/plain": [
       "'/home/ucsddse230/work/final_project/post_azure'"
      ]
     },
     "execution_count": 6,
     "metadata": {},
     "output_type": "execute_result"
    }
   ],
   "source": [
    "pwd"
   ]
  },
  {
   "cell_type": "code",
   "execution_count": 2,
   "metadata": {
    "ExecuteTime": {
     "end_time": "2018-11-12T03:23:21.667167Z",
     "start_time": "2018-11-12T03:23:21.662500Z"
    }
   },
   "outputs": [],
   "source": [
    "path='/home/ucsddse230/work/final_project/azure/predictions'"
   ]
  },
  {
   "cell_type": "code",
   "execution_count": 7,
   "metadata": {
    "ExecuteTime": {
     "end_time": "2018-11-12T03:23:47.438767Z",
     "start_time": "2018-11-12T03:23:45.316624Z"
    }
   },
   "outputs": [],
   "source": [
    "pred_files=['cross_val_logreg_pred.parquet','log_reg_pred.parquet','naive_bayes_pred.parquet','support_v_pred.parquet']\n",
    "pred_d={}\n",
    "for parquet in pred_files:\n",
    "    pred_d[parquet]=spark.read.parquet(path+'/{}'.format(parquet))"
   ]
  },
  {
   "cell_type": "markdown",
   "metadata": {
    "ExecuteTime": {
     "end_time": "2018-11-12T02:49:46.739090Z",
     "start_time": "2018-11-12T02:49:46.732876Z"
    }
   },
   "source": [
    "# use this to calculate precision recall and AUC ect..."
   ]
  },
  {
   "cell_type": "code",
   "execution_count": 20,
   "metadata": {
    "ExecuteTime": {
     "end_time": "2018-11-12T02:50:26.011158Z",
     "start_time": "2018-11-12T02:50:25.795232Z"
    }
   },
   "outputs": [
    {
     "name": "stdout",
     "output_type": "stream",
     "text": [
      "cross_val_logreg_pred.parquet\n",
      "['HADM_ID', 'SUBJECT_ID', 'label', 'rawPrediction', 'prediction']\n",
      "[Row(HADM_ID=100009, SUBJECT_ID=533, label=0, rawPrediction=DenseVector([16.6732, -16.6732]), prediction=0.0)]\n",
      "log_reg_pred.parquet\n",
      "['HADM_ID', 'SUBJECT_ID', 'label', 'rawPrediction', 'prediction']\n",
      "[Row(HADM_ID=100006, SUBJECT_ID=9895, label=0, rawPrediction=DenseVector([2.7144, -2.7144]), prediction=0.0)]\n",
      "naive_bayes_pred.parquet\n",
      "['HADM_ID', 'SUBJECT_ID', 'label', 'rawPrediction', 'prediction']\n",
      "[Row(HADM_ID=100035, SUBJECT_ID=48539, label=0, rawPrediction=DenseVector([-4240.2667, -4241.1972]), prediction=0.0)]\n",
      "support_v_pred.parquet\n",
      "['HADM_ID', 'SUBJECT_ID', 'label', 'rawPrediction', 'prediction']\n",
      "[Row(HADM_ID=100035, SUBJECT_ID=48539, label=0, rawPrediction=DenseVector([1.135, -1.135]), prediction=0.0)]\n"
     ]
    }
   ],
   "source": [
    "#example\n",
    "for i in pred_files:\n",
    "    print(i)\n",
    "    print(pred_d[i].columns)\n",
    "    print(pred_d[i].take(1))\n"
   ]
  },
  {
   "cell_type": "code",
   "execution_count": null,
   "metadata": {},
   "outputs": [],
   "source": []
  }
 ],
 "metadata": {
  "kernelspec": {
   "display_name": "Python 3",
   "language": "python",
   "name": "python3"
  },
  "language_info": {
   "codemirror_mode": {
    "name": "ipython",
    "version": 3
   },
   "file_extension": ".py",
   "mimetype": "text/x-python",
   "name": "python",
   "nbconvert_exporter": "python",
   "pygments_lexer": "ipython3",
   "version": "3.6.5"
  },
  "toc": {
   "base_numbering": 1,
   "nav_menu": {},
   "number_sections": true,
   "sideBar": true,
   "skip_h1_title": false,
   "title_cell": "Table of Contents",
   "title_sidebar": "Contents",
   "toc_cell": false,
   "toc_position": {},
   "toc_section_display": true,
   "toc_window_display": false
  },
  "varInspector": {
   "cols": {
    "lenName": 16,
    "lenType": 16,
    "lenVar": 40
   },
   "kernels_config": {
    "python": {
     "delete_cmd_postfix": "",
     "delete_cmd_prefix": "del ",
     "library": "var_list.py",
     "varRefreshCmd": "print(var_dic_list())"
    },
    "r": {
     "delete_cmd_postfix": ") ",
     "delete_cmd_prefix": "rm(",
     "library": "var_list.r",
     "varRefreshCmd": "cat(var_dic_list()) "
    }
   },
   "types_to_exclude": [
    "module",
    "function",
    "builtin_function_or_method",
    "instance",
    "_Feature"
   ],
   "window_display": false
  }
 },
 "nbformat": 4,
 "nbformat_minor": 2
}
