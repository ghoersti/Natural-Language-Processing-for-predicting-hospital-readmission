{
 "cells": [
  {
   "cell_type": "markdown",
   "metadata": {},
   "source": [
    "## local Modeling \n",
    "\n",
    "start with \n",
    "\n",
    "```python\n",
    "'Tokens_vectors_text/Data_for_modeling.parquet'\n",
    "```\n",
    "\n",
    "> this data has been processed in azure and contains the data and feature vectors ready to model\n"
   ]
  },
  {
   "cell_type": "code",
   "execution_count": 1,
   "metadata": {
    "ExecuteTime": {
     "end_time": "2018-12-03T17:16:56.597164Z",
     "start_time": "2018-12-03T17:16:56.569719Z"
    }
   },
   "outputs": [
    {
     "data": {
      "text/plain": [
       "'/home/ucsddse230/work/final_project/post_azure'"
      ]
     },
     "execution_count": 1,
     "metadata": {},
     "output_type": "execute_result"
    }
   ],
   "source": [
    "pwd"
   ]
  },
  {
   "cell_type": "code",
   "execution_count": 2,
   "metadata": {
    "ExecuteTime": {
     "end_time": "2018-12-03T17:16:57.266076Z",
     "start_time": "2018-12-03T17:16:56.603460Z"
    }
   },
   "outputs": [],
   "source": [
    "import pyspark.ml.feature \n",
    "from pyspark.ml.feature import CountVectorizer\n",
    "import pyspark.sql.functions  as psf\n",
    "from pyspark.sql import Window \n",
    "from pyspark.sql.types  import DateType\n",
    "import pandas as pd\n",
    "#pd.set_option('display.max_colwidth', -1)\n",
    "from pyspark.sql.types import Row, StructField, StructType, StringType, IntegerType , DateType, ArrayType"
   ]
  },
  {
   "cell_type": "code",
   "execution_count": 3,
   "metadata": {
    "ExecuteTime": {
     "end_time": "2018-12-03T17:17:00.356715Z",
     "start_time": "2018-12-03T17:16:57.272899Z"
    }
   },
   "outputs": [
    {
     "name": "stdout",
     "output_type": "stream",
     "text": [
      "<SparkContext master=local[4] appName=pyspark-shell>\n"
     ]
    }
   ],
   "source": [
    "#sc.stop()\n",
    "import findspark\n",
    "findspark.init()\n",
    "from pyspark.sql import SQLContext\n",
    "from pyspark.sql.types import Row, StructField, StructType, StringType, IntegerType , DateType, ArrayType\n",
    "from pyspark.sql import SparkSession\n",
    "from pyspark import SparkContext ,SparkConf\n",
    "SparkContext.setSystemProperty('spark.executor.memory', '6g')\n",
    "#SparkContext.setSystemProperty('spark.rdd.compress', True)\n",
    "SparkContext.setSystemProperty('spark.driver.memory', '16g')\n",
    "sc = SparkContext(master=\"local[4]\")\n",
    "print(sc)\n"
   ]
  },
  {
   "cell_type": "code",
   "execution_count": 4,
   "metadata": {
    "ExecuteTime": {
     "end_time": "2018-12-03T17:17:00.445846Z",
     "start_time": "2018-12-03T17:17:00.362874Z"
    }
   },
   "outputs": [],
   "source": [
    "from pyspark.ml import Pipeline\n",
    "from pyspark.ml.classification import LogisticRegression, LinearSVC,NaiveBayes\n",
    "from pyspark.ml.evaluation import BinaryClassificationEvaluator\n",
    "from pyspark.ml.feature import HashingTF, Tokenizer\n",
    "from pyspark.ml.tuning import CrossValidator, ParamGridBuilder\n",
    "from pyspark.ml.tuning import CrossValidator, ParamGridBuilder\n",
    "from pyspark.ml.classification import LogisticRegression\n",
    "from pyspark.ml.evaluation import MulticlassClassificationEvaluator\n",
    "from pyspark.ml.classification import RandomForestClassifier"
   ]
  },
  {
   "cell_type": "code",
   "execution_count": 5,
   "metadata": {
    "ExecuteTime": {
     "end_time": "2018-12-03T17:17:00.463477Z",
     "start_time": "2018-12-03T17:17:00.452551Z"
    }
   },
   "outputs": [],
   "source": [
    "train_path='/home/ucsddse230/work/final_project/post_azure/training_features.parquet'\n",
    "test_path='/home/ucsddse230/work/final_project/post_azure/testing_features.parquet'\n",
    "model_path='/home/ucsddse230/work/final_project/model'\n",
    "dl_path='/home/ucsddse230/work/final_project/dl_model/'"
   ]
  },
  {
   "cell_type": "code",
   "execution_count": 6,
   "metadata": {
    "ExecuteTime": {
     "end_time": "2018-12-03T17:17:00.600206Z",
     "start_time": "2018-12-03T17:17:00.474196Z"
    }
   },
   "outputs": [],
   "source": [
    "spark = SparkSession.builder.getOrCreate()"
   ]
  },
  {
   "cell_type": "code",
   "execution_count": 7,
   "metadata": {
    "ExecuteTime": {
     "end_time": "2018-12-03T17:17:05.149291Z",
     "start_time": "2018-12-03T17:17:00.603403Z"
    }
   },
   "outputs": [],
   "source": [
    "train_data= spark.read.parquet(train_path)\n",
    "test_data= spark.read.parquet(test_path)"
   ]
  },
  {
   "cell_type": "markdown",
   "metadata": {},
   "source": [
    "## happy modeling\n",
    ">please explore the the multilayer perceptron here and many others\n",
    "https://spark.apache.org/docs/2.3.0/ml-classification-regression.html\n"
   ]
  },
  {
   "cell_type": "code",
   "execution_count": 8,
   "metadata": {
    "ExecuteTime": {
     "end_time": "2018-12-03T17:17:09.430752Z",
     "start_time": "2018-12-03T17:17:09.423989Z"
    }
   },
   "outputs": [
    {
     "data": {
      "text/plain": [
       "['HADM_ID', 'SUBJECT_ID', 'label', 'tokens_clean', 'features']"
      ]
     },
     "execution_count": 8,
     "metadata": {},
     "output_type": "execute_result"
    }
   ],
   "source": [
    "train_data.columns"
   ]
  },
  {
   "cell_type": "code",
   "execution_count": 9,
   "metadata": {
    "ExecuteTime": {
     "end_time": "2018-12-03T17:17:12.220009Z",
     "start_time": "2018-12-03T17:17:10.833274Z"
    }
   },
   "outputs": [
    {
     "name": "stdout",
     "output_type": "stream",
     "text": [
      "40795 5\n",
      "10318 5\n"
     ]
    }
   ],
   "source": [
    "print(train_data.count(),len(train_data.columns))\n",
    "print(test_data.count(),len(test_data.columns))"
   ]
  },
  {
   "cell_type": "code",
   "execution_count": 69,
   "metadata": {
    "ExecuteTime": {
     "end_time": "2018-12-03T19:13:29.642308Z",
     "start_time": "2018-12-03T19:13:29.408998Z"
    }
   },
   "outputs": [],
   "source": [
    "pos_count = train_data[train_data.label==1].count()\n",
    "neg_count = train_data[train_data.label==0].count()"
   ]
  },
  {
   "cell_type": "code",
   "execution_count": 10,
   "metadata": {
    "ExecuteTime": {
     "end_time": "2018-12-03T17:17:16.834037Z",
     "start_time": "2018-12-03T17:17:15.393296Z"
    },
    "collapsed": true
   },
   "outputs": [
    {
     "data": {
      "text/plain": [
       "Row(HADM_ID=100009, SUBJECT_ID=533, label=0, tokens_clean=['date', 'discharge', 'date', 'date', 'birth', 'sex', 'adverse', 'drug', 'complaint', 'angina', 'major', 'surgical', 'procedure', 'posterior', 'descending', 'artery', 'marginal', 'right', 'atrial', 'lead', 'history', 'present', 'illness', 'man', 'coronary', 'disease', 'ami', 'well', 'angina', 'exertion', 'angina', 'treatment', 'cardiac', 'vessel', 'disease', 'coronary', 'bypass', 'cardiac', 'date', 'place', 'chronic', 'total', 'occlusion', 'distal', 'chronic', 'total', 'occlusion', 'non', 'new', 'complex', 'stenosis', 'prox', 'large', 'old', 'patent', 'mod', 'systolic', 'anterior', 'apical', 'apical', 'reduced', 'past', 'medical', 'history', 'ami', 'cardiomyopathy', 'study', 'ventricular', 'tachycardia', 'atrial', 'flutter', 'hypertension', 'insulin', 'dependent', 'diabetes', 'mellitus', 'obesity', 'conduction', 'disease', 'peripheral', 'vascular', 'disease', 'right', 'fem', 'bypas', 'left', 'leg', 'right', 'thigh', 'tumor', 'radiation', 'social', 'history', 'dental', 'exam', 'tobacco', 'family', 'history', 'cirrhosis', 'mother', 'physical', 'exam', 'resp', 'sat', 'right', 'left', 'height', 'weight', 'general', 'skin', 'neck', 'full', 'rom', 'chest', 'heart', 'irregular', 'abdomen', 'soft', 'non', 'non', 'bowel', 'sounds', 'well', 'edema', 'well', 'healed', 'right', 'vein', 'site', 'neuro', 'femoral', 'right', 'left', 'right', 'left', 'left', 'radial', 'right', 'left', 'carotid', 'right', 'left', 'left', 'spontaneous', 'echo', 'body', 'left', 'left', 'atrial', 'spontaneous', 'echo', 'body', 'right', 'atrial', 'septal', 'defect', 'color', 'left', 'ventricular', 'wall', 'normal', 'left', 'ventricular', 'cavity', 'moderate', 'regional', 'left', 'ventricular', 'systolic', 'dysfunction', 'septum', 'left', 'ventricular', 'systolic', 'function', 'cardiac', 'min', 'focal', 'abnormalities', 'mid', 'apical', 'wall', 'apical', 'anterior', 'wall', 'mid', 'apical', 'wall', 'apical', 'inferior', 'wall', 'right', 'ventricular', 'chamber', 'size', 'free', 'wall', 'motion', 'normal', 'descending', 'thoracic', 'aorta', 'aortic', 'valve', 'focal', 'non', 'coronary', 'minimal', 'aortic', 'valve', 'stenosis', 'aortic', 'mitral', 'valve', 'mild', 'moderate', 'mitral', 'mitral', 'valve', 'prolapse', 'flail', 'pericardial', 'effusion', 'patient', 'infusion', 'systolic', 'function', 'mitral', 'mild', 'moderate', 'thoracic', 'aorta', 'post', 'blood', 'wbc', 'rbc', 'hgb', 'mch', 'blood', 'glucose', 'blood', 'alt', 'ldh', 'brief', 'course', 'patient', 'patient', 'coronary', 'artery', 'bypass', 'graft', 'patient', 'procedure', 'well', 'post', 'stable', 'condition', 'patient', 'breathing', 'team', 'due', 'non', 'atrial', 'lead', 'pacemaker', 'ventricular', 'lead', 'right', 'atrial', 'lead', 'without', 'complication', 'follow', 'device', 'clinic', 'weeks', 'patient', 'follow', 'patient', 'stable', 'support', 'beta', 'patient', 'weight', 'blood', 'pressure', 'patient', 'floor', 'chest', 'without', 'complication', 'post', 'patient', 'physical', 'therapy', 'strength', 'discharge', 'patient', 'wound', 'healing', 'pain', 'oral', 'analgesics', 'antibiotics', 'per', 'atrial', 'lead', 'patient', 'home', 'condition', 'follow', 'follow', 'insulin', 'insulin', 'calcium', 'discharge', 'sig', 'one', 'sig', 'one', 'sig', 'one', 'sig', 'one', 'daily', 'daily', 'capsule', 'sig', 'one', 'capsule', 'magnesium', 'sig', 'constipation', 'sig', 'one', 'sig', 'pain', 'aspirin', 'delayed', 'sig', 'one', 'delayed', 'daily', 'daily', 'delayed', 'capsule', 'sig', 'one', 'capsule', 'days', 'capsule', 'sig', 'one', 'days', 'sig', 'one', 'days', 'sig', 'one', 'sig', 'two', 'pain', 'insulin', 'human', 'sig', 'one', 'sig', 'one', 'daily', 'daily', 'discharge', 'home', 'facility', 'discharge', 'coronary', 'artery', 'disease', 'ami', 'cardiomyopathy', 'ventricular', 'tachycardia', 'atrial', 'flutter', 'hypertension', 'insulin', 'dependent', 'diabetes', 'mellitus', 'obesity', 'conduction', 'disease', 'peripheral', 'vascular', 'disease', 'right', 'fem', 'bypas', 'left', 'leg', 'right', 'thigh', 'tumor', 'radiation', 'discharge', 'condition', 'gait', 'incisional', 'pain', 'healing', 'well', 'erythema', 'leg', 'left', 'healing', 'well', 'erythema', 'edema', 'discharge', 'shower', 'daily', 'mild', 'soap', 'swimming', 'daily', 'redness', 'one', 'follow', 'able', 'lifting', 'weeks', 'cardiac', 'surgery', 'contact', 'person', 'following', 'clinic', 'weeks', 'wound', 'medical', 'building', 'date', 'primary', 'care', 'weeks', 'follow', 'clinic', 'patient', 'cardiac', 'surgery', 'contact', 'person'], features=SparseVector(4499, {0: 13.0, 1: 4.0, 2: 7.0, 3: 8.0, 4: 16.0, 5: 14.0, 6: 16.0, 7: 4.0, 8: 14.0, 9: 4.0, 10: 5.0, 11: 2.0, 12: 2.0, 13: 6.0, 14: 2.0, 16: 5.0, 17: 2.0, 18: 6.0, 19: 1.0, 20: 7.0, 21: 1.0, 22: 3.0, 23: 1.0, 24: 3.0, 25: 3.0, 26: 1.0, 27: 4.0, 29: 2.0, 31: 1.0, 32: 1.0, 33: 1.0, 34: 3.0, 35: 5.0, 36: 2.0, 38: 3.0, 39: 1.0, 41: 1.0, 42: 8.0, 43: 1.0, 44: 2.0, 45: 2.0, 46: 2.0, 47: 1.0, 48: 4.0, 49: 1.0, 50: 2.0, 51: 1.0, 52: 1.0, 54: 2.0, 55: 1.0, 56: 3.0, 58: 1.0, 61: 3.0, 63: 4.0, 64: 5.0, 65: 2.0, 66: 4.0, 67: 2.0, 69: 5.0, 72: 1.0, 75: 1.0, 76: 1.0, 77: 1.0, 78: 8.0, 79: 1.0, 81: 1.0, 82: 1.0, 83: 1.0, 84: 1.0, 87: 6.0, 91: 1.0, 93: 1.0, 96: 3.0, 97: 1.0, 98: 1.0, 99: 1.0, 100: 1.0, 101: 1.0, 102: 1.0, 103: 1.0, 105: 2.0, 106: 2.0, 109: 1.0, 110: 5.0, 113: 1.0, 122: 2.0, 125: 1.0, 137: 1.0, 141: 1.0, 143: 1.0, 148: 1.0, 151: 1.0, 153: 1.0, 158: 2.0, 159: 2.0, 160: 1.0, 162: 1.0, 163: 1.0, 165: 1.0, 166: 2.0, 172: 2.0, 176: 1.0, 177: 2.0, 179: 1.0, 180: 1.0, 183: 1.0, 184: 1.0, 187: 1.0, 192: 1.0, 193: 2.0, 195: 1.0, 196: 2.0, 198: 3.0, 199: 1.0, 200: 1.0, 205: 1.0, 210: 1.0, 212: 2.0, 214: 1.0, 215: 1.0, 217: 2.0, 219: 1.0, 222: 1.0, 223: 1.0, 226: 1.0, 227: 1.0, 228: 1.0, 229: 2.0, 240: 3.0, 247: 2.0, 251: 2.0, 259: 1.0, 262: 1.0, 277: 1.0, 284: 1.0, 287: 2.0, 289: 1.0, 290: 2.0, 295: 1.0, 296: 1.0, 300: 2.0, 301: 1.0, 303: 1.0, 308: 1.0, 318: 2.0, 319: 1.0, 323: 2.0, 326: 1.0, 329: 1.0, 333: 1.0, 341: 1.0, 343: 1.0, 352: 2.0, 356: 1.0, 360: 1.0, 373: 1.0, 382: 1.0, 384: 1.0, 390: 1.0, 426: 1.0, 428: 1.0, 432: 1.0, 440: 2.0, 444: 2.0, 446: 1.0, 453: 1.0, 461: 2.0, 473: 1.0, 479: 1.0, 487: 1.0, 488: 2.0, 499: 1.0, 515: 1.0, 526: 2.0, 528: 1.0, 533: 3.0, 557: 6.0, 572: 2.0, 589: 2.0, 617: 2.0, 631: 1.0, 639: 1.0, 661: 1.0, 671: 1.0, 698: 1.0, 708: 1.0, 711: 1.0, 713: 1.0, 726: 2.0, 732: 5.0, 738: 1.0, 760: 3.0, 777: 2.0, 796: 2.0, 815: 1.0, 884: 1.0, 889: 1.0, 892: 1.0, 966: 1.0, 987: 2.0, 1001: 1.0, 1118: 2.0, 1178: 1.0, 1427: 1.0, 1587: 1.0, 2156: 3.0, 3082: 2.0}))"
      ]
     },
     "execution_count": 10,
     "metadata": {},
     "output_type": "execute_result"
    }
   ],
   "source": [
    "train_data.head()"
   ]
  },
  {
   "cell_type": "code",
   "execution_count": 119,
   "metadata": {
    "ExecuteTime": {
     "end_time": "2018-12-03T19:42:01.656325Z",
     "start_time": "2018-12-03T19:42:01.652526Z"
    }
   },
   "outputs": [],
   "source": [
    "from utils import train, evaluate, display_metrics, classification_metrics"
   ]
  },
  {
   "cell_type": "code",
   "execution_count": 24,
   "metadata": {
    "ExecuteTime": {
     "end_time": "2018-12-03T18:36:03.078520Z",
     "start_time": "2018-12-03T17:31:01.133175Z"
    }
   },
   "outputs": [
    {
     "name": "stdout",
     "output_type": "stream",
     "text": [
      "cacheNodeIds: If false, the algorithm will pass trees to executors to match instances with nodes. If true, the algorithm will cache node IDs for each instance. Caching can speed up training of deeper trees. Users can set how often should the cache be checkpointed or disable it by setting checkpointInterval. (default: False)\n",
      "checkpointInterval: set checkpoint interval (>= 1) or disable checkpoint (-1). E.g. 10 means that the cache will get checkpointed every 10 iterations. Note: this setting will be ignored if the checkpoint directory is not set in the SparkContext. (default: 10)\n",
      "featuresCol: features column name. (default: features)\n",
      "labelCol: label column name. (default: label)\n",
      "lossType: Loss function which GBT tries to minimize (case-insensitive). Supported options: logistic (default: logistic)\n",
      "maxBins: Max number of bins for discretizing continuous features.  Must be >=2 and >= number of categories for any categorical feature. (default: 32)\n",
      "maxDepth: Maximum depth of the tree. (>= 0) E.g., depth 0 means 1 leaf node; depth 1 means 1 internal node + 2 leaf nodes. (default: 5)\n",
      "maxIter: max number of iterations (>= 0). (default: 20, current: 100)\n",
      "maxMemoryInMB: Maximum memory in MB allocated to histogram aggregation. If too small, then 1 node will be split per iteration, and its aggregates may exceed this size. (default: 256)\n",
      "minInfoGain: Minimum information gain for a split to be considered at a tree node. (default: 0.0)\n",
      "minInstancesPerNode: Minimum number of instances each child must have after split. If a split causes the left or right child to have fewer than minInstancesPerNode, the split will be discarded as invalid. Should be >= 1. (default: 1)\n",
      "predictionCol: prediction column name. (default: prediction)\n",
      "seed: random seed. (default: -4246351379204260628)\n",
      "stepSize: Step size (a.k.a. learning rate) in interval (0, 1] for shrinking the contribution of each estimator. (default: 0.1)\n",
      "subsamplingRate: Fraction of the training data used for learning each decision tree, in range (0, 1]. (default: 1.0)\n"
     ]
    }
   ],
   "source": [
    "#Gradient Boosted Trees\n",
    "from pyspark.ml.classification import GBTClassifier\n",
    "gbt = GBTClassifier(maxIter=100)\n",
    "gbtModel = gbt.fit(train_data)\n",
    "print(gbt.explainParams())"
   ]
  },
  {
   "cell_type": "code",
   "execution_count": 25,
   "metadata": {
    "ExecuteTime": {
     "end_time": "2018-12-03T18:45:26.933955Z",
     "start_time": "2018-12-03T18:45:22.479480Z"
    }
   },
   "outputs": [
    {
     "name": "stdout",
     "output_type": "stream",
     "text": [
      "______________________________________________\n",
      "Classifier: GBT\n",
      "Accuracy: 0.9423213629121215\n",
      "AUC: 0.52939240281477\n",
      "Precision: 0.9607843137254902\n",
      "Recall: 0.058941459502806735\n",
      "F1-score: 0.11106913486966377\n",
      "______________________________________________\n",
      "\n"
     ]
    }
   ],
   "source": [
    "#Train prediction\n",
    "predictions =gbtModel.transform(train_data)\n",
    "Y_true=np.array(predictions.select('label').collect())\n",
    "Y_pred=np.array(predictions.select('prediction').collect())\n",
    "display_metrics(\"GBT\",Y_pred,Y_true)"
   ]
  },
  {
   "cell_type": "code",
   "execution_count": 26,
   "metadata": {
    "ExecuteTime": {
     "end_time": "2018-12-03T18:45:31.516384Z",
     "start_time": "2018-12-03T18:45:30.507451Z"
    }
   },
   "outputs": [
    {
     "name": "stdout",
     "output_type": "stream",
     "text": [
      "______________________________________________\n",
      "Classifier: GBT\n",
      "Accuracy: 0.9370032952122505\n",
      "AUC: 0.5105605792307486\n",
      "Precision: 0.4166666666666667\n",
      "Recall: 0.023291925465838508\n",
      "F1-score: 0.044117647058823525\n",
      "______________________________________________\n",
      "\n"
     ]
    }
   ],
   "source": [
    "#Test prediction\n",
    "predictions =gbtModel.transform(test_data)\n",
    "Y_true=np.array(predictions.select('label').collect())\n",
    "Y_pred=np.array(predictions.select('prediction').collect())\n",
    "display_metrics(\"GBT\",Y_pred,Y_true)"
   ]
  },
  {
   "cell_type": "code",
   "execution_count": null,
   "metadata": {
    "ExecuteTime": {
     "end_time": "2018-12-01T22:00:07.863426Z",
     "start_time": "2018-12-01T22:00:07.054489Z"
    }
   },
   "outputs": [],
   "source": [
    "gbtModel.save(model_path)"
   ]
  },
  {
   "cell_type": "code",
   "execution_count": 84,
   "metadata": {
    "ExecuteTime": {
     "end_time": "2018-12-03T19:19:05.832332Z",
     "start_time": "2018-12-03T19:18:58.759790Z"
    }
   },
   "outputs": [
    {
     "name": "stdout",
     "output_type": "stream",
     "text": [
      "aggregationDepth: suggested depth for treeAggregate (>= 2). (default: 2)\n",
      "elasticNetParam: the ElasticNet mixing parameter, in range [0, 1]. For alpha = 0, the penalty is an L2 penalty. For alpha = 1, it is an L1 penalty. (default: 0.0)\n",
      "family: The name of family which is a description of the label distribution to be used in the model. Supported options: auto, binomial, multinomial (default: auto)\n",
      "featuresCol: features column name. (default: features)\n",
      "fitIntercept: whether to fit an intercept term. (default: True)\n",
      "labelCol: label column name. (default: label)\n",
      "lowerBoundsOnCoefficients: The lower bounds on coefficients if fitting under bound constrained optimization. The bound matrix must be compatible with the shape (1, number of features) for binomial regression, or (number of classes, number of features) for multinomial regression. (undefined)\n",
      "lowerBoundsOnIntercepts: The lower bounds on intercepts if fitting under bound constrained optimization. The bounds vector size must beequal with 1 for binomial regression, or the number oflasses for multinomial regression. (undefined)\n",
      "maxIter: max number of iterations (>= 0). (default: 100, current: 100)\n",
      "predictionCol: prediction column name. (default: prediction)\n",
      "probabilityCol: Column name for predicted class conditional probabilities. Note: Not all models output well-calibrated probability estimates! These probabilities should be treated as confidences, not precise probabilities. (default: probability)\n",
      "rawPredictionCol: raw prediction (a.k.a. confidence) column name. (default: rawPrediction)\n",
      "regParam: regularization parameter (>= 0). (default: 0.0)\n",
      "standardization: whether to standardize the training features before fitting the model. (default: True)\n",
      "threshold: Threshold in binary classification prediction, in range [0, 1]. If threshold and thresholds are both set, they must match.e.g. if threshold is p, then thresholds must be equal to [1-p, p]. (default: 0.5)\n",
      "thresholds: Thresholds in multi-class classification to adjust the probability of predicting each class. Array must have length equal to the number of classes, with values > 0, excepting that at most one value may be 0. The class with largest value p/t is predicted, where p is the original probability of that class and t is the class's threshold. (undefined)\n",
      "tol: the convergence tolerance for iterative algorithms (>= 0). (default: 1e-06)\n",
      "upperBoundsOnCoefficients: The upper bounds on coefficients if fitting under bound constrained optimization. The bound matrix must be compatible with the shape (1, number of features) for binomial regression, or (number of classes, number of features) for multinomial regression. (undefined)\n",
      "upperBoundsOnIntercepts: The upper bounds on intercepts if fitting under bound constrained optimization. The bound vector size must be equal with 1 for binomial regression, or the number of classes for multinomial regression. (undefined)\n",
      "weightCol: weight column name. If this is not set or empty, we treat all instance weights as 1.0. (undefined)\n"
     ]
    }
   ],
   "source": [
    "#Logistic Regression\n",
    "from pyspark.ml.classification import LogisticRegression\n",
    "lr = LogisticRegression(maxIter=100)\n",
    "lrModel = lr.fit(train_data)\n",
    "print(lr.explainParams())"
   ]
  },
  {
   "cell_type": "code",
   "execution_count": 85,
   "metadata": {
    "ExecuteTime": {
     "end_time": "2018-12-03T19:19:13.175982Z",
     "start_time": "2018-12-03T19:19:11.139301Z"
    }
   },
   "outputs": [
    {
     "name": "stdout",
     "output_type": "stream",
     "text": [
      "______________________________________________\n",
      "Classifier: Logistic Regression\n",
      "Accuracy: 0.9495526412550558\n",
      "AUC: 0.6271442365308498\n",
      "Precision: 0.7534883720930232\n",
      "Recall: 0.2598235765838011\n",
      "F1-score: 0.38640429338103754\n",
      "______________________________________________\n",
      "\n"
     ]
    }
   ],
   "source": [
    "#Train prediction\n",
    "predictions =lrModel.transform(train_data)\n",
    "Y_true=np.array(predictions.select('label').collect())\n",
    "Y_pred=np.array(predictions.select('prediction').collect())\n",
    "display_metrics(\"Logistic Regression\",Y_pred,Y_true)"
   ]
  },
  {
   "cell_type": "code",
   "execution_count": 86,
   "metadata": {
    "ExecuteTime": {
     "end_time": "2018-12-03T19:19:17.363460Z",
     "start_time": "2018-12-03T19:19:16.741760Z"
    }
   },
   "outputs": [
    {
     "name": "stdout",
     "output_type": "stream",
     "text": [
      "______________________________________________\n",
      "Classifier: Logistic Regression\n",
      "Accuracy: 0.9147121535181236\n",
      "AUC: 0.5233132735885521\n",
      "Precision: 0.1467065868263473\n",
      "Recall: 0.07608695652173914\n",
      "F1-score: 0.10020449897750511\n",
      "______________________________________________\n",
      "\n"
     ]
    }
   ],
   "source": [
    "#Test prediction\n",
    "predictions =lrModel.transform(test_data)\n",
    "Y_true=np.array(predictions.select('label').collect())\n",
    "Y_pred=np.array(predictions.select('prediction').collect())\n",
    "display_metrics(\"Logistic Regression\",Y_pred,Y_true)"
   ]
  },
  {
   "cell_type": "code",
   "execution_count": 99,
   "metadata": {
    "ExecuteTime": {
     "end_time": "2018-12-03T19:32:22.302669Z",
     "start_time": "2018-12-03T19:29:49.371480Z"
    }
   },
   "outputs": [
    {
     "name": "stdout",
     "output_type": "stream",
     "text": [
      "aggregationDepth: suggested depth for treeAggregate (>= 2). (default: 2)\n",
      "featuresCol: features column name. (default: features)\n",
      "fitIntercept: whether to fit an intercept term. (default: True)\n",
      "labelCol: label column name. (default: label)\n",
      "maxIter: max number of iterations (>= 0). (default: 100, current: 100)\n",
      "predictionCol: prediction column name. (default: prediction)\n",
      "rawPredictionCol: raw prediction (a.k.a. confidence) column name. (default: rawPrediction)\n",
      "regParam: regularization parameter (>= 0). (default: 0.0)\n",
      "standardization: whether to standardize the training features before fitting the model. (default: True)\n",
      "threshold: The threshold in binary classification applied to the linear model prediction.  This threshold can be any real number, where Inf will make all predictions 0.0 and -Inf will make all predictions 1.0. (default: 0.0, current: 0.1)\n",
      "tol: the convergence tolerance for iterative algorithms (>= 0). (default: 1e-06)\n",
      "weightCol: weight column name. If this is not set or empty, we treat all instance weights as 1.0. (undefined)\n"
     ]
    }
   ],
   "source": [
    "#SVC\n",
    "from pyspark.ml.classification import LinearSVC\n",
    "lsvc = LinearSVC(maxIter=100)\n",
    "svcModel = lsvc.fit(train_data)\n",
    "print(lsvc.explainParams())"
   ]
  },
  {
   "cell_type": "code",
   "execution_count": 100,
   "metadata": {
    "ExecuteTime": {
     "end_time": "2018-12-03T19:32:35.981735Z",
     "start_time": "2018-12-03T19:32:33.888246Z"
    }
   },
   "outputs": [
    {
     "name": "stdout",
     "output_type": "stream",
     "text": [
      "______________________________________________\n",
      "Classifier: SVM\n",
      "Accuracy: 0.9405564407402868\n",
      "AUC: 0.5147703330058928\n",
      "Precision: 0.9367088607594937\n",
      "Recall: 0.02967121090617482\n",
      "F1-score: 0.05752040419743489\n",
      "______________________________________________\n",
      "\n"
     ]
    }
   ],
   "source": [
    "#Train prediction\n",
    "predictions = svcModel.transform(train_data)\n",
    "Y_true=np.array(predictions.select('label').collect())\n",
    "Y_pred=np.array(predictions.select('prediction').collect())\n",
    "display_metrics(\"SVM\",Y_pred,Y_true)"
   ]
  },
  {
   "cell_type": "code",
   "execution_count": 101,
   "metadata": {
    "ExecuteTime": {
     "end_time": "2018-12-03T19:32:40.640182Z",
     "start_time": "2018-12-03T19:32:40.025737Z"
    }
   },
   "outputs": [
    {
     "name": "stdout",
     "output_type": "stream",
     "text": [
      "______________________________________________\n",
      "Classifier: SVM\n",
      "Accuracy: 0.9358402791238613\n",
      "AUC: 0.5019685216312663\n",
      "Precision: 0.15384615384615385\n",
      "Recall: 0.006211180124223602\n",
      "F1-score: 0.011940298507462685\n",
      "______________________________________________\n",
      "\n"
     ]
    }
   ],
   "source": [
    "#Test prediction\n",
    "predictions = svcModel.transform(test_data)\n",
    "Y_true=np.array(predictions.select('label').collect())\n",
    "Y_pred=np.array(predictions.select('prediction').collect())\n",
    "display_metrics(\"SVM\",Y_pred,Y_true)"
   ]
  },
  {
   "cell_type": "code",
   "execution_count": 92,
   "metadata": {
    "ExecuteTime": {
     "end_time": "2018-12-03T19:23:53.555811Z",
     "start_time": "2018-12-03T19:23:52.255594Z"
    }
   },
   "outputs": [],
   "source": [
    "from pyspark.ml.classification import NaiveBayes\n",
    "nb = NaiveBayes(smoothing=1.0, modelType=\"multinomial\",thresholds=[neg_count,pos_count])\n",
    "\n",
    "# train the model\n",
    "nbModel = nb.fit(train_data)"
   ]
  },
  {
   "cell_type": "code",
   "execution_count": 93,
   "metadata": {
    "ExecuteTime": {
     "end_time": "2018-12-03T19:23:57.875111Z",
     "start_time": "2018-12-03T19:23:57.656299Z"
    }
   },
   "outputs": [
    {
     "name": "stdout",
     "output_type": "stream",
     "text": [
      "featuresCol: features column name. (default: features)\n",
      "labelCol: label column name. (default: label)\n",
      "modelType: The model type which is a string (case-sensitive). Supported options: multinomial (default) and bernoulli. (default: multinomial, current: multinomial)\n",
      "predictionCol: prediction column name. (default: prediction)\n",
      "probabilityCol: Column name for predicted class conditional probabilities. Note: Not all models output well-calibrated probability estimates! These probabilities should be treated as confidences, not precise probabilities. (default: probability)\n",
      "rawPredictionCol: raw prediction (a.k.a. confidence) column name. (default: rawPrediction)\n",
      "smoothing: The smoothing parameter, should be >= 0, default is 1.0 (default: 1.0, current: 1.0)\n",
      "thresholds: Thresholds in multi-class classification to adjust the probability of predicting each class. Array must have length equal to the number of classes, with values > 0, excepting that at most one value may be 0. The class with largest value p/t is predicted, where p is the original probability of that class and t is the class's threshold. (current: [38301.0, 2494.0])\n",
      "weightCol: weight column name. If this is not set or empty, we treat all instance weights as 1.0. (undefined)\n",
      "2494 38301\n"
     ]
    }
   ],
   "source": [
    "print(nb.explainParams())"
   ]
  },
  {
   "cell_type": "code",
   "execution_count": 72,
   "metadata": {
    "ExecuteTime": {
     "end_time": "2018-12-03T19:14:24.577984Z",
     "start_time": "2018-12-03T19:14:22.536029Z"
    }
   },
   "outputs": [
    {
     "name": "stdout",
     "output_type": "stream",
     "text": [
      "______________________________________________\n",
      "Classifier: Naive Bayes\n",
      "Accuracy: 0.6391959798994975\n",
      "AUC: 0.637667557826625\n",
      "Precision: 0.10300707930116257\n",
      "Recall: 0.6359262229350441\n",
      "F1-score: 0.1772958470739478\n",
      "______________________________________________\n",
      "\n"
     ]
    }
   ],
   "source": [
    "#Train metrics\n",
    "predictions = nbModel.transform(train_data)\n",
    "Y_true=np.array(predictions.select('label').collect())\n",
    "Y_pred=np.array(predictions.select('prediction').collect())\n",
    "display_metrics(\"Naive Bayes\",Y_pred,Y_true)"
   ]
  },
  {
   "cell_type": "code",
   "execution_count": 73,
   "metadata": {
    "ExecuteTime": {
     "end_time": "2018-12-03T19:14:30.651556Z",
     "start_time": "2018-12-03T19:14:30.019633Z"
    }
   },
   "outputs": [
    {
     "name": "stdout",
     "output_type": "stream",
     "text": [
      "______________________________________________\n",
      "Classifier: Naive Bayes\n",
      "Accuracy: 0.6355882923047103\n",
      "AUC: 0.6128911200798195\n",
      "Precision: 0.09762396694214875\n",
      "Recall: 0.5869565217391305\n",
      "F1-score: 0.16740478299379982\n",
      "______________________________________________\n",
      "\n"
     ]
    }
   ],
   "source": [
    "#Test prediction\n",
    "predictions = nbModel.transform(test_data)\n",
    "Y_true=np.array(predictions.select('label').collect())\n",
    "Y_pred=np.array(predictions.select('prediction').collect())\n",
    "display_metrics(\"Naive Bayes\",Y_pred,Y_true)"
   ]
  },
  {
   "cell_type": "code",
   "execution_count": 102,
   "metadata": {
    "ExecuteTime": {
     "end_time": "2018-12-03T19:33:14.771867Z",
     "start_time": "2018-12-03T19:33:14.764775Z"
    }
   },
   "outputs": [],
   "source": [
    "#Uncomment below line to install torch\n",
    "#!pip install torch"
   ]
  },
  {
   "cell_type": "code",
   "execution_count": 109,
   "metadata": {
    "ExecuteTime": {
     "end_time": "2018-12-03T19:34:13.242137Z",
     "start_time": "2018-12-03T19:34:13.227428Z"
    }
   },
   "outputs": [],
   "source": [
    "#DL libraries and pandas and numpy\n",
    "import numpy as np\n",
    "import pandas as pd\n",
    "from scipy import sparse\n",
    "import torch\n",
    "from torch.utils.data import TensorDataset, Dataset\n"
   ]
  },
  {
   "cell_type": "code",
   "execution_count": 104,
   "metadata": {
    "ExecuteTime": {
     "end_time": "2018-12-03T19:33:43.819363Z",
     "start_time": "2018-12-03T19:33:18.644416Z"
    }
   },
   "outputs": [],
   "source": [
    "#Convert to Pandas dataframe\n",
    "train_df = train_data.toPandas()\n",
    "test_df = test_data.toPandas()"
   ]
  },
  {
   "cell_type": "code",
   "execution_count": 105,
   "metadata": {
    "ExecuteTime": {
     "end_time": "2018-12-03T19:33:48.650100Z",
     "start_time": "2018-12-03T19:33:48.644754Z"
    }
   },
   "outputs": [
    {
     "name": "stdout",
     "output_type": "stream",
     "text": [
      "(40795, 5) (10318, 5)\n"
     ]
    }
   ],
   "source": [
    "print(train_df.shape,test_df.shape)"
   ]
  },
  {
   "cell_type": "code",
   "execution_count": 106,
   "metadata": {
    "ExecuteTime": {
     "end_time": "2018-12-03T19:33:50.113494Z",
     "start_time": "2018-12-03T19:33:50.104661Z"
    }
   },
   "outputs": [],
   "source": [
    "train_y = np.array(train_df['label'].values)\n",
    "test_y = np.array(test_df['label'].values)"
   ]
  },
  {
   "cell_type": "code",
   "execution_count": 158,
   "metadata": {
    "ExecuteTime": {
     "end_time": "2018-12-03T20:20:44.763336Z",
     "start_time": "2018-12-03T20:20:40.831184Z"
    }
   },
   "outputs": [],
   "source": [
    "#Create tensor datasets for MLP\n",
    "#train dataset\n",
    "target = torch.from_numpy(train_y.astype('long')).view(-1)\n",
    "\n",
    "series = train_df['features'].apply(lambda x : np.array(x.toArray())).as_matrix().reshape(-1,1)\n",
    "features = np.apply_along_axis(lambda x : x[0], 1, series)\n",
    "train_dataset = TensorDataset(torch.from_numpy(features.astype('float32')), target)\n",
    "\n",
    "#test dataset\n",
    "target = torch.from_numpy(test_y.astype('long')).view(-1)\n",
    "\n",
    "series = test_df['features'].apply(lambda x : np.array(x.toArray())).as_matrix().reshape(-1,1)\n",
    "features = np.apply_along_axis(lambda x : x[0], 1, series)\n",
    "test_dataset = TensorDataset(torch.from_numpy(features.astype('float32')), target)\n",
    "\n",
    "train_loader = torch.utils.data.DataLoader(train_dataset, batch_size=32, shuffle=True, num_workers=0)\n",
    "test_loader = torch.utils.data.DataLoader(test_dataset, batch_size=32, shuffle=True, num_workers=0)"
   ]
  },
  {
   "cell_type": "code",
   "execution_count": 159,
   "metadata": {
    "ExecuteTime": {
     "end_time": "2018-12-03T20:20:45.566175Z",
     "start_time": "2018-12-03T20:20:45.526671Z"
    }
   },
   "outputs": [],
   "source": [
    "import torch.nn as nn\n",
    "import torch.nn.functional as F\n",
    "\n",
    "class MyMLP(nn.Module):\n",
    "    def __init__(self):\n",
    "        super(MyMLP, self).__init__()\n",
    "        self.hidden1 = nn.Linear(4499,2056)\n",
    "        self.hidden2 = nn.Linear(2056,1028)\n",
    "        self.hidden3 = nn.Linear(1028,512)\n",
    "        self.hidden4 = nn.Linear(512,256)\n",
    "        self.hidden5 = nn.Linear(256,64)\n",
    "        self.hidden6 = nn.Linear(64,16)\n",
    "        self.out = nn.Linear(16,2)\n",
    "\n",
    "    def forward(self, x):\n",
    "        x = F.relu(self.hidden1(x))\n",
    "        x = F.relu(self.hidden2(x))\n",
    "        x = F.relu(self.hidden3(x))\n",
    "        x = F.relu(self.hidden4(x))\n",
    "        x = F.relu(self.hidden5(x))\n",
    "        x = F.relu(self.hidden6(x))\n",
    "        x = self.out(x)\n",
    "        return x"
   ]
  },
  {
   "cell_type": "code",
   "execution_count": 160,
   "metadata": {
    "ExecuteTime": {
     "end_time": "2018-12-03T20:20:49.567764Z",
     "start_time": "2018-12-03T20:20:49.453989Z"
    }
   },
   "outputs": [
    {
     "name": "stdout",
     "output_type": "stream",
     "text": [
      "tensor([0.0651, 0.9349])\n"
     ]
    }
   ],
   "source": [
    "import torch.optim as optim\n",
    "model = MyMLP()\n",
    "save_file = 'MyMLP.pth'\n",
    "class_weightage = torch.tensor([pos_count/neg_count,1-pos_count/neg_count])\n",
    "print(class_weightage)\n",
    "criterion = nn.CrossEntropyLoss(class_weightage)\n",
    "optimizer = optim.Adam(model.parameters())\n",
    "\n",
    "best_val_acc = 0.0\n",
    "NUM_EPOCHS=3\n",
    "device = torch.device(\"cuda\" if torch.cuda.is_available() else \"cpu\")"
   ]
  },
  {
   "cell_type": "code",
   "execution_count": 161,
   "metadata": {
    "ExecuteTime": {
     "end_time": "2018-12-03T20:38:07.070471Z",
     "start_time": "2018-12-03T20:20:51.274996Z"
    }
   },
   "outputs": [
    {
     "name": "stdout",
     "output_type": "stream",
     "text": [
      "Epoch: [0][0/1275]\tTime 0.237 (0.237)\tData 0.004 (0.004)\tLoss 0.6593 (0.6593)\tAccuracy 15.000 (15.000)\n",
      "Epoch: [0][10/1275]\tTime 0.132 (0.214)\tData 0.001 (0.001)\tLoss 0.7355 (0.7165)\tAccuracy 0.000 (5.455)\n",
      "Epoch: [0][20/1275]\tTime 0.119 (0.171)\tData 0.001 (0.001)\tLoss 0.7111 (0.7080)\tAccuracy 3.000 (6.571)\n",
      "Epoch: [0][30/1275]\tTime 0.121 (0.158)\tData 0.001 (0.001)\tLoss 0.7106 (0.7044)\tAccuracy 84.000 (20.065)\n",
      "Epoch: [0][40/1275]\tTime 0.117 (0.151)\tData 0.001 (0.001)\tLoss 0.6939 (0.7029)\tAccuracy 50.000 (33.488)\n",
      "Epoch: [0][50/1275]\tTime 0.116 (0.146)\tData 0.001 (0.001)\tLoss 0.7667 (0.7048)\tAccuracy 84.000 (43.725)\n",
      "Epoch: [0][60/1275]\tTime 0.165 (0.145)\tData 0.001 (0.001)\tLoss 0.6956 (0.7033)\tAccuracy 12.000 (45.180)\n",
      "Epoch: [0][70/1275]\tTime 0.458 (0.158)\tData 0.001 (0.001)\tLoss 0.6909 (0.7026)\tAccuracy 9.000 (39.789)\n",
      "Epoch: [0][80/1275]\tTime 0.140 (0.162)\tData 0.001 (0.001)\tLoss 0.6822 (0.7003)\tAccuracy 90.000 (41.531)\n",
      "Epoch: [0][90/1275]\tTime 0.134 (0.159)\tData 0.001 (0.001)\tLoss 0.7577 (0.7116)\tAccuracy 90.000 (47.429)\n",
      "Epoch: [0][100/1275]\tTime 0.126 (0.157)\tData 0.001 (0.001)\tLoss 0.6971 (0.7109)\tAccuracy 62.000 (50.752)\n",
      "Epoch: [0][110/1275]\tTime 0.289 (0.165)\tData 0.002 (0.001)\tLoss 0.6900 (0.7091)\tAccuracy 93.000 (53.270)\n",
      "Epoch: [0][120/1275]\tTime 0.147 (0.167)\tData 0.001 (0.001)\tLoss 0.7057 (0.7082)\tAccuracy 90.000 (56.562)\n",
      "Epoch: [0][130/1275]\tTime 0.122 (0.164)\tData 0.001 (0.001)\tLoss 0.7039 (0.7068)\tAccuracy 87.000 (59.260)\n",
      "Epoch: [0][140/1275]\tTime 0.135 (0.162)\tData 0.001 (0.001)\tLoss 0.6876 (0.7057)\tAccuracy 90.000 (60.986)\n",
      "Epoch: [0][150/1275]\tTime 0.128 (0.160)\tData 0.001 (0.001)\tLoss 0.6603 (0.7048)\tAccuracy 87.000 (62.815)\n",
      "Epoch: [0][160/1275]\tTime 0.119 (0.158)\tData 0.001 (0.001)\tLoss 0.7388 (0.7033)\tAccuracy 87.000 (64.298)\n",
      "Epoch: [0][170/1275]\tTime 0.116 (0.155)\tData 0.001 (0.001)\tLoss 0.6933 (0.7034)\tAccuracy 96.000 (66.018)\n",
      "Epoch: [0][180/1275]\tTime 0.116 (0.154)\tData 0.001 (0.001)\tLoss 0.6980 (0.7025)\tAccuracy 84.000 (67.475)\n",
      "Epoch: [0][190/1275]\tTime 0.126 (0.153)\tData 0.001 (0.001)\tLoss 0.7035 (0.7025)\tAccuracy 84.000 (68.764)\n",
      "Epoch: [0][200/1275]\tTime 0.214 (0.155)\tData 0.001 (0.001)\tLoss 0.6563 (0.7015)\tAccuracy 90.000 (68.995)\n",
      "Epoch: [0][210/1275]\tTime 0.174 (0.159)\tData 0.002 (0.001)\tLoss 0.6862 (0.7011)\tAccuracy 90.000 (70.137)\n",
      "Epoch: [0][220/1275]\tTime 0.171 (0.160)\tData 0.001 (0.001)\tLoss 0.4498 (0.6973)\tAccuracy 100.000 (71.312)\n",
      "Epoch: [0][230/1275]\tTime 0.188 (0.161)\tData 0.001 (0.001)\tLoss 0.6406 (0.6991)\tAccuracy 96.000 (72.268)\n",
      "Epoch: [0][240/1275]\tTime 0.157 (0.161)\tData 0.001 (0.001)\tLoss 0.6517 (0.6982)\tAccuracy 96.000 (73.149)\n",
      "Epoch: [0][250/1275]\tTime 0.252 (0.163)\tData 0.001 (0.001)\tLoss 0.8817 (0.6972)\tAccuracy 87.000 (74.000)\n",
      "Epoch: [0][260/1275]\tTime 0.170 (0.163)\tData 0.001 (0.001)\tLoss 0.7099 (0.6974)\tAccuracy 87.000 (74.736)\n",
      "Epoch: [0][270/1275]\tTime 0.158 (0.164)\tData 0.001 (0.001)\tLoss 0.7005 (0.6970)\tAccuracy 65.000 (74.934)\n",
      "Epoch: [0][280/1275]\tTime 0.296 (0.166)\tData 0.002 (0.001)\tLoss 0.6684 (0.6974)\tAccuracy 62.000 (74.452)\n",
      "Epoch: [0][290/1275]\tTime 0.191 (0.167)\tData 0.001 (0.001)\tLoss 0.6273 (0.6969)\tAccuracy 93.000 (74.038)\n",
      "Epoch: [0][300/1275]\tTime 0.184 (0.168)\tData 0.001 (0.001)\tLoss 0.5774 (0.7063)\tAccuracy 81.000 (74.329)\n",
      "Epoch: [0][310/1275]\tTime 0.211 (0.168)\tData 0.001 (0.001)\tLoss 0.6875 (0.7057)\tAccuracy 56.000 (73.650)\n",
      "Epoch: [0][320/1275]\tTime 0.169 (0.168)\tData 0.001 (0.001)\tLoss 0.6711 (0.7049)\tAccuracy 56.000 (73.146)\n",
      "Epoch: [0][330/1275]\tTime 0.170 (0.169)\tData 0.001 (0.001)\tLoss 0.6696 (0.7052)\tAccuracy 71.000 (73.508)\n",
      "Epoch: [0][340/1275]\tTime 0.188 (0.169)\tData 0.001 (0.001)\tLoss 0.6573 (0.7047)\tAccuracy 78.000 (73.293)\n",
      "Epoch: [0][350/1275]\tTime 0.163 (0.169)\tData 0.001 (0.001)\tLoss 0.6995 (0.7049)\tAccuracy 65.000 (73.342)\n",
      "Epoch: [0][360/1275]\tTime 0.155 (0.170)\tData 0.001 (0.001)\tLoss 0.6891 (0.7043)\tAccuracy 81.000 (73.465)\n",
      "Epoch: [0][370/1275]\tTime 0.150 (0.170)\tData 0.001 (0.001)\tLoss 0.7142 (0.7038)\tAccuracy 68.000 (73.561)\n",
      "Epoch: [0][380/1275]\tTime 0.158 (0.170)\tData 0.001 (0.001)\tLoss 0.6409 (0.7025)\tAccuracy 71.000 (73.572)\n",
      "Epoch: [0][390/1275]\tTime 0.164 (0.170)\tData 0.001 (0.001)\tLoss 0.6609 (0.7033)\tAccuracy 84.000 (73.404)\n",
      "Epoch: [0][400/1275]\tTime 0.147 (0.170)\tData 0.001 (0.001)\tLoss 0.6885 (0.7024)\tAccuracy 87.000 (73.691)\n",
      "Epoch: [0][410/1275]\tTime 0.161 (0.170)\tData 0.001 (0.001)\tLoss 0.4373 (0.7008)\tAccuracy 100.000 (74.136)\n",
      "Epoch: [0][420/1275]\tTime 0.144 (0.169)\tData 0.001 (0.001)\tLoss 0.7011 (0.7019)\tAccuracy 93.000 (74.622)\n",
      "Epoch: [0][430/1275]\tTime 0.116 (0.168)\tData 0.001 (0.001)\tLoss 0.6676 (0.7013)\tAccuracy 96.000 (75.074)\n",
      "Epoch: [0][440/1275]\tTime 0.115 (0.167)\tData 0.001 (0.001)\tLoss 0.6654 (0.7011)\tAccuracy 96.000 (75.469)\n",
      "Epoch: [0][450/1275]\tTime 0.143 (0.167)\tData 0.001 (0.001)\tLoss 0.7115 (0.7009)\tAccuracy 90.000 (75.840)\n",
      "Epoch: [0][460/1275]\tTime 0.129 (0.166)\tData 0.001 (0.001)\tLoss 0.6773 (0.7005)\tAccuracy 93.000 (76.226)\n",
      "Epoch: [0][470/1275]\tTime 0.123 (0.166)\tData 0.001 (0.001)\tLoss 0.6562 (0.6999)\tAccuracy 87.000 (76.531)\n",
      "Epoch: [0][480/1275]\tTime 0.165 (0.166)\tData 0.001 (0.001)\tLoss 0.6309 (0.6999)\tAccuracy 78.000 (76.464)\n",
      "Epoch: [0][490/1275]\tTime 0.146 (0.166)\tData 0.001 (0.001)\tLoss 0.7037 (0.6990)\tAccuracy 84.000 (76.609)\n",
      "Epoch: [0][500/1275]\tTime 0.115 (0.166)\tData 0.001 (0.001)\tLoss 0.6575 (0.6989)\tAccuracy 78.000 (76.567)\n",
      "Epoch: [0][510/1275]\tTime 0.140 (0.166)\tData 0.001 (0.001)\tLoss 0.5662 (0.6982)\tAccuracy 93.000 (76.597)\n",
      "Epoch: [0][520/1275]\tTime 0.119 (0.165)\tData 0.001 (0.001)\tLoss 0.5440 (0.6968)\tAccuracy 90.000 (76.639)\n",
      "Epoch: [0][530/1275]\tTime 0.127 (0.165)\tData 0.001 (0.001)\tLoss 0.7446 (0.6967)\tAccuracy 87.000 (76.685)\n",
      "Epoch: [0][540/1275]\tTime 0.189 (0.164)\tData 0.001 (0.001)\tLoss 0.6831 (0.6968)\tAccuracy 90.000 (76.909)\n",
      "Epoch: [0][550/1275]\tTime 0.112 (0.163)\tData 0.001 (0.001)\tLoss 0.5365 (0.6960)\tAccuracy 90.000 (76.978)\n",
      "Epoch: [0][560/1275]\tTime 0.125 (0.162)\tData 0.001 (0.001)\tLoss 0.6213 (0.6954)\tAccuracy 71.000 (76.920)\n",
      "Epoch: [0][570/1275]\tTime 0.214 (0.162)\tData 0.001 (0.001)\tLoss 0.5311 (0.6948)\tAccuracy 78.000 (76.925)\n",
      "Epoch: [0][580/1275]\tTime 0.173 (0.162)\tData 0.001 (0.001)\tLoss 0.7257 (0.6938)\tAccuracy 59.000 (76.745)\n",
      "Epoch: [0][590/1275]\tTime 0.122 (0.162)\tData 0.001 (0.001)\tLoss 0.7190 (0.6938)\tAccuracy 62.000 (76.389)\n",
      "Epoch: [0][600/1275]\tTime 0.157 (0.162)\tData 0.001 (0.001)\tLoss 0.6695 (0.6937)\tAccuracy 87.000 (76.396)\n",
      "Epoch: [0][610/1275]\tTime 0.163 (0.162)\tData 0.001 (0.001)\tLoss 0.6424 (0.6925)\tAccuracy 78.000 (76.432)\n",
      "Epoch: [0][620/1275]\tTime 0.196 (0.162)\tData 0.001 (0.001)\tLoss 0.7549 (0.6924)\tAccuracy 78.000 (76.438)\n",
      "Epoch: [0][630/1275]\tTime 0.224 (0.163)\tData 0.001 (0.001)\tLoss 0.6228 (0.6928)\tAccuracy 81.000 (76.339)\n",
      "Epoch: [0][640/1275]\tTime 0.342 (0.166)\tData 0.001 (0.001)\tLoss 0.7054 (0.6929)\tAccuracy 84.000 (76.359)\n",
      "Epoch: [0][650/1275]\tTime 0.285 (0.169)\tData 0.001 (0.001)\tLoss 0.6313 (0.6927)\tAccuracy 75.000 (76.366)\n",
      "Epoch: [0][660/1275]\tTime 0.245 (0.170)\tData 0.001 (0.001)\tLoss 0.6594 (0.6923)\tAccuracy 78.000 (76.327)\n",
      "Epoch: [0][670/1275]\tTime 0.249 (0.171)\tData 0.001 (0.001)\tLoss 0.6710 (0.6921)\tAccuracy 84.000 (76.441)\n",
      "Epoch: [0][680/1275]\tTime 0.291 (0.173)\tData 0.001 (0.001)\tLoss 0.6511 (0.6915)\tAccuracy 93.000 (76.686)\n",
      "Epoch: [0][690/1275]\tTime 0.261 (0.174)\tData 0.001 (0.001)\tLoss 0.6569 (0.6910)\tAccuracy 87.000 (76.861)\n",
      "Epoch: [0][700/1275]\tTime 0.263 (0.176)\tData 0.001 (0.001)\tLoss 0.6960 (0.6909)\tAccuracy 90.000 (76.913)\n",
      "Epoch: [0][710/1275]\tTime 0.274 (0.177)\tData 0.001 (0.001)\tLoss 0.7039 (0.6905)\tAccuracy 90.000 (76.990)\n",
      "Epoch: [0][720/1275]\tTime 0.288 (0.179)\tData 0.001 (0.001)\tLoss 0.5163 (0.6903)\tAccuracy 100.000 (77.219)\n",
      "Epoch: [0][730/1275]\tTime 0.278 (0.180)\tData 0.001 (0.001)\tLoss 0.7543 (0.6901)\tAccuracy 90.000 (77.442)\n",
      "Epoch: [0][740/1275]\tTime 0.279 (0.182)\tData 0.001 (0.001)\tLoss 0.5778 (0.6902)\tAccuracy 96.000 (77.671)\n",
      "Epoch: [0][750/1275]\tTime 0.278 (0.183)\tData 0.001 (0.001)\tLoss 0.7303 (0.6899)\tAccuracy 90.000 (77.883)\n",
      "Epoch: [0][760/1275]\tTime 0.292 (0.184)\tData 0.001 (0.001)\tLoss 0.6943 (0.6896)\tAccuracy 90.000 (78.062)\n",
      "Epoch: [0][770/1275]\tTime 0.280 (0.186)\tData 0.001 (0.001)\tLoss 0.6607 (0.6891)\tAccuracy 93.000 (78.230)\n",
      "Epoch: [0][780/1275]\tTime 0.263 (0.187)\tData 0.001 (0.001)\tLoss 0.7331 (0.6886)\tAccuracy 78.000 (78.365)\n"
     ]
    },
    {
     "name": "stdout",
     "output_type": "stream",
     "text": [
      "Epoch: [0][790/1275]\tTime 0.264 (0.188)\tData 0.001 (0.001)\tLoss 0.8064 (0.6887)\tAccuracy 50.000 (78.217)\n",
      "Epoch: [0][800/1275]\tTime 0.249 (0.189)\tData 0.001 (0.001)\tLoss 0.6344 (0.6880)\tAccuracy 75.000 (78.084)\n",
      "Epoch: [0][810/1275]\tTime 0.238 (0.190)\tData 0.001 (0.001)\tLoss 0.6186 (0.6877)\tAccuracy 65.000 (77.942)\n",
      "Epoch: [0][820/1275]\tTime 0.244 (0.190)\tData 0.001 (0.001)\tLoss 0.6583 (0.6878)\tAccuracy 75.000 (78.049)\n",
      "Epoch: [0][830/1275]\tTime 0.237 (0.191)\tData 0.001 (0.001)\tLoss 0.6028 (0.6871)\tAccuracy 75.000 (78.019)\n",
      "Epoch: [0][840/1275]\tTime 0.239 (0.192)\tData 0.001 (0.001)\tLoss 0.6270 (0.6869)\tAccuracy 78.000 (77.951)\n",
      "Epoch: [0][850/1275]\tTime 0.242 (0.192)\tData 0.001 (0.001)\tLoss 0.6936 (0.6868)\tAccuracy 81.000 (77.938)\n",
      "Epoch: [0][860/1275]\tTime 0.254 (0.193)\tData 0.001 (0.001)\tLoss 0.6348 (0.6857)\tAccuracy 90.000 (78.046)\n",
      "Epoch: [0][870/1275]\tTime 0.266 (0.194)\tData 0.001 (0.001)\tLoss 0.5779 (0.6851)\tAccuracy 90.000 (78.185)\n",
      "Epoch: [0][880/1275]\tTime 0.246 (0.194)\tData 0.001 (0.001)\tLoss 0.4230 (0.6839)\tAccuracy 96.000 (78.338)\n",
      "Epoch: [0][890/1275]\tTime 0.253 (0.195)\tData 0.001 (0.001)\tLoss 0.6768 (0.6843)\tAccuracy 65.000 (78.268)\n",
      "Epoch: [0][900/1275]\tTime 0.253 (0.196)\tData 0.001 (0.001)\tLoss 0.7092 (0.6844)\tAccuracy 53.000 (77.940)\n",
      "Epoch: [0][910/1275]\tTime 0.254 (0.196)\tData 0.001 (0.001)\tLoss 0.6872 (0.6845)\tAccuracy 93.000 (78.014)\n",
      "Epoch: [0][920/1275]\tTime 0.252 (0.197)\tData 0.001 (0.001)\tLoss 0.7003 (0.6845)\tAccuracy 90.000 (78.164)\n",
      "Epoch: [0][930/1275]\tTime 0.257 (0.198)\tData 0.001 (0.001)\tLoss 0.6101 (0.6845)\tAccuracy 84.000 (78.292)\n",
      "Epoch: [0][940/1275]\tTime 0.275 (0.199)\tData 0.001 (0.001)\tLoss 0.5833 (0.6842)\tAccuracy 81.000 (78.352)\n",
      "Epoch: [0][950/1275]\tTime 0.262 (0.199)\tData 0.001 (0.001)\tLoss 0.6894 (0.6845)\tAccuracy 71.000 (78.252)\n",
      "Epoch: [0][960/1275]\tTime 0.261 (0.200)\tData 0.001 (0.001)\tLoss 0.6439 (0.6842)\tAccuracy 81.000 (78.185)\n",
      "Epoch: [0][970/1275]\tTime 0.266 (0.201)\tData 0.001 (0.001)\tLoss 0.6226 (0.6835)\tAccuracy 75.000 (78.225)\n",
      "Epoch: [0][980/1275]\tTime 0.273 (0.201)\tData 0.001 (0.001)\tLoss 0.7287 (0.6842)\tAccuracy 50.000 (77.975)\n",
      "Epoch: [0][990/1275]\tTime 0.284 (0.202)\tData 0.001 (0.001)\tLoss 0.6733 (0.6839)\tAccuracy 81.000 (77.971)\n",
      "Epoch: [0][1000/1275]\tTime 0.264 (0.203)\tData 0.001 (0.001)\tLoss 0.7102 (0.6839)\tAccuracy 90.000 (78.109)\n",
      "Epoch: [0][1010/1275]\tTime 0.264 (0.203)\tData 0.001 (0.001)\tLoss 0.7449 (0.6838)\tAccuracy 87.000 (78.266)\n",
      "Epoch: [0][1020/1275]\tTime 0.260 (0.204)\tData 0.001 (0.001)\tLoss 0.7433 (0.6841)\tAccuracy 87.000 (78.393)\n",
      "Epoch: [0][1030/1275]\tTime 0.260 (0.205)\tData 0.001 (0.001)\tLoss 0.7227 (0.6840)\tAccuracy 78.000 (78.512)\n",
      "Epoch: [0][1040/1275]\tTime 0.280 (0.205)\tData 0.001 (0.001)\tLoss 0.7333 (0.6841)\tAccuracy 75.000 (78.571)\n",
      "Epoch: [0][1050/1275]\tTime 0.261 (0.206)\tData 0.001 (0.001)\tLoss 0.7161 (0.6840)\tAccuracy 56.000 (78.461)\n",
      "Epoch: [0][1060/1275]\tTime 0.264 (0.206)\tData 0.001 (0.001)\tLoss 0.6280 (0.6837)\tAccuracy 68.000 (78.321)\n",
      "Epoch: [0][1070/1275]\tTime 0.258 (0.207)\tData 0.001 (0.001)\tLoss 0.6655 (0.6835)\tAccuracy 62.000 (78.251)\n",
      "Epoch: [0][1080/1275]\tTime 0.258 (0.208)\tData 0.001 (0.001)\tLoss 0.6973 (0.6833)\tAccuracy 75.000 (78.163)\n",
      "Epoch: [0][1090/1275]\tTime 0.257 (0.208)\tData 0.001 (0.001)\tLoss 0.7455 (0.6830)\tAccuracy 65.000 (78.097)\n",
      "Epoch: [0][1100/1275]\tTime 0.255 (0.209)\tData 0.001 (0.001)\tLoss 0.6207 (0.6829)\tAccuracy 84.000 (78.064)\n",
      "Epoch: [0][1110/1275]\tTime 0.284 (0.209)\tData 0.001 (0.001)\tLoss 0.5898 (0.6828)\tAccuracy 90.000 (78.077)\n",
      "Epoch: [0][1120/1275]\tTime 0.254 (0.210)\tData 0.001 (0.001)\tLoss 0.6203 (0.6827)\tAccuracy 96.000 (78.152)\n",
      "Epoch: [0][1130/1275]\tTime 0.388 (0.210)\tData 0.001 (0.001)\tLoss 0.7371 (0.6825)\tAccuracy 81.000 (78.218)\n",
      "Epoch: [0][1140/1275]\tTime 0.265 (0.211)\tData 0.001 (0.001)\tLoss 0.5948 (0.6821)\tAccuracy 87.000 (78.266)\n",
      "Epoch: [0][1150/1275]\tTime 0.253 (0.211)\tData 0.001 (0.001)\tLoss 0.4208 (0.6812)\tAccuracy 71.000 (78.207)\n",
      "Epoch: [0][1160/1275]\tTime 0.256 (0.212)\tData 0.001 (0.001)\tLoss 0.4422 (0.6806)\tAccuracy 84.000 (78.143)\n",
      "Epoch: [0][1170/1275]\tTime 0.266 (0.212)\tData 0.001 (0.001)\tLoss 1.0658 (0.6804)\tAccuracy 90.000 (78.239)\n",
      "Epoch: [0][1180/1275]\tTime 0.261 (0.212)\tData 0.001 (0.001)\tLoss 0.7198 (0.6802)\tAccuracy 84.000 (78.329)\n",
      "Epoch: [0][1190/1275]\tTime 0.257 (0.213)\tData 0.001 (0.001)\tLoss 0.5470 (0.6797)\tAccuracy 87.000 (78.405)\n",
      "Epoch: [0][1200/1275]\tTime 0.253 (0.213)\tData 0.001 (0.001)\tLoss 0.4508 (0.6795)\tAccuracy 81.000 (78.395)\n",
      "Epoch: [0][1210/1275]\tTime 0.261 (0.214)\tData 0.001 (0.001)\tLoss 0.5839 (0.6793)\tAccuracy 68.000 (78.348)\n",
      "Epoch: [0][1220/1275]\tTime 0.255 (0.214)\tData 0.001 (0.001)\tLoss 0.7833 (0.6788)\tAccuracy 71.000 (78.305)\n",
      "Epoch: [0][1230/1275]\tTime 0.259 (0.214)\tData 0.001 (0.001)\tLoss 0.6963 (0.6786)\tAccuracy 62.000 (78.210)\n",
      "Epoch: [0][1240/1275]\tTime 0.268 (0.215)\tData 0.001 (0.001)\tLoss 1.2427 (0.6781)\tAccuracy 71.000 (78.218)\n",
      "Epoch: [0][1250/1275]\tTime 0.263 (0.215)\tData 0.001 (0.001)\tLoss 0.7050 (0.6789)\tAccuracy 50.000 (78.025)\n",
      "Epoch: [0][1260/1275]\tTime 0.256 (0.216)\tData 0.001 (0.001)\tLoss 0.7381 (0.6792)\tAccuracy 87.000 (77.907)\n",
      "Epoch: [0][1270/1275]\tTime 0.270 (0.216)\tData 0.001 (0.001)\tLoss 0.7288 (0.6791)\tAccuracy 90.000 (78.035)\n",
      "Test: [0/323]\tTime 0.021 (0.021)\tLoss 0.6589 (0.6589)\tAccuracy 96.000 (96.000)\n"
     ]
    },
    {
     "name": "stderr",
     "output_type": "stream",
     "text": [
      "/opt/conda/lib/python3.6/site-packages/sklearn/metrics/classification.py:1135: UndefinedMetricWarning: Precision is ill-defined and being set to 0.0 due to no predicted samples.\n",
      "  'precision', 'predicted', average, warn_for)\n",
      "/opt/conda/lib/python3.6/site-packages/sklearn/metrics/classification.py:1135: UndefinedMetricWarning: F-score is ill-defined and being set to 0.0 due to no predicted samples.\n",
      "  'precision', 'predicted', average, warn_for)\n",
      "/opt/conda/lib/python3.6/site-packages/torch/serialization.py:241: UserWarning: Couldn't retrieve source code for container of type MyMLP. It won't be checked for correctness upon loading.\n",
      "  \"type \" + obj.__name__ + \". It won't be checked \"\n"
     ]
    },
    {
     "name": "stdout",
     "output_type": "stream",
     "text": [
      "0.5 0.0\n",
      "Epoch: [1][0/1275]\tTime 0.351 (0.351)\tData 0.003 (0.003)\tLoss 0.7492 (0.7492)\tAccuracy 87.000 (87.000)\n",
      "Epoch: [1][10/1275]\tTime 0.262 (0.278)\tData 0.001 (0.001)\tLoss 0.6533 (0.6891)\tAccuracy 96.000 (91.091)\n",
      "Epoch: [1][20/1275]\tTime 0.259 (0.273)\tData 0.001 (0.001)\tLoss 0.7139 (0.6888)\tAccuracy 78.000 (89.143)\n",
      "Epoch: [1][30/1275]\tTime 0.259 (0.270)\tData 0.001 (0.001)\tLoss 0.6658 (0.6756)\tAccuracy 62.000 (85.710)\n",
      "Epoch: [1][40/1275]\tTime 0.256 (0.269)\tData 0.001 (0.001)\tLoss 0.6658 (0.6742)\tAccuracy 96.000 (85.537)\n",
      "Epoch: [1][50/1275]\tTime 0.260 (0.268)\tData 0.001 (0.001)\tLoss 0.6455 (0.6722)\tAccuracy 81.000 (85.765)\n",
      "Epoch: [1][60/1275]\tTime 0.265 (0.268)\tData 0.001 (0.001)\tLoss 0.6059 (0.6742)\tAccuracy 71.000 (84.180)\n",
      "Epoch: [1][70/1275]\tTime 0.261 (0.267)\tData 0.001 (0.001)\tLoss 0.4474 (0.6630)\tAccuracy 93.000 (84.042)\n",
      "Epoch: [1][80/1275]\tTime 0.262 (0.266)\tData 0.001 (0.001)\tLoss 0.6919 (0.6682)\tAccuracy 71.000 (84.210)\n",
      "Epoch: [1][90/1275]\tTime 0.263 (0.266)\tData 0.001 (0.001)\tLoss 0.7544 (0.6678)\tAccuracy 84.000 (83.879)\n",
      "Epoch: [1][100/1275]\tTime 0.287 (0.267)\tData 0.001 (0.001)\tLoss 0.6014 (0.6583)\tAccuracy 78.000 (83.792)\n",
      "Epoch: [1][110/1275]\tTime 0.258 (0.267)\tData 0.001 (0.001)\tLoss 0.5698 (0.6548)\tAccuracy 75.000 (82.739)\n",
      "Epoch: [1][120/1275]\tTime 0.262 (0.266)\tData 0.001 (0.001)\tLoss 0.5393 (0.6524)\tAccuracy 75.000 (81.893)\n",
      "Epoch: [1][130/1275]\tTime 0.262 (0.266)\tData 0.001 (0.001)\tLoss 0.4225 (0.6473)\tAccuracy 71.000 (80.878)\n",
      "Epoch: [1][140/1275]\tTime 0.260 (0.267)\tData 0.001 (0.001)\tLoss 0.6953 (0.6502)\tAccuracy 71.000 (79.730)\n",
      "Epoch: [1][150/1275]\tTime 0.264 (0.266)\tData 0.001 (0.001)\tLoss 0.5750 (0.6526)\tAccuracy 46.000 (77.808)\n",
      "Epoch: [1][160/1275]\tTime 0.263 (0.266)\tData 0.001 (0.001)\tLoss 0.7890 (0.6558)\tAccuracy 65.000 (76.658)\n",
      "Epoch: [1][170/1275]\tTime 0.256 (0.266)\tData 0.001 (0.001)\tLoss 0.7040 (0.6569)\tAccuracy 81.000 (76.363)\n",
      "Epoch: [1][180/1275]\tTime 0.261 (0.266)\tData 0.001 (0.001)\tLoss 0.6190 (0.6554)\tAccuracy 81.000 (76.425)\n",
      "Epoch: [1][190/1275]\tTime 0.279 (0.266)\tData 0.001 (0.001)\tLoss 0.5381 (0.6560)\tAccuracy 68.000 (76.131)\n",
      "Epoch: [1][200/1275]\tTime 0.275 (0.267)\tData 0.001 (0.001)\tLoss 0.7108 (0.6566)\tAccuracy 78.000 (75.746)\n",
      "Epoch: [1][210/1275]\tTime 0.257 (0.268)\tData 0.001 (0.001)\tLoss 0.6028 (0.6565)\tAccuracy 87.000 (76.033)\n",
      "Epoch: [1][220/1275]\tTime 0.261 (0.268)\tData 0.001 (0.001)\tLoss 0.6682 (0.6558)\tAccuracy 75.000 (75.882)\n",
      "Epoch: [1][230/1275]\tTime 0.262 (0.268)\tData 0.001 (0.001)\tLoss 0.6890 (0.6547)\tAccuracy 87.000 (76.294)\n",
      "Epoch: [1][240/1275]\tTime 0.259 (0.268)\tData 0.001 (0.001)\tLoss 0.5584 (0.6553)\tAccuracy 65.000 (76.295)\n",
      "Epoch: [1][250/1275]\tTime 0.286 (0.268)\tData 0.001 (0.001)\tLoss 0.5968 (0.6538)\tAccuracy 65.000 (75.765)\n",
      "Epoch: [1][260/1275]\tTime 0.284 (0.269)\tData 0.001 (0.001)\tLoss 0.4840 (0.6518)\tAccuracy 81.000 (75.851)\n",
      "Epoch: [1][270/1275]\tTime 0.321 (0.270)\tData 0.001 (0.001)\tLoss 0.5987 (0.6537)\tAccuracy 81.000 (75.934)\n",
      "Epoch: [1][280/1275]\tTime 0.433 (0.273)\tData 0.001 (0.001)\tLoss 0.7978 (0.6550)\tAccuracy 84.000 (76.338)\n",
      "Epoch: [1][290/1275]\tTime 0.276 (0.275)\tData 0.001 (0.001)\tLoss 0.7820 (0.6551)\tAccuracy 81.000 (76.880)\n",
      "Epoch: [1][300/1275]\tTime 0.260 (0.274)\tData 0.001 (0.001)\tLoss 0.7367 (0.6550)\tAccuracy 68.000 (76.960)\n",
      "Epoch: [1][310/1275]\tTime 0.266 (0.274)\tData 0.001 (0.001)\tLoss 0.6814 (0.6531)\tAccuracy 71.000 (77.190)\n",
      "Epoch: [1][320/1275]\tTime 0.263 (0.274)\tData 0.001 (0.001)\tLoss 0.7593 (0.6547)\tAccuracy 65.000 (77.118)\n",
      "Epoch: [1][330/1275]\tTime 0.265 (0.274)\tData 0.001 (0.001)\tLoss 0.6139 (0.6538)\tAccuracy 78.000 (77.097)\n",
      "Epoch: [1][340/1275]\tTime 0.261 (0.274)\tData 0.001 (0.001)\tLoss 0.7912 (0.6539)\tAccuracy 46.000 (76.912)\n",
      "Epoch: [1][350/1275]\tTime 0.262 (0.274)\tData 0.001 (0.001)\tLoss 0.6453 (0.6525)\tAccuracy 75.000 (76.419)\n",
      "Epoch: [1][360/1275]\tTime 0.268 (0.274)\tData 0.001 (0.001)\tLoss 0.6026 (0.6509)\tAccuracy 84.000 (76.410)\n",
      "Epoch: [1][370/1275]\tTime 0.263 (0.273)\tData 0.001 (0.001)\tLoss 0.6138 (0.6528)\tAccuracy 59.000 (76.224)\n",
      "Epoch: [1][380/1275]\tTime 0.266 (0.273)\tData 0.001 (0.001)\tLoss 0.6264 (0.6530)\tAccuracy 65.000 (76.037)\n",
      "Epoch: [1][390/1275]\tTime 0.269 (0.273)\tData 0.001 (0.001)\tLoss 0.6511 (0.6528)\tAccuracy 71.000 (76.049)\n",
      "Epoch: [1][400/1275]\tTime 0.270 (0.273)\tData 0.001 (0.001)\tLoss 0.4982 (0.6522)\tAccuracy 90.000 (76.257)\n",
      "Epoch: [1][410/1275]\tTime 0.267 (0.273)\tData 0.001 (0.001)\tLoss 0.6494 (0.6528)\tAccuracy 81.000 (76.355)\n",
      "Epoch: [1][420/1275]\tTime 0.280 (0.273)\tData 0.001 (0.001)\tLoss 0.5065 (0.6517)\tAccuracy 84.000 (76.394)\n",
      "Epoch: [1][430/1275]\tTime 0.266 (0.273)\tData 0.001 (0.001)\tLoss 0.5215 (0.6506)\tAccuracy 84.000 (76.520)\n",
      "Epoch: [1][440/1275]\tTime 0.260 (0.273)\tData 0.001 (0.001)\tLoss 0.6100 (0.6507)\tAccuracy 50.000 (76.372)\n",
      "Epoch: [1][450/1275]\tTime 0.265 (0.272)\tData 0.001 (0.001)\tLoss 0.6040 (0.6506)\tAccuracy 84.000 (76.200)\n",
      "Epoch: [1][460/1275]\tTime 0.263 (0.272)\tData 0.001 (0.001)\tLoss 0.6240 (0.6495)\tAccuracy 78.000 (76.260)\n",
      "Epoch: [1][470/1275]\tTime 0.258 (0.272)\tData 0.001 (0.001)\tLoss 0.6590 (0.6493)\tAccuracy 87.000 (76.293)\n",
      "Epoch: [1][480/1275]\tTime 0.290 (0.273)\tData 0.001 (0.001)\tLoss 0.3931 (0.6481)\tAccuracy 96.000 (76.453)\n",
      "Epoch: [1][490/1275]\tTime 0.259 (0.273)\tData 0.001 (0.001)\tLoss 0.7703 (0.6473)\tAccuracy 90.000 (76.717)\n",
      "Epoch: [1][500/1275]\tTime 0.262 (0.272)\tData 0.001 (0.001)\tLoss 0.6267 (0.6487)\tAccuracy 78.000 (76.836)\n",
      "Epoch: [1][510/1275]\tTime 0.349 (0.273)\tData 0.001 (0.001)\tLoss 0.5712 (0.6482)\tAccuracy 84.000 (76.951)\n",
      "Epoch: [1][520/1275]\tTime 0.266 (0.272)\tData 0.001 (0.001)\tLoss 0.6646 (0.6489)\tAccuracy 90.000 (76.954)\n",
      "Epoch: [1][530/1275]\tTime 0.265 (0.272)\tData 0.001 (0.001)\tLoss 0.6567 (0.6493)\tAccuracy 90.000 (77.043)\n",
      "Epoch: [1][540/1275]\tTime 0.264 (0.272)\tData 0.001 (0.001)\tLoss 0.4792 (0.6489)\tAccuracy 90.000 (77.220)\n",
      "Epoch: [1][550/1275]\tTime 0.270 (0.272)\tData 0.001 (0.001)\tLoss 0.6704 (0.6482)\tAccuracy 71.000 (77.212)\n",
      "Epoch: [1][560/1275]\tTime 0.264 (0.272)\tData 0.001 (0.001)\tLoss 0.6796 (0.6489)\tAccuracy 75.000 (77.046)\n",
      "Epoch: [1][570/1275]\tTime 0.262 (0.272)\tData 0.001 (0.001)\tLoss 0.5173 (0.6494)\tAccuracy 100.000 (77.100)\n",
      "Epoch: [1][580/1275]\tTime 0.266 (0.272)\tData 0.001 (0.001)\tLoss 0.7148 (0.6501)\tAccuracy 90.000 (77.327)\n",
      "Epoch: [1][590/1275]\tTime 0.262 (0.272)\tData 0.001 (0.001)\tLoss 0.7202 (0.6503)\tAccuracy 75.000 (77.513)\n",
      "Epoch: [1][600/1275]\tTime 0.273 (0.272)\tData 0.001 (0.001)\tLoss 0.7095 (0.6503)\tAccuracy 87.000 (77.666)\n",
      "Epoch: [1][610/1275]\tTime 0.263 (0.271)\tData 0.001 (0.001)\tLoss 0.4990 (0.6499)\tAccuracy 90.000 (77.758)\n",
      "Epoch: [1][620/1275]\tTime 0.263 (0.271)\tData 0.001 (0.001)\tLoss 0.5275 (0.6495)\tAccuracy 84.000 (77.849)\n",
      "Epoch: [1][630/1275]\tTime 0.264 (0.271)\tData 0.001 (0.001)\tLoss 0.5347 (0.6491)\tAccuracy 53.000 (77.697)\n",
      "Epoch: [1][640/1275]\tTime 0.271 (0.271)\tData 0.001 (0.001)\tLoss 0.6982 (0.6516)\tAccuracy 78.000 (77.462)\n",
      "Epoch: [1][650/1275]\tTime 0.266 (0.271)\tData 0.001 (0.001)\tLoss 0.6611 (0.6517)\tAccuracy 87.000 (77.449)\n",
      "Epoch: [1][660/1275]\tTime 0.263 (0.271)\tData 0.001 (0.001)\tLoss 0.6806 (0.6516)\tAccuracy 93.000 (77.685)\n",
      "Epoch: [1][670/1275]\tTime 0.261 (0.271)\tData 0.001 (0.001)\tLoss 0.7569 (0.6513)\tAccuracy 84.000 (77.911)\n",
      "Epoch: [1][680/1275]\tTime 0.261 (0.271)\tData 0.001 (0.001)\tLoss 0.7147 (0.6517)\tAccuracy 84.000 (78.079)\n",
      "Epoch: [1][690/1275]\tTime 0.273 (0.271)\tData 0.001 (0.001)\tLoss 0.7040 (0.6512)\tAccuracy 81.000 (78.178)\n",
      "Epoch: [1][700/1275]\tTime 0.270 (0.271)\tData 0.001 (0.001)\tLoss 0.6452 (0.6511)\tAccuracy 62.000 (78.044)\n",
      "Epoch: [1][710/1275]\tTime 0.266 (0.271)\tData 0.001 (0.001)\tLoss 0.5149 (0.6500)\tAccuracy 78.000 (77.813)\n",
      "Epoch: [1][720/1275]\tTime 0.268 (0.271)\tData 0.001 (0.001)\tLoss 0.5213 (0.6508)\tAccuracy 90.000 (77.847)\n",
      "Epoch: [1][730/1275]\tTime 0.279 (0.271)\tData 0.001 (0.001)\tLoss 0.7141 (0.6498)\tAccuracy 43.000 (77.814)\n",
      "Epoch: [1][740/1275]\tTime 0.265 (0.271)\tData 0.001 (0.001)\tLoss 0.5470 (0.6479)\tAccuracy 84.000 (77.834)\n",
      "Epoch: [1][750/1275]\tTime 0.300 (0.271)\tData 0.001 (0.001)\tLoss 2.0659 (0.6487)\tAccuracy 75.000 (77.710)\n",
      "Epoch: [1][760/1275]\tTime 0.270 (0.271)\tData 0.001 (0.001)\tLoss 0.6974 (0.6475)\tAccuracy 59.000 (77.560)\n",
      "Epoch: [1][770/1275]\tTime 0.262 (0.271)\tData 0.001 (0.001)\tLoss 0.6563 (0.6476)\tAccuracy 65.000 (77.331)\n",
      "Epoch: [1][780/1275]\tTime 0.275 (0.271)\tData 0.001 (0.001)\tLoss 0.6932 (0.6472)\tAccuracy 62.000 (77.123)\n"
     ]
    },
    {
     "name": "stdout",
     "output_type": "stream",
     "text": [
      "Epoch: [1][790/1275]\tTime 0.265 (0.271)\tData 0.001 (0.001)\tLoss 0.8209 (0.6478)\tAccuracy 65.000 (76.920)\n",
      "Epoch: [1][800/1275]\tTime 0.266 (0.271)\tData 0.001 (0.001)\tLoss 0.6182 (0.6478)\tAccuracy 90.000 (77.046)\n",
      "Epoch: [1][810/1275]\tTime 0.267 (0.271)\tData 0.001 (0.001)\tLoss 0.5686 (0.6474)\tAccuracy 96.000 (77.217)\n",
      "Epoch: [1][820/1275]\tTime 0.262 (0.271)\tData 0.001 (0.001)\tLoss 0.5463 (0.6517)\tAccuracy 90.000 (77.359)\n",
      "Epoch: [1][830/1275]\tTime 0.265 (0.271)\tData 0.001 (0.001)\tLoss 0.7307 (0.6516)\tAccuracy 75.000 (77.416)\n",
      "Epoch: [1][840/1275]\tTime 0.262 (0.271)\tData 0.001 (0.001)\tLoss 0.6912 (0.6516)\tAccuracy 62.000 (77.290)\n",
      "Epoch: [1][850/1275]\tTime 0.264 (0.271)\tData 0.001 (0.001)\tLoss 0.5952 (0.6516)\tAccuracy 81.000 (77.231)\n",
      "Epoch: [1][860/1275]\tTime 0.262 (0.271)\tData 0.001 (0.001)\tLoss 0.6022 (0.6512)\tAccuracy 71.000 (77.207)\n",
      "Epoch: [1][870/1275]\tTime 0.264 (0.271)\tData 0.001 (0.001)\tLoss 0.7179 (0.6511)\tAccuracy 78.000 (77.225)\n",
      "Epoch: [1][880/1275]\tTime 0.263 (0.271)\tData 0.001 (0.001)\tLoss 0.7014 (0.6512)\tAccuracy 78.000 (77.219)\n",
      "Epoch: [1][890/1275]\tTime 0.264 (0.271)\tData 0.001 (0.001)\tLoss 0.5210 (0.6509)\tAccuracy 93.000 (77.293)\n",
      "Epoch: [1][900/1275]\tTime 0.265 (0.271)\tData 0.001 (0.001)\tLoss 0.6553 (0.6510)\tAccuracy 90.000 (77.452)\n",
      "Epoch: [1][910/1275]\tTime 0.266 (0.271)\tData 0.001 (0.001)\tLoss 0.6215 (0.6507)\tAccuracy 81.000 (77.566)\n",
      "Epoch: [1][920/1275]\tTime 0.269 (0.271)\tData 0.001 (0.001)\tLoss 0.4789 (0.6501)\tAccuracy 65.000 (77.501)\n",
      "Epoch: [1][930/1275]\tTime 0.267 (0.271)\tData 0.001 (0.001)\tLoss 0.7358 (0.6497)\tAccuracy 71.000 (77.337)\n",
      "Epoch: [1][940/1275]\tTime 0.263 (0.270)\tData 0.001 (0.001)\tLoss 0.6378 (0.6496)\tAccuracy 68.000 (77.138)\n",
      "Epoch: [1][950/1275]\tTime 0.273 (0.270)\tData 0.001 (0.001)\tLoss 0.5830 (0.6489)\tAccuracy 75.000 (77.102)\n",
      "Epoch: [1][960/1275]\tTime 0.266 (0.270)\tData 0.001 (0.001)\tLoss 0.7302 (0.6494)\tAccuracy 56.000 (77.004)\n",
      "Epoch: [1][970/1275]\tTime 0.265 (0.270)\tData 0.001 (0.001)\tLoss 0.5820 (0.6496)\tAccuracy 81.000 (76.804)\n",
      "Epoch: [1][980/1275]\tTime 0.276 (0.271)\tData 0.001 (0.001)\tLoss 0.5618 (0.6492)\tAccuracy 84.000 (76.812)\n",
      "Epoch: [1][990/1275]\tTime 0.293 (0.271)\tData 0.001 (0.001)\tLoss 0.9051 (0.6492)\tAccuracy 84.000 (76.933)\n",
      "Epoch: [1][1000/1275]\tTime 0.266 (0.271)\tData 0.001 (0.001)\tLoss 0.6502 (0.6494)\tAccuracy 84.000 (77.010)\n",
      "Epoch: [1][1010/1275]\tTime 0.271 (0.271)\tData 0.001 (0.001)\tLoss 0.6759 (0.6491)\tAccuracy 68.000 (77.017)\n",
      "Epoch: [1][1020/1275]\tTime 0.269 (0.271)\tData 0.001 (0.001)\tLoss 0.6730 (0.6488)\tAccuracy 87.000 (77.109)\n",
      "Epoch: [1][1030/1275]\tTime 0.264 (0.271)\tData 0.001 (0.001)\tLoss 0.6248 (0.6485)\tAccuracy 87.000 (77.213)\n",
      "Epoch: [1][1040/1275]\tTime 0.281 (0.271)\tData 0.001 (0.001)\tLoss 0.7201 (0.6491)\tAccuracy 53.000 (77.229)\n",
      "Epoch: [1][1050/1275]\tTime 0.265 (0.271)\tData 0.001 (0.001)\tLoss 0.6914 (0.6493)\tAccuracy 75.000 (77.090)\n",
      "Epoch: [1][1060/1275]\tTime 0.264 (0.271)\tData 0.001 (0.001)\tLoss 0.6460 (0.6494)\tAccuracy 90.000 (77.175)\n",
      "Epoch: [1][1070/1275]\tTime 0.266 (0.271)\tData 0.001 (0.001)\tLoss 0.6160 (0.6497)\tAccuracy 87.000 (77.247)\n",
      "Epoch: [1][1080/1275]\tTime 0.272 (0.271)\tData 0.001 (0.001)\tLoss 0.5784 (0.6495)\tAccuracy 90.000 (77.302)\n",
      "Epoch: [1][1090/1275]\tTime 0.267 (0.271)\tData 0.001 (0.001)\tLoss 0.5395 (0.6493)\tAccuracy 100.000 (77.435)\n",
      "Epoch: [1][1100/1275]\tTime 0.267 (0.271)\tData 0.001 (0.001)\tLoss 0.5150 (0.6492)\tAccuracy 100.000 (77.579)\n",
      "Epoch: [1][1110/1275]\tTime 0.277 (0.271)\tData 0.001 (0.001)\tLoss 0.5245 (0.6492)\tAccuracy 100.000 (77.721)\n",
      "Epoch: [1][1120/1275]\tTime 0.269 (0.271)\tData 0.001 (0.001)\tLoss 0.6433 (0.6493)\tAccuracy 81.000 (77.812)\n",
      "Epoch: [1][1130/1275]\tTime 0.269 (0.271)\tData 0.001 (0.001)\tLoss 0.5905 (0.6493)\tAccuracy 78.000 (77.858)\n",
      "Epoch: [1][1140/1275]\tTime 0.269 (0.271)\tData 0.001 (0.001)\tLoss 0.6526 (0.6494)\tAccuracy 78.000 (77.930)\n",
      "Epoch: [1][1150/1275]\tTime 0.267 (0.271)\tData 0.001 (0.001)\tLoss 0.6810 (0.6495)\tAccuracy 90.000 (78.048)\n",
      "Epoch: [1][1160/1275]\tTime 0.278 (0.271)\tData 0.001 (0.001)\tLoss 0.6221 (0.6487)\tAccuracy 96.000 (78.212)\n",
      "Epoch: [1][1170/1275]\tTime 0.281 (0.271)\tData 0.001 (0.001)\tLoss 0.6203 (0.6485)\tAccuracy 96.000 (78.356)\n",
      "Epoch: [1][1180/1275]\tTime 0.271 (0.271)\tData 0.001 (0.001)\tLoss 0.6086 (0.6482)\tAccuracy 96.000 (78.505)\n",
      "Epoch: [1][1190/1275]\tTime 0.274 (0.271)\tData 0.001 (0.001)\tLoss 0.6171 (0.6482)\tAccuracy 96.000 (78.643)\n",
      "Epoch: [1][1200/1275]\tTime 0.270 (0.271)\tData 0.001 (0.001)\tLoss 0.7066 (0.6485)\tAccuracy 93.000 (78.764)\n",
      "Epoch: [1][1210/1275]\tTime 0.300 (0.271)\tData 0.001 (0.001)\tLoss 0.4693 (0.6481)\tAccuracy 81.000 (78.825)\n",
      "Epoch: [1][1220/1275]\tTime 0.276 (0.271)\tData 0.001 (0.001)\tLoss 0.7305 (0.6492)\tAccuracy 90.000 (78.929)\n",
      "Epoch: [1][1230/1275]\tTime 0.285 (0.271)\tData 0.001 (0.001)\tLoss 0.4544 (0.6491)\tAccuracy 100.000 (79.046)\n",
      "Epoch: [1][1240/1275]\tTime 0.275 (0.271)\tData 0.001 (0.001)\tLoss 0.7857 (0.6495)\tAccuracy 90.000 (79.154)\n",
      "Epoch: [1][1250/1275]\tTime 0.272 (0.271)\tData 0.001 (0.001)\tLoss 0.7739 (0.6497)\tAccuracy 53.000 (79.152)\n",
      "Epoch: [1][1260/1275]\tTime 0.285 (0.272)\tData 0.001 (0.001)\tLoss 0.5831 (0.6498)\tAccuracy 93.000 (79.069)\n",
      "Epoch: [1][1270/1275]\tTime 0.283 (0.272)\tData 0.001 (0.001)\tLoss 0.7530 (0.6497)\tAccuracy 71.000 (78.959)\n",
      "Test: [0/323]\tTime 0.014 (0.014)\tLoss 0.7894 (0.7894)\tAccuracy 68.000 (68.000)\n",
      "0.6204180187144386 0.5\n",
      "Epoch: [2][0/1275]\tTime 0.316 (0.316)\tData 0.003 (0.003)\tLoss 0.5929 (0.5929)\tAccuracy 84.000 (84.000)\n",
      "Epoch: [2][10/1275]\tTime 0.275 (0.283)\tData 0.001 (0.001)\tLoss 0.7594 (0.6275)\tAccuracy 71.000 (79.909)\n",
      "Epoch: [2][20/1275]\tTime 0.291 (0.282)\tData 0.001 (0.001)\tLoss 0.5811 (0.6402)\tAccuracy 59.000 (70.619)\n",
      "Epoch: [2][30/1275]\tTime 0.284 (0.283)\tData 0.001 (0.001)\tLoss 0.6792 (0.6417)\tAccuracy 90.000 (75.645)\n",
      "Epoch: [2][40/1275]\tTime 0.304 (0.283)\tData 0.001 (0.001)\tLoss 0.7508 (0.6399)\tAccuracy 84.000 (78.634)\n",
      "Epoch: [2][50/1275]\tTime 0.278 (0.283)\tData 0.001 (0.001)\tLoss 0.9340 (0.6399)\tAccuracy 84.000 (79.667)\n",
      "Epoch: [2][60/1275]\tTime 0.286 (0.283)\tData 0.001 (0.001)\tLoss 0.8258 (0.6422)\tAccuracy 71.000 (79.689)\n",
      "Epoch: [2][70/1275]\tTime 0.282 (0.283)\tData 0.001 (0.001)\tLoss 0.6428 (0.6352)\tAccuracy 62.000 (77.634)\n",
      "Epoch: [2][80/1275]\tTime 0.282 (0.283)\tData 0.001 (0.001)\tLoss 0.7153 (0.6372)\tAccuracy 90.000 (78.074)\n",
      "Epoch: [2][90/1275]\tTime 0.286 (0.283)\tData 0.001 (0.001)\tLoss 0.6862 (0.6378)\tAccuracy 78.000 (79.088)\n",
      "Epoch: [2][100/1275]\tTime 0.279 (0.283)\tData 0.001 (0.001)\tLoss 0.5373 (0.6323)\tAccuracy 90.000 (79.693)\n",
      "Epoch: [2][110/1275]\tTime 0.281 (0.284)\tData 0.001 (0.001)\tLoss 0.5706 (0.6267)\tAccuracy 81.000 (79.180)\n",
      "Epoch: [2][120/1275]\tTime 0.287 (0.284)\tData 0.001 (0.001)\tLoss 0.6076 (0.6256)\tAccuracy 84.000 (79.248)\n",
      "Epoch: [2][130/1275]\tTime 0.310 (0.285)\tData 0.001 (0.001)\tLoss 0.7223 (0.6304)\tAccuracy 84.000 (79.908)\n",
      "Epoch: [2][140/1275]\tTime 0.287 (0.285)\tData 0.001 (0.001)\tLoss 0.6021 (0.6301)\tAccuracy 78.000 (79.865)\n",
      "Epoch: [2][150/1275]\tTime 0.286 (0.285)\tData 0.001 (0.001)\tLoss 0.6611 (0.6320)\tAccuracy 75.000 (79.338)\n",
      "Epoch: [2][160/1275]\tTime 0.286 (0.286)\tData 0.001 (0.001)\tLoss 0.6567 (0.6290)\tAccuracy 90.000 (79.925)\n",
      "Epoch: [2][170/1275]\tTime 0.285 (0.286)\tData 0.001 (0.001)\tLoss 0.7383 (0.6293)\tAccuracy 71.000 (80.047)\n",
      "Epoch: [2][180/1275]\tTime 0.288 (0.287)\tData 0.001 (0.001)\tLoss 0.6355 (0.6312)\tAccuracy 81.000 (80.116)\n",
      "Epoch: [2][190/1275]\tTime 0.292 (0.287)\tData 0.001 (0.001)\tLoss 0.5564 (0.6296)\tAccuracy 87.000 (79.995)\n",
      "Epoch: [2][200/1275]\tTime 0.294 (0.287)\tData 0.001 (0.001)\tLoss 0.6612 (0.6310)\tAccuracy 90.000 (80.418)\n",
      "Epoch: [2][210/1275]\tTime 0.290 (0.287)\tData 0.001 (0.001)\tLoss 0.6254 (0.6293)\tAccuracy 87.000 (80.905)\n",
      "Epoch: [2][220/1275]\tTime 0.290 (0.288)\tData 0.001 (0.001)\tLoss 0.7688 (0.6277)\tAccuracy 71.000 (80.674)\n",
      "Epoch: [2][230/1275]\tTime 0.290 (0.288)\tData 0.001 (0.001)\tLoss 0.8891 (0.6324)\tAccuracy 78.000 (80.779)\n",
      "Epoch: [2][240/1275]\tTime 0.295 (0.288)\tData 0.001 (0.001)\tLoss 0.8076 (0.6334)\tAccuracy 90.000 (81.174)\n",
      "Epoch: [2][250/1275]\tTime 0.291 (0.289)\tData 0.001 (0.001)\tLoss 0.6671 (0.6334)\tAccuracy 87.000 (81.323)\n",
      "Epoch: [2][260/1275]\tTime 0.291 (0.289)\tData 0.001 (0.001)\tLoss 0.6863 (0.6318)\tAccuracy 68.000 (81.375)\n",
      "Epoch: [2][270/1275]\tTime 0.300 (0.289)\tData 0.001 (0.001)\tLoss 0.4076 (0.6316)\tAccuracy 84.000 (80.852)\n"
     ]
    },
    {
     "name": "stdout",
     "output_type": "stream",
     "text": [
      "Epoch: [2][280/1275]\tTime 0.297 (0.289)\tData 0.001 (0.001)\tLoss 0.6693 (0.6314)\tAccuracy 90.000 (80.854)\n",
      "Epoch: [2][290/1275]\tTime 0.293 (0.290)\tData 0.001 (0.001)\tLoss 0.5587 (0.6321)\tAccuracy 75.000 (80.825)\n",
      "Epoch: [2][300/1275]\tTime 0.298 (0.290)\tData 0.001 (0.001)\tLoss 0.6473 (0.6318)\tAccuracy 84.000 (80.900)\n",
      "Epoch: [2][310/1275]\tTime 0.299 (0.291)\tData 0.001 (0.001)\tLoss 0.5638 (0.6316)\tAccuracy 78.000 (80.675)\n",
      "Epoch: [2][320/1275]\tTime 0.297 (0.291)\tData 0.001 (0.001)\tLoss 0.5574 (0.6313)\tAccuracy 93.000 (80.639)\n",
      "Epoch: [2][330/1275]\tTime 0.295 (0.291)\tData 0.001 (0.001)\tLoss 0.4936 (0.6302)\tAccuracy 84.000 (80.719)\n",
      "Epoch: [2][340/1275]\tTime 0.305 (0.292)\tData 0.001 (0.001)\tLoss 0.6434 (0.6295)\tAccuracy 59.000 (80.522)\n",
      "Epoch: [2][350/1275]\tTime 0.299 (0.292)\tData 0.001 (0.001)\tLoss 0.8328 (0.6293)\tAccuracy 56.000 (80.194)\n",
      "Epoch: [2][360/1275]\tTime 0.293 (0.293)\tData 0.001 (0.001)\tLoss 0.5923 (0.6287)\tAccuracy 87.000 (79.972)\n",
      "Epoch: [2][370/1275]\tTime 0.297 (0.294)\tData 0.001 (0.001)\tLoss 0.5163 (0.6285)\tAccuracy 90.000 (80.170)\n",
      "Epoch: [2][380/1275]\tTime 0.318 (0.294)\tData 0.001 (0.001)\tLoss 0.5357 (0.6287)\tAccuracy 65.000 (80.060)\n",
      "Epoch: [2][390/1275]\tTime 0.303 (0.294)\tData 0.001 (0.001)\tLoss 0.8016 (0.6292)\tAccuracy 78.000 (79.946)\n",
      "Epoch: [2][400/1275]\tTime 0.303 (0.295)\tData 0.001 (0.001)\tLoss 0.7074 (0.6285)\tAccuracy 65.000 (79.908)\n",
      "Epoch: [2][410/1275]\tTime 0.297 (0.295)\tData 0.001 (0.001)\tLoss 0.7822 (0.6296)\tAccuracy 81.000 (79.925)\n",
      "Epoch: [2][420/1275]\tTime 0.299 (0.295)\tData 0.001 (0.001)\tLoss 0.8241 (0.6276)\tAccuracy 68.000 (80.012)\n",
      "Epoch: [2][430/1275]\tTime 0.308 (0.295)\tData 0.001 (0.001)\tLoss 0.5553 (0.6254)\tAccuracy 71.000 (80.144)\n",
      "Epoch: [2][440/1275]\tTime 0.297 (0.295)\tData 0.001 (0.001)\tLoss 0.3784 (0.6233)\tAccuracy 87.000 (80.259)\n",
      "Epoch: [2][450/1275]\tTime 0.306 (0.295)\tData 0.001 (0.001)\tLoss 0.4805 (0.6222)\tAccuracy 93.000 (80.428)\n",
      "Epoch: [2][460/1275]\tTime 0.298 (0.296)\tData 0.001 (0.001)\tLoss 0.4998 (0.6208)\tAccuracy 87.000 (80.636)\n",
      "Epoch: [2][470/1275]\tTime 0.306 (0.296)\tData 0.001 (0.001)\tLoss 0.8010 (0.6208)\tAccuracy 78.000 (80.756)\n",
      "Epoch: [2][480/1275]\tTime 0.309 (0.296)\tData 0.001 (0.001)\tLoss 0.5627 (0.6201)\tAccuracy 87.000 (80.861)\n",
      "Epoch: [2][490/1275]\tTime 0.310 (0.297)\tData 0.001 (0.001)\tLoss 0.7025 (0.6197)\tAccuracy 84.000 (80.880)\n",
      "Epoch: [2][500/1275]\tTime 0.305 (0.297)\tData 0.001 (0.001)\tLoss 0.7258 (0.6198)\tAccuracy 78.000 (80.862)\n",
      "Epoch: [2][510/1275]\tTime 0.301 (0.297)\tData 0.001 (0.001)\tLoss 0.5141 (0.6203)\tAccuracy 90.000 (80.924)\n",
      "Epoch: [2][520/1275]\tTime 0.302 (0.297)\tData 0.001 (0.001)\tLoss 0.6269 (0.6192)\tAccuracy 81.000 (80.988)\n",
      "Epoch: [2][530/1275]\tTime 0.307 (0.298)\tData 0.001 (0.001)\tLoss 0.4882 (0.6196)\tAccuracy 78.000 (80.923)\n",
      "Epoch: [2][540/1275]\tTime 0.316 (0.298)\tData 0.001 (0.001)\tLoss 0.4970 (0.6195)\tAccuracy 87.000 (81.018)\n",
      "Epoch: [2][550/1275]\tTime 0.311 (0.298)\tData 0.001 (0.001)\tLoss 0.5566 (0.6197)\tAccuracy 71.000 (80.860)\n",
      "Epoch: [2][560/1275]\tTime 0.308 (0.298)\tData 0.001 (0.001)\tLoss 0.6787 (0.6193)\tAccuracy 87.000 (80.866)\n",
      "Epoch: [2][570/1275]\tTime 0.314 (0.299)\tData 0.001 (0.001)\tLoss 0.7649 (0.6200)\tAccuracy 75.000 (80.695)\n",
      "Epoch: [2][580/1275]\tTime 0.308 (0.299)\tData 0.001 (0.001)\tLoss 0.7343 (0.6212)\tAccuracy 81.000 (80.468)\n",
      "Epoch: [2][590/1275]\tTime 0.323 (0.299)\tData 0.001 (0.001)\tLoss 0.7464 (0.6219)\tAccuracy 78.000 (80.553)\n",
      "Epoch: [2][600/1275]\tTime 0.310 (0.299)\tData 0.001 (0.001)\tLoss 0.8310 (0.6213)\tAccuracy 59.000 (80.517)\n",
      "Epoch: [2][610/1275]\tTime 0.307 (0.300)\tData 0.001 (0.001)\tLoss 0.6119 (0.6209)\tAccuracy 78.000 (80.399)\n",
      "Epoch: [2][620/1275]\tTime 0.308 (0.300)\tData 0.001 (0.001)\tLoss 0.5809 (0.6206)\tAccuracy 81.000 (80.361)\n",
      "Epoch: [2][630/1275]\tTime 0.328 (0.300)\tData 0.001 (0.001)\tLoss 0.5735 (0.6205)\tAccuracy 81.000 (80.393)\n",
      "Epoch: [2][640/1275]\tTime 0.314 (0.300)\tData 0.001 (0.001)\tLoss 0.4314 (0.6202)\tAccuracy 65.000 (80.373)\n",
      "Epoch: [2][650/1275]\tTime 0.312 (0.301)\tData 0.001 (0.001)\tLoss 0.7849 (0.6205)\tAccuracy 78.000 (80.332)\n",
      "Epoch: [2][660/1275]\tTime 0.331 (0.301)\tData 0.001 (0.001)\tLoss 0.6104 (0.6200)\tAccuracy 75.000 (80.337)\n",
      "Epoch: [2][670/1275]\tTime 0.338 (0.301)\tData 0.001 (0.001)\tLoss 0.6851 (0.6200)\tAccuracy 75.000 (80.225)\n",
      "Epoch: [2][680/1275]\tTime 0.328 (0.302)\tData 0.001 (0.001)\tLoss 0.8232 (0.6208)\tAccuracy 75.000 (80.125)\n",
      "Epoch: [2][690/1275]\tTime 0.346 (0.302)\tData 0.001 (0.001)\tLoss 0.5597 (0.6206)\tAccuracy 84.000 (80.069)\n",
      "Epoch: [2][700/1275]\tTime 0.348 (0.303)\tData 0.001 (0.001)\tLoss 0.7337 (0.6208)\tAccuracy 75.000 (80.053)\n",
      "Epoch: [2][710/1275]\tTime 0.340 (0.303)\tData 0.001 (0.001)\tLoss 0.7615 (0.6208)\tAccuracy 87.000 (80.100)\n",
      "Epoch: [2][720/1275]\tTime 0.342 (0.304)\tData 0.001 (0.001)\tLoss 0.8095 (0.6211)\tAccuracy 78.000 (80.165)\n",
      "Epoch: [2][730/1275]\tTime 0.330 (0.304)\tData 0.001 (0.001)\tLoss 0.6311 (0.6209)\tAccuracy 87.000 (80.234)\n",
      "Epoch: [2][740/1275]\tTime 0.331 (0.305)\tData 0.001 (0.001)\tLoss 0.7248 (0.6212)\tAccuracy 59.000 (80.194)\n",
      "Epoch: [2][750/1275]\tTime 0.334 (0.305)\tData 0.001 (0.001)\tLoss 0.8747 (0.6213)\tAccuracy 62.000 (80.037)\n",
      "Epoch: [2][760/1275]\tTime 0.336 (0.305)\tData 0.001 (0.001)\tLoss 0.5567 (0.6204)\tAccuracy 93.000 (80.129)\n",
      "Epoch: [2][770/1275]\tTime 0.326 (0.306)\tData 0.001 (0.001)\tLoss 0.7461 (0.6198)\tAccuracy 84.000 (80.268)\n",
      "Epoch: [2][780/1275]\tTime 0.328 (0.306)\tData 0.001 (0.001)\tLoss 0.5729 (0.6201)\tAccuracy 87.000 (80.305)\n",
      "Epoch: [2][790/1275]\tTime 0.342 (0.306)\tData 0.001 (0.001)\tLoss 0.6995 (0.6206)\tAccuracy 65.000 (80.205)\n",
      "Epoch: [2][800/1275]\tTime 0.330 (0.307)\tData 0.001 (0.001)\tLoss 0.6946 (0.6213)\tAccuracy 78.000 (80.142)\n",
      "Epoch: [2][810/1275]\tTime 0.323 (0.307)\tData 0.001 (0.001)\tLoss 0.7045 (0.6218)\tAccuracy 53.000 (79.983)\n",
      "Epoch: [2][820/1275]\tTime 0.323 (0.307)\tData 0.001 (0.001)\tLoss 0.3858 (0.6213)\tAccuracy 96.000 (79.966)\n",
      "Epoch: [2][830/1275]\tTime 0.317 (0.308)\tData 0.001 (0.001)\tLoss 0.8844 (0.6222)\tAccuracy 78.000 (79.988)\n",
      "Epoch: [2][840/1275]\tTime 0.323 (0.308)\tData 0.001 (0.001)\tLoss 0.7842 (0.6228)\tAccuracy 75.000 (79.980)\n",
      "Epoch: [2][850/1275]\tTime 0.328 (0.308)\tData 0.001 (0.001)\tLoss 0.6415 (0.6224)\tAccuracy 75.000 (79.944)\n",
      "Epoch: [2][860/1275]\tTime 0.316 (0.308)\tData 0.001 (0.001)\tLoss 0.5187 (0.6225)\tAccuracy 84.000 (79.998)\n",
      "Epoch: [2][870/1275]\tTime 0.316 (0.308)\tData 0.001 (0.001)\tLoss 0.6087 (0.6233)\tAccuracy 78.000 (80.039)\n",
      "Epoch: [2][880/1275]\tTime 0.313 (0.308)\tData 0.001 (0.001)\tLoss 0.4422 (0.6233)\tAccuracy 93.000 (80.081)\n",
      "Epoch: [2][890/1275]\tTime 0.318 (0.308)\tData 0.001 (0.001)\tLoss 0.4740 (0.6230)\tAccuracy 90.000 (80.110)\n",
      "Epoch: [2][900/1275]\tTime 0.316 (0.309)\tData 0.001 (0.001)\tLoss 0.8839 (0.6228)\tAccuracy 53.000 (80.098)\n",
      "Epoch: [2][910/1275]\tTime 0.318 (0.309)\tData 0.001 (0.001)\tLoss 0.5163 (0.6230)\tAccuracy 84.000 (80.030)\n",
      "Epoch: [2][920/1275]\tTime 0.318 (0.309)\tData 0.001 (0.001)\tLoss 0.4947 (0.6224)\tAccuracy 81.000 (80.063)\n",
      "Epoch: [2][930/1275]\tTime 0.319 (0.309)\tData 0.001 (0.001)\tLoss 0.7186 (0.6227)\tAccuracy 93.000 (80.127)\n",
      "Epoch: [2][940/1275]\tTime 0.326 (0.309)\tData 0.001 (0.001)\tLoss 0.5726 (0.6224)\tAccuracy 75.000 (80.174)\n",
      "Epoch: [2][950/1275]\tTime 0.320 (0.309)\tData 0.001 (0.001)\tLoss 0.6841 (0.6220)\tAccuracy 71.000 (80.139)\n",
      "Epoch: [2][960/1275]\tTime 0.315 (0.309)\tData 0.001 (0.001)\tLoss 0.4514 (0.6215)\tAccuracy 100.000 (80.205)\n",
      "Epoch: [2][970/1275]\tTime 0.321 (0.310)\tData 0.001 (0.001)\tLoss 0.7214 (0.6218)\tAccuracy 81.000 (80.231)\n",
      "Epoch: [2][980/1275]\tTime 0.323 (0.310)\tData 0.001 (0.001)\tLoss 0.7052 (0.6215)\tAccuracy 62.000 (80.160)\n",
      "Epoch: [2][990/1275]\tTime 0.316 (0.310)\tData 0.001 (0.001)\tLoss 0.6533 (0.6220)\tAccuracy 75.000 (80.029)\n",
      "Epoch: [2][1000/1275]\tTime 0.348 (0.310)\tData 0.001 (0.001)\tLoss 0.8287 (0.6222)\tAccuracy 84.000 (80.057)\n",
      "Epoch: [2][1010/1275]\tTime 0.317 (0.310)\tData 0.001 (0.001)\tLoss 0.5958 (0.6226)\tAccuracy 90.000 (80.092)\n",
      "Epoch: [2][1020/1275]\tTime 0.320 (0.310)\tData 0.001 (0.001)\tLoss 0.7522 (0.6227)\tAccuracy 78.000 (80.041)\n",
      "Epoch: [2][1030/1275]\tTime 0.317 (0.310)\tData 0.001 (0.001)\tLoss 0.6624 (0.6225)\tAccuracy 71.000 (79.991)\n",
      "Epoch: [2][1040/1275]\tTime 0.321 (0.311)\tData 0.001 (0.001)\tLoss 0.6272 (0.6223)\tAccuracy 71.000 (79.929)\n",
      "Epoch: [2][1050/1275]\tTime 0.325 (0.311)\tData 0.001 (0.001)\tLoss 0.5795 (0.6223)\tAccuracy 93.000 (79.929)\n"
     ]
    },
    {
     "name": "stdout",
     "output_type": "stream",
     "text": [
      "Epoch: [2][1060/1275]\tTime 0.316 (0.311)\tData 0.001 (0.001)\tLoss 0.6745 (0.6223)\tAccuracy 78.000 (79.935)\n",
      "Epoch: [2][1070/1275]\tTime 0.327 (0.311)\tData 0.001 (0.001)\tLoss 0.5949 (0.6221)\tAccuracy 65.000 (79.838)\n",
      "Epoch: [2][1080/1275]\tTime 0.322 (0.311)\tData 0.001 (0.001)\tLoss 0.6364 (0.6214)\tAccuracy 87.000 (79.844)\n",
      "Epoch: [2][1090/1275]\tTime 0.322 (0.311)\tData 0.001 (0.001)\tLoss 0.4512 (0.6213)\tAccuracy 90.000 (79.909)\n",
      "Epoch: [2][1100/1275]\tTime 0.320 (0.311)\tData 0.001 (0.001)\tLoss 0.5821 (0.6208)\tAccuracy 68.000 (79.951)\n",
      "Epoch: [2][1110/1275]\tTime 0.315 (0.312)\tData 0.001 (0.001)\tLoss 0.6156 (0.6206)\tAccuracy 62.000 (79.872)\n",
      "Epoch: [2][1120/1275]\tTime 0.317 (0.312)\tData 0.001 (0.001)\tLoss 0.5298 (0.6207)\tAccuracy 87.000 (79.812)\n",
      "Epoch: [2][1130/1275]\tTime 0.322 (0.312)\tData 0.001 (0.001)\tLoss 0.5038 (0.6199)\tAccuracy 90.000 (79.853)\n",
      "Epoch: [2][1140/1275]\tTime 0.312 (0.312)\tData 0.001 (0.001)\tLoss 0.6910 (0.6199)\tAccuracy 81.000 (79.855)\n",
      "Epoch: [2][1150/1275]\tTime 0.316 (0.312)\tData 0.001 (0.001)\tLoss 0.7539 (0.6196)\tAccuracy 75.000 (79.820)\n",
      "Epoch: [2][1160/1275]\tTime 0.317 (0.312)\tData 0.001 (0.001)\tLoss 0.5768 (0.6196)\tAccuracy 71.000 (79.784)\n",
      "Epoch: [2][1170/1275]\tTime 0.324 (0.312)\tData 0.001 (0.001)\tLoss 0.6868 (0.6193)\tAccuracy 87.000 (79.859)\n",
      "Epoch: [2][1180/1275]\tTime 0.327 (0.312)\tData 0.001 (0.001)\tLoss 0.7047 (0.6194)\tAccuracy 93.000 (79.970)\n",
      "Epoch: [2][1190/1275]\tTime 0.323 (0.312)\tData 0.001 (0.001)\tLoss 0.8240 (0.6198)\tAccuracy 90.000 (80.070)\n",
      "Epoch: [2][1200/1275]\tTime 0.322 (0.312)\tData 0.001 (0.001)\tLoss 0.5142 (0.6198)\tAccuracy 81.000 (80.087)\n",
      "Epoch: [2][1210/1275]\tTime 0.345 (0.312)\tData 0.001 (0.001)\tLoss 0.4585 (0.6195)\tAccuracy 78.000 (80.043)\n",
      "Epoch: [2][1220/1275]\tTime 0.325 (0.313)\tData 0.001 (0.001)\tLoss 0.7124 (0.6191)\tAccuracy 68.000 (80.013)\n",
      "Epoch: [2][1230/1275]\tTime 0.328 (0.313)\tData 0.001 (0.001)\tLoss 0.5613 (0.6188)\tAccuracy 81.000 (80.042)\n",
      "Epoch: [2][1240/1275]\tTime 0.323 (0.313)\tData 0.001 (0.001)\tLoss 0.5618 (0.6183)\tAccuracy 87.000 (80.031)\n",
      "Epoch: [2][1250/1275]\tTime 0.329 (0.313)\tData 0.001 (0.001)\tLoss 0.6763 (0.6191)\tAccuracy 75.000 (79.996)\n",
      "Epoch: [2][1260/1275]\tTime 0.327 (0.313)\tData 0.001 (0.001)\tLoss 0.5913 (0.6190)\tAccuracy 71.000 (80.027)\n",
      "Epoch: [2][1270/1275]\tTime 0.327 (0.313)\tData 0.001 (0.001)\tLoss 0.5608 (0.6190)\tAccuracy 84.000 (80.094)\n",
      "Test: [0/323]\tTime 0.015 (0.015)\tLoss 0.4186 (0.4186)\tAccuracy 93.000 (93.000)\n"
     ]
    }
   ],
   "source": [
    "best_auc = 0.0\n",
    "train_losses, train_accuracies = [], []\n",
    "test_losses, test_accuracies = [], []\n",
    "for epoch in range(NUM_EPOCHS):\n",
    "    train_loss, train_accuracy = train(model, device, train_loader, criterion, optimizer, epoch)\n",
    "    test_loss, test_accuracy, test_results = evaluate(model, device, test_loader, criterion, print_freq=1000)\n",
    "\n",
    "    train_losses.append(train_loss)\n",
    "    test_losses.append(test_loss)\n",
    "\n",
    "    train_accuracies.append(train_accuracy)\n",
    "    test_accuracies.append(test_accuracy)\n",
    "    \n",
    "    Y_true=np.array(test_results)[:,0]\n",
    "    Y_pred=np.array(test_results)[:,1]\n",
    "    acc, auc_, precision, recall, f1score = classification_metrics(Y_pred,Y_true)\n",
    "\n",
    "    is_best = auc_ > best_auc  # let's keep the model that has the best AUC\n",
    "    if is_best:\n",
    "        print(auc_,best_auc)\n",
    "        best_auc = auc_\n",
    "        torch.save(model, (dl_path + save_file))\n"
   ]
  },
  {
   "cell_type": "code",
   "execution_count": 162,
   "metadata": {
    "ExecuteTime": {
     "end_time": "2018-12-03T22:30:12.270462Z",
     "start_time": "2018-12-03T22:30:12.243314Z"
    }
   },
   "outputs": [],
   "source": [
    "#Load model\n",
    "best_model = torch.load(dl_path + save_file)"
   ]
  },
  {
   "cell_type": "code",
   "execution_count": 163,
   "metadata": {
    "ExecuteTime": {
     "end_time": "2018-12-03T22:30:36.737160Z",
     "start_time": "2018-12-03T22:30:13.178169Z"
    }
   },
   "outputs": [
    {
     "name": "stdout",
     "output_type": "stream",
     "text": [
      "Test: [0/1275]\tTime 0.034 (0.034)\tLoss 0.6599 (0.6599)\tAccuracy 81.000 (81.000)\n",
      "Test: [1000/1275]\tTime 0.022 (0.019)\tLoss 0.6083 (0.6213)\tAccuracy 78.000 (80.417)\n"
     ]
    }
   ],
   "source": [
    "#Train metrics\n",
    "train_loss, train_accuracy, train_results = evaluate(best_model, device, train_loader, criterion, print_freq=1000)"
   ]
  },
  {
   "cell_type": "code",
   "execution_count": 164,
   "metadata": {
    "ExecuteTime": {
     "end_time": "2018-12-03T22:30:40.527958Z",
     "start_time": "2018-12-03T22:30:40.446901Z"
    }
   },
   "outputs": [
    {
     "name": "stdout",
     "output_type": "stream",
     "text": [
      "______________________________________________\n",
      "Classifier: MLP\n",
      "Accuracy: 0.8091923029783061\n",
      "AUC: 0.6657873625297879\n",
      "Precision: 0.1607234479220113\n",
      "Recall: 0.5024057738572574\n",
      "F1-score: 0.24353741496598638\n",
      "______________________________________________\n",
      "\n"
     ]
    }
   ],
   "source": [
    "Y_true=np.array(train_results)[:,0]\n",
    "Y_pred=np.array(train_results)[:,1]\n",
    "display_metrics(\"MLP\",Y_pred,Y_true)"
   ]
  },
  {
   "cell_type": "code",
   "execution_count": 165,
   "metadata": {
    "ExecuteTime": {
     "end_time": "2018-12-03T22:30:51.809439Z",
     "start_time": "2018-12-03T22:30:44.874741Z"
    }
   },
   "outputs": [
    {
     "name": "stdout",
     "output_type": "stream",
     "text": [
      "Test: [0/323]\tTime 0.031 (0.031)\tLoss 0.6925 (0.6925)\tAccuracy 75.000 (75.000)\n"
     ]
    }
   ],
   "source": [
    "#Test metrics\n",
    "test_loss, test_accuracy, test_results = evaluate(best_model, device, test_loader, criterion, print_freq=900000)"
   ]
  },
  {
   "cell_type": "code",
   "execution_count": 166,
   "metadata": {
    "ExecuteTime": {
     "end_time": "2018-12-03T22:31:00.084203Z",
     "start_time": "2018-12-03T22:31:00.048453Z"
    }
   },
   "outputs": [
    {
     "name": "stdout",
     "output_type": "stream",
     "text": [
      "______________________________________________\n",
      "Classifier: MLP\n",
      "Accuracy: 0.7978290366350068\n",
      "AUC: 0.6204180187144386\n",
      "Precision: 0.13585858585858585\n",
      "Recall: 0.41770186335403725\n",
      "F1-score: 0.205030487804878\n",
      "______________________________________________\n",
      "\n"
     ]
    }
   ],
   "source": [
    "Y_true=np.array(test_results)[:,0]\n",
    "Y_pred=np.array(test_results)[:,1]\n",
    "display_metrics(\"MLP\",Y_pred,Y_true)"
   ]
  },
  {
   "cell_type": "code",
   "execution_count": 167,
   "metadata": {
    "ExecuteTime": {
     "end_time": "2018-12-03T22:31:53.329782Z",
     "start_time": "2018-12-03T22:31:47.860343Z"
    }
   },
   "outputs": [],
   "source": [
    "#Create tensor datasets for CNN\n",
    "#train dataset\n",
    "target = torch.from_numpy(train_y.astype('long'))\n",
    "\n",
    "series = train_df['features'].apply(lambda x : np.array(x.toArray())).as_matrix().reshape(-1,1)\n",
    "features = np.apply_along_axis(lambda x : x[0], 1, series)\n",
    "train_dataset = TensorDataset(torch.from_numpy(features.astype('float32')).unsqueeze(1), target)\n",
    "\n",
    "#test dataset\n",
    "target = torch.from_numpy(test_y.astype('long'))\n",
    "\n",
    "series = test_df['features'].apply(lambda x : np.array(x.toArray())).as_matrix().reshape(-1,1)\n",
    "features = np.apply_along_axis(lambda x : x[0], 1, series)\n",
    "test_dataset = TensorDataset(torch.from_numpy(features.astype('float32')).unsqueeze(1), target)\n",
    "\n",
    "train_loader = torch.utils.data.DataLoader(train_dataset, batch_size=32, shuffle=True, num_workers=0)\n",
    "test_loader = torch.utils.data.DataLoader(test_dataset, batch_size=32, shuffle=True, num_workers=0)"
   ]
  },
  {
   "cell_type": "code",
   "execution_count": 176,
   "metadata": {
    "ExecuteTime": {
     "end_time": "2018-12-03T22:39:31.715938Z",
     "start_time": "2018-12-03T22:39:31.667892Z"
    }
   },
   "outputs": [],
   "source": [
    "class MyCNN(nn.Module):\n",
    "    def __init__(self):\n",
    "        super(MyCNN, self).__init__()\n",
    "        self.conv1 = nn.Conv1d(in_channels=1, out_channels=6, kernel_size=5)\n",
    "        self.pool = nn.MaxPool1d(kernel_size=2,stride=2)\n",
    "        self.conv2 = nn.Conv1d(in_channels=6, out_channels=16, kernel_size=5)\n",
    "        self.fc1 = nn.Linear(in_features=1121, out_features=64)\n",
    "        self.fc2 = nn.Linear(64, 32)\n",
    "        self.fc3 = nn.Linear(32, 2)\n",
    "#m1: [128 x 4484], m2: [128 x 64]\n",
    "    def forward(self, x):\n",
    "#torch.Size([32, 16, 1121])\n",
    "#torch.Size([32, 1121])\n",
    "#torch.Size([32, 17936])\n",
    "\n",
    "        x = self.pool(torch.nn.functional.relu(self.conv1(x)))        \n",
    "        x = self.pool(torch.nn.functional.relu(self.conv2(x)))\n",
    "        \n",
    "        #flatten\n",
    "        x = x[:,0]        \n",
    "        x = F.relu(self.fc1(x))        \n",
    "        x = F.dropout(x, training=self.training)        \n",
    "        x = F.relu(self.fc2(x))\n",
    "        x = self.fc3(x)\n",
    "        \n",
    "        return x"
   ]
  },
  {
   "cell_type": "code",
   "execution_count": 177,
   "metadata": {
    "ExecuteTime": {
     "end_time": "2018-12-03T22:39:32.797348Z",
     "start_time": "2018-12-03T22:39:32.770585Z"
    }
   },
   "outputs": [
    {
     "name": "stdout",
     "output_type": "stream",
     "text": [
      "tensor([0.0651, 0.9349])\n"
     ]
    }
   ],
   "source": [
    "model = MyCNN()\n",
    "save_file = 'MyCNN.pth'\n",
    "class_weightage = torch.tensor([pos_count/neg_count,1-pos_count/neg_count])\n",
    "print(class_weightage)\n",
    "criterion = nn.CrossEntropyLoss(class_weightage)\n",
    "optimizer = optim.Adam(model.parameters())\n",
    "\n",
    "best_val_acc = 0.0\n",
    "NUM_EPOCHS=3\n",
    "device = torch.device(\"cuda\" if torch.cuda.is_available() else \"cpu\")"
   ]
  },
  {
   "cell_type": "code",
   "execution_count": 178,
   "metadata": {
    "ExecuteTime": {
     "end_time": "2018-12-03T22:43:05.445729Z",
     "start_time": "2018-12-03T22:39:33.829725Z"
    }
   },
   "outputs": [
    {
     "name": "stdout",
     "output_type": "stream",
     "text": [
      "Epoch: [0][0/1275]\tTime 0.070 (0.070)\tData 0.003 (0.003)\tLoss 0.7876 (0.7876)\tAccuracy 0.000 (0.000)\n",
      "Epoch: [0][10/1275]\tTime 0.044 (0.054)\tData 0.001 (0.001)\tLoss 0.7176 (0.7147)\tAccuracy 3.000 (4.909)\n",
      "Epoch: [0][20/1275]\tTime 0.043 (0.050)\tData 0.001 (0.001)\tLoss 0.6871 (0.7109)\tAccuracy 65.000 (11.762)\n",
      "Epoch: [0][30/1275]\tTime 0.045 (0.049)\tData 0.001 (0.001)\tLoss 0.6354 (0.7041)\tAccuracy 96.000 (33.323)\n",
      "Epoch: [0][40/1275]\tTime 0.062 (0.050)\tData 0.001 (0.001)\tLoss 0.7436 (0.7103)\tAccuracy 71.000 (44.146)\n",
      "Epoch: [0][50/1275]\tTime 0.043 (0.049)\tData 0.001 (0.001)\tLoss 0.7086 (0.7067)\tAccuracy 46.000 (45.804)\n",
      "Epoch: [0][60/1275]\tTime 0.044 (0.049)\tData 0.001 (0.001)\tLoss 0.7101 (0.7054)\tAccuracy 71.000 (48.721)\n",
      "Epoch: [0][70/1275]\tTime 0.044 (0.049)\tData 0.001 (0.001)\tLoss 0.6465 (0.7016)\tAccuracy 84.000 (52.507)\n",
      "Epoch: [0][80/1275]\tTime 0.044 (0.049)\tData 0.001 (0.001)\tLoss 0.6166 (0.7008)\tAccuracy 100.000 (56.815)\n",
      "Epoch: [0][90/1275]\tTime 0.040 (0.049)\tData 0.001 (0.001)\tLoss 0.6420 (0.7006)\tAccuracy 96.000 (60.527)\n",
      "Epoch: [0][100/1275]\tTime 0.040 (0.048)\tData 0.001 (0.001)\tLoss 0.6840 (0.7005)\tAccuracy 93.000 (63.683)\n",
      "Epoch: [0][110/1275]\tTime 0.043 (0.048)\tData 0.001 (0.001)\tLoss 0.5958 (0.6983)\tAccuracy 100.000 (66.405)\n",
      "Epoch: [0][120/1275]\tTime 0.044 (0.048)\tData 0.001 (0.001)\tLoss 0.8433 (0.6984)\tAccuracy 90.000 (68.669)\n",
      "Epoch: [0][130/1275]\tTime 0.044 (0.048)\tData 0.001 (0.001)\tLoss 0.7275 (0.6985)\tAccuracy 93.000 (70.557)\n",
      "Epoch: [0][140/1275]\tTime 0.051 (0.048)\tData 0.001 (0.001)\tLoss 0.6014 (0.6967)\tAccuracy 100.000 (72.213)\n",
      "Epoch: [0][150/1275]\tTime 0.041 (0.048)\tData 0.001 (0.001)\tLoss 0.6647 (0.6966)\tAccuracy 96.000 (73.550)\n",
      "Epoch: [0][160/1275]\tTime 0.044 (0.048)\tData 0.001 (0.001)\tLoss 0.6969 (0.6954)\tAccuracy 93.000 (74.832)\n",
      "Epoch: [0][170/1275]\tTime 0.050 (0.048)\tData 0.001 (0.001)\tLoss 0.7567 (0.6960)\tAccuracy 81.000 (75.760)\n",
      "Epoch: [0][180/1275]\tTime 0.044 (0.048)\tData 0.001 (0.001)\tLoss 0.7044 (0.6957)\tAccuracy 90.000 (76.669)\n",
      "Epoch: [0][190/1275]\tTime 0.044 (0.048)\tData 0.001 (0.001)\tLoss 0.6766 (0.6954)\tAccuracy 93.000 (77.555)\n",
      "Epoch: [0][200/1275]\tTime 0.044 (0.048)\tData 0.001 (0.001)\tLoss 0.7120 (0.6952)\tAccuracy 93.000 (78.239)\n",
      "Epoch: [0][210/1275]\tTime 0.046 (0.048)\tData 0.001 (0.001)\tLoss 0.7094 (0.6941)\tAccuracy 90.000 (79.052)\n",
      "Epoch: [0][220/1275]\tTime 0.047 (0.048)\tData 0.001 (0.001)\tLoss 0.5452 (0.6918)\tAccuracy 100.000 (79.842)\n",
      "Epoch: [0][230/1275]\tTime 0.041 (0.048)\tData 0.001 (0.001)\tLoss 0.8802 (0.6935)\tAccuracy 87.000 (80.346)\n",
      "Epoch: [0][240/1275]\tTime 0.045 (0.048)\tData 0.001 (0.001)\tLoss 0.6750 (0.6921)\tAccuracy 93.000 (80.942)\n",
      "Epoch: [0][250/1275]\tTime 0.047 (0.048)\tData 0.001 (0.001)\tLoss 0.7994 (0.6924)\tAccuracy 78.000 (81.351)\n",
      "Epoch: [0][260/1275]\tTime 0.041 (0.048)\tData 0.001 (0.001)\tLoss 0.6320 (0.6921)\tAccuracy 96.000 (81.824)\n",
      "Epoch: [0][270/1275]\tTime 0.044 (0.048)\tData 0.001 (0.001)\tLoss 0.7006 (0.6915)\tAccuracy 93.000 (82.288)\n",
      "Epoch: [0][280/1275]\tTime 0.044 (0.048)\tData 0.001 (0.001)\tLoss 0.6961 (0.6911)\tAccuracy 90.000 (82.662)\n",
      "Epoch: [0][290/1275]\tTime 0.055 (0.048)\tData 0.001 (0.001)\tLoss 0.6283 (0.6902)\tAccuracy 96.000 (83.041)\n",
      "Epoch: [0][300/1275]\tTime 0.041 (0.048)\tData 0.001 (0.001)\tLoss 0.6739 (0.6910)\tAccuracy 96.000 (83.332)\n",
      "Epoch: [0][310/1275]\tTime 0.047 (0.048)\tData 0.001 (0.001)\tLoss 0.6707 (0.6903)\tAccuracy 93.000 (83.650)\n",
      "Epoch: [0][320/1275]\tTime 0.043 (0.048)\tData 0.001 (0.001)\tLoss 0.7151 (0.6909)\tAccuracy 90.000 (83.903)\n",
      "Epoch: [0][330/1275]\tTime 0.041 (0.048)\tData 0.001 (0.001)\tLoss 0.6566 (0.6900)\tAccuracy 96.000 (84.224)\n",
      "Epoch: [0][340/1275]\tTime 0.044 (0.048)\tData 0.001 (0.001)\tLoss 0.7394 (0.6900)\tAccuracy 90.000 (84.457)\n",
      "Epoch: [0][350/1275]\tTime 0.047 (0.048)\tData 0.001 (0.001)\tLoss 0.7300 (0.6904)\tAccuracy 87.000 (84.650)\n",
      "Epoch: [0][360/1275]\tTime 0.043 (0.048)\tData 0.001 (0.001)\tLoss 0.7105 (0.6909)\tAccuracy 90.000 (84.823)\n",
      "Epoch: [0][370/1275]\tTime 0.041 (0.048)\tData 0.001 (0.001)\tLoss 0.6888 (0.6905)\tAccuracy 93.000 (85.057)\n",
      "Epoch: [0][380/1275]\tTime 0.047 (0.047)\tData 0.001 (0.001)\tLoss 0.6830 (0.6907)\tAccuracy 93.000 (85.241)\n",
      "Epoch: [0][390/1275]\tTime 0.047 (0.048)\tData 0.001 (0.001)\tLoss 0.6647 (0.6907)\tAccuracy 96.000 (85.432)\n",
      "Epoch: [0][400/1275]\tTime 0.044 (0.048)\tData 0.001 (0.001)\tLoss 0.6924 (0.6909)\tAccuracy 93.000 (85.576)\n",
      "Epoch: [0][410/1275]\tTime 0.044 (0.048)\tData 0.001 (0.001)\tLoss 0.6880 (0.6909)\tAccuracy 90.000 (85.727)\n",
      "Epoch: [0][420/1275]\tTime 0.046 (0.048)\tData 0.001 (0.001)\tLoss 0.6645 (0.6907)\tAccuracy 96.000 (85.907)\n",
      "Epoch: [0][430/1275]\tTime 0.043 (0.048)\tData 0.001 (0.001)\tLoss 0.6776 (0.6907)\tAccuracy 93.000 (86.074)\n",
      "Epoch: [0][440/1275]\tTime 0.041 (0.048)\tData 0.001 (0.001)\tLoss 0.7139 (0.6903)\tAccuracy 93.000 (86.277)\n",
      "Epoch: [0][450/1275]\tTime 0.046 (0.047)\tData 0.001 (0.001)\tLoss 0.6965 (0.6902)\tAccuracy 93.000 (86.432)\n",
      "Epoch: [0][460/1275]\tTime 0.043 (0.047)\tData 0.001 (0.001)\tLoss 0.7104 (0.6901)\tAccuracy 90.000 (86.579)\n",
      "Epoch: [0][470/1275]\tTime 0.041 (0.047)\tData 0.001 (0.001)\tLoss 0.7637 (0.6902)\tAccuracy 90.000 (86.705)\n",
      "Epoch: [0][480/1275]\tTime 0.042 (0.047)\tData 0.001 (0.001)\tLoss 0.7284 (0.6903)\tAccuracy 90.000 (86.832)\n",
      "Epoch: [0][490/1275]\tTime 0.045 (0.047)\tData 0.001 (0.001)\tLoss 0.6591 (0.6902)\tAccuracy 96.000 (86.963)\n",
      "Epoch: [0][500/1275]\tTime 0.046 (0.047)\tData 0.001 (0.001)\tLoss 0.6542 (0.6900)\tAccuracy 96.000 (87.092)\n",
      "Epoch: [0][510/1275]\tTime 0.040 (0.047)\tData 0.001 (0.001)\tLoss 0.7154 (0.6904)\tAccuracy 90.000 (87.168)\n",
      "Epoch: [0][520/1275]\tTime 0.041 (0.047)\tData 0.001 (0.001)\tLoss 0.6563 (0.6902)\tAccuracy 96.000 (87.288)\n",
      "Epoch: [0][530/1275]\tTime 0.046 (0.047)\tData 0.001 (0.001)\tLoss 0.5931 (0.6896)\tAccuracy 100.000 (87.450)\n",
      "Epoch: [0][540/1275]\tTime 0.041 (0.047)\tData 0.001 (0.001)\tLoss 0.6361 (0.6895)\tAccuracy 96.000 (87.549)\n",
      "Epoch: [0][550/1275]\tTime 0.044 (0.047)\tData 0.001 (0.001)\tLoss 0.6810 (0.6892)\tAccuracy 96.000 (87.655)\n",
      "Epoch: [0][560/1275]\tTime 0.041 (0.047)\tData 0.001 (0.001)\tLoss 0.7245 (0.6893)\tAccuracy 93.000 (87.750)\n",
      "Epoch: [0][570/1275]\tTime 0.041 (0.047)\tData 0.001 (0.001)\tLoss 0.6532 (0.6897)\tAccuracy 96.000 (87.806)\n",
      "Epoch: [0][580/1275]\tTime 0.045 (0.047)\tData 0.001 (0.001)\tLoss 0.7150 (0.6898)\tAccuracy 87.000 (87.866)\n",
      "Epoch: [0][590/1275]\tTime 0.056 (0.047)\tData 0.001 (0.001)\tLoss 0.6783 (0.6895)\tAccuracy 93.000 (87.980)\n",
      "Epoch: [0][600/1275]\tTime 0.053 (0.047)\tData 0.001 (0.001)\tLoss 0.7384 (0.6892)\tAccuracy 87.000 (88.073)\n",
      "Epoch: [0][610/1275]\tTime 0.053 (0.048)\tData 0.001 (0.001)\tLoss 0.6782 (0.6894)\tAccuracy 96.000 (88.141)\n",
      "Epoch: [0][620/1275]\tTime 0.048 (0.048)\tData 0.001 (0.001)\tLoss 0.7407 (0.6894)\tAccuracy 87.000 (88.221)\n",
      "Epoch: [0][630/1275]\tTime 0.068 (0.048)\tData 0.001 (0.001)\tLoss 0.6524 (0.6891)\tAccuracy 96.000 (88.309)\n",
      "Epoch: [0][640/1275]\tTime 0.060 (0.048)\tData 0.001 (0.001)\tLoss 0.6679 (0.6890)\tAccuracy 96.000 (88.399)\n",
      "Epoch: [0][650/1275]\tTime 0.043 (0.048)\tData 0.001 (0.001)\tLoss 0.7207 (0.6889)\tAccuracy 90.000 (88.473)\n",
      "Epoch: [0][660/1275]\tTime 0.047 (0.048)\tData 0.001 (0.001)\tLoss 0.7474 (0.6889)\tAccuracy 84.000 (88.522)\n",
      "Epoch: [0][670/1275]\tTime 0.044 (0.048)\tData 0.001 (0.001)\tLoss 0.6556 (0.6888)\tAccuracy 96.000 (88.581)\n",
      "Epoch: [0][680/1275]\tTime 0.042 (0.048)\tData 0.001 (0.001)\tLoss 0.7171 (0.6890)\tAccuracy 90.000 (88.620)\n",
      "Epoch: [0][690/1275]\tTime 0.046 (0.048)\tData 0.000 (0.001)\tLoss 0.6811 (0.6886)\tAccuracy 93.000 (88.713)\n",
      "Epoch: [0][700/1275]\tTime 0.050 (0.048)\tData 0.001 (0.001)\tLoss 0.6413 (0.6884)\tAccuracy 96.000 (88.793)\n",
      "Epoch: [0][710/1275]\tTime 0.044 (0.048)\tData 0.001 (0.001)\tLoss 0.6431 (0.6885)\tAccuracy 96.000 (88.840)\n",
      "Epoch: [0][720/1275]\tTime 0.044 (0.048)\tData 0.001 (0.001)\tLoss 0.6648 (0.6884)\tAccuracy 96.000 (88.911)\n",
      "Epoch: [0][730/1275]\tTime 0.045 (0.048)\tData 0.001 (0.001)\tLoss 0.6805 (0.6883)\tAccuracy 93.000 (88.977)\n",
      "Epoch: [0][740/1275]\tTime 0.047 (0.048)\tData 0.001 (0.001)\tLoss 0.7605 (0.6880)\tAccuracy 84.000 (89.040)\n",
      "Epoch: [0][750/1275]\tTime 0.044 (0.048)\tData 0.001 (0.001)\tLoss 0.5259 (0.6877)\tAccuracy 100.000 (89.108)\n",
      "Epoch: [0][760/1275]\tTime 0.047 (0.048)\tData 0.001 (0.001)\tLoss 0.6090 (0.6874)\tAccuracy 96.000 (89.176)\n",
      "Epoch: [0][770/1275]\tTime 0.044 (0.048)\tData 0.001 (0.001)\tLoss 0.6630 (0.6865)\tAccuracy 96.000 (89.267)\n",
      "Epoch: [0][780/1275]\tTime 0.046 (0.048)\tData 0.000 (0.001)\tLoss 0.6021 (0.6873)\tAccuracy 96.000 (89.288)\n"
     ]
    },
    {
     "name": "stdout",
     "output_type": "stream",
     "text": [
      "Epoch: [0][790/1275]\tTime 0.053 (0.048)\tData 0.001 (0.001)\tLoss 0.5560 (0.6870)\tAccuracy 100.000 (89.350)\n",
      "Epoch: [0][800/1275]\tTime 0.041 (0.048)\tData 0.001 (0.001)\tLoss 0.5966 (0.6864)\tAccuracy 96.000 (89.423)\n",
      "Epoch: [0][810/1275]\tTime 0.042 (0.048)\tData 0.001 (0.001)\tLoss 0.6124 (0.6864)\tAccuracy 96.000 (89.465)\n",
      "Epoch: [0][820/1275]\tTime 0.048 (0.048)\tData 0.001 (0.001)\tLoss 0.6323 (0.6864)\tAccuracy 96.000 (89.515)\n",
      "Epoch: [0][830/1275]\tTime 0.047 (0.048)\tData 0.001 (0.001)\tLoss 0.5257 (0.6858)\tAccuracy 100.000 (89.578)\n",
      "Epoch: [0][840/1275]\tTime 0.044 (0.048)\tData 0.001 (0.001)\tLoss 0.6325 (0.6862)\tAccuracy 96.000 (89.615)\n",
      "Epoch: [0][850/1275]\tTime 0.044 (0.048)\tData 0.001 (0.001)\tLoss 0.6463 (0.6865)\tAccuracy 96.000 (89.644)\n",
      "Epoch: [0][860/1275]\tTime 0.044 (0.048)\tData 0.001 (0.001)\tLoss 0.6930 (0.6863)\tAccuracy 90.000 (89.688)\n",
      "Epoch: [0][870/1275]\tTime 0.041 (0.048)\tData 0.001 (0.001)\tLoss 0.6648 (0.6864)\tAccuracy 96.000 (89.713)\n",
      "Epoch: [0][880/1275]\tTime 0.041 (0.048)\tData 0.001 (0.001)\tLoss 0.6304 (0.6864)\tAccuracy 96.000 (89.743)\n",
      "Epoch: [0][890/1275]\tTime 0.047 (0.048)\tData 0.001 (0.001)\tLoss 0.6371 (0.6863)\tAccuracy 96.000 (89.785)\n",
      "Epoch: [0][900/1275]\tTime 0.052 (0.048)\tData 0.001 (0.001)\tLoss 0.7147 (0.6863)\tAccuracy 90.000 (89.808)\n",
      "Epoch: [0][910/1275]\tTime 0.045 (0.048)\tData 0.001 (0.001)\tLoss 0.6767 (0.6861)\tAccuracy 93.000 (89.838)\n",
      "Epoch: [0][920/1275]\tTime 0.045 (0.048)\tData 0.001 (0.001)\tLoss 0.5680 (0.6858)\tAccuracy 96.000 (89.879)\n",
      "Epoch: [0][930/1275]\tTime 0.041 (0.048)\tData 0.001 (0.001)\tLoss 0.6992 (0.6854)\tAccuracy 90.000 (89.924)\n",
      "Epoch: [0][940/1275]\tTime 0.042 (0.048)\tData 0.001 (0.001)\tLoss 0.4970 (0.6851)\tAccuracy 100.000 (89.968)\n",
      "Epoch: [0][950/1275]\tTime 0.043 (0.048)\tData 0.001 (0.001)\tLoss 0.4887 (0.6852)\tAccuracy 100.000 (89.996)\n",
      "Epoch: [0][960/1275]\tTime 0.049 (0.048)\tData 0.001 (0.001)\tLoss 0.6281 (0.6848)\tAccuracy 96.000 (90.034)\n",
      "Epoch: [0][970/1275]\tTime 0.047 (0.048)\tData 0.001 (0.001)\tLoss 0.5064 (0.6848)\tAccuracy 100.000 (90.057)\n",
      "Epoch: [0][980/1275]\tTime 0.045 (0.048)\tData 0.001 (0.001)\tLoss 0.7960 (0.6848)\tAccuracy 90.000 (90.091)\n",
      "Epoch: [0][990/1275]\tTime 0.043 (0.048)\tData 0.001 (0.001)\tLoss 0.8305 (0.6850)\tAccuracy 81.000 (90.100)\n",
      "Epoch: [0][1000/1275]\tTime 0.047 (0.048)\tData 0.001 (0.001)\tLoss 0.6726 (0.6849)\tAccuracy 93.000 (90.115)\n",
      "Epoch: [0][1010/1275]\tTime 0.045 (0.048)\tData 0.001 (0.001)\tLoss 0.7769 (0.6848)\tAccuracy 78.000 (90.131)\n",
      "Epoch: [0][1020/1275]\tTime 0.042 (0.048)\tData 0.001 (0.001)\tLoss 0.6885 (0.6848)\tAccuracy 93.000 (90.118)\n",
      "Epoch: [0][1030/1275]\tTime 0.047 (0.048)\tData 0.001 (0.001)\tLoss 0.7424 (0.6848)\tAccuracy 87.000 (90.134)\n",
      "Epoch: [0][1040/1275]\tTime 0.045 (0.048)\tData 0.001 (0.001)\tLoss 0.6905 (0.6843)\tAccuracy 93.000 (90.169)\n",
      "Epoch: [0][1050/1275]\tTime 0.046 (0.048)\tData 0.001 (0.001)\tLoss 0.6307 (0.6840)\tAccuracy 96.000 (90.188)\n",
      "Epoch: [0][1060/1275]\tTime 0.047 (0.048)\tData 0.001 (0.001)\tLoss 0.7633 (0.6843)\tAccuracy 87.000 (90.201)\n",
      "Epoch: [0][1070/1275]\tTime 0.043 (0.048)\tData 0.001 (0.001)\tLoss 0.5255 (0.6839)\tAccuracy 100.000 (90.236)\n",
      "Epoch: [0][1080/1275]\tTime 0.047 (0.048)\tData 0.001 (0.001)\tLoss 0.5461 (0.6832)\tAccuracy 100.000 (90.290)\n",
      "Epoch: [0][1090/1275]\tTime 0.041 (0.048)\tData 0.001 (0.001)\tLoss 0.6871 (0.6831)\tAccuracy 90.000 (90.320)\n",
      "Epoch: [0][1100/1275]\tTime 0.041 (0.048)\tData 0.001 (0.001)\tLoss 0.8089 (0.6834)\tAccuracy 93.000 (90.337)\n",
      "Epoch: [0][1110/1275]\tTime 0.051 (0.048)\tData 0.001 (0.001)\tLoss 0.6086 (0.6831)\tAccuracy 93.000 (90.348)\n",
      "Epoch: [0][1120/1275]\tTime 0.045 (0.048)\tData 0.001 (0.001)\tLoss 0.7622 (0.6833)\tAccuracy 90.000 (90.360)\n",
      "Epoch: [0][1130/1275]\tTime 0.047 (0.048)\tData 0.001 (0.001)\tLoss 0.7591 (0.6827)\tAccuracy 93.000 (90.401)\n",
      "Epoch: [0][1140/1275]\tTime 0.045 (0.048)\tData 0.001 (0.001)\tLoss 0.7660 (0.6826)\tAccuracy 84.000 (90.417)\n",
      "Epoch: [0][1150/1275]\tTime 0.045 (0.048)\tData 0.001 (0.001)\tLoss 0.7310 (0.6824)\tAccuracy 90.000 (90.432)\n",
      "Epoch: [0][1160/1275]\tTime 0.045 (0.048)\tData 0.001 (0.001)\tLoss 0.7605 (0.6829)\tAccuracy 87.000 (90.415)\n",
      "Epoch: [0][1170/1275]\tTime 0.046 (0.048)\tData 0.001 (0.001)\tLoss 0.6789 (0.6829)\tAccuracy 90.000 (90.383)\n",
      "Epoch: [0][1180/1275]\tTime 0.044 (0.048)\tData 0.001 (0.001)\tLoss 0.5777 (0.6825)\tAccuracy 87.000 (90.365)\n",
      "Epoch: [0][1190/1275]\tTime 0.047 (0.048)\tData 0.001 (0.001)\tLoss 0.6743 (0.6824)\tAccuracy 93.000 (90.367)\n",
      "Epoch: [0][1200/1275]\tTime 0.041 (0.048)\tData 0.001 (0.001)\tLoss 0.7358 (0.6823)\tAccuracy 87.000 (90.375)\n",
      "Epoch: [0][1210/1275]\tTime 0.041 (0.048)\tData 0.001 (0.001)\tLoss 0.6525 (0.6822)\tAccuracy 90.000 (90.374)\n",
      "Epoch: [0][1220/1275]\tTime 0.046 (0.048)\tData 0.001 (0.001)\tLoss 0.8034 (0.6819)\tAccuracy 78.000 (90.371)\n",
      "Epoch: [0][1230/1275]\tTime 0.046 (0.048)\tData 0.001 (0.001)\tLoss 0.6130 (0.6814)\tAccuracy 90.000 (90.361)\n",
      "Epoch: [0][1240/1275]\tTime 0.045 (0.048)\tData 0.001 (0.001)\tLoss 0.7501 (0.6812)\tAccuracy 78.000 (90.353)\n",
      "Epoch: [0][1250/1275]\tTime 0.047 (0.048)\tData 0.001 (0.001)\tLoss 0.6039 (0.6811)\tAccuracy 90.000 (90.319)\n",
      "Epoch: [0][1260/1275]\tTime 0.047 (0.048)\tData 0.001 (0.001)\tLoss 0.6946 (0.6807)\tAccuracy 87.000 (90.246)\n",
      "Epoch: [0][1270/1275]\tTime 0.045 (0.048)\tData 0.001 (0.001)\tLoss 0.5463 (0.6806)\tAccuracy 78.000 (90.145)\n",
      "Test: [0/323]\tTime 0.028 (0.028)\tLoss 0.7834 (0.7834)\tAccuracy 68.000 (68.000)\n",
      "0.5939733125994373 0.0\n",
      "Epoch: [1][0/1275]\tTime 0.047 (0.047)\tData 0.003 (0.003)\tLoss 0.6298 (0.6298)\tAccuracy 68.000 (68.000)\n"
     ]
    },
    {
     "name": "stderr",
     "output_type": "stream",
     "text": [
      "/opt/conda/lib/python3.6/site-packages/torch/serialization.py:241: UserWarning: Couldn't retrieve source code for container of type MyCNN. It won't be checked for correctness upon loading.\n",
      "  \"type \" + obj.__name__ + \". It won't be checked \"\n"
     ]
    },
    {
     "name": "stdout",
     "output_type": "stream",
     "text": [
      "Epoch: [1][10/1275]\tTime 0.041 (0.047)\tData 0.001 (0.001)\tLoss 0.6079 (0.6397)\tAccuracy 75.000 (70.273)\n",
      "Epoch: [1][20/1275]\tTime 0.048 (0.048)\tData 0.001 (0.001)\tLoss 0.4996 (0.6332)\tAccuracy 81.000 (72.476)\n",
      "Epoch: [1][30/1275]\tTime 0.041 (0.048)\tData 0.001 (0.001)\tLoss 0.5219 (0.6191)\tAccuracy 84.000 (77.065)\n",
      "Epoch: [1][40/1275]\tTime 0.041 (0.047)\tData 0.001 (0.001)\tLoss 0.5954 (0.6165)\tAccuracy 90.000 (78.829)\n",
      "Epoch: [1][50/1275]\tTime 0.049 (0.048)\tData 0.001 (0.001)\tLoss 0.6822 (0.6178)\tAccuracy 84.000 (80.373)\n",
      "Epoch: [1][60/1275]\tTime 0.042 (0.048)\tData 0.001 (0.001)\tLoss 0.8050 (0.6265)\tAccuracy 68.000 (81.049)\n",
      "Epoch: [1][70/1275]\tTime 0.046 (0.048)\tData 0.001 (0.001)\tLoss 0.6150 (0.6187)\tAccuracy 96.000 (82.099)\n",
      "Epoch: [1][80/1275]\tTime 0.050 (0.047)\tData 0.001 (0.001)\tLoss 0.7411 (0.6313)\tAccuracy 90.000 (82.173)\n",
      "Epoch: [1][90/1275]\tTime 0.052 (0.048)\tData 0.001 (0.001)\tLoss 0.8348 (0.6369)\tAccuracy 87.000 (82.231)\n",
      "Epoch: [1][100/1275]\tTime 0.045 (0.048)\tData 0.001 (0.001)\tLoss 0.6174 (0.6396)\tAccuracy 75.000 (81.713)\n",
      "Epoch: [1][110/1275]\tTime 0.067 (0.048)\tData 0.001 (0.001)\tLoss 0.7302 (0.6419)\tAccuracy 75.000 (81.099)\n",
      "Epoch: [1][120/1275]\tTime 0.042 (0.049)\tData 0.001 (0.001)\tLoss 0.6229 (0.6412)\tAccuracy 71.000 (80.636)\n",
      "Epoch: [1][130/1275]\tTime 0.044 (0.050)\tData 0.001 (0.001)\tLoss 0.5511 (0.6402)\tAccuracy 87.000 (80.466)\n",
      "Epoch: [1][140/1275]\tTime 0.065 (0.050)\tData 0.001 (0.001)\tLoss 0.6309 (0.6404)\tAccuracy 84.000 (80.475)\n",
      "Epoch: [1][150/1275]\tTime 0.070 (0.051)\tData 0.001 (0.001)\tLoss 0.7375 (0.6398)\tAccuracy 71.000 (80.424)\n",
      "Epoch: [1][160/1275]\tTime 0.042 (0.051)\tData 0.001 (0.001)\tLoss 0.7125 (0.6463)\tAccuracy 71.000 (80.137)\n",
      "Epoch: [1][170/1275]\tTime 0.047 (0.051)\tData 0.001 (0.001)\tLoss 0.5667 (0.6440)\tAccuracy 71.000 (80.029)\n",
      "Epoch: [1][180/1275]\tTime 0.049 (0.051)\tData 0.001 (0.001)\tLoss 0.5531 (0.6445)\tAccuracy 81.000 (79.801)\n",
      "Epoch: [1][190/1275]\tTime 0.045 (0.051)\tData 0.001 (0.001)\tLoss 0.7017 (0.6457)\tAccuracy 78.000 (79.518)\n",
      "Epoch: [1][200/1275]\tTime 0.046 (0.051)\tData 0.001 (0.001)\tLoss 0.5225 (0.6442)\tAccuracy 71.000 (79.507)\n",
      "Epoch: [1][210/1275]\tTime 0.068 (0.051)\tData 0.001 (0.001)\tLoss 0.6432 (0.6430)\tAccuracy 87.000 (79.891)\n",
      "Epoch: [1][220/1275]\tTime 0.044 (0.051)\tData 0.001 (0.001)\tLoss 0.4599 (0.6423)\tAccuracy 93.000 (80.335)\n",
      "Epoch: [1][230/1275]\tTime 0.047 (0.051)\tData 0.001 (0.001)\tLoss 0.8386 (0.6468)\tAccuracy 81.000 (80.571)\n",
      "Epoch: [1][240/1275]\tTime 0.075 (0.051)\tData 0.001 (0.001)\tLoss 0.5225 (0.6468)\tAccuracy 90.000 (80.813)\n",
      "Epoch: [1][250/1275]\tTime 0.052 (0.051)\tData 0.001 (0.001)\tLoss 0.7471 (0.6481)\tAccuracy 81.000 (80.857)\n",
      "Epoch: [1][260/1275]\tTime 0.048 (0.051)\tData 0.001 (0.001)\tLoss 0.6835 (0.6486)\tAccuracy 87.000 (80.877)\n",
      "Epoch: [1][270/1275]\tTime 0.047 (0.051)\tData 0.001 (0.001)\tLoss 0.7421 (0.6493)\tAccuracy 81.000 (80.904)\n",
      "Epoch: [1][280/1275]\tTime 0.041 (0.051)\tData 0.001 (0.001)\tLoss 0.7556 (0.6492)\tAccuracy 87.000 (81.025)\n",
      "Epoch: [1][290/1275]\tTime 0.047 (0.051)\tData 0.001 (0.001)\tLoss 0.6507 (0.6487)\tAccuracy 71.000 (81.072)\n",
      "Epoch: [1][300/1275]\tTime 0.048 (0.051)\tData 0.001 (0.001)\tLoss 0.5758 (0.6493)\tAccuracy 71.000 (81.066)\n",
      "Epoch: [1][310/1275]\tTime 0.044 (0.051)\tData 0.001 (0.001)\tLoss 0.7093 (0.6501)\tAccuracy 68.000 (80.945)\n",
      "Epoch: [1][320/1275]\tTime 0.048 (0.051)\tData 0.001 (0.001)\tLoss 0.5857 (0.6506)\tAccuracy 87.000 (80.941)\n",
      "Epoch: [1][330/1275]\tTime 0.045 (0.051)\tData 0.001 (0.001)\tLoss 0.7650 (0.6499)\tAccuracy 71.000 (80.795)\n",
      "Epoch: [1][340/1275]\tTime 0.047 (0.051)\tData 0.001 (0.001)\tLoss 0.6847 (0.6495)\tAccuracy 81.000 (80.871)\n",
      "Epoch: [1][350/1275]\tTime 0.052 (0.051)\tData 0.001 (0.001)\tLoss 0.4603 (0.6500)\tAccuracy 90.000 (80.949)\n",
      "Epoch: [1][360/1275]\tTime 0.058 (0.051)\tData 0.001 (0.001)\tLoss 0.7001 (0.6512)\tAccuracy 87.000 (80.928)\n",
      "Epoch: [1][370/1275]\tTime 0.050 (0.052)\tData 0.001 (0.001)\tLoss 0.7954 (0.6525)\tAccuracy 75.000 (80.741)\n",
      "Epoch: [1][380/1275]\tTime 0.045 (0.052)\tData 0.001 (0.001)\tLoss 0.5946 (0.6525)\tAccuracy 68.000 (80.606)\n",
      "Epoch: [1][390/1275]\tTime 0.042 (0.052)\tData 0.001 (0.001)\tLoss 0.5280 (0.6520)\tAccuracy 81.000 (80.440)\n",
      "Epoch: [1][400/1275]\tTime 0.042 (0.052)\tData 0.001 (0.001)\tLoss 0.8086 (0.6531)\tAccuracy 71.000 (80.152)\n",
      "Epoch: [1][410/1275]\tTime 0.047 (0.051)\tData 0.001 (0.001)\tLoss 0.6560 (0.6535)\tAccuracy 78.000 (80.017)\n",
      "Epoch: [1][420/1275]\tTime 0.063 (0.051)\tData 0.001 (0.001)\tLoss 0.7637 (0.6539)\tAccuracy 71.000 (79.746)\n",
      "Epoch: [1][430/1275]\tTime 0.044 (0.051)\tData 0.001 (0.001)\tLoss 0.5706 (0.6544)\tAccuracy 81.000 (79.531)\n",
      "Epoch: [1][440/1275]\tTime 0.041 (0.051)\tData 0.001 (0.001)\tLoss 0.5777 (0.6543)\tAccuracy 71.000 (79.324)\n",
      "Epoch: [1][450/1275]\tTime 0.043 (0.051)\tData 0.001 (0.001)\tLoss 0.6260 (0.6549)\tAccuracy 71.000 (79.069)\n",
      "Epoch: [1][460/1275]\tTime 0.042 (0.051)\tData 0.001 (0.001)\tLoss 0.5852 (0.6553)\tAccuracy 75.000 (78.965)\n",
      "Epoch: [1][470/1275]\tTime 0.041 (0.051)\tData 0.001 (0.001)\tLoss 0.6742 (0.6556)\tAccuracy 78.000 (79.025)\n",
      "Epoch: [1][480/1275]\tTime 0.049 (0.051)\tData 0.001 (0.001)\tLoss 0.7249 (0.6558)\tAccuracy 84.000 (78.983)\n",
      "Epoch: [1][490/1275]\tTime 0.045 (0.051)\tData 0.001 (0.001)\tLoss 0.7116 (0.6575)\tAccuracy 81.000 (78.916)\n",
      "Epoch: [1][500/1275]\tTime 0.060 (0.051)\tData 0.001 (0.001)\tLoss 0.6617 (0.6572)\tAccuracy 75.000 (78.884)\n",
      "Epoch: [1][510/1275]\tTime 0.075 (0.051)\tData 0.001 (0.001)\tLoss 0.6986 (0.6573)\tAccuracy 84.000 (78.877)\n",
      "Epoch: [1][520/1275]\tTime 0.042 (0.051)\tData 0.001 (0.001)\tLoss 0.5174 (0.6568)\tAccuracy 93.000 (78.935)\n",
      "Epoch: [1][530/1275]\tTime 0.043 (0.052)\tData 0.001 (0.001)\tLoss 0.6457 (0.6563)\tAccuracy 87.000 (79.041)\n",
      "Epoch: [1][540/1275]\tTime 0.042 (0.051)\tData 0.001 (0.001)\tLoss 0.5432 (0.6560)\tAccuracy 81.000 (79.111)\n",
      "Epoch: [1][550/1275]\tTime 0.044 (0.051)\tData 0.001 (0.001)\tLoss 0.5474 (0.6551)\tAccuracy 90.000 (79.142)\n",
      "Epoch: [1][560/1275]\tTime 0.047 (0.051)\tData 0.001 (0.001)\tLoss 0.7209 (0.6550)\tAccuracy 78.000 (79.105)\n",
      "Epoch: [1][570/1275]\tTime 0.049 (0.051)\tData 0.001 (0.001)\tLoss 0.6086 (0.6540)\tAccuracy 81.000 (79.081)\n",
      "Epoch: [1][580/1275]\tTime 0.052 (0.051)\tData 0.001 (0.001)\tLoss 0.3804 (0.6527)\tAccuracy 96.000 (79.100)\n",
      "Epoch: [1][590/1275]\tTime 0.059 (0.052)\tData 0.001 (0.001)\tLoss 0.5524 (0.6523)\tAccuracy 93.000 (79.161)\n",
      "Epoch: [1][600/1275]\tTime 0.053 (0.052)\tData 0.001 (0.001)\tLoss 0.4507 (0.6517)\tAccuracy 81.000 (79.078)\n",
      "Epoch: [1][610/1275]\tTime 0.061 (0.052)\tData 0.001 (0.001)\tLoss 0.5586 (0.6509)\tAccuracy 65.000 (79.010)\n",
      "Epoch: [1][620/1275]\tTime 0.045 (0.052)\tData 0.001 (0.001)\tLoss 0.7185 (0.6491)\tAccuracy 84.000 (79.034)\n",
      "Epoch: [1][630/1275]\tTime 0.043 (0.052)\tData 0.001 (0.001)\tLoss 0.3778 (0.6502)\tAccuracy 87.000 (79.117)\n",
      "Epoch: [1][640/1275]\tTime 0.053 (0.052)\tData 0.001 (0.001)\tLoss 0.7663 (0.6503)\tAccuracy 78.000 (79.154)\n",
      "Epoch: [1][650/1275]\tTime 0.044 (0.052)\tData 0.001 (0.001)\tLoss 0.6676 (0.6499)\tAccuracy 81.000 (79.192)\n",
      "Epoch: [1][660/1275]\tTime 0.054 (0.052)\tData 0.001 (0.001)\tLoss 0.9389 (0.6515)\tAccuracy 81.000 (79.254)\n",
      "Epoch: [1][670/1275]\tTime 0.041 (0.052)\tData 0.001 (0.001)\tLoss 0.6317 (0.6512)\tAccuracy 84.000 (79.310)\n",
      "Epoch: [1][680/1275]\tTime 0.044 (0.052)\tData 0.001 (0.001)\tLoss 0.7511 (0.6520)\tAccuracy 81.000 (79.361)\n",
      "Epoch: [1][690/1275]\tTime 0.051 (0.052)\tData 0.001 (0.001)\tLoss 0.5500 (0.6518)\tAccuracy 87.000 (79.417)\n",
      "Epoch: [1][700/1275]\tTime 0.043 (0.052)\tData 0.001 (0.001)\tLoss 0.6911 (0.6516)\tAccuracy 75.000 (79.448)\n",
      "Epoch: [1][710/1275]\tTime 0.044 (0.052)\tData 0.001 (0.001)\tLoss 0.6598 (0.6516)\tAccuracy 84.000 (79.481)\n",
      "Epoch: [1][720/1275]\tTime 0.064 (0.052)\tData 0.001 (0.001)\tLoss 0.5159 (0.6514)\tAccuracy 84.000 (79.517)\n",
      "Epoch: [1][730/1275]\tTime 0.070 (0.052)\tData 0.001 (0.001)\tLoss 0.7197 (0.6516)\tAccuracy 81.000 (79.577)\n",
      "Epoch: [1][740/1275]\tTime 0.046 (0.052)\tData 0.001 (0.001)\tLoss 0.6402 (0.6520)\tAccuracy 93.000 (79.619)\n",
      "Epoch: [1][750/1275]\tTime 0.041 (0.052)\tData 0.001 (0.001)\tLoss 0.6937 (0.6516)\tAccuracy 75.000 (79.659)\n",
      "Epoch: [1][760/1275]\tTime 0.044 (0.052)\tData 0.001 (0.001)\tLoss 0.5313 (0.6515)\tAccuracy 84.000 (79.732)\n",
      "Epoch: [1][770/1275]\tTime 0.046 (0.052)\tData 0.001 (0.001)\tLoss 0.4506 (0.6509)\tAccuracy 87.000 (79.786)\n",
      "Epoch: [1][780/1275]\tTime 0.044 (0.052)\tData 0.001 (0.001)\tLoss 1.1051 (0.6514)\tAccuracy 87.000 (79.901)\n",
      "Epoch: [1][790/1275]\tTime 0.045 (0.052)\tData 0.001 (0.001)\tLoss 0.7659 (0.6515)\tAccuracy 90.000 (80.025)\n"
     ]
    },
    {
     "name": "stdout",
     "output_type": "stream",
     "text": [
      "Epoch: [1][800/1275]\tTime 0.042 (0.052)\tData 0.001 (0.001)\tLoss 0.7497 (0.6517)\tAccuracy 84.000 (80.139)\n",
      "Epoch: [1][810/1275]\tTime 0.042 (0.051)\tData 0.001 (0.001)\tLoss 0.5236 (0.6513)\tAccuracy 84.000 (80.231)\n",
      "Epoch: [1][820/1275]\tTime 0.045 (0.051)\tData 0.001 (0.001)\tLoss 0.4702 (0.6508)\tAccuracy 93.000 (80.335)\n",
      "Epoch: [1][830/1275]\tTime 0.042 (0.051)\tData 0.001 (0.001)\tLoss 0.7587 (0.6504)\tAccuracy 87.000 (80.430)\n",
      "Epoch: [1][840/1275]\tTime 0.044 (0.051)\tData 0.001 (0.001)\tLoss 0.6709 (0.6506)\tAccuracy 81.000 (80.501)\n",
      "Epoch: [1][850/1275]\tTime 0.044 (0.051)\tData 0.001 (0.001)\tLoss 0.5219 (0.6507)\tAccuracy 84.000 (80.491)\n",
      "Epoch: [1][860/1275]\tTime 0.045 (0.051)\tData 0.001 (0.001)\tLoss 0.5969 (0.6509)\tAccuracy 78.000 (80.424)\n",
      "Epoch: [1][870/1275]\tTime 0.064 (0.051)\tData 0.001 (0.001)\tLoss 0.7219 (0.6514)\tAccuracy 65.000 (80.332)\n",
      "Epoch: [1][880/1275]\tTime 0.058 (0.051)\tData 0.001 (0.001)\tLoss 0.7335 (0.6512)\tAccuracy 84.000 (80.321)\n",
      "Epoch: [1][890/1275]\tTime 0.045 (0.051)\tData 0.001 (0.001)\tLoss 0.6228 (0.6517)\tAccuracy 68.000 (80.231)\n",
      "Epoch: [1][900/1275]\tTime 0.061 (0.051)\tData 0.001 (0.001)\tLoss 0.6235 (0.6524)\tAccuracy 65.000 (80.039)\n",
      "Epoch: [1][910/1275]\tTime 0.043 (0.051)\tData 0.001 (0.001)\tLoss 0.7180 (0.6527)\tAccuracy 68.000 (79.836)\n",
      "Epoch: [1][920/1275]\tTime 0.053 (0.051)\tData 0.001 (0.001)\tLoss 0.5780 (0.6526)\tAccuracy 68.000 (79.721)\n",
      "Epoch: [1][930/1275]\tTime 0.067 (0.051)\tData 0.001 (0.001)\tLoss 0.6352 (0.6525)\tAccuracy 68.000 (79.592)\n",
      "Epoch: [1][940/1275]\tTime 0.060 (0.051)\tData 0.001 (0.001)\tLoss 0.6441 (0.6525)\tAccuracy 68.000 (79.448)\n",
      "Epoch: [1][950/1275]\tTime 0.059 (0.051)\tData 0.001 (0.001)\tLoss 0.5934 (0.6523)\tAccuracy 65.000 (79.359)\n",
      "Epoch: [1][960/1275]\tTime 0.045 (0.051)\tData 0.001 (0.001)\tLoss 0.6474 (0.6524)\tAccuracy 59.000 (79.239)\n",
      "Epoch: [1][970/1275]\tTime 0.066 (0.052)\tData 0.001 (0.001)\tLoss 0.6413 (0.6523)\tAccuracy 68.000 (79.137)\n",
      "Epoch: [1][980/1275]\tTime 0.049 (0.052)\tData 0.001 (0.001)\tLoss 0.5869 (0.6529)\tAccuracy 75.000 (79.013)\n",
      "Epoch: [1][990/1275]\tTime 0.042 (0.052)\tData 0.001 (0.001)\tLoss 0.6812 (0.6527)\tAccuracy 68.000 (78.954)\n",
      "Epoch: [1][1000/1275]\tTime 0.048 (0.052)\tData 0.001 (0.001)\tLoss 0.7550 (0.6528)\tAccuracy 75.000 (78.901)\n",
      "Epoch: [1][1010/1275]\tTime 0.041 (0.052)\tData 0.001 (0.001)\tLoss 0.5572 (0.6525)\tAccuracy 71.000 (78.846)\n",
      "Epoch: [1][1020/1275]\tTime 0.052 (0.052)\tData 0.001 (0.001)\tLoss 0.7087 (0.6528)\tAccuracy 68.000 (78.777)\n",
      "Epoch: [1][1030/1275]\tTime 0.065 (0.052)\tData 0.001 (0.001)\tLoss 0.8367 (0.6535)\tAccuracy 62.000 (78.736)\n",
      "Epoch: [1][1040/1275]\tTime 0.058 (0.052)\tData 0.001 (0.001)\tLoss 0.6198 (0.6539)\tAccuracy 59.000 (78.634)\n",
      "Epoch: [1][1050/1275]\tTime 0.044 (0.052)\tData 0.001 (0.001)\tLoss 0.6005 (0.6537)\tAccuracy 78.000 (78.619)\n",
      "Epoch: [1][1060/1275]\tTime 0.043 (0.052)\tData 0.001 (0.001)\tLoss 0.6376 (0.6534)\tAccuracy 75.000 (78.617)\n",
      "Epoch: [1][1070/1275]\tTime 0.041 (0.051)\tData 0.001 (0.001)\tLoss 0.6722 (0.6534)\tAccuracy 68.000 (78.569)\n",
      "Epoch: [1][1080/1275]\tTime 0.048 (0.051)\tData 0.001 (0.001)\tLoss 0.6725 (0.6534)\tAccuracy 75.000 (78.535)\n",
      "Epoch: [1][1090/1275]\tTime 0.042 (0.051)\tData 0.001 (0.001)\tLoss 0.6959 (0.6534)\tAccuracy 78.000 (78.462)\n",
      "Epoch: [1][1100/1275]\tTime 0.041 (0.051)\tData 0.001 (0.001)\tLoss 0.6259 (0.6536)\tAccuracy 68.000 (78.409)\n",
      "Epoch: [1][1110/1275]\tTime 0.044 (0.051)\tData 0.001 (0.001)\tLoss 0.6084 (0.6533)\tAccuracy 71.000 (78.390)\n",
      "Epoch: [1][1120/1275]\tTime 0.044 (0.051)\tData 0.001 (0.001)\tLoss 0.7483 (0.6534)\tAccuracy 62.000 (78.350)\n",
      "Epoch: [1][1130/1275]\tTime 0.044 (0.051)\tData 0.001 (0.001)\tLoss 0.7448 (0.6538)\tAccuracy 75.000 (78.271)\n",
      "Epoch: [1][1140/1275]\tTime 0.041 (0.051)\tData 0.001 (0.001)\tLoss 0.5178 (0.6533)\tAccuracy 87.000 (78.259)\n",
      "Epoch: [1][1150/1275]\tTime 0.042 (0.051)\tData 0.001 (0.001)\tLoss 0.5407 (0.6529)\tAccuracy 75.000 (78.275)\n",
      "Epoch: [1][1160/1275]\tTime 0.044 (0.051)\tData 0.001 (0.001)\tLoss 0.8110 (0.6531)\tAccuracy 65.000 (78.245)\n",
      "Epoch: [1][1170/1275]\tTime 0.046 (0.051)\tData 0.001 (0.001)\tLoss 0.6095 (0.6534)\tAccuracy 84.000 (78.209)\n",
      "Epoch: [1][1180/1275]\tTime 0.044 (0.051)\tData 0.001 (0.001)\tLoss 0.5133 (0.6529)\tAccuracy 90.000 (78.192)\n",
      "Epoch: [1][1190/1275]\tTime 0.045 (0.051)\tData 0.001 (0.001)\tLoss 0.4790 (0.6526)\tAccuracy 87.000 (78.212)\n",
      "Epoch: [1][1200/1275]\tTime 0.048 (0.051)\tData 0.001 (0.001)\tLoss 0.5022 (0.6526)\tAccuracy 78.000 (78.191)\n",
      "Epoch: [1][1210/1275]\tTime 0.042 (0.051)\tData 0.001 (0.001)\tLoss 0.6598 (0.6525)\tAccuracy 84.000 (78.197)\n",
      "Epoch: [1][1220/1275]\tTime 0.047 (0.051)\tData 0.001 (0.001)\tLoss 0.7958 (0.6525)\tAccuracy 87.000 (78.264)\n",
      "Epoch: [1][1230/1275]\tTime 0.041 (0.051)\tData 0.001 (0.001)\tLoss 0.4887 (0.6522)\tAccuracy 90.000 (78.271)\n",
      "Epoch: [1][1240/1275]\tTime 0.043 (0.051)\tData 0.001 (0.001)\tLoss 0.5384 (0.6520)\tAccuracy 87.000 (78.294)\n",
      "Epoch: [1][1250/1275]\tTime 0.040 (0.051)\tData 0.001 (0.001)\tLoss 0.4908 (0.6522)\tAccuracy 90.000 (78.257)\n",
      "Epoch: [1][1260/1275]\tTime 0.043 (0.051)\tData 0.001 (0.001)\tLoss 0.5239 (0.6525)\tAccuracy 78.000 (78.245)\n",
      "Epoch: [1][1270/1275]\tTime 0.048 (0.051)\tData 0.001 (0.001)\tLoss 0.5721 (0.6524)\tAccuracy 81.000 (78.229)\n",
      "Test: [0/323]\tTime 0.023 (0.023)\tLoss 0.6838 (0.6838)\tAccuracy 71.000 (71.000)\n",
      "0.6051069203872325 0.5939733125994373\n",
      "Epoch: [2][0/1275]\tTime 0.044 (0.044)\tData 0.003 (0.003)\tLoss 0.6083 (0.6083)\tAccuracy 90.000 (90.000)\n",
      "Epoch: [2][10/1275]\tTime 0.045 (0.043)\tData 0.001 (0.001)\tLoss 0.7349 (0.6444)\tAccuracy 65.000 (72.636)\n",
      "Epoch: [2][20/1275]\tTime 0.062 (0.048)\tData 0.001 (0.001)\tLoss 0.6164 (0.6379)\tAccuracy 75.000 (72.190)\n",
      "Epoch: [2][30/1275]\tTime 0.087 (0.053)\tData 0.001 (0.001)\tLoss 0.6722 (0.6216)\tAccuracy 81.000 (74.097)\n",
      "Epoch: [2][40/1275]\tTime 0.054 (0.056)\tData 0.001 (0.001)\tLoss 0.5079 (0.6321)\tAccuracy 78.000 (74.195)\n",
      "Epoch: [2][50/1275]\tTime 0.057 (0.056)\tData 0.001 (0.001)\tLoss 0.5861 (0.6220)\tAccuracy 71.000 (74.569)\n",
      "Epoch: [2][60/1275]\tTime 0.045 (0.055)\tData 0.001 (0.001)\tLoss 0.4697 (0.6224)\tAccuracy 81.000 (75.295)\n",
      "Epoch: [2][70/1275]\tTime 0.065 (0.056)\tData 0.001 (0.001)\tLoss 0.6177 (0.6230)\tAccuracy 81.000 (76.141)\n",
      "Epoch: [2][80/1275]\tTime 0.049 (0.056)\tData 0.001 (0.001)\tLoss 0.6750 (0.6165)\tAccuracy 81.000 (76.914)\n",
      "Epoch: [2][90/1275]\tTime 0.065 (0.056)\tData 0.001 (0.001)\tLoss 0.8174 (0.6245)\tAccuracy 75.000 (77.055)\n",
      "Epoch: [2][100/1275]\tTime 0.050 (0.056)\tData 0.001 (0.001)\tLoss 0.6555 (0.6189)\tAccuracy 81.000 (77.535)\n",
      "Epoch: [2][110/1275]\tTime 0.049 (0.055)\tData 0.001 (0.001)\tLoss 0.7197 (0.6212)\tAccuracy 78.000 (77.378)\n",
      "Epoch: [2][120/1275]\tTime 0.053 (0.055)\tData 0.001 (0.001)\tLoss 0.8632 (0.6267)\tAccuracy 59.000 (77.231)\n",
      "Epoch: [2][130/1275]\tTime 0.042 (0.054)\tData 0.001 (0.001)\tLoss 0.7771 (0.6266)\tAccuracy 75.000 (77.252)\n",
      "Epoch: [2][140/1275]\tTime 0.041 (0.054)\tData 0.001 (0.001)\tLoss 0.7852 (0.6280)\tAccuracy 75.000 (77.333)\n",
      "Epoch: [2][150/1275]\tTime 0.043 (0.053)\tData 0.001 (0.001)\tLoss 0.5309 (0.6322)\tAccuracy 81.000 (77.086)\n",
      "Epoch: [2][160/1275]\tTime 0.045 (0.053)\tData 0.001 (0.001)\tLoss 0.6645 (0.6321)\tAccuracy 87.000 (77.186)\n",
      "Epoch: [2][170/1275]\tTime 0.044 (0.052)\tData 0.001 (0.001)\tLoss 0.7906 (0.6366)\tAccuracy 78.000 (77.333)\n",
      "Epoch: [2][180/1275]\tTime 0.046 (0.052)\tData 0.001 (0.001)\tLoss 0.5815 (0.6354)\tAccuracy 87.000 (77.453)\n",
      "Epoch: [2][190/1275]\tTime 0.044 (0.052)\tData 0.001 (0.001)\tLoss 0.6323 (0.6342)\tAccuracy 71.000 (77.602)\n",
      "Epoch: [2][200/1275]\tTime 0.049 (0.052)\tData 0.001 (0.001)\tLoss 0.7203 (0.6327)\tAccuracy 65.000 (77.731)\n",
      "Epoch: [2][210/1275]\tTime 0.047 (0.051)\tData 0.001 (0.001)\tLoss 0.4387 (0.6324)\tAccuracy 93.000 (77.910)\n",
      "Epoch: [2][220/1275]\tTime 0.061 (0.051)\tData 0.001 (0.001)\tLoss 0.6242 (0.6325)\tAccuracy 81.000 (77.991)\n",
      "Epoch: [2][230/1275]\tTime 0.050 (0.052)\tData 0.001 (0.001)\tLoss 0.7451 (0.6336)\tAccuracy 71.000 (77.978)\n",
      "Epoch: [2][240/1275]\tTime 0.070 (0.052)\tData 0.001 (0.001)\tLoss 0.6897 (0.6356)\tAccuracy 75.000 (77.959)\n",
      "Epoch: [2][250/1275]\tTime 0.061 (0.053)\tData 0.001 (0.001)\tLoss 0.7250 (0.6374)\tAccuracy 68.000 (77.825)\n",
      "Epoch: [2][260/1275]\tTime 0.049 (0.053)\tData 0.001 (0.001)\tLoss 0.5886 (0.6370)\tAccuracy 87.000 (77.648)\n",
      "Epoch: [2][270/1275]\tTime 0.066 (0.053)\tData 0.001 (0.001)\tLoss 0.9014 (0.6370)\tAccuracy 65.000 (77.753)\n",
      "Epoch: [2][280/1275]\tTime 0.059 (0.054)\tData 0.001 (0.001)\tLoss 0.5376 (0.6364)\tAccuracy 78.000 (77.623)\n"
     ]
    },
    {
     "name": "stdout",
     "output_type": "stream",
     "text": [
      "Epoch: [2][290/1275]\tTime 0.051 (0.054)\tData 0.001 (0.001)\tLoss 0.6885 (0.6355)\tAccuracy 78.000 (77.670)\n",
      "Epoch: [2][300/1275]\tTime 0.041 (0.054)\tData 0.001 (0.001)\tLoss 0.4781 (0.6340)\tAccuracy 87.000 (77.870)\n",
      "Epoch: [2][310/1275]\tTime 0.062 (0.054)\tData 0.001 (0.001)\tLoss 0.6818 (0.6356)\tAccuracy 84.000 (77.958)\n",
      "Epoch: [2][320/1275]\tTime 0.042 (0.054)\tData 0.001 (0.001)\tLoss 0.4960 (0.6362)\tAccuracy 81.000 (77.903)\n",
      "Epoch: [2][330/1275]\tTime 0.045 (0.054)\tData 0.001 (0.001)\tLoss 0.7416 (0.6350)\tAccuracy 71.000 (77.813)\n",
      "Epoch: [2][340/1275]\tTime 0.041 (0.053)\tData 0.001 (0.001)\tLoss 0.7741 (0.6357)\tAccuracy 78.000 (77.833)\n",
      "Epoch: [2][350/1275]\tTime 0.041 (0.053)\tData 0.001 (0.001)\tLoss 0.7000 (0.6364)\tAccuracy 90.000 (77.792)\n",
      "Epoch: [2][360/1275]\tTime 0.045 (0.053)\tData 0.001 (0.001)\tLoss 0.8334 (0.6357)\tAccuracy 65.000 (77.765)\n",
      "Epoch: [2][370/1275]\tTime 0.051 (0.053)\tData 0.001 (0.001)\tLoss 0.4360 (0.6350)\tAccuracy 87.000 (77.747)\n",
      "Epoch: [2][380/1275]\tTime 0.059 (0.053)\tData 0.003 (0.001)\tLoss 0.5599 (0.6330)\tAccuracy 87.000 (77.766)\n",
      "Epoch: [2][390/1275]\tTime 0.059 (0.053)\tData 0.001 (0.001)\tLoss 0.6017 (0.6322)\tAccuracy 75.000 (77.824)\n",
      "Epoch: [2][400/1275]\tTime 0.054 (0.053)\tData 0.001 (0.001)\tLoss 0.9570 (0.6330)\tAccuracy 84.000 (77.908)\n",
      "Epoch: [2][410/1275]\tTime 0.070 (0.053)\tData 0.001 (0.001)\tLoss 0.5335 (0.6331)\tAccuracy 78.000 (77.973)\n",
      "Epoch: [2][420/1275]\tTime 0.049 (0.053)\tData 0.001 (0.001)\tLoss 0.5524 (0.6339)\tAccuracy 75.000 (77.938)\n",
      "Epoch: [2][430/1275]\tTime 0.043 (0.053)\tData 0.001 (0.001)\tLoss 0.9891 (0.6356)\tAccuracy 71.000 (77.903)\n",
      "Epoch: [2][440/1275]\tTime 0.041 (0.053)\tData 0.001 (0.001)\tLoss 0.6027 (0.6368)\tAccuracy 71.000 (77.778)\n",
      "Epoch: [2][450/1275]\tTime 0.071 (0.054)\tData 0.001 (0.001)\tLoss 0.5864 (0.6361)\tAccuracy 78.000 (77.694)\n",
      "Epoch: [2][460/1275]\tTime 0.079 (0.054)\tData 0.001 (0.001)\tLoss 0.6668 (0.6366)\tAccuracy 56.000 (77.443)\n",
      "Epoch: [2][470/1275]\tTime 0.045 (0.054)\tData 0.001 (0.001)\tLoss 0.6370 (0.6376)\tAccuracy 71.000 (77.208)\n",
      "Epoch: [2][480/1275]\tTime 0.066 (0.054)\tData 0.001 (0.001)\tLoss 0.6813 (0.6378)\tAccuracy 56.000 (77.021)\n",
      "Epoch: [2][490/1275]\tTime 0.048 (0.054)\tData 0.001 (0.001)\tLoss 0.5706 (0.6378)\tAccuracy 78.000 (76.862)\n",
      "Epoch: [2][500/1275]\tTime 0.069 (0.054)\tData 0.001 (0.001)\tLoss 0.6938 (0.6371)\tAccuracy 81.000 (76.872)\n",
      "Epoch: [2][510/1275]\tTime 0.053 (0.054)\tData 0.001 (0.001)\tLoss 0.6117 (0.6368)\tAccuracy 81.000 (76.826)\n",
      "Epoch: [2][520/1275]\tTime 0.046 (0.054)\tData 0.001 (0.001)\tLoss 0.6319 (0.6379)\tAccuracy 81.000 (76.747)\n",
      "Epoch: [2][530/1275]\tTime 0.071 (0.054)\tData 0.001 (0.001)\tLoss 0.6559 (0.6379)\tAccuracy 81.000 (76.766)\n",
      "Epoch: [2][540/1275]\tTime 0.073 (0.054)\tData 0.001 (0.001)\tLoss 0.8630 (0.6384)\tAccuracy 71.000 (76.786)\n",
      "Epoch: [2][550/1275]\tTime 0.066 (0.054)\tData 0.001 (0.001)\tLoss 0.5106 (0.6377)\tAccuracy 87.000 (76.817)\n",
      "Epoch: [2][560/1275]\tTime 0.041 (0.054)\tData 0.001 (0.001)\tLoss 0.5266 (0.6369)\tAccuracy 81.000 (76.852)\n",
      "Epoch: [2][570/1275]\tTime 0.094 (0.054)\tData 0.001 (0.001)\tLoss 0.5560 (0.6368)\tAccuracy 81.000 (76.876)\n",
      "Epoch: [2][580/1275]\tTime 0.045 (0.054)\tData 0.001 (0.001)\tLoss 0.6916 (0.6371)\tAccuracy 78.000 (76.828)\n",
      "Epoch: [2][590/1275]\tTime 0.058 (0.055)\tData 0.001 (0.001)\tLoss 0.5632 (0.6378)\tAccuracy 81.000 (76.809)\n",
      "Epoch: [2][600/1275]\tTime 0.065 (0.055)\tData 0.001 (0.001)\tLoss 0.5071 (0.6374)\tAccuracy 84.000 (76.745)\n",
      "Epoch: [2][610/1275]\tTime 0.048 (0.055)\tData 0.001 (0.001)\tLoss 0.5541 (0.6371)\tAccuracy 71.000 (76.646)\n",
      "Epoch: [2][620/1275]\tTime 0.042 (0.055)\tData 0.001 (0.001)\tLoss 0.7596 (0.6385)\tAccuracy 71.000 (76.517)\n",
      "Epoch: [2][630/1275]\tTime 0.042 (0.054)\tData 0.001 (0.001)\tLoss 0.6238 (0.6385)\tAccuracy 75.000 (76.452)\n",
      "Epoch: [2][640/1275]\tTime 0.073 (0.055)\tData 0.001 (0.001)\tLoss 0.5725 (0.6379)\tAccuracy 78.000 (76.495)\n",
      "Epoch: [2][650/1275]\tTime 0.046 (0.054)\tData 0.001 (0.001)\tLoss 0.5831 (0.6382)\tAccuracy 68.000 (76.421)\n",
      "Epoch: [2][660/1275]\tTime 0.057 (0.054)\tData 0.001 (0.001)\tLoss 0.5402 (0.6379)\tAccuracy 78.000 (76.371)\n",
      "Epoch: [2][670/1275]\tTime 0.042 (0.054)\tData 0.001 (0.001)\tLoss 0.5365 (0.6375)\tAccuracy 78.000 (76.356)\n",
      "Epoch: [2][680/1275]\tTime 0.055 (0.054)\tData 0.001 (0.001)\tLoss 0.4079 (0.6371)\tAccuracy 87.000 (76.348)\n",
      "Epoch: [2][690/1275]\tTime 0.060 (0.054)\tData 0.001 (0.001)\tLoss 0.5529 (0.6370)\tAccuracy 71.000 (76.311)\n",
      "Epoch: [2][700/1275]\tTime 0.057 (0.054)\tData 0.001 (0.001)\tLoss 0.6306 (0.6369)\tAccuracy 78.000 (76.348)\n",
      "Epoch: [2][710/1275]\tTime 0.045 (0.054)\tData 0.001 (0.001)\tLoss 0.5856 (0.6368)\tAccuracy 84.000 (76.398)\n",
      "Epoch: [2][720/1275]\tTime 0.050 (0.054)\tData 0.001 (0.001)\tLoss 0.8179 (0.6378)\tAccuracy 75.000 (76.391)\n",
      "Epoch: [2][730/1275]\tTime 0.065 (0.054)\tData 0.001 (0.001)\tLoss 0.4922 (0.6379)\tAccuracy 81.000 (76.363)\n",
      "Epoch: [2][740/1275]\tTime 0.060 (0.055)\tData 0.001 (0.001)\tLoss 0.5523 (0.6375)\tAccuracy 81.000 (76.390)\n",
      "Epoch: [2][750/1275]\tTime 0.042 (0.054)\tData 0.001 (0.001)\tLoss 0.7169 (0.6380)\tAccuracy 81.000 (76.362)\n",
      "Epoch: [2][760/1275]\tTime 0.044 (0.054)\tData 0.001 (0.001)\tLoss 0.5725 (0.6377)\tAccuracy 78.000 (76.384)\n",
      "Epoch: [2][770/1275]\tTime 0.044 (0.054)\tData 0.001 (0.001)\tLoss 0.7655 (0.6374)\tAccuracy 75.000 (76.315)\n",
      "Epoch: [2][780/1275]\tTime 0.066 (0.054)\tData 0.004 (0.001)\tLoss 0.5356 (0.6372)\tAccuracy 75.000 (76.355)\n",
      "Epoch: [2][790/1275]\tTime 0.047 (0.054)\tData 0.001 (0.001)\tLoss 0.4692 (0.6361)\tAccuracy 78.000 (76.403)\n",
      "Epoch: [2][800/1275]\tTime 0.047 (0.054)\tData 0.001 (0.001)\tLoss 0.4871 (0.6355)\tAccuracy 75.000 (76.428)\n",
      "Epoch: [2][810/1275]\tTime 0.042 (0.054)\tData 0.001 (0.001)\tLoss 0.7147 (0.6356)\tAccuracy 81.000 (76.417)\n",
      "Epoch: [2][820/1275]\tTime 0.042 (0.054)\tData 0.001 (0.001)\tLoss 0.6366 (0.6368)\tAccuracy 62.000 (76.395)\n",
      "Epoch: [2][830/1275]\tTime 0.048 (0.054)\tData 0.001 (0.001)\tLoss 0.5121 (0.6374)\tAccuracy 62.000 (76.326)\n",
      "Epoch: [2][840/1275]\tTime 0.046 (0.054)\tData 0.001 (0.001)\tLoss 0.6126 (0.6377)\tAccuracy 62.000 (76.221)\n",
      "Epoch: [2][850/1275]\tTime 0.046 (0.054)\tData 0.001 (0.001)\tLoss 0.5474 (0.6373)\tAccuracy 75.000 (76.173)\n",
      "Epoch: [2][860/1275]\tTime 0.070 (0.054)\tData 0.001 (0.001)\tLoss 0.5576 (0.6372)\tAccuracy 81.000 (76.082)\n",
      "Epoch: [2][870/1275]\tTime 0.042 (0.054)\tData 0.001 (0.001)\tLoss 0.8371 (0.6371)\tAccuracy 68.000 (76.047)\n",
      "Epoch: [2][880/1275]\tTime 0.046 (0.053)\tData 0.001 (0.001)\tLoss 0.5583 (0.6366)\tAccuracy 75.000 (76.007)\n",
      "Epoch: [2][890/1275]\tTime 0.041 (0.053)\tData 0.001 (0.001)\tLoss 0.6468 (0.6367)\tAccuracy 71.000 (75.997)\n",
      "Epoch: [2][900/1275]\tTime 0.041 (0.053)\tData 0.001 (0.001)\tLoss 0.6035 (0.6366)\tAccuracy 75.000 (76.002)\n",
      "Epoch: [2][910/1275]\tTime 0.043 (0.053)\tData 0.001 (0.001)\tLoss 0.5408 (0.6367)\tAccuracy 71.000 (75.948)\n",
      "Epoch: [2][920/1275]\tTime 0.043 (0.053)\tData 0.001 (0.001)\tLoss 0.6329 (0.6360)\tAccuracy 87.000 (76.010)\n",
      "Epoch: [2][930/1275]\tTime 0.052 (0.053)\tData 0.001 (0.001)\tLoss 0.6314 (0.6358)\tAccuracy 81.000 (76.072)\n",
      "Epoch: [2][940/1275]\tTime 0.065 (0.053)\tData 0.001 (0.001)\tLoss 0.4528 (0.6349)\tAccuracy 81.000 (76.174)\n",
      "Epoch: [2][950/1275]\tTime 0.059 (0.053)\tData 0.001 (0.001)\tLoss 0.6426 (0.6351)\tAccuracy 81.000 (76.244)\n",
      "Epoch: [2][960/1275]\tTime 0.064 (0.053)\tData 0.001 (0.001)\tLoss 0.8390 (0.6357)\tAccuracy 84.000 (76.300)\n",
      "Epoch: [2][970/1275]\tTime 0.053 (0.053)\tData 0.001 (0.001)\tLoss 0.7390 (0.6356)\tAccuracy 62.000 (76.278)\n",
      "Epoch: [2][980/1275]\tTime 0.049 (0.053)\tData 0.001 (0.001)\tLoss 0.5768 (0.6350)\tAccuracy 75.000 (76.269)\n",
      "Epoch: [2][990/1275]\tTime 0.042 (0.053)\tData 0.001 (0.001)\tLoss 0.7317 (0.6354)\tAccuracy 65.000 (76.206)\n",
      "Epoch: [2][1000/1275]\tTime 0.041 (0.053)\tData 0.001 (0.001)\tLoss 0.5606 (0.6356)\tAccuracy 78.000 (76.211)\n",
      "Epoch: [2][1010/1275]\tTime 0.041 (0.053)\tData 0.001 (0.001)\tLoss 0.7207 (0.6357)\tAccuracy 68.000 (76.137)\n",
      "Epoch: [2][1020/1275]\tTime 0.042 (0.053)\tData 0.001 (0.001)\tLoss 0.4818 (0.6355)\tAccuracy 71.000 (76.124)\n",
      "Epoch: [2][1030/1275]\tTime 0.045 (0.053)\tData 0.001 (0.001)\tLoss 0.5909 (0.6353)\tAccuracy 78.000 (76.104)\n",
      "Epoch: [2][1040/1275]\tTime 0.053 (0.053)\tData 0.001 (0.001)\tLoss 0.4222 (0.6352)\tAccuracy 84.000 (76.060)\n",
      "Epoch: [2][1050/1275]\tTime 0.055 (0.053)\tData 0.001 (0.001)\tLoss 0.5985 (0.6352)\tAccuracy 71.000 (76.043)\n",
      "Epoch: [2][1060/1275]\tTime 0.047 (0.053)\tData 0.001 (0.001)\tLoss 0.6864 (0.6358)\tAccuracy 71.000 (76.000)\n"
     ]
    },
    {
     "name": "stdout",
     "output_type": "stream",
     "text": [
      "Epoch: [2][1070/1275]\tTime 0.043 (0.053)\tData 0.001 (0.001)\tLoss 0.6723 (0.6356)\tAccuracy 71.000 (75.948)\n",
      "Epoch: [2][1080/1275]\tTime 0.041 (0.053)\tData 0.001 (0.001)\tLoss 0.6297 (0.6363)\tAccuracy 71.000 (75.856)\n",
      "Epoch: [2][1090/1275]\tTime 0.045 (0.053)\tData 0.001 (0.001)\tLoss 0.5647 (0.6370)\tAccuracy 68.000 (75.736)\n",
      "Epoch: [2][1100/1275]\tTime 0.045 (0.053)\tData 0.001 (0.001)\tLoss 0.6050 (0.6372)\tAccuracy 78.000 (75.657)\n",
      "Epoch: [2][1110/1275]\tTime 0.046 (0.053)\tData 0.001 (0.001)\tLoss 0.6681 (0.6373)\tAccuracy 53.000 (75.563)\n",
      "Epoch: [2][1120/1275]\tTime 0.042 (0.053)\tData 0.001 (0.001)\tLoss 0.6050 (0.6373)\tAccuracy 75.000 (75.478)\n",
      "Epoch: [2][1130/1275]\tTime 0.044 (0.053)\tData 0.001 (0.001)\tLoss 0.5980 (0.6373)\tAccuracy 65.000 (75.455)\n",
      "Epoch: [2][1140/1275]\tTime 0.044 (0.052)\tData 0.001 (0.001)\tLoss 0.7893 (0.6375)\tAccuracy 81.000 (75.443)\n",
      "Epoch: [2][1150/1275]\tTime 0.042 (0.052)\tData 0.001 (0.001)\tLoss 0.5876 (0.6371)\tAccuracy 71.000 (75.447)\n",
      "Epoch: [2][1160/1275]\tTime 0.045 (0.052)\tData 0.001 (0.001)\tLoss 0.7172 (0.6374)\tAccuracy 68.000 (75.462)\n",
      "Epoch: [2][1170/1275]\tTime 0.041 (0.052)\tData 0.001 (0.001)\tLoss 0.6354 (0.6370)\tAccuracy 71.000 (75.508)\n",
      "Epoch: [2][1180/1275]\tTime 0.041 (0.052)\tData 0.001 (0.001)\tLoss 0.6933 (0.6371)\tAccuracy 75.000 (75.501)\n",
      "Epoch: [2][1190/1275]\tTime 0.045 (0.052)\tData 0.001 (0.001)\tLoss 0.6705 (0.6370)\tAccuracy 68.000 (75.468)\n",
      "Epoch: [2][1200/1275]\tTime 0.044 (0.052)\tData 0.001 (0.001)\tLoss 0.6224 (0.6367)\tAccuracy 75.000 (75.493)\n",
      "Epoch: [2][1210/1275]\tTime 0.050 (0.052)\tData 0.001 (0.001)\tLoss 0.5413 (0.6370)\tAccuracy 75.000 (75.502)\n",
      "Epoch: [2][1220/1275]\tTime 0.043 (0.052)\tData 0.001 (0.001)\tLoss 0.5224 (0.6370)\tAccuracy 84.000 (75.550)\n",
      "Epoch: [2][1230/1275]\tTime 0.052 (0.052)\tData 0.001 (0.001)\tLoss 0.4705 (0.6378)\tAccuracy 81.000 (75.545)\n",
      "Epoch: [2][1240/1275]\tTime 0.067 (0.052)\tData 0.001 (0.001)\tLoss 0.6641 (0.6379)\tAccuracy 75.000 (75.558)\n",
      "Epoch: [2][1250/1275]\tTime 0.053 (0.052)\tData 0.001 (0.001)\tLoss 0.5284 (0.6378)\tAccuracy 81.000 (75.568)\n",
      "Epoch: [2][1260/1275]\tTime 0.067 (0.052)\tData 0.001 (0.001)\tLoss 0.5761 (0.6375)\tAccuracy 87.000 (75.580)\n",
      "Epoch: [2][1270/1275]\tTime 0.047 (0.052)\tData 0.001 (0.001)\tLoss 0.6887 (0.6372)\tAccuracy 84.000 (75.609)\n",
      "Test: [0/323]\tTime 0.017 (0.017)\tLoss 0.4507 (0.4507)\tAccuracy 87.000 (87.000)\n"
     ]
    }
   ],
   "source": [
    "best_auc = 0.0\n",
    "train_losses, train_accuracies = [], []\n",
    "test_losses, test_accuracies = [], []\n",
    "for epoch in range(NUM_EPOCHS):\n",
    "    train_loss, train_accuracy = train(model, device, train_loader, criterion, optimizer, epoch)\n",
    "    test_loss, test_accuracy, test_results = evaluate(model, device, test_loader, criterion, print_freq=1000)\n",
    "\n",
    "    train_losses.append(train_loss)\n",
    "    test_losses.append(test_loss)\n",
    "\n",
    "    train_accuracies.append(train_accuracy)\n",
    "    test_accuracies.append(test_accuracy)\n",
    "    \n",
    "    Y_true=np.array(test_results)[:,0]\n",
    "    Y_pred=np.array(test_results)[:,1]\n",
    "    acc, auc_, precision, recall, f1score = classification_metrics(Y_pred,Y_true)\n",
    "\n",
    "    is_best = auc_ > best_auc  # let's keep the model that has the best AUC\n",
    "    if is_best:\n",
    "        print(auc_,best_auc)\n",
    "        best_auc = auc_\n",
    "        torch.save(model, (dl_path + save_file))\n"
   ]
  },
  {
   "cell_type": "code",
   "execution_count": 179,
   "metadata": {
    "ExecuteTime": {
     "end_time": "2018-12-03T22:43:11.592797Z",
     "start_time": "2018-12-03T22:43:11.576676Z"
    }
   },
   "outputs": [],
   "source": [
    "#Load model\n",
    "best_model = torch.load(dl_path + save_file)"
   ]
  },
  {
   "cell_type": "code",
   "execution_count": 180,
   "metadata": {
    "ExecuteTime": {
     "end_time": "2018-12-03T22:43:35.892678Z",
     "start_time": "2018-12-03T22:43:12.747968Z"
    }
   },
   "outputs": [
    {
     "name": "stdout",
     "output_type": "stream",
     "text": [
      "Test: [0/1275]\tTime 0.032 (0.032)\tLoss 0.6760 (0.6760)\tAccuracy 56.000 (56.000)\n",
      "Test: [1000/1275]\tTime 0.016 (0.018)\tLoss 0.6539 (0.6291)\tAccuracy 68.000 (72.607)\n"
     ]
    }
   ],
   "source": [
    "#Train metrics\n",
    "train_loss, train_accuracy, train_results = evaluate(best_model, device, train_loader, criterion, print_freq=1000)"
   ]
  },
  {
   "cell_type": "code",
   "execution_count": 181,
   "metadata": {
    "ExecuteTime": {
     "end_time": "2018-12-03T22:43:37.588581Z",
     "start_time": "2018-12-03T22:43:37.505284Z"
    }
   },
   "outputs": [
    {
     "name": "stdout",
     "output_type": "stream",
     "text": [
      "______________________________________________\n",
      "Classifier: CNN\n",
      "Accuracy: 0.7302120357886996\n",
      "AUC: 0.6441553040788401\n",
      "Precision: 0.12121751512993947\n",
      "Recall: 0.5461106655974338\n",
      "F1-score: 0.19839766933721778\n",
      "______________________________________________\n",
      "\n"
     ]
    }
   ],
   "source": [
    "Y_true=np.array(train_results)[:,0]\n",
    "Y_pred=np.array(train_results)[:,1]\n",
    "display_metrics(\"CNN\",Y_pred,Y_true)"
   ]
  },
  {
   "cell_type": "code",
   "execution_count": 182,
   "metadata": {
    "ExecuteTime": {
     "end_time": "2018-12-03T22:43:46.234102Z",
     "start_time": "2018-12-03T22:43:39.980000Z"
    }
   },
   "outputs": [
    {
     "name": "stdout",
     "output_type": "stream",
     "text": [
      "Test: [0/323]\tTime 0.026 (0.026)\tLoss 0.7479 (0.7479)\tAccuracy 71.000 (71.000)\n"
     ]
    }
   ],
   "source": [
    "#Test metrics\n",
    "test_loss, test_accuracy, test_results = evaluate(best_model, device, test_loader, criterion, print_freq=900000)"
   ]
  },
  {
   "cell_type": "code",
   "execution_count": 183,
   "metadata": {
    "ExecuteTime": {
     "end_time": "2018-12-03T22:43:49.684689Z",
     "start_time": "2018-12-03T22:43:49.653516Z"
    }
   },
   "outputs": [
    {
     "name": "stdout",
     "output_type": "stream",
     "text": [
      "______________________________________________\n",
      "Classifier: CNN\n",
      "Accuracy: 0.721554564838147\n",
      "AUC: 0.6051069203872325\n",
      "Precision: 0.10715544589354953\n",
      "Recall: 0.4720496894409938\n",
      "F1-score: 0.17466245331801206\n",
      "______________________________________________\n",
      "\n"
     ]
    }
   ],
   "source": [
    "Y_true=np.array(test_results)[:,0]\n",
    "Y_pred=np.array(test_results)[:,1]\n",
    "display_metrics(\"CNN\",Y_pred,Y_true)"
   ]
  },
  {
   "cell_type": "code",
   "execution_count": null,
   "metadata": {},
   "outputs": [],
   "source": []
  }
 ],
 "metadata": {
  "kernelspec": {
   "display_name": "Python 3",
   "language": "python",
   "name": "python3"
  },
  "language_info": {
   "codemirror_mode": {
    "name": "ipython",
    "version": 3
   },
   "file_extension": ".py",
   "mimetype": "text/x-python",
   "name": "python",
   "nbconvert_exporter": "python",
   "pygments_lexer": "ipython3",
   "version": "3.6.5"
  },
  "toc": {
   "base_numbering": 1,
   "nav_menu": {},
   "number_sections": true,
   "sideBar": true,
   "skip_h1_title": false,
   "title_cell": "Table of Contents",
   "title_sidebar": "Contents",
   "toc_cell": false,
   "toc_position": {},
   "toc_section_display": true,
   "toc_window_display": false
  },
  "varInspector": {
   "cols": {
    "lenName": 16,
    "lenType": 16,
    "lenVar": 40
   },
   "kernels_config": {
    "python": {
     "delete_cmd_postfix": "",
     "delete_cmd_prefix": "del ",
     "library": "var_list.py",
     "varRefreshCmd": "print(var_dic_list())"
    },
    "r": {
     "delete_cmd_postfix": ") ",
     "delete_cmd_prefix": "rm(",
     "library": "var_list.r",
     "varRefreshCmd": "cat(var_dic_list()) "
    }
   },
   "types_to_exclude": [
    "module",
    "function",
    "builtin_function_or_method",
    "instance",
    "_Feature"
   ],
   "window_display": false
  }
 },
 "nbformat": 4,
 "nbformat_minor": 2
}
